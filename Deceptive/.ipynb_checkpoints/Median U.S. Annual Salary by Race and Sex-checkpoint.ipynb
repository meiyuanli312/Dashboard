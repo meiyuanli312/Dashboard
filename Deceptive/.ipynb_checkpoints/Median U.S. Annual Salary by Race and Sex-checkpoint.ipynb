{
 "cells": [
  {
   "cell_type": "code",
   "execution_count": 1,
   "metadata": {
    "collapsed": true
   },
   "outputs": [],
   "source": [
    "import pandas as pd"
   ]
  },
  {
   "cell_type": "code",
   "execution_count": 2,
   "metadata": {
    "collapsed": false
   },
   "outputs": [],
   "source": [
    "# Read the data in\n",
    "raw = pd.read_csv('raw.csv', header= None)"
   ]
  },
  {
   "cell_type": "code",
   "execution_count": 3,
   "metadata": {
    "collapsed": false,
    "scrolled": true
   },
   "outputs": [
    {
     "data": {
      "text/html": [
       "<div>\n",
       "<style>\n",
       "    .dataframe thead tr:only-child th {\n",
       "        text-align: right;\n",
       "    }\n",
       "\n",
       "    .dataframe thead th {\n",
       "        text-align: left;\n",
       "    }\n",
       "\n",
       "    .dataframe tbody tr th {\n",
       "        vertical-align: top;\n",
       "    }\n",
       "</style>\n",
       "<table border=\"1\" class=\"dataframe\">\n",
       "  <thead>\n",
       "    <tr style=\"text-align: right;\">\n",
       "      <th></th>\n",
       "      <th>0</th>\n",
       "      <th>1</th>\n",
       "      <th>2</th>\n",
       "      <th>3</th>\n",
       "      <th>4</th>\n",
       "    </tr>\n",
       "  </thead>\n",
       "  <tbody>\n",
       "    <tr>\n",
       "      <th>0</th>\n",
       "      <td>2011: Median U.S. Annual Salary by Race and Sex</td>\n",
       "      <td>NaN</td>\n",
       "      <td>NaN</td>\n",
       "      <td>NaN</td>\n",
       "      <td>NaN</td>\n",
       "    </tr>\n",
       "    <tr>\n",
       "      <th>1</th>\n",
       "      <td>Race</td>\n",
       "      <td>Sex</td>\n",
       "      <td>TOTAL</td>\n",
       "      <td>Percentage women to men</td>\n",
       "      <td>NaN</td>\n",
       "    </tr>\n",
       "    <tr>\n",
       "      <th>2</th>\n",
       "      <td>Men</td>\n",
       "      <td>Women</td>\n",
       "      <td>NaN</td>\n",
       "      <td>NaN</td>\n",
       "      <td>NaN</td>\n",
       "    </tr>\n",
       "    <tr>\n",
       "      <th>3</th>\n",
       "      <td>Asian</td>\n",
       "      <td>$50,440</td>\n",
       "      <td>$39,052</td>\n",
       "      <td>$45,032</td>\n",
       "      <td>77.40%</td>\n",
       "    </tr>\n",
       "    <tr>\n",
       "      <th>4</th>\n",
       "      <td>White</td>\n",
       "      <td>$44,512</td>\n",
       "      <td>$36,556</td>\n",
       "      <td>$40,300</td>\n",
       "      <td>82.10%</td>\n",
       "    </tr>\n",
       "    <tr>\n",
       "      <th>5</th>\n",
       "      <td>African American</td>\n",
       "      <td>$33,956</td>\n",
       "      <td>$30,940</td>\n",
       "      <td>$31,890</td>\n",
       "      <td>91.10%</td>\n",
       "    </tr>\n",
       "    <tr>\n",
       "      <th>6</th>\n",
       "      <td>Hispanic/Latino</td>\n",
       "      <td>$29,692</td>\n",
       "      <td>$26,936</td>\n",
       "      <td>$28,548</td>\n",
       "      <td>90.70%</td>\n",
       "    </tr>\n",
       "    <tr>\n",
       "      <th>7</th>\n",
       "      <td>NaN</td>\n",
       "      <td>$43,264</td>\n",
       "      <td>$35,568</td>\n",
       "      <td>$39,312</td>\n",
       "      <td>82.20%</td>\n",
       "    </tr>\n",
       "    <tr>\n",
       "      <th>8</th>\n",
       "      <td>2010: Median U.S. Annual Salary by Race and Sex</td>\n",
       "      <td>NaN</td>\n",
       "      <td>NaN</td>\n",
       "      <td>NaN</td>\n",
       "      <td>NaN</td>\n",
       "    </tr>\n",
       "    <tr>\n",
       "      <th>9</th>\n",
       "      <td>Race</td>\n",
       "      <td>Sex</td>\n",
       "      <td>TOTAL</td>\n",
       "      <td>Percentage women to men</td>\n",
       "      <td>NaN</td>\n",
       "    </tr>\n",
       "  </tbody>\n",
       "</table>\n",
       "</div>"
      ],
      "text/plain": [
       "                                                 0         1         2  \\\n",
       "0  2011: Median U.S. Annual Salary by Race and Sex       NaN       NaN   \n",
       "1                                             Race       Sex     TOTAL   \n",
       "2                                              Men     Women       NaN   \n",
       "3                                            Asian  $50,440   $39,052    \n",
       "4                                            White  $44,512   $36,556    \n",
       "5                                 African American  $33,956   $30,940    \n",
       "6                                  Hispanic/Latino  $29,692   $26,936    \n",
       "7                                              NaN  $43,264   $35,568    \n",
       "8  2010: Median U.S. Annual Salary by Race and Sex       NaN       NaN   \n",
       "9                                             Race       Sex     TOTAL   \n",
       "\n",
       "                         3       4  \n",
       "0                      NaN     NaN  \n",
       "1  Percentage women to men     NaN  \n",
       "2                      NaN     NaN  \n",
       "3                 $45,032   77.40%  \n",
       "4                 $40,300   82.10%  \n",
       "5                 $31,890   91.10%  \n",
       "6                 $28,548   90.70%  \n",
       "7                 $39,312   82.20%  \n",
       "8                      NaN     NaN  \n",
       "9  Percentage women to men     NaN  "
      ]
     },
     "execution_count": 3,
     "metadata": {},
     "output_type": "execute_result"
    }
   ],
   "source": [
    "# Inspect\n",
    "raw[:10]"
   ]
  },
  {
   "cell_type": "markdown",
   "metadata": {},
   "source": [
    "From the first 10 rows, we can see that we only need those without 'NaN' data\n",
    "![](DataWranglingSnapShots/1.PNG)\n",
    "\n",
    "Row 3 to Row 6 are the the four races' income in 2011.\n",
    "\n",
    "So all we need is to extract these four lines for every year.\n",
    "\n",
    "\n",
    "We can drop all NaN rows now, but if we drop them all, the 'Year' information will be lost, i.e, we wouldn't be able to know these four lines are which year's number.\n",
    "\n",
    "So before we can remove all 'NaN', let's add 'Year' for each group.\n"
   ]
  },
  {
   "cell_type": "code",
   "execution_count": 4,
   "metadata": {
    "collapsed": false
   },
   "outputs": [],
   "source": [
    "# Add the 'Year' Column and Assign an arbitrary number '0' to it \n",
    "raw['Year'] = 0"
   ]
  },
  {
   "cell_type": "code",
   "execution_count": 5,
   "metadata": {
    "collapsed": false
   },
   "outputs": [
    {
     "data": {
      "text/html": [
       "<div>\n",
       "<style>\n",
       "    .dataframe thead tr:only-child th {\n",
       "        text-align: right;\n",
       "    }\n",
       "\n",
       "    .dataframe thead th {\n",
       "        text-align: left;\n",
       "    }\n",
       "\n",
       "    .dataframe tbody tr th {\n",
       "        vertical-align: top;\n",
       "    }\n",
       "</style>\n",
       "<table border=\"1\" class=\"dataframe\">\n",
       "  <thead>\n",
       "    <tr style=\"text-align: right;\">\n",
       "      <th></th>\n",
       "      <th>0</th>\n",
       "      <th>1</th>\n",
       "      <th>2</th>\n",
       "      <th>3</th>\n",
       "      <th>4</th>\n",
       "      <th>Year</th>\n",
       "    </tr>\n",
       "  </thead>\n",
       "  <tbody>\n",
       "    <tr>\n",
       "      <th>0</th>\n",
       "      <td>2011: Median U.S. Annual Salary by Race and Sex</td>\n",
       "      <td>NaN</td>\n",
       "      <td>NaN</td>\n",
       "      <td>NaN</td>\n",
       "      <td>NaN</td>\n",
       "      <td>0</td>\n",
       "    </tr>\n",
       "    <tr>\n",
       "      <th>1</th>\n",
       "      <td>Race</td>\n",
       "      <td>Sex</td>\n",
       "      <td>TOTAL</td>\n",
       "      <td>Percentage women to men</td>\n",
       "      <td>NaN</td>\n",
       "      <td>0</td>\n",
       "    </tr>\n",
       "    <tr>\n",
       "      <th>2</th>\n",
       "      <td>Men</td>\n",
       "      <td>Women</td>\n",
       "      <td>NaN</td>\n",
       "      <td>NaN</td>\n",
       "      <td>NaN</td>\n",
       "      <td>0</td>\n",
       "    </tr>\n",
       "    <tr>\n",
       "      <th>3</th>\n",
       "      <td>Asian</td>\n",
       "      <td>$50,440</td>\n",
       "      <td>$39,052</td>\n",
       "      <td>$45,032</td>\n",
       "      <td>77.40%</td>\n",
       "      <td>0</td>\n",
       "    </tr>\n",
       "    <tr>\n",
       "      <th>4</th>\n",
       "      <td>White</td>\n",
       "      <td>$44,512</td>\n",
       "      <td>$36,556</td>\n",
       "      <td>$40,300</td>\n",
       "      <td>82.10%</td>\n",
       "      <td>0</td>\n",
       "    </tr>\n",
       "    <tr>\n",
       "      <th>5</th>\n",
       "      <td>African American</td>\n",
       "      <td>$33,956</td>\n",
       "      <td>$30,940</td>\n",
       "      <td>$31,890</td>\n",
       "      <td>91.10%</td>\n",
       "      <td>0</td>\n",
       "    </tr>\n",
       "    <tr>\n",
       "      <th>6</th>\n",
       "      <td>Hispanic/Latino</td>\n",
       "      <td>$29,692</td>\n",
       "      <td>$26,936</td>\n",
       "      <td>$28,548</td>\n",
       "      <td>90.70%</td>\n",
       "      <td>0</td>\n",
       "    </tr>\n",
       "    <tr>\n",
       "      <th>7</th>\n",
       "      <td>NaN</td>\n",
       "      <td>$43,264</td>\n",
       "      <td>$35,568</td>\n",
       "      <td>$39,312</td>\n",
       "      <td>82.20%</td>\n",
       "      <td>0</td>\n",
       "    </tr>\n",
       "    <tr>\n",
       "      <th>8</th>\n",
       "      <td>2010: Median U.S. Annual Salary by Race and Sex</td>\n",
       "      <td>NaN</td>\n",
       "      <td>NaN</td>\n",
       "      <td>NaN</td>\n",
       "      <td>NaN</td>\n",
       "      <td>0</td>\n",
       "    </tr>\n",
       "  </tbody>\n",
       "</table>\n",
       "</div>"
      ],
      "text/plain": [
       "                                                 0         1         2  \\\n",
       "0  2011: Median U.S. Annual Salary by Race and Sex       NaN       NaN   \n",
       "1                                             Race       Sex     TOTAL   \n",
       "2                                              Men     Women       NaN   \n",
       "3                                            Asian  $50,440   $39,052    \n",
       "4                                            White  $44,512   $36,556    \n",
       "5                                 African American  $33,956   $30,940    \n",
       "6                                  Hispanic/Latino  $29,692   $26,936    \n",
       "7                                              NaN  $43,264   $35,568    \n",
       "8  2010: Median U.S. Annual Salary by Race and Sex       NaN       NaN   \n",
       "\n",
       "                         3       4  Year  \n",
       "0                      NaN     NaN     0  \n",
       "1  Percentage women to men     NaN     0  \n",
       "2                      NaN     NaN     0  \n",
       "3                 $45,032   77.40%     0  \n",
       "4                 $40,300   82.10%     0  \n",
       "5                 $31,890   91.10%     0  \n",
       "6                 $28,548   90.70%     0  \n",
       "7                 $39,312   82.20%     0  \n",
       "8                      NaN     NaN     0  "
      ]
     },
     "execution_count": 5,
     "metadata": {},
     "output_type": "execute_result"
    }
   ],
   "source": [
    "# Inspect\n",
    "raw[:9]"
   ]
  },
  {
   "cell_type": "markdown",
   "metadata": {},
   "source": [
    "To add the correct 'Year' for each group, we noticed that two rows after every Year-included-row such as '2011: Median U.S. Annual Salary by Race and Sex', it will be the start of four group 'Asian' .   \n",
    "So we use this pattern to add 'Year' inforamtion for each group."
   ]
  },
  {
   "cell_type": "code",
   "execution_count": 6,
   "metadata": {
    "collapsed": false
   },
   "outputs": [],
   "source": [
    "# Use a function to assign year information\n",
    "def assignYear(raw):\n",
    "    # row[0] is the leftmost column, its value is a list like below\n",
    "    # [2011: Median U.S. Annual Salary by Race and Sex,Race,Men,Asian,White,African American,Hispanic/Latino,...]\n",
    "    for i in range(len(raw[0])): \n",
    "        # This following line detect '2011: Median U.S. Annual Salary by Race and Sex'\n",
    "        if type(raw[0][i]) != float and raw[0][i].startswith('2'):\n",
    "            for j in range(1,8):\n",
    "                # This line takes the year of the previous line and assgn it to its race group\n",
    "                raw.loc[i+j,'Year'] = raw[0][i][:4]"
   ]
  },
  {
   "cell_type": "code",
   "execution_count": 7,
   "metadata": {
    "collapsed": false
   },
   "outputs": [],
   "source": [
    "# Call the function\n",
    "assignYear(raw)"
   ]
  },
  {
   "cell_type": "code",
   "execution_count": 8,
   "metadata": {
    "collapsed": false
   },
   "outputs": [
    {
     "data": {
      "text/html": [
       "<div>\n",
       "<style>\n",
       "    .dataframe thead tr:only-child th {\n",
       "        text-align: right;\n",
       "    }\n",
       "\n",
       "    .dataframe thead th {\n",
       "        text-align: left;\n",
       "    }\n",
       "\n",
       "    .dataframe tbody tr th {\n",
       "        vertical-align: top;\n",
       "    }\n",
       "</style>\n",
       "<table border=\"1\" class=\"dataframe\">\n",
       "  <thead>\n",
       "    <tr style=\"text-align: right;\">\n",
       "      <th></th>\n",
       "      <th>0</th>\n",
       "      <th>1</th>\n",
       "      <th>2</th>\n",
       "      <th>3</th>\n",
       "      <th>4</th>\n",
       "      <th>Year</th>\n",
       "    </tr>\n",
       "  </thead>\n",
       "  <tbody>\n",
       "    <tr>\n",
       "      <th>0</th>\n",
       "      <td>2011: Median U.S. Annual Salary by Race and Sex</td>\n",
       "      <td>NaN</td>\n",
       "      <td>NaN</td>\n",
       "      <td>NaN</td>\n",
       "      <td>NaN</td>\n",
       "      <td>0</td>\n",
       "    </tr>\n",
       "    <tr>\n",
       "      <th>1</th>\n",
       "      <td>Race</td>\n",
       "      <td>Sex</td>\n",
       "      <td>TOTAL</td>\n",
       "      <td>Percentage women to men</td>\n",
       "      <td>NaN</td>\n",
       "      <td>2011</td>\n",
       "    </tr>\n",
       "    <tr>\n",
       "      <th>2</th>\n",
       "      <td>Men</td>\n",
       "      <td>Women</td>\n",
       "      <td>NaN</td>\n",
       "      <td>NaN</td>\n",
       "      <td>NaN</td>\n",
       "      <td>2011</td>\n",
       "    </tr>\n",
       "    <tr>\n",
       "      <th>3</th>\n",
       "      <td>Asian</td>\n",
       "      <td>$50,440</td>\n",
       "      <td>$39,052</td>\n",
       "      <td>$45,032</td>\n",
       "      <td>77.40%</td>\n",
       "      <td>2011</td>\n",
       "    </tr>\n",
       "    <tr>\n",
       "      <th>4</th>\n",
       "      <td>White</td>\n",
       "      <td>$44,512</td>\n",
       "      <td>$36,556</td>\n",
       "      <td>$40,300</td>\n",
       "      <td>82.10%</td>\n",
       "      <td>2011</td>\n",
       "    </tr>\n",
       "    <tr>\n",
       "      <th>5</th>\n",
       "      <td>African American</td>\n",
       "      <td>$33,956</td>\n",
       "      <td>$30,940</td>\n",
       "      <td>$31,890</td>\n",
       "      <td>91.10%</td>\n",
       "      <td>2011</td>\n",
       "    </tr>\n",
       "    <tr>\n",
       "      <th>6</th>\n",
       "      <td>Hispanic/Latino</td>\n",
       "      <td>$29,692</td>\n",
       "      <td>$26,936</td>\n",
       "      <td>$28,548</td>\n",
       "      <td>90.70%</td>\n",
       "      <td>2011</td>\n",
       "    </tr>\n",
       "    <tr>\n",
       "      <th>7</th>\n",
       "      <td>NaN</td>\n",
       "      <td>$43,264</td>\n",
       "      <td>$35,568</td>\n",
       "      <td>$39,312</td>\n",
       "      <td>82.20%</td>\n",
       "      <td>2011</td>\n",
       "    </tr>\n",
       "    <tr>\n",
       "      <th>8</th>\n",
       "      <td>2010: Median U.S. Annual Salary by Race and Sex</td>\n",
       "      <td>NaN</td>\n",
       "      <td>NaN</td>\n",
       "      <td>NaN</td>\n",
       "      <td>NaN</td>\n",
       "      <td>0</td>\n",
       "    </tr>\n",
       "  </tbody>\n",
       "</table>\n",
       "</div>"
      ],
      "text/plain": [
       "                                                 0         1         2  \\\n",
       "0  2011: Median U.S. Annual Salary by Race and Sex       NaN       NaN   \n",
       "1                                             Race       Sex     TOTAL   \n",
       "2                                              Men     Women       NaN   \n",
       "3                                            Asian  $50,440   $39,052    \n",
       "4                                            White  $44,512   $36,556    \n",
       "5                                 African American  $33,956   $30,940    \n",
       "6                                  Hispanic/Latino  $29,692   $26,936    \n",
       "7                                              NaN  $43,264   $35,568    \n",
       "8  2010: Median U.S. Annual Salary by Race and Sex       NaN       NaN   \n",
       "\n",
       "                         3       4  Year  \n",
       "0                      NaN     NaN     0  \n",
       "1  Percentage women to men     NaN  2011  \n",
       "2                      NaN     NaN  2011  \n",
       "3                 $45,032   77.40%  2011  \n",
       "4                 $40,300   82.10%  2011  \n",
       "5                 $31,890   91.10%  2011  \n",
       "6                 $28,548   90.70%  2011  \n",
       "7                 $39,312   82.20%  2011  \n",
       "8                      NaN     NaN     0  "
      ]
     },
     "execution_count": 8,
     "metadata": {},
     "output_type": "execute_result"
    }
   ],
   "source": [
    "# Inspect \n",
    "raw[:9]"
   ]
  },
  {
   "cell_type": "code",
   "execution_count": 9,
   "metadata": {
    "collapsed": false
   },
   "outputs": [],
   "source": [
    "# Drop all NaN data since we have the year information now\n",
    "raw.dropna(how ='any',inplace=True)"
   ]
  },
  {
   "cell_type": "code",
   "execution_count": 10,
   "metadata": {
    "collapsed": false
   },
   "outputs": [
    {
     "data": {
      "text/html": [
       "<div>\n",
       "<style>\n",
       "    .dataframe thead tr:only-child th {\n",
       "        text-align: right;\n",
       "    }\n",
       "\n",
       "    .dataframe thead th {\n",
       "        text-align: left;\n",
       "    }\n",
       "\n",
       "    .dataframe tbody tr th {\n",
       "        vertical-align: top;\n",
       "    }\n",
       "</style>\n",
       "<table border=\"1\" class=\"dataframe\">\n",
       "  <thead>\n",
       "    <tr style=\"text-align: right;\">\n",
       "      <th></th>\n",
       "      <th>0</th>\n",
       "      <th>1</th>\n",
       "      <th>2</th>\n",
       "      <th>3</th>\n",
       "      <th>4</th>\n",
       "      <th>Year</th>\n",
       "    </tr>\n",
       "  </thead>\n",
       "  <tbody>\n",
       "    <tr>\n",
       "      <th>3</th>\n",
       "      <td>Asian</td>\n",
       "      <td>$50,440</td>\n",
       "      <td>$39,052</td>\n",
       "      <td>$45,032</td>\n",
       "      <td>77.40%</td>\n",
       "      <td>2011</td>\n",
       "    </tr>\n",
       "    <tr>\n",
       "      <th>4</th>\n",
       "      <td>White</td>\n",
       "      <td>$44,512</td>\n",
       "      <td>$36,556</td>\n",
       "      <td>$40,300</td>\n",
       "      <td>82.10%</td>\n",
       "      <td>2011</td>\n",
       "    </tr>\n",
       "    <tr>\n",
       "      <th>5</th>\n",
       "      <td>African American</td>\n",
       "      <td>$33,956</td>\n",
       "      <td>$30,940</td>\n",
       "      <td>$31,890</td>\n",
       "      <td>91.10%</td>\n",
       "      <td>2011</td>\n",
       "    </tr>\n",
       "    <tr>\n",
       "      <th>6</th>\n",
       "      <td>Hispanic/Latino</td>\n",
       "      <td>$29,692</td>\n",
       "      <td>$26,936</td>\n",
       "      <td>$28,548</td>\n",
       "      <td>90.70%</td>\n",
       "      <td>2011</td>\n",
       "    </tr>\n",
       "    <tr>\n",
       "      <th>11</th>\n",
       "      <td>Asian</td>\n",
       "      <td>$48,672</td>\n",
       "      <td>$40,196</td>\n",
       "      <td>$44,460</td>\n",
       "      <td>82.60%</td>\n",
       "      <td>2010</td>\n",
       "    </tr>\n",
       "    <tr>\n",
       "      <th>12</th>\n",
       "      <td>White</td>\n",
       "      <td>$44,200</td>\n",
       "      <td>$35,568</td>\n",
       "      <td>$39,870</td>\n",
       "      <td>80.50%</td>\n",
       "      <td>2010</td>\n",
       "    </tr>\n",
       "    <tr>\n",
       "      <th>13</th>\n",
       "      <td>African American</td>\n",
       "      <td>$32,916</td>\n",
       "      <td>$30,784</td>\n",
       "      <td>$31,772</td>\n",
       "      <td>93.50%</td>\n",
       "      <td>2010</td>\n",
       "    </tr>\n",
       "    <tr>\n",
       "      <th>14</th>\n",
       "      <td>Hispanic/Latino</td>\n",
       "      <td>$29,129</td>\n",
       "      <td>$26,416</td>\n",
       "      <td>$27,820</td>\n",
       "      <td>90.70%</td>\n",
       "      <td>2010</td>\n",
       "    </tr>\n",
       "    <tr>\n",
       "      <th>19</th>\n",
       "      <td>Asian</td>\n",
       "      <td>$49,504</td>\n",
       "      <td>$40,508</td>\n",
       "      <td>$45,760</td>\n",
       "      <td>81.80%</td>\n",
       "      <td>2009</td>\n",
       "    </tr>\n",
       "  </tbody>\n",
       "</table>\n",
       "</div>"
      ],
      "text/plain": [
       "                   0         1         2         3       4  Year\n",
       "3              Asian  $50,440   $39,052   $45,032   77.40%  2011\n",
       "4              White  $44,512   $36,556   $40,300   82.10%  2011\n",
       "5   African American  $33,956   $30,940   $31,890   91.10%  2011\n",
       "6    Hispanic/Latino  $29,692   $26,936   $28,548   90.70%  2011\n",
       "11             Asian  $48,672   $40,196   $44,460   82.60%  2010\n",
       "12             White  $44,200   $35,568   $39,870   80.50%  2010\n",
       "13  African American  $32,916   $30,784   $31,772   93.50%  2010\n",
       "14   Hispanic/Latino  $29,129   $26,416   $27,820   90.70%  2010\n",
       "19             Asian  $49,504   $40,508   $45,760   81.80%  2009"
      ]
     },
     "execution_count": 10,
     "metadata": {},
     "output_type": "execute_result"
    }
   ],
   "source": [
    "# Inspect\n",
    "raw[:9]"
   ]
  },
  {
   "cell_type": "markdown",
   "metadata": {},
   "source": [
    "What the original table looks like:\n",
    "![](DataWranglingSnapShots/2.PNG)\n",
    "\n",
    "The first number column is for men, the second column is for women, and the third one is for all.\n",
    "All we need is the third column. So, drop first and second number columns."
   ]
  },
  {
   "cell_type": "code",
   "execution_count": 11,
   "metadata": {
    "collapsed": false
   },
   "outputs": [],
   "source": [
    "# Drop male, female and women to men percentage columns\n",
    "df = raw.drop([1,2,4],axis = 1).rename(columns = {0:'Race', 3:'Median U.S. Annual Salary per Year'}).reset_index().drop(['index'],axis = 1)"
   ]
  },
  {
   "cell_type": "code",
   "execution_count": 12,
   "metadata": {
    "collapsed": false
   },
   "outputs": [
    {
     "data": {
      "text/html": [
       "<div>\n",
       "<style>\n",
       "    .dataframe thead tr:only-child th {\n",
       "        text-align: right;\n",
       "    }\n",
       "\n",
       "    .dataframe thead th {\n",
       "        text-align: left;\n",
       "    }\n",
       "\n",
       "    .dataframe tbody tr th {\n",
       "        vertical-align: top;\n",
       "    }\n",
       "</style>\n",
       "<table border=\"1\" class=\"dataframe\">\n",
       "  <thead>\n",
       "    <tr style=\"text-align: right;\">\n",
       "      <th></th>\n",
       "      <th>Race</th>\n",
       "      <th>Median U.S. Annual Salary per Year</th>\n",
       "      <th>Year</th>\n",
       "    </tr>\n",
       "  </thead>\n",
       "  <tbody>\n",
       "    <tr>\n",
       "      <th>0</th>\n",
       "      <td>Asian</td>\n",
       "      <td>$45,032</td>\n",
       "      <td>2011</td>\n",
       "    </tr>\n",
       "    <tr>\n",
       "      <th>1</th>\n",
       "      <td>White</td>\n",
       "      <td>$40,300</td>\n",
       "      <td>2011</td>\n",
       "    </tr>\n",
       "    <tr>\n",
       "      <th>2</th>\n",
       "      <td>African American</td>\n",
       "      <td>$31,890</td>\n",
       "      <td>2011</td>\n",
       "    </tr>\n",
       "    <tr>\n",
       "      <th>3</th>\n",
       "      <td>Hispanic/Latino</td>\n",
       "      <td>$28,548</td>\n",
       "      <td>2011</td>\n",
       "    </tr>\n",
       "    <tr>\n",
       "      <th>4</th>\n",
       "      <td>Asian</td>\n",
       "      <td>$44,460</td>\n",
       "      <td>2010</td>\n",
       "    </tr>\n",
       "  </tbody>\n",
       "</table>\n",
       "</div>"
      ],
      "text/plain": [
       "               Race Median U.S. Annual Salary per Year  Year\n",
       "0             Asian                           $45,032   2011\n",
       "1             White                           $40,300   2011\n",
       "2  African American                           $31,890   2011\n",
       "3   Hispanic/Latino                           $28,548   2011\n",
       "4             Asian                           $44,460   2010"
      ]
     },
     "execution_count": 12,
     "metadata": {},
     "output_type": "execute_result"
    }
   ],
   "source": [
    "# Inspect\n",
    "df[:5]"
   ]
  },
  {
   "cell_type": "code",
   "execution_count": 13,
   "metadata": {
    "collapsed": false
   },
   "outputs": [],
   "source": [
    "# Convert currence type in 'Total' to integer type\n",
    "df['Median U.S. Annual Salary per Year']  = df['Median U.S. Annual Salary per Year'].replace('[\\$,]', '', regex=True).astype(int)"
   ]
  },
  {
   "cell_type": "code",
   "execution_count": 14,
   "metadata": {
    "collapsed": false
   },
   "outputs": [],
   "source": [
    "# Insert a Row for every year to store all minority groups' average Median U.S. Annual Salary  per Year\n",
    "for i in range(4,len(df),5):\n",
    "    line = pd.DataFrame({'Race':'All Minority'}, index = [i])\n",
    "    df = pd.concat([df.iloc[:i], line, df.iloc[i:]]).reset_index(drop=True)"
   ]
  },
  {
   "cell_type": "code",
   "execution_count": 15,
   "metadata": {
    "collapsed": false
   },
   "outputs": [
    {
     "data": {
      "text/html": [
       "<div>\n",
       "<style>\n",
       "    .dataframe thead tr:only-child th {\n",
       "        text-align: right;\n",
       "    }\n",
       "\n",
       "    .dataframe thead th {\n",
       "        text-align: left;\n",
       "    }\n",
       "\n",
       "    .dataframe tbody tr th {\n",
       "        vertical-align: top;\n",
       "    }\n",
       "</style>\n",
       "<table border=\"1\" class=\"dataframe\">\n",
       "  <thead>\n",
       "    <tr style=\"text-align: right;\">\n",
       "      <th></th>\n",
       "      <th>Median U.S. Annual Salary per Year</th>\n",
       "      <th>Race</th>\n",
       "      <th>Year</th>\n",
       "    </tr>\n",
       "  </thead>\n",
       "  <tbody>\n",
       "    <tr>\n",
       "      <th>0</th>\n",
       "      <td>45032.0</td>\n",
       "      <td>Asian</td>\n",
       "      <td>2011</td>\n",
       "    </tr>\n",
       "    <tr>\n",
       "      <th>1</th>\n",
       "      <td>40300.0</td>\n",
       "      <td>White</td>\n",
       "      <td>2011</td>\n",
       "    </tr>\n",
       "    <tr>\n",
       "      <th>2</th>\n",
       "      <td>31890.0</td>\n",
       "      <td>African American</td>\n",
       "      <td>2011</td>\n",
       "    </tr>\n",
       "    <tr>\n",
       "      <th>3</th>\n",
       "      <td>28548.0</td>\n",
       "      <td>Hispanic/Latino</td>\n",
       "      <td>2011</td>\n",
       "    </tr>\n",
       "    <tr>\n",
       "      <th>4</th>\n",
       "      <td>NaN</td>\n",
       "      <td>All Minority</td>\n",
       "      <td>NaN</td>\n",
       "    </tr>\n",
       "  </tbody>\n",
       "</table>\n",
       "</div>"
      ],
      "text/plain": [
       "   Median U.S. Annual Salary per Year              Race  Year\n",
       "0                             45032.0             Asian  2011\n",
       "1                             40300.0             White  2011\n",
       "2                             31890.0  African American  2011\n",
       "3                             28548.0   Hispanic/Latino  2011\n",
       "4                                 NaN      All Minority   NaN"
      ]
     },
     "execution_count": 15,
     "metadata": {},
     "output_type": "execute_result"
    }
   ],
   "source": [
    "# Inspect\n",
    "df[:5]"
   ]
  },
  {
   "cell_type": "code",
   "execution_count": 16,
   "metadata": {
    "collapsed": false
   },
   "outputs": [],
   "source": [
    "# Compute the average and then store the average and year for all 'All Minority' rows\n",
    "for i in range(4,len(df),5):\n",
    "    if df.loc[i,'Race'] == 'All Minority':\n",
    "        df.loc[i,'Median U.S. Annual Salary per Year'] = int((df.loc[i-4,'Median U.S. Annual Salary per Year'] + df.loc[i-2,'Median U.S. Annual Salary per Year'] + df.loc[i-1,'Median U.S. Annual Salary per Year']) / 3)\n",
    "        df.loc[i,'Year'] = df.loc[i-4,'Year']"
   ]
  },
  {
   "cell_type": "code",
   "execution_count": 17,
   "metadata": {
    "collapsed": false
   },
   "outputs": [
    {
     "data": {
      "text/html": [
       "<div>\n",
       "<style>\n",
       "    .dataframe thead tr:only-child th {\n",
       "        text-align: right;\n",
       "    }\n",
       "\n",
       "    .dataframe thead th {\n",
       "        text-align: left;\n",
       "    }\n",
       "\n",
       "    .dataframe tbody tr th {\n",
       "        vertical-align: top;\n",
       "    }\n",
       "</style>\n",
       "<table border=\"1\" class=\"dataframe\">\n",
       "  <thead>\n",
       "    <tr style=\"text-align: right;\">\n",
       "      <th></th>\n",
       "      <th>Median U.S. Annual Salary per Year</th>\n",
       "      <th>Race</th>\n",
       "      <th>Year</th>\n",
       "    </tr>\n",
       "  </thead>\n",
       "  <tbody>\n",
       "    <tr>\n",
       "      <th>0</th>\n",
       "      <td>45032.0</td>\n",
       "      <td>Asian</td>\n",
       "      <td>2011</td>\n",
       "    </tr>\n",
       "    <tr>\n",
       "      <th>1</th>\n",
       "      <td>40300.0</td>\n",
       "      <td>White</td>\n",
       "      <td>2011</td>\n",
       "    </tr>\n",
       "    <tr>\n",
       "      <th>2</th>\n",
       "      <td>31890.0</td>\n",
       "      <td>African American</td>\n",
       "      <td>2011</td>\n",
       "    </tr>\n",
       "    <tr>\n",
       "      <th>3</th>\n",
       "      <td>28548.0</td>\n",
       "      <td>Hispanic/Latino</td>\n",
       "      <td>2011</td>\n",
       "    </tr>\n",
       "    <tr>\n",
       "      <th>4</th>\n",
       "      <td>35156.0</td>\n",
       "      <td>All Minority</td>\n",
       "      <td>2011</td>\n",
       "    </tr>\n",
       "  </tbody>\n",
       "</table>\n",
       "</div>"
      ],
      "text/plain": [
       "   Median U.S. Annual Salary per Year              Race  Year\n",
       "0                             45032.0             Asian  2011\n",
       "1                             40300.0             White  2011\n",
       "2                             31890.0  African American  2011\n",
       "3                             28548.0   Hispanic/Latino  2011\n",
       "4                             35156.0      All Minority  2011"
      ]
     },
     "execution_count": 17,
     "metadata": {},
     "output_type": "execute_result"
    }
   ],
   "source": [
    "# Inspect\n",
    "df[:5]"
   ]
  },
  {
   "cell_type": "markdown",
   "metadata": {},
   "source": [
    "Rearrange the columns"
   ]
  },
  {
   "cell_type": "code",
   "execution_count": 18,
   "metadata": {
    "collapsed": true
   },
   "outputs": [],
   "source": [
    "columns = list(df)"
   ]
  },
  {
   "cell_type": "code",
   "execution_count": 19,
   "metadata": {
    "collapsed": false
   },
   "outputs": [
    {
     "data": {
      "text/plain": [
       "['Median U.S. Annual Salary per Year', 'Race', 'Year']"
      ]
     },
     "execution_count": 19,
     "metadata": {},
     "output_type": "execute_result"
    }
   ],
   "source": [
    "columns"
   ]
  },
  {
   "cell_type": "code",
   "execution_count": 20,
   "metadata": {
    "collapsed": true
   },
   "outputs": [],
   "source": [
    "columns[0],columns[2] = columns[2],columns[0]"
   ]
  },
  {
   "cell_type": "code",
   "execution_count": 21,
   "metadata": {
    "collapsed": false
   },
   "outputs": [],
   "source": [
    "df = df.loc[:,columns]"
   ]
  },
  {
   "cell_type": "code",
   "execution_count": 22,
   "metadata": {
    "collapsed": false
   },
   "outputs": [
    {
     "data": {
      "text/html": [
       "<div>\n",
       "<style>\n",
       "    .dataframe thead tr:only-child th {\n",
       "        text-align: right;\n",
       "    }\n",
       "\n",
       "    .dataframe thead th {\n",
       "        text-align: left;\n",
       "    }\n",
       "\n",
       "    .dataframe tbody tr th {\n",
       "        vertical-align: top;\n",
       "    }\n",
       "</style>\n",
       "<table border=\"1\" class=\"dataframe\">\n",
       "  <thead>\n",
       "    <tr style=\"text-align: right;\">\n",
       "      <th></th>\n",
       "      <th>Year</th>\n",
       "      <th>Race</th>\n",
       "      <th>Median U.S. Annual Salary per Year</th>\n",
       "    </tr>\n",
       "  </thead>\n",
       "  <tbody>\n",
       "    <tr>\n",
       "      <th>0</th>\n",
       "      <td>2011</td>\n",
       "      <td>Asian</td>\n",
       "      <td>45032.0</td>\n",
       "    </tr>\n",
       "    <tr>\n",
       "      <th>1</th>\n",
       "      <td>2011</td>\n",
       "      <td>White</td>\n",
       "      <td>40300.0</td>\n",
       "    </tr>\n",
       "    <tr>\n",
       "      <th>2</th>\n",
       "      <td>2011</td>\n",
       "      <td>African American</td>\n",
       "      <td>31890.0</td>\n",
       "    </tr>\n",
       "    <tr>\n",
       "      <th>3</th>\n",
       "      <td>2011</td>\n",
       "      <td>Hispanic/Latino</td>\n",
       "      <td>28548.0</td>\n",
       "    </tr>\n",
       "    <tr>\n",
       "      <th>4</th>\n",
       "      <td>2011</td>\n",
       "      <td>All Minority</td>\n",
       "      <td>35156.0</td>\n",
       "    </tr>\n",
       "  </tbody>\n",
       "</table>\n",
       "</div>"
      ],
      "text/plain": [
       "   Year              Race  Median U.S. Annual Salary per Year\n",
       "0  2011             Asian                             45032.0\n",
       "1  2011             White                             40300.0\n",
       "2  2011  African American                             31890.0\n",
       "3  2011   Hispanic/Latino                             28548.0\n",
       "4  2011      All Minority                             35156.0"
      ]
     },
     "execution_count": 22,
     "metadata": {},
     "output_type": "execute_result"
    }
   ],
   "source": [
    "# Inspect\n",
    "df[:5]"
   ]
  },
  {
   "cell_type": "code",
   "execution_count": 23,
   "metadata": {
    "collapsed": true
   },
   "outputs": [],
   "source": [
    "# Save it to csv\n",
    "df.to_csv('data.csv')"
   ]
  }
 ],
 "metadata": {
  "kernelspec": {
   "display_name": "Python 2",
   "language": "python",
   "name": "python2"
  },
  "language_info": {
   "codemirror_mode": {
    "name": "ipython",
    "version": 2
   },
   "file_extension": ".py",
   "mimetype": "text/x-python",
   "name": "python",
   "nbconvert_exporter": "python",
   "pygments_lexer": "ipython2",
   "version": "2.7.11"
  }
 },
 "nbformat": 4,
 "nbformat_minor": 0
}
