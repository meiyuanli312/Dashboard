{
 "cells": [
  {
   "cell_type": "markdown",
   "metadata": {},
   "source": [
    "<b>Import Pandas for later use</b>"
   ]
  },
  {
   "cell_type": "code",
   "execution_count": 2,
   "metadata": {
    "collapsed": true
   },
   "outputs": [],
   "source": [
    "from pandas import Series, DataFrame\n",
    "import pandas as pd"
   ]
  },
  {
   "cell_type": "markdown",
   "metadata": {},
   "source": [
    "<b>Read the original excel in</b>"
   ]
  },
  {
   "cell_type": "code",
   "execution_count": 3,
   "metadata": {
    "collapsed": false
   },
   "outputs": [],
   "source": [
    "df = pd.read_csv('/Users/Meiyuan/Downloads/Information is Beautiful- Data Breaches (public) - 2017 update.csv')"
   ]
  },
  {
   "cell_type": "markdown",
   "metadata": {},
   "source": [
    "<b>Inspect the dataframe</b>"
   ]
  },
  {
   "cell_type": "code",
   "execution_count": 5,
   "metadata": {
    "collapsed": false
   },
   "outputs": [
    {
     "data": {
      "text/html": [
       "<div>\n",
       "<table border=\"1\" class=\"dataframe\">\n",
       "  <thead>\n",
       "    <tr style=\"text-align: right;\">\n",
       "      <th></th>\n",
       "      <th>Unnamed: 0</th>\n",
       "      <th>Unnamed: 1</th>\n",
       "      <th>Unnamed: 2</th>\n",
       "      <th>Unnamed: 3</th>\n",
       "      <th>Unnamed: 4</th>\n",
       "      <th>Unnamed: 5</th>\n",
       "      <th>Unnamed: 6</th>\n",
       "      <th>Unnamed: 7</th>\n",
       "      <th>Unnamed: 8</th>\n",
       "      <th>Unnamed: 9</th>\n",
       "      <th>Unnamed: 10</th>\n",
       "      <th>Unnamed: 11</th>\n",
       "      <th>Unnamed: 12</th>\n",
       "      <th>Unnamed: 13</th>\n",
       "      <th>Unnamed: 14</th>\n",
       "      <th>Unnamed: 15</th>\n",
       "      <th>Unnamed: 16</th>\n",
       "      <th>Unnamed: 17</th>\n",
       "    </tr>\n",
       "  </thead>\n",
       "  <tbody>\n",
       "    <tr>\n",
       "      <th>0</th>\n",
       "      <td>Entity</td>\n",
       "      <td>alternative name</td>\n",
       "      <td>story</td>\n",
       "      <td>YEAR</td>\n",
       "      <td>records lost</td>\n",
       "      <td>ORGANISATION</td>\n",
       "      <td>METHOD OF LEAK</td>\n",
       "      <td>interesting story</td>\n",
       "      <td>NO OF RECORDS STOLEN</td>\n",
       "      <td>DATA SENSITIVITY</td>\n",
       "      <td>UNUSED</td>\n",
       "      <td>UNUSED</td>\n",
       "      <td>Exclude</td>\n",
       "      <td>NaN</td>\n",
       "      <td>1st source link</td>\n",
       "      <td>2nd source link</td>\n",
       "      <td>3rd source</td>\n",
       "      <td>source name</td>\n",
       "    </tr>\n",
       "    <tr>\n",
       "      <th>1</th>\n",
       "      <td>NaN</td>\n",
       "      <td>NaN</td>\n",
       "      <td>Elaboration if there's an interesting story or...</td>\n",
       "      <td>years are encoded (0=2004, 8 = 2012, 9 = 2013,...</td>\n",
       "      <td>(use 3m, 4m, 5m or 10m to approximate unknown ...</td>\n",
       "      <td>NaN</td>\n",
       "      <td>NaN</td>\n",
       "      <td>NaN</td>\n",
       "      <td>(use 3m, 4m, 5m or 10m to approximate unknown ...</td>\n",
       "      <td>1. Just email address/Online information 20 SS...</td>\n",
       "      <td>NaN</td>\n",
       "      <td>NaN</td>\n",
       "      <td>Show this item in the viz?</td>\n",
       "      <td>NaN</td>\n",
       "      <td>NaN</td>\n",
       "      <td>NaN</td>\n",
       "      <td>NaN</td>\n",
       "      <td>NaN</td>\n",
       "    </tr>\n",
       "    <tr>\n",
       "      <th>2</th>\n",
       "      <td>AOL</td>\n",
       "      <td>American Online</td>\n",
       "      <td>A former America Online software engineer stol...</td>\n",
       "      <td>0</td>\n",
       "      <td>92000000</td>\n",
       "      <td>web</td>\n",
       "      <td>inside job</td>\n",
       "      <td>NaN</td>\n",
       "      <td>92000000</td>\n",
       "      <td>1</td>\n",
       "      <td>NaN</td>\n",
       "      <td>NaN</td>\n",
       "      <td>NaN</td>\n",
       "      <td>NaN</td>\n",
       "      <td>http://money.cnn.com/2004/06/23/technology/aol...</td>\n",
       "      <td>http://www.msnbc.msn.com/id/8985989/#.UFcN8RgUwaA</td>\n",
       "      <td>NaN</td>\n",
       "      <td>CNN</td>\n",
       "    </tr>\n",
       "    <tr>\n",
       "      <th>3</th>\n",
       "      <td>Automatic Data Processing</td>\n",
       "      <td>Business outsourcing, payrolls, benefits</td>\n",
       "      <td>NaN</td>\n",
       "      <td>1</td>\n",
       "      <td>125000</td>\n",
       "      <td>financial</td>\n",
       "      <td>poor security</td>\n",
       "      <td>NaN</td>\n",
       "      <td>130000</td>\n",
       "      <td>20</td>\n",
       "      <td>NaN</td>\n",
       "      <td>NaN</td>\n",
       "      <td>NaN</td>\n",
       "      <td>NaN</td>\n",
       "      <td>http://abcnews.go.com/Technology/story?id=2160...</td>\n",
       "      <td>NaN</td>\n",
       "      <td>NaN</td>\n",
       "      <td>ABC</td>\n",
       "    </tr>\n",
       "    <tr>\n",
       "      <th>4</th>\n",
       "      <td>Ameritrade Inc.</td>\n",
       "      <td>Computer backup tape containing personal infor...</td>\n",
       "      <td>online broker</td>\n",
       "      <td>1</td>\n",
       "      <td>200000</td>\n",
       "      <td>financial</td>\n",
       "      <td>lost / stolen device</td>\n",
       "      <td>NaN</td>\n",
       "      <td>200000</td>\n",
       "      <td>20</td>\n",
       "      <td>NaN</td>\n",
       "      <td>NaN</td>\n",
       "      <td>NaN</td>\n",
       "      <td>NaN</td>\n",
       "      <td>http://www.nbcnews.com/id/7561268/</td>\n",
       "      <td>NaN</td>\n",
       "      <td>NaN</td>\n",
       "      <td>NaN</td>\n",
       "    </tr>\n",
       "  </tbody>\n",
       "</table>\n",
       "</div>"
      ],
      "text/plain": [
       "                  Unnamed: 0  \\\n",
       "0                     Entity   \n",
       "1                        NaN   \n",
       "2                        AOL   \n",
       "3  Automatic Data Processing   \n",
       "4            Ameritrade Inc.   \n",
       "\n",
       "                                          Unnamed: 1  \\\n",
       "0                                   alternative name   \n",
       "1                                                NaN   \n",
       "2                                    American Online   \n",
       "3           Business outsourcing, payrolls, benefits   \n",
       "4  Computer backup tape containing personal infor...   \n",
       "\n",
       "                                          Unnamed: 2  \\\n",
       "0                                              story   \n",
       "1  Elaboration if there's an interesting story or...   \n",
       "2  A former America Online software engineer stol...   \n",
       "3                                                NaN   \n",
       "4                                      online broker   \n",
       "\n",
       "                                          Unnamed: 3  \\\n",
       "0                                               YEAR   \n",
       "1  years are encoded (0=2004, 8 = 2012, 9 = 2013,...   \n",
       "2                                                  0   \n",
       "3                                                  1   \n",
       "4                                                  1   \n",
       "\n",
       "                                          Unnamed: 4    Unnamed: 5  \\\n",
       "0                                       records lost  ORGANISATION   \n",
       "1  (use 3m, 4m, 5m or 10m to approximate unknown ...           NaN   \n",
       "2                                           92000000           web   \n",
       "3                                             125000     financial   \n",
       "4                                             200000     financial   \n",
       "\n",
       "             Unnamed: 6         Unnamed: 7  \\\n",
       "0        METHOD OF LEAK  interesting story   \n",
       "1                   NaN                NaN   \n",
       "2            inside job                NaN   \n",
       "3         poor security                NaN   \n",
       "4  lost / stolen device                NaN   \n",
       "\n",
       "                                          Unnamed: 8  \\\n",
       "0                               NO OF RECORDS STOLEN   \n",
       "1  (use 3m, 4m, 5m or 10m to approximate unknown ...   \n",
       "2                                           92000000   \n",
       "3                                             130000   \n",
       "4                                             200000   \n",
       "\n",
       "                                          Unnamed: 9 Unnamed: 10 Unnamed: 11  \\\n",
       "0                                   DATA SENSITIVITY      UNUSED      UNUSED   \n",
       "1  1. Just email address/Online information 20 SS...         NaN         NaN   \n",
       "2                                                  1         NaN         NaN   \n",
       "3                                                 20         NaN         NaN   \n",
       "4                                                 20         NaN         NaN   \n",
       "\n",
       "                  Unnamed: 12 Unnamed: 13  \\\n",
       "0                     Exclude         NaN   \n",
       "1  Show this item in the viz?         NaN   \n",
       "2                         NaN         NaN   \n",
       "3                         NaN         NaN   \n",
       "4                         NaN         NaN   \n",
       "\n",
       "                                         Unnamed: 14  \\\n",
       "0                                    1st source link   \n",
       "1                                                NaN   \n",
       "2  http://money.cnn.com/2004/06/23/technology/aol...   \n",
       "3  http://abcnews.go.com/Technology/story?id=2160...   \n",
       "4                 http://www.nbcnews.com/id/7561268/   \n",
       "\n",
       "                                         Unnamed: 15 Unnamed: 16  Unnamed: 17  \n",
       "0                                    2nd source link  3rd source  source name  \n",
       "1                                                NaN         NaN          NaN  \n",
       "2  http://www.msnbc.msn.com/id/8985989/#.UFcN8RgUwaA         NaN          CNN  \n",
       "3                                                NaN         NaN          ABC  \n",
       "4                                                NaN         NaN          NaN  "
      ]
     },
     "execution_count": 5,
     "metadata": {},
     "output_type": "execute_result"
    }
   ],
   "source": [
    "df.head(5)"
   ]
  },
  {
   "cell_type": "markdown",
   "metadata": {},
   "source": [
    "<b>We need to use row 0 as the column header and remove row 1 </b>"
   ]
  },
  {
   "cell_type": "markdown",
   "metadata": {},
   "source": [
    "<b>To use row 0 as header, extract it first </b>"
   ]
  },
  {
   "cell_type": "code",
   "execution_count": 9,
   "metadata": {
    "collapsed": true
   },
   "outputs": [],
   "source": [
    "columnHeader = df.iloc[0:1].values.tolist()\n",
    "#unpack columnHeader since it is a list of list\n",
    "columnHeader = columnHeader[0] "
   ]
  },
  {
   "cell_type": "code",
   "execution_count": 10,
   "metadata": {
    "collapsed": false
   },
   "outputs": [
    {
     "data": {
      "text/plain": [
       "['Entity',\n",
       " 'alternative name',\n",
       " 'story',\n",
       " 'YEAR',\n",
       " 'records lost',\n",
       " 'ORGANISATION',\n",
       " 'METHOD OF LEAK',\n",
       " 'interesting story',\n",
       " 'NO OF RECORDS STOLEN',\n",
       " 'DATA SENSITIVITY',\n",
       " 'UNUSED',\n",
       " 'UNUSED',\n",
       " 'Exclude',\n",
       " nan,\n",
       " '1st source link',\n",
       " '2nd source link',\n",
       " '3rd source',\n",
       " 'source name']"
      ]
     },
     "execution_count": 10,
     "metadata": {},
     "output_type": "execute_result"
    }
   ],
   "source": [
    "columnHeader"
   ]
  },
  {
   "cell_type": "markdown",
   "metadata": {},
   "source": [
    "<b>Re-read the CSV and use columnHeader as headers, and skip the first two rows </b>"
   ]
  },
  {
   "cell_type": "code",
   "execution_count": 15,
   "metadata": {
    "collapsed": true
   },
   "outputs": [],
   "source": [
    "df2 = pd.read_csv('/Users/Meiyuan/Downloads/Information is Beautiful- Data Breaches (public) - 2017 update.csv', skiprows=3,names=columnHeader)"
   ]
  },
  {
   "cell_type": "code",
   "execution_count": 17,
   "metadata": {
    "collapsed": false
   },
   "outputs": [
    {
     "data": {
      "text/html": [
       "<div>\n",
       "<table border=\"1\" class=\"dataframe\">\n",
       "  <thead>\n",
       "    <tr style=\"text-align: right;\">\n",
       "      <th></th>\n",
       "      <th>Entity</th>\n",
       "      <th>alternative name</th>\n",
       "      <th>story</th>\n",
       "      <th>YEAR</th>\n",
       "      <th>records lost</th>\n",
       "      <th>ORGANISATION</th>\n",
       "      <th>METHOD OF LEAK</th>\n",
       "      <th>interesting story</th>\n",
       "      <th>NO OF RECORDS STOLEN</th>\n",
       "      <th>DATA SENSITIVITY</th>\n",
       "      <th>UNUSED</th>\n",
       "      <th>UNUSED</th>\n",
       "      <th>Exclude</th>\n",
       "      <th>nan</th>\n",
       "      <th>1st source link</th>\n",
       "      <th>2nd source link</th>\n",
       "      <th>3rd source</th>\n",
       "      <th>source name</th>\n",
       "    </tr>\n",
       "  </thead>\n",
       "  <tbody>\n",
       "    <tr>\n",
       "      <th>0</th>\n",
       "      <td>AOL</td>\n",
       "      <td>American Online</td>\n",
       "      <td>A former America Online software engineer stol...</td>\n",
       "      <td>0</td>\n",
       "      <td>92000000.0</td>\n",
       "      <td>web</td>\n",
       "      <td>inside job</td>\n",
       "      <td>NaN</td>\n",
       "      <td>92000000</td>\n",
       "      <td>1</td>\n",
       "      <td>NaN</td>\n",
       "      <td>NaN</td>\n",
       "      <td>NaN</td>\n",
       "      <td>NaN</td>\n",
       "      <td>http://money.cnn.com/2004/06/23/technology/aol...</td>\n",
       "      <td>http://www.msnbc.msn.com/id/8985989/#.UFcN8RgUwaA</td>\n",
       "      <td>NaN</td>\n",
       "      <td>CNN</td>\n",
       "    </tr>\n",
       "    <tr>\n",
       "      <th>1</th>\n",
       "      <td>Automatic Data Processing</td>\n",
       "      <td>Business outsourcing, payrolls, benefits</td>\n",
       "      <td>NaN</td>\n",
       "      <td>1</td>\n",
       "      <td>125000.0</td>\n",
       "      <td>financial</td>\n",
       "      <td>poor security</td>\n",
       "      <td>NaN</td>\n",
       "      <td>130000</td>\n",
       "      <td>20</td>\n",
       "      <td>NaN</td>\n",
       "      <td>NaN</td>\n",
       "      <td>NaN</td>\n",
       "      <td>NaN</td>\n",
       "      <td>http://abcnews.go.com/Technology/story?id=2160...</td>\n",
       "      <td>NaN</td>\n",
       "      <td>NaN</td>\n",
       "      <td>ABC</td>\n",
       "    </tr>\n",
       "    <tr>\n",
       "      <th>2</th>\n",
       "      <td>Ameritrade Inc.</td>\n",
       "      <td>Computer backup tape containing personal infor...</td>\n",
       "      <td>online broker</td>\n",
       "      <td>1</td>\n",
       "      <td>200000.0</td>\n",
       "      <td>financial</td>\n",
       "      <td>lost / stolen device</td>\n",
       "      <td>NaN</td>\n",
       "      <td>200000</td>\n",
       "      <td>20</td>\n",
       "      <td>NaN</td>\n",
       "      <td>NaN</td>\n",
       "      <td>NaN</td>\n",
       "      <td>NaN</td>\n",
       "      <td>http://www.nbcnews.com/id/7561268/</td>\n",
       "      <td>NaN</td>\n",
       "      <td>NaN</td>\n",
       "      <td>NaN</td>\n",
       "    </tr>\n",
       "    <tr>\n",
       "      <th>3</th>\n",
       "      <td>Citigroup</td>\n",
       "      <td>NaN</td>\n",
       "      <td>Blame the messenger! A box of computer tapes c...</td>\n",
       "      <td>1</td>\n",
       "      <td>3900000.0</td>\n",
       "      <td>financial</td>\n",
       "      <td>lost / stolen device</td>\n",
       "      <td>y</td>\n",
       "      <td>3900000</td>\n",
       "      <td>300</td>\n",
       "      <td>NaN</td>\n",
       "      <td>NaN</td>\n",
       "      <td>NaN</td>\n",
       "      <td>NaN</td>\n",
       "      <td>http://www.nytimes.com/2005/06/07/business/07d...</td>\n",
       "      <td>NaN</td>\n",
       "      <td>NaN</td>\n",
       "      <td>NY Times</td>\n",
       "    </tr>\n",
       "    <tr>\n",
       "      <th>4</th>\n",
       "      <td>Cardsystems Solutions Inc.</td>\n",
       "      <td>Third-party payment processor for Visa, Master...</td>\n",
       "      <td>CardSystems was fingered by MasterCard after i...</td>\n",
       "      <td>1</td>\n",
       "      <td>40000000.0</td>\n",
       "      <td>financial</td>\n",
       "      <td>hacked</td>\n",
       "      <td>y</td>\n",
       "      <td>40000000</td>\n",
       "      <td>300</td>\n",
       "      <td>NaN</td>\n",
       "      <td>NaN</td>\n",
       "      <td>NaN</td>\n",
       "      <td>NaN</td>\n",
       "      <td>http://www.msnbc.msn.com/id/8260050/ns/technol...</td>\n",
       "      <td>NaN</td>\n",
       "      <td>NaN</td>\n",
       "      <td>MSNBC</td>\n",
       "    </tr>\n",
       "  </tbody>\n",
       "</table>\n",
       "</div>"
      ],
      "text/plain": [
       "                        Entity  \\\n",
       "0                          AOL   \n",
       "1    Automatic Data Processing   \n",
       "2              Ameritrade Inc.   \n",
       "3                    Citigroup   \n",
       "4  Cardsystems Solutions Inc.    \n",
       "\n",
       "                                    alternative name  \\\n",
       "0                                    American Online   \n",
       "1           Business outsourcing, payrolls, benefits   \n",
       "2  Computer backup tape containing personal infor...   \n",
       "3                                                NaN   \n",
       "4  Third-party payment processor for Visa, Master...   \n",
       "\n",
       "                                               story  YEAR  records lost  \\\n",
       "0  A former America Online software engineer stol...     0    92000000.0   \n",
       "1                                                NaN     1      125000.0   \n",
       "2                                      online broker     1      200000.0   \n",
       "3  Blame the messenger! A box of computer tapes c...     1     3900000.0   \n",
       "4  CardSystems was fingered by MasterCard after i...     1    40000000.0   \n",
       "\n",
       "  ORGANISATION        METHOD OF LEAK interesting story  NO OF RECORDS STOLEN  \\\n",
       "0          web            inside job               NaN              92000000   \n",
       "1    financial         poor security               NaN                130000   \n",
       "2    financial  lost / stolen device               NaN                200000   \n",
       "3    financial  lost / stolen device                 y               3900000   \n",
       "4    financial                hacked                 y              40000000   \n",
       "\n",
       "   DATA SENSITIVITY  UNUSED  UNUSED Exclude  NaN  \\\n",
       "0                 1     NaN     NaN     NaN  NaN   \n",
       "1                20     NaN     NaN     NaN  NaN   \n",
       "2                20     NaN     NaN     NaN  NaN   \n",
       "3               300     NaN     NaN     NaN  NaN   \n",
       "4               300     NaN     NaN     NaN  NaN   \n",
       "\n",
       "                                     1st source link  \\\n",
       "0  http://money.cnn.com/2004/06/23/technology/aol...   \n",
       "1  http://abcnews.go.com/Technology/story?id=2160...   \n",
       "2                 http://www.nbcnews.com/id/7561268/   \n",
       "3  http://www.nytimes.com/2005/06/07/business/07d...   \n",
       "4  http://www.msnbc.msn.com/id/8260050/ns/technol...   \n",
       "\n",
       "                                     2nd source link 3rd source source name  \n",
       "0  http://www.msnbc.msn.com/id/8985989/#.UFcN8RgUwaA        NaN         CNN  \n",
       "1                                                NaN        NaN         ABC  \n",
       "2                                                NaN        NaN         NaN  \n",
       "3                                                NaN        NaN    NY Times  \n",
       "4                                                NaN        NaN       MSNBC  "
      ]
     },
     "execution_count": 17,
     "metadata": {},
     "output_type": "execute_result"
    }
   ],
   "source": [
    "df2.head(5)"
   ]
  },
  {
   "cell_type": "markdown",
   "metadata": {},
   "source": [
    "<b> We only need column 0,3,4,5,6 so extract them </b>"
   ]
  },
  {
   "cell_type": "code",
   "execution_count": 18,
   "metadata": {
    "collapsed": true
   },
   "outputs": [],
   "source": [
    "df3 = df2.iloc[:,[0,3,4,5,6]]"
   ]
  },
  {
   "cell_type": "code",
   "execution_count": 19,
   "metadata": {
    "collapsed": false
   },
   "outputs": [
    {
     "data": {
      "text/html": [
       "<div>\n",
       "<table border=\"1\" class=\"dataframe\">\n",
       "  <thead>\n",
       "    <tr style=\"text-align: right;\">\n",
       "      <th></th>\n",
       "      <th>Entity</th>\n",
       "      <th>YEAR</th>\n",
       "      <th>records lost</th>\n",
       "      <th>ORGANISATION</th>\n",
       "      <th>METHOD OF LEAK</th>\n",
       "    </tr>\n",
       "  </thead>\n",
       "  <tbody>\n",
       "    <tr>\n",
       "      <th>0</th>\n",
       "      <td>AOL</td>\n",
       "      <td>0</td>\n",
       "      <td>92000000.0</td>\n",
       "      <td>web</td>\n",
       "      <td>inside job</td>\n",
       "    </tr>\n",
       "    <tr>\n",
       "      <th>1</th>\n",
       "      <td>Automatic Data Processing</td>\n",
       "      <td>1</td>\n",
       "      <td>125000.0</td>\n",
       "      <td>financial</td>\n",
       "      <td>poor security</td>\n",
       "    </tr>\n",
       "    <tr>\n",
       "      <th>2</th>\n",
       "      <td>Ameritrade Inc.</td>\n",
       "      <td>1</td>\n",
       "      <td>200000.0</td>\n",
       "      <td>financial</td>\n",
       "      <td>lost / stolen device</td>\n",
       "    </tr>\n",
       "    <tr>\n",
       "      <th>3</th>\n",
       "      <td>Citigroup</td>\n",
       "      <td>1</td>\n",
       "      <td>3900000.0</td>\n",
       "      <td>financial</td>\n",
       "      <td>lost / stolen device</td>\n",
       "    </tr>\n",
       "    <tr>\n",
       "      <th>4</th>\n",
       "      <td>Cardsystems Solutions Inc.</td>\n",
       "      <td>1</td>\n",
       "      <td>40000000.0</td>\n",
       "      <td>financial</td>\n",
       "      <td>hacked</td>\n",
       "    </tr>\n",
       "  </tbody>\n",
       "</table>\n",
       "</div>"
      ],
      "text/plain": [
       "                        Entity  YEAR  records lost ORGANISATION  \\\n",
       "0                          AOL     0    92000000.0          web   \n",
       "1    Automatic Data Processing     1      125000.0    financial   \n",
       "2              Ameritrade Inc.     1      200000.0    financial   \n",
       "3                    Citigroup     1     3900000.0    financial   \n",
       "4  Cardsystems Solutions Inc.      1    40000000.0    financial   \n",
       "\n",
       "         METHOD OF LEAK  \n",
       "0            inside job  \n",
       "1         poor security  \n",
       "2  lost / stolen device  \n",
       "3  lost / stolen device  \n",
       "4                hacked  "
      ]
     },
     "execution_count": 19,
     "metadata": {},
     "output_type": "execute_result"
    }
   ],
   "source": [
    "df3.head(5)"
   ]
  },
  {
   "cell_type": "markdown",
   "metadata": {},
   "source": [
    "<b> Convert the year number back to actual years for later data vizulization\n",
    "\"latest\" will be converted to \"2017\" as well"
   ]
  },
  {
   "cell_type": "code",
   "execution_count": 22,
   "metadata": {
    "collapsed": false
   },
   "outputs": [],
   "source": [
    "yearCode = df3['YEAR'].values.tolist()\n",
    "dictYear = {'0': '2004', '1':'2005', '2':'2006', '3':'2007', '4':'2008', '5':'2009', '6':'2010', '7':'2011', '8':'2012', '9':'2013', '10':'2014', '11':'2015', '12':'2016', '13':'2017', '14':'2017'}\n",
    "year = []\n",
    "for code in yearCode:\n",
    "    year.append(dictYear[str(code)])"
   ]
  },
  {
   "cell_type": "markdown",
   "metadata": {},
   "source": [
    "<b> Append this column to the dataframe </b>"
   ]
  },
  {
   "cell_type": "code",
   "execution_count": 26,
   "metadata": {
    "collapsed": false
   },
   "outputs": [],
   "source": [
    "df3.loc[:, 'Actual Year'] = year"
   ]
  },
  {
   "cell_type": "code",
   "execution_count": 28,
   "metadata": {
    "collapsed": false
   },
   "outputs": [
    {
     "data": {
      "text/html": [
       "<div>\n",
       "<table border=\"1\" class=\"dataframe\">\n",
       "  <thead>\n",
       "    <tr style=\"text-align: right;\">\n",
       "      <th></th>\n",
       "      <th>Entity</th>\n",
       "      <th>YEAR</th>\n",
       "      <th>records lost</th>\n",
       "      <th>ORGANISATION</th>\n",
       "      <th>METHOD OF LEAK</th>\n",
       "      <th>Actual Year</th>\n",
       "    </tr>\n",
       "  </thead>\n",
       "  <tbody>\n",
       "    <tr>\n",
       "      <th>0</th>\n",
       "      <td>AOL</td>\n",
       "      <td>0</td>\n",
       "      <td>92000000.0</td>\n",
       "      <td>web</td>\n",
       "      <td>inside job</td>\n",
       "      <td>2004</td>\n",
       "    </tr>\n",
       "    <tr>\n",
       "      <th>1</th>\n",
       "      <td>Automatic Data Processing</td>\n",
       "      <td>1</td>\n",
       "      <td>125000.0</td>\n",
       "      <td>financial</td>\n",
       "      <td>poor security</td>\n",
       "      <td>2005</td>\n",
       "    </tr>\n",
       "    <tr>\n",
       "      <th>2</th>\n",
       "      <td>Ameritrade Inc.</td>\n",
       "      <td>1</td>\n",
       "      <td>200000.0</td>\n",
       "      <td>financial</td>\n",
       "      <td>lost / stolen device</td>\n",
       "      <td>2005</td>\n",
       "    </tr>\n",
       "    <tr>\n",
       "      <th>3</th>\n",
       "      <td>Citigroup</td>\n",
       "      <td>1</td>\n",
       "      <td>3900000.0</td>\n",
       "      <td>financial</td>\n",
       "      <td>lost / stolen device</td>\n",
       "      <td>2005</td>\n",
       "    </tr>\n",
       "    <tr>\n",
       "      <th>4</th>\n",
       "      <td>Cardsystems Solutions Inc.</td>\n",
       "      <td>1</td>\n",
       "      <td>40000000.0</td>\n",
       "      <td>financial</td>\n",
       "      <td>hacked</td>\n",
       "      <td>2005</td>\n",
       "    </tr>\n",
       "  </tbody>\n",
       "</table>\n",
       "</div>"
      ],
      "text/plain": [
       "                        Entity  YEAR  records lost ORGANISATION  \\\n",
       "0                          AOL     0    92000000.0          web   \n",
       "1    Automatic Data Processing     1      125000.0    financial   \n",
       "2              Ameritrade Inc.     1      200000.0    financial   \n",
       "3                    Citigroup     1     3900000.0    financial   \n",
       "4  Cardsystems Solutions Inc.      1    40000000.0    financial   \n",
       "\n",
       "         METHOD OF LEAK Actual Year  \n",
       "0            inside job        2004  \n",
       "1         poor security        2005  \n",
       "2  lost / stolen device        2005  \n",
       "3  lost / stolen device        2005  \n",
       "4                hacked        2005  "
      ]
     },
     "execution_count": 28,
     "metadata": {},
     "output_type": "execute_result"
    }
   ],
   "source": [
    "df3.head(5)"
   ]
  },
  {
   "cell_type": "markdown",
   "metadata": {},
   "source": [
    "<b> Save the output to a csv file </b>"
   ]
  },
  {
   "cell_type": "code",
   "execution_count": 29,
   "metadata": {
    "collapsed": true
   },
   "outputs": [],
   "source": [
    "df3.to_csv('out.csv')"
   ]
  },
  {
   "cell_type": "code",
   "execution_count": null,
   "metadata": {
    "collapsed": true
   },
   "outputs": [],
   "source": []
  }
 ],
 "metadata": {
  "kernelspec": {
   "display_name": "Python 2",
   "language": "python",
   "name": "python2"
  },
  "language_info": {
   "codemirror_mode": {
    "name": "ipython",
    "version": 2
   },
   "file_extension": ".py",
   "mimetype": "text/x-python",
   "name": "python",
   "nbconvert_exporter": "python",
   "pygments_lexer": "ipython2",
   "version": "2.7.11"
  }
 },
 "nbformat": 4,
 "nbformat_minor": 0
}
