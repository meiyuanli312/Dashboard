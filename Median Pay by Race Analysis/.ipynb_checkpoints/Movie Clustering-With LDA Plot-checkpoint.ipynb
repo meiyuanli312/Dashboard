{
 "cells": [
  {
   "cell_type": "code",
   "execution_count": 894,
   "metadata": {
    "collapsed": false
   },
   "outputs": [],
   "source": [
    "import pandas as pd\n",
    "from urllib.request import urlopen \n",
    "from bs4 import BeautifulSoup\n",
    "import re\n",
    "import warnings\n",
    "warnings.filterwarnings('ignore')\n",
    "import numpy as np\n",
    "import nltk\n",
    "import os"
   ]
  },
  {
   "cell_type": "code",
   "execution_count": 893,
   "metadata": {
    "collapsed": false
   },
   "outputs": [],
   "source": [
    "html = urlopen(\"http://www.imdb.com/chart/top\") \n",
    "bsObj = BeautifulSoup(html.read(),'html.parser')\n",
    "movieEntries = bsObj .findAll('div', {'class':'wlb_ribbon'})\n",
    "movieNames = bsObj.findAll('a', {'href':re.compile(\"/title/tt[0-9]{7}/\")})\n",
    "years = bsObj.findAll('span', {'class':\"secondaryInfo\"})"
   ]
  },
  {
   "cell_type": "code",
   "execution_count": 3,
   "metadata": {
    "collapsed": false
   },
   "outputs": [],
   "source": [
    "movieIds=[]\n",
    "for entry in movieEntries:\n",
    "    movieIds.append(entry['data-tconst'])"
   ]
  },
  {
   "cell_type": "code",
   "execution_count": 4,
   "metadata": {
    "collapsed": true
   },
   "outputs": [],
   "source": [
    "completeNames = []\n",
    "for i in range(250):\n",
    "    completeName = movieNames[(2 * i) + 1].get_text() + years[i].get_text()\n",
    "    completeNames.append(completeName)"
   ]
  },
  {
   "cell_type": "code",
   "execution_count": 5,
   "metadata": {
    "collapsed": false
   },
   "outputs": [
    {
     "data": {
      "text/plain": [
       "['tt0111161', 'tt0068646', 'tt0071562', 'tt0468569', 'tt0050083']"
      ]
     },
     "execution_count": 5,
     "metadata": {},
     "output_type": "execute_result"
    }
   ],
   "source": [
    "# Inspect\n",
    "movieIds[:5]"
   ]
  },
  {
   "cell_type": "code",
   "execution_count": 6,
   "metadata": {
    "collapsed": true
   },
   "outputs": [],
   "source": [
    "def getPlot(movieId):\n",
    "    html = urlopen('http://www.imdb.com/title/' + movieId + '/plotsummary')\n",
    "    bsobj = BeautifulSoup(html.read(),'html.parser').find('li', {'id':re.compile(\"synopsis-py*\")})\n",
    "    if bsobj == None:\n",
    "        return movieId\n",
    "    else:\n",
    "        return bsobj.get_text()"
   ]
  },
  {
   "cell_type": "code",
   "execution_count": 7,
   "metadata": {
    "collapsed": false
   },
   "outputs": [],
   "source": [
    "moviePlots = []\n",
    "for movieId in movieIds:\n",
    "    plot = getPlot(movieId)\n",
    "    moviePlots.append(plot)"
   ]
  },
  {
   "cell_type": "code",
   "execution_count": 579,
   "metadata": {
    "collapsed": false
   },
   "outputs": [],
   "source": [
    "df = pd.DataFrame(movieIds, columns = ['MovieId'])"
   ]
  },
  {
   "cell_type": "code",
   "execution_count": 580,
   "metadata": {
    "collapsed": false
   },
   "outputs": [],
   "source": [
    "df['Ranking'] = range(1,251)\n",
    "df['MovieName'] = completeNames\n",
    "df['MoviePlot'] = moviePlots"
   ]
  },
  {
   "cell_type": "markdown",
   "metadata": {},
   "source": [
    "There are 11 movies that don't have plots (available on the IMDB site)"
   ]
  },
  {
   "cell_type": "code",
   "execution_count": 762,
   "metadata": {
    "collapsed": false
   },
   "outputs": [
    {
     "data": {
      "text/html": [
       "<div>\n",
       "<style>\n",
       "    .dataframe thead tr:only-child th {\n",
       "        text-align: right;\n",
       "    }\n",
       "\n",
       "    .dataframe thead th {\n",
       "        text-align: left;\n",
       "    }\n",
       "\n",
       "    .dataframe tbody tr th {\n",
       "        vertical-align: top;\n",
       "    }\n",
       "</style>\n",
       "<table border=\"1\" class=\"dataframe\">\n",
       "  <thead>\n",
       "    <tr style=\"text-align: right;\">\n",
       "      <th></th>\n",
       "      <th>MovieId</th>\n",
       "      <th>Ranking</th>\n",
       "      <th>MovieName</th>\n",
       "      <th>MoviePlot</th>\n",
       "    </tr>\n",
       "  </thead>\n",
       "  <tbody>\n",
       "    <tr>\n",
       "      <th>37</th>\n",
       "      <td>tt0027977</td>\n",
       "      <td>38</td>\n",
       "      <td>Modern Times(1936)</td>\n",
       "      <td>tt0027977</td>\n",
       "    </tr>\n",
       "    <tr>\n",
       "      <th>99</th>\n",
       "      <td>tt0012349</td>\n",
       "      <td>100</td>\n",
       "      <td>The Kid(1921)</td>\n",
       "      <td>tt0012349</td>\n",
       "    </tr>\n",
       "    <tr>\n",
       "      <th>114</th>\n",
       "      <td>tt0476735</td>\n",
       "      <td>115</td>\n",
       "      <td>Babam ve Oglum(2005)</td>\n",
       "      <td>tt0476735</td>\n",
       "    </tr>\n",
       "    <tr>\n",
       "      <th>127</th>\n",
       "      <td>tt0044741</td>\n",
       "      <td>128</td>\n",
       "      <td>Ikiru(1952)</td>\n",
       "      <td>tt0044741</td>\n",
       "    </tr>\n",
       "    <tr>\n",
       "      <th>164</th>\n",
       "      <td>tt0116231</td>\n",
       "      <td>165</td>\n",
       "      <td>The Bandit(1996)</td>\n",
       "      <td>tt0116231</td>\n",
       "    </tr>\n",
       "    <tr>\n",
       "      <th>170</th>\n",
       "      <td>tt0091251</td>\n",
       "      <td>171</td>\n",
       "      <td>Come and See(1985)</td>\n",
       "      <td>tt0091251</td>\n",
       "    </tr>\n",
       "    <tr>\n",
       "      <th>185</th>\n",
       "      <td>tt3011894</td>\n",
       "      <td>186</td>\n",
       "      <td>Relatos salvajes(2014)</td>\n",
       "      <td>tt3011894</td>\n",
       "    </tr>\n",
       "    <tr>\n",
       "      <th>198</th>\n",
       "      <td>tt0053198</td>\n",
       "      <td>199</td>\n",
       "      <td>The 400 Blows(1959)</td>\n",
       "      <td>tt0053198</td>\n",
       "    </tr>\n",
       "    <tr>\n",
       "      <th>210</th>\n",
       "      <td>tt0087544</td>\n",
       "      <td>211</td>\n",
       "      <td>Nausicaä of the Valley of the Wind(1984)</td>\n",
       "      <td>tt0087544</td>\n",
       "    </tr>\n",
       "    <tr>\n",
       "      <th>234</th>\n",
       "      <td>tt0113247</td>\n",
       "      <td>235</td>\n",
       "      <td>La Haine(1995)</td>\n",
       "      <td>tt0113247</td>\n",
       "    </tr>\n",
       "    <tr>\n",
       "      <th>235</th>\n",
       "      <td>tt0056801</td>\n",
       "      <td>236</td>\n",
       "      <td>8½(1963)</td>\n",
       "      <td>tt0056801</td>\n",
       "    </tr>\n",
       "  </tbody>\n",
       "</table>\n",
       "</div>"
      ],
      "text/plain": [
       "       MovieId  Ranking                                 MovieName  MoviePlot\n",
       "37   tt0027977       38                        Modern Times(1936)  tt0027977\n",
       "99   tt0012349      100                             The Kid(1921)  tt0012349\n",
       "114  tt0476735      115                      Babam ve Oglum(2005)  tt0476735\n",
       "127  tt0044741      128                               Ikiru(1952)  tt0044741\n",
       "164  tt0116231      165                          The Bandit(1996)  tt0116231\n",
       "170  tt0091251      171                        Come and See(1985)  tt0091251\n",
       "185  tt3011894      186                    Relatos salvajes(2014)  tt3011894\n",
       "198  tt0053198      199                       The 400 Blows(1959)  tt0053198\n",
       "210  tt0087544      211  Nausicaä of the Valley of the Wind(1984)  tt0087544\n",
       "234  tt0113247      235                            La Haine(1995)  tt0113247\n",
       "235  tt0056801      236                                  8½(1963)  tt0056801"
      ]
     },
     "execution_count": 762,
     "metadata": {},
     "output_type": "execute_result"
    }
   ],
   "source": [
    "df[df.MovieId == df.MoviePlot]"
   ]
  },
  {
   "cell_type": "markdown",
   "metadata": {},
   "source": [
    "So, we filter out above movies and create a new dataframe"
   ]
  },
  {
   "cell_type": "code",
   "execution_count": 763,
   "metadata": {
    "collapsed": false
   },
   "outputs": [],
   "source": [
    "df2 = df[df.MovieId != df.MoviePlot]"
   ]
  },
  {
   "cell_type": "code",
   "execution_count": 764,
   "metadata": {
    "collapsed": false
   },
   "outputs": [
    {
     "data": {
      "text/html": [
       "<div>\n",
       "<style>\n",
       "    .dataframe thead tr:only-child th {\n",
       "        text-align: right;\n",
       "    }\n",
       "\n",
       "    .dataframe thead th {\n",
       "        text-align: left;\n",
       "    }\n",
       "\n",
       "    .dataframe tbody tr th {\n",
       "        vertical-align: top;\n",
       "    }\n",
       "</style>\n",
       "<table border=\"1\" class=\"dataframe\">\n",
       "  <thead>\n",
       "    <tr style=\"text-align: right;\">\n",
       "      <th></th>\n",
       "      <th>MovieId</th>\n",
       "      <th>Ranking</th>\n",
       "      <th>MovieName</th>\n",
       "      <th>MoviePlot</th>\n",
       "    </tr>\n",
       "  </thead>\n",
       "  <tbody>\n",
       "    <tr>\n",
       "      <th>0</th>\n",
       "      <td>tt0111161</td>\n",
       "      <td>1</td>\n",
       "      <td>The Shawshank Redemption(1994)</td>\n",
       "      <td>In 1947, Andy Dufresne (Tim Robbins), a banker...</td>\n",
       "    </tr>\n",
       "    <tr>\n",
       "      <th>1</th>\n",
       "      <td>tt0068646</td>\n",
       "      <td>2</td>\n",
       "      <td>The Godfather(1972)</td>\n",
       "      <td>In late summer 1945, guests are gathered for t...</td>\n",
       "    </tr>\n",
       "    <tr>\n",
       "      <th>2</th>\n",
       "      <td>tt0071562</td>\n",
       "      <td>3</td>\n",
       "      <td>The Godfather: Part II(1974)</td>\n",
       "      <td>The Godfather Part II presents two parallel st...</td>\n",
       "    </tr>\n",
       "    <tr>\n",
       "      <th>3</th>\n",
       "      <td>tt0468569</td>\n",
       "      <td>4</td>\n",
       "      <td>The Dark Knight(2008)</td>\n",
       "      <td>The movie begins with a gang of men with clown...</td>\n",
       "    </tr>\n",
       "    <tr>\n",
       "      <th>4</th>\n",
       "      <td>tt0050083</td>\n",
       "      <td>5</td>\n",
       "      <td>12 Angry Men(1957)</td>\n",
       "      <td>In a New York City courthouse, an eighteen-yea...</td>\n",
       "    </tr>\n",
       "  </tbody>\n",
       "</table>\n",
       "</div>"
      ],
      "text/plain": [
       "     MovieId  Ranking                       MovieName  \\\n",
       "0  tt0111161        1  The Shawshank Redemption(1994)   \n",
       "1  tt0068646        2             The Godfather(1972)   \n",
       "2  tt0071562        3    The Godfather: Part II(1974)   \n",
       "3  tt0468569        4           The Dark Knight(2008)   \n",
       "4  tt0050083        5              12 Angry Men(1957)   \n",
       "\n",
       "                                           MoviePlot  \n",
       "0  In 1947, Andy Dufresne (Tim Robbins), a banker...  \n",
       "1  In late summer 1945, guests are gathered for t...  \n",
       "2  The Godfather Part II presents two parallel st...  \n",
       "3  The movie begins with a gang of men with clown...  \n",
       "4  In a New York City courthouse, an eighteen-yea...  "
      ]
     },
     "execution_count": 764,
     "metadata": {},
     "output_type": "execute_result"
    }
   ],
   "source": [
    "df2[:5]"
   ]
  },
  {
   "cell_type": "code",
   "execution_count": 765,
   "metadata": {
    "collapsed": true
   },
   "outputs": [
    {
     "data": {
      "text/plain": [
       "'In 1947, Andy Dufresne (Tim Robbins), a banker in Maine, is convicted of murdering his wife and her lover, a golf pro. Since the state of Maine has no death penalty, he is given two consecutive life sentences and sent to the notoriously harsh Shawshank Prison. Andy always claims his innocence, but his cold and measured demeanor led many to doubt his word.During the first night, the chief guard, Byron Hadley (Clancy Brown), savagely beats an overweight and newly arrived inmate because of his crying and hysterics. The inmate later dies in the infirmary because the prison doctor had left for the night. Meanwhile, Andy remained steadfast and composed. Ellis Boyd Redding (Morgan Freeman), known as Red, bet against others that Andy would be the one to break down first and loses a considerable amount of cash. Red has been in prison for several years having been given three consecutive life sentences for the murder of his wife and two others.About a month later, Andy approaches Red, who runs contraband inside the walls of Shawshank. He asks Red to find him a rock hammer, an instrument he claims is necessary for his hobby of rock collecting and sculpting. Though other prisoners consider Andy \"a really cold fish,\" Red sees something in Andy, and likes him from the start. Red believes Andy intends to use the hammer to engineer his escape in the future but when the tool arrives and he sees how small it is, Red puts aside the thought that Andy could ever use it to dig his way out of prison.During the first two years of his incarceration, Andy works in the prison laundry. He attracts attention from \"the Sisters,\" a group of prisoners who sexually assault other prisoners. Though he persistently resists and fights them, Andy is beaten and raped on a regular basis.Red pulls some strings and gets Andy and a few of their mutual friends a break by getting them all on a work detail tarring the roof of one of the prison\\'s buildings. During the job Andy overhears Hadley complaining about having to pay taxes for an upcoming inheritance. Drawing on his expertise as a banker, Andy lets Hadley know how he can shelter his money from the IRS, turning it into a one-time gift for his wife. He says he\\'ll assist in exchange for some cold beers for his fellow inmates while on the tarring job. Though he at first threatens to throw Andy off the roof, Hadley, the most brutal guard in the prison, agrees, providing the men with cold beer before the job is finished. Red remarks that Andy may have engineered the privilege to build favor with the prison guards as much as with his fellow inmates, but Red also thinks Andy did it simply to \"feel free.\"While watching a movie, Andy demands \"Rita Hayworth\" from Red. Soon after, Andy once more encounters the Sisters and is brutally beaten, putting him in the infirmary for a month. Boggs (Mark Rolston), the leader of the Sisters, spends a week in solitary for the beating. When he comes out, he finds Hadley and his men waiting in his cell. They beat him so badly he\\'s left paralyzed, transferred to a prison hospital upstate, and the Sisters never bother Andy again. When Andy gets out of the infirmary, he finds a bunch of rocks and a poster of Rita Hayworth in his cell: presents from Red and his buddies.Warden Samuel Norton (Bob Gunton) hears about how Andy helped Hadley and uses a surprise cell inspection to size Andy up. The warden meets with Andy and sends him to work with aging inmate Brooks Hatlen (James Whitmore) in the prison library, where he sets up a make-shift desk to provide services to other guards (and the warden himself) with income tax returns and other financial advice. Andy sees an opportunity to expand the prison library; he starts by asking the Maine state senate for funds. He writes letters every week. His financial support practice is so appreciated that even guards from other prisons, when they visit for inter-prison baseball matches, seek Andy\\'s financial advice. Andy prepares Norton\\'s tax returns the next season.Not long afterward, Brooks, the old librarian, threatens to kill another prisoner, Heywood, in order to avoid being paroled. Andy is able to talk him down and Brooks is paroled. He goes to a halfway house but finds it impossible to adjust to life outside the prison. He eventually commits suicide. When his friends suggest that he was crazy for doing so, Red tells them that Brooks had obviously become \"institutionalized,\" essentially conditioned to be a prisoner for the rest of his life and unable to adapt to the outside world. Red remarks: \"These walls are funny. First you hate \\'em, then you get used to \\'em. Enough time passes, you get so you depend on them.\"After six years of writing letters, Andy receives $200 from the state for the library, along with a collection of old books and phonograph records. Though the state Senate thinks this will be enough to get Andy to halt his letter-writing campaign, he is undaunted and redoubles his efforts.When the donations of old books and records arrive at the warden\\'s office, Andy finds a copy of Mozart\\'s The Marriage of Figaro among the records. He locks the guard assigned to the warden\\'s office in the bathroom and plays the record over the prison\\'s PA system. The entire prison seems captivated by the music &mdash; Red remarks that the voices of the women in the intro made everyone feel free, if only for a brief time. Outside the office, Norton appears, furious at the act of defiance, and orders Andy to turn off the record player. Andy reaches for the needle arm at first, then turns the volume on the phonograph up. The warden orders Hadley to break into the office and Andy is sent immediately to solitary confinement for two weeks. When he gets out, he tells his friends that the stretch was the \"easiest time\" he ever did in the hole because he spent it thinking about Mozart\\'s Figaro. When the other prisoners tell him how unlikely that is, he replies that hope can sustain them. Red is not convinced and leaves, bitter at the thought.With the enlarged library and more materials, Andy begins to teach those inmates who want to receive their high school diplomas. After Andy is able to secure a steady stream of funding from various sources, the library is further renovated and named for Brooks.Warden Norton profits on Andy\\'s knowledge of accounting and devises a scheme whereby he puts prison inmates to work in public projects which he wins by outbidding other contractors (prisoners are cheap labor). Occasionally, he lets others get some contracts if they bribe him. Andy launders money for the warden by setting up many accounts in different banks, along with several investments, using a fake identity: \"Randall Stephens.\" He shares the details only with his friend, Red, noting that he had to \"go to prison to learn how to be a criminal.\"In 1965, a young prisoner named Tommy (Gil Bellows) comes to Shawshank to serve time for armed robbery. Tommy is easy going, charismatic, and popular among the other inmates. Andy suggests that Tommy take up another line of work besides theft. The suggestion really gets to Tommy and he works on earning his high school equivalency diploma. Though Tommy is a good student, he is still frustrated when he takes the exam itself, crumpling it up and tossing it in the trash. Andy retrieves it and sends it in.One day Red tells Tommy about Andy\\'s case. Tommy is visibly upset at hearing Andy\\'s story and tells Andy and Red that he had a cellmate in another prison who boasted about killing a man who was a pro golfer at the country club he worked at, along with his lover. The woman\\'s husband, a banker, had gone to prison for those murders. With this new information, Andy, full of hope, meets with the warden, expecting North to help him get another trial with Tommy as a witness. The reaction from Norton is completely contrary to what Andy hoped for. When Andy says emphatically that he would never reveal the money laundering schemes he set up for Norton over the years, the warden becomes furious and orders him to solitary for a month. The warden later meets with Tommy alone and asks him if he\\'ll testify on Andy\\'s behalf. Tommy enthusiastically agrees and the warden has him shot dead by Hadley.When the warden visits Andy in solitary, he tells him that Tommy was killed while attempting escape. Andy tells Norton that the financial schemes will stop. The warden counters, saying the library will be destroyed and all its materials burned. Andy will also lose his private cell and be sent to the block with the most hardened criminals. The warden gives Andy another month in solitary.Afterwards, Andy returns to the usual daily life at Shawshank, a seemingly broken man. One day he talks to Red, about how although he didn\\'t kill his wife, his personality drove her away, which led to her infidelity and death. He says if he\\'s ever freed or escapes, he\\'d like to go to Zihuatanejo, a beach town on the Pacific coast of Mexico. He also tells Red how he got engaged. He and his future wife went up to a farm in Buxton, Maine, to a large oak tree at the end of a stone wall. The two made love under the tree, after which he proposed to her. He tells Red that, if he should ever be paroled, he should look for that field, and that oak tree. There, under a large black volcanic rock that would look out of place, Andy has buried a box that he wants Red to have. Andy refuses to reveal what might be in that box.Later, Andy asks for a length of rope, leading Red and his buddies to suspect he will commit suicide. At the end of the day, Norton asks Andy to shine his shoes for him and put his suit in for dry-cleaning before retiring for the night.The following morning, Andy is not accounted for as usual in his cell. At the same time, Norton becomes alarmed when he finds Andy\\'s shoes in his shoebox instead of his own. He rushes to Andy\\'s cell and demands an explanation. Hadley brings in Red, but Red insists he knows nothing of Andy\\'s plans. Becoming increasing hostile and paranoid, Norton starts throwing Andy\\'s sculpted rocks around the cell. When he throws one at Andy\\'s poster of Raquel Welch (in the spot previously occupied by Marilyn Monroe, and before that by Rita Hayworth), the rock punches through and into the wall. Norton tears the poster away from the wall and finds a tunnel just wide enough for a man to crawl through.During the previous night\\'s thunderstorm, Andy wore Norton\\'s shoes to his cell, catching a lucky break when no one notices. He packed some papers and Norton\\'s clothes into a plastic bag, tied it to himself with the rope he\\'d asked for, and escaped through his hole. The tunnel he\\'d excavated led him to a space between two walls of the prison where he found a sewer main line. Using a rock, he hit the sewer line in time with the lightning strikes and eventually burst it. Crawling through 500 yards in the pipe and through the raw sewage contained in it, Andy emerged in a brook outside the walls. A search team later found his uniform and his rock hammer, which had been worn nearly to nothing.That morning, Andy walks into the Maine National Bank in Portland, where he had put Warden Norton\\'s money. Using his assumed identity as Randall Stephens, and with all the necessary documentation, he closes the account and walks out with a cashier\\'s check. Before he leaves, he asks them to drop a package in the mail. He continues his visitations to nearly a dozen other local banks, ending up with some $370,000. The package contains Warden Norton\\'s account books, which are delivered straight to the Portland Daily Bugle newspaper.Not long after, the police storm Shawshank Prison. Hadley is arrested for murder; Red says he was taken away \"crying like a little girl.\" Warden Norton finally opens his safe, which he hadn\\'t touched since Andy escaped, and instead of his books, he finds the Bible he had given Andy. Norton opens it to the book of Exodus and finds that the pages have been cut out in the shape of Andy\\'s rock hammer. Norton walks back to his desk as the police pound on his door, takes out a small revolver and shoots himself under the chin. Red remarks that he wondered if the warden thought, right before pulling the trigger, how \"Andy could ever have gotten the best of him.\"Shortly after, Red receives a postcard from Fort Hancock, Texas, with nothing written on it. Red takes it as a sign that Andy made it into Mexico to freedom. Red and his buddies kill time talking about Andy\\'s exploits (with a lot of embellishments), but Red just misses his friend.At Red\\'s next parole hearing in 1967, he talks to the parole board about how \"rehabilitated\" was a made-up word, and how he regretted his actions of the past of murder over 40 years ago and no longer expects anything from them. His parole is granted this time. He goes to work at a grocery store, and stays at the same halfway house room Brooks had stayed in. He frequently walks by a pawn shop which has several guns and compasses in the window. At times he contemplates trying to get back into prison feeling that he has no life outside of prison where he has spent most of his adult life, but he remembers the promise he made to Andy.One day, with a compass he bought from the pawn shop, he follows Andy\\'s instructions, hitchhiking to Buxton and arriving at the stone wall Andy described. Just as Andy said, there was a large black stone. Under it was a small box containing a large sum of cash and instructions to find him. He said he needed somebody \"who could get things\" for a \"project\" of his.Red violates parole and leaves the halfway house, unconcerned since no one is likely to do an extensive manhunt for \"an old crook like [him].\" He takes a bus to Fort Hancock, where he crosses into Mexico. The two friends are finally reunited on the beach of Zihuatanejo on the Pacific coast.'"
      ]
     },
     "execution_count": 765,
     "metadata": {},
     "output_type": "execute_result"
    }
   ],
   "source": [
    "# Inspect\n",
    "df2.loc[0,'MoviePlot']"
   ]
  },
  {
   "cell_type": "markdown",
   "metadata": {},
   "source": [
    "# Step2: Tokenizing and Stemming"
   ]
  },
  {
   "cell_type": "markdown",
   "metadata": {},
   "source": [
    "<li> Load stopwords and stemmer function from NLTK library.  \n",
    "<li> Stop words are words like \"a\", \"the\", or \"in\" which don't convey significant meaning.  "
   ]
  },
  {
   "cell_type": "code",
   "execution_count": 585,
   "metadata": {
    "collapsed": false
   },
   "outputs": [],
   "source": [
    "# Use nltk's English stopwords.\n",
    "stopwords = nltk.corpus.stopwords.words('english')"
   ]
  },
  {
   "cell_type": "code",
   "execution_count": 586,
   "metadata": {
    "collapsed": false
   },
   "outputs": [
    {
     "data": {
      "text/plain": [
       "153"
      ]
     },
     "execution_count": 586,
     "metadata": {},
     "output_type": "execute_result"
    }
   ],
   "source": [
    "# We use this many stopwords\n",
    "len(stopwords)"
   ]
  },
  {
   "cell_type": "code",
   "execution_count": 587,
   "metadata": {
    "collapsed": false
   },
   "outputs": [
    {
     "data": {
      "text/plain": [
       "['i', 'me', 'my', 'myself', 'we', 'our', 'ours', 'ourselves', 'you', 'your']"
      ]
     },
     "execution_count": 587,
     "metadata": {},
     "output_type": "execute_result"
    }
   ],
   "source": [
    "# Inspect\n",
    "stopwords[:10]"
   ]
  },
  {
   "cell_type": "markdown",
   "metadata": {},
   "source": [
    "Here we define a function 'tokenize' to transform words in the movie plots   \n",
    "e.g. 'He loves python' will be tokenized to ['He', 'loves','python']"
   ]
  },
  {
   "cell_type": "code",
   "execution_count": 588,
   "metadata": {
    "collapsed": true
   },
   "outputs": [],
   "source": [
    "# Use this function to tokenize each plot \n",
    "def tokenize(plot):\n",
    "    # Break one movie plot into words, numbers and punctuations\n",
    "    tokens=[]\n",
    "    for word in nltk.word_tokenize(plot): \n",
    "        if word not in stopwords:\n",
    "            tokens.append(word);  \n",
    "    \n",
    "    # filter out any tokens not containing letters (numbers and punctuations)\n",
    "    filteredTokens = []\n",
    "    for token in tokens:\n",
    "        if re.search('[a-zA-Z]', token):\n",
    "            filteredTokens.append(token)\n",
    "    return filteredTokens"
   ]
  },
  {
   "cell_type": "markdown",
   "metadata": {},
   "source": [
    "<li> Stemming is the process of breaking a word down into its root.\n",
    "<li> ['He', 'loves','python'] will be transformed to ['he', 'love','python']"
   ]
  },
  {
   "cell_type": "markdown",
   "metadata": {},
   "source": [
    "Here we define a function to tokenize and stem words in the movie plots"
   ]
  },
  {
   "cell_type": "code",
   "execution_count": 589,
   "metadata": {
    "collapsed": false
   },
   "outputs": [],
   "source": [
    "# Use this function to stem the previous tokenized words\n",
    "from nltk.stem.snowball import SnowballStemmer\n",
    "stemmer = SnowballStemmer(\"english\")\n",
    "\n",
    "def tokenize_and_stem(plot):\n",
    "    filteredTokens = tokenize(plot)\n",
    "    ## Stem the filtered tokens\n",
    "    stemedTokens = []\n",
    "    for filteredTD in filteredTokens:\n",
    "        stemedTokens.append(stemmer.stem(filteredTD))\n",
    "    return stemedTokens"
   ]
  },
  {
   "cell_type": "markdown",
   "metadata": {},
   "source": [
    "Use our defined functions to transform our movie plots into 2 giant lists of words"
   ]
  },
  {
   "cell_type": "code",
   "execution_count": 592,
   "metadata": {
    "collapsed": false
   },
   "outputs": [],
   "source": [
    "all_words_tokenized = []\n",
    "all_words_stemmed = []\n",
    "for plot in df2.MoviePlot:\n",
    "    tokenized_Results = tokenize(plot)\n",
    "    all_words_tokenized.extend(tokenized_Results)\n",
    "    \n",
    "    tokenized_stemmed_Results = tokenize_and_stem(plot)\n",
    "    all_words_stemmed.extend(tokenized_stemmed_Results )"
   ]
  },
  {
   "cell_type": "code",
   "execution_count": 593,
   "metadata": {
    "collapsed": false
   },
   "outputs": [
    {
     "data": {
      "text/plain": [
       "['In', 'Andy', 'Dufresne', 'Tim', 'Robbins']"
      ]
     },
     "execution_count": 593,
     "metadata": {},
     "output_type": "execute_result"
    }
   ],
   "source": [
    "all_words_tokenized[:5]"
   ]
  },
  {
   "cell_type": "code",
   "execution_count": 594,
   "metadata": {
    "collapsed": false
   },
   "outputs": [
    {
     "data": {
      "text/plain": [
       "['in', 'andi', 'dufresn', 'tim', 'robbin']"
      ]
     },
     "execution_count": 594,
     "metadata": {},
     "output_type": "execute_result"
    }
   ],
   "source": [
    "all_words_stemmed[:5]"
   ]
  },
  {
   "cell_type": "markdown",
   "metadata": {},
   "source": [
    "Zip these two as a dict for Kmeans and Topic Modeling results analysis use"
   ]
  },
  {
   "cell_type": "code",
   "execution_count": 595,
   "metadata": {
    "collapsed": false
   },
   "outputs": [],
   "source": [
    "stemmed_unstemmed_dict = dict(zip(all_words_stemmed,all_words_tokenized))"
   ]
  },
  {
   "cell_type": "code",
   "execution_count": 767,
   "metadata": {
    "collapsed": true
   },
   "outputs": [
    {
     "data": {
      "text/plain": [
       "{'in': 'In',\n",
       " 'andi': 'Andy',\n",
       " 'dufresn': 'Dufresne',\n",
       " 'tim': 'Tim',\n",
       " 'robbin': 'Robbins',\n",
       " 'banker': 'banker',\n",
       " 'main': 'main',\n",
       " 'convict': 'convict',\n",
       " 'murder': 'murder',\n",
       " 'wife': 'wife',\n",
       " 'lover': 'lover',\n",
       " 'golf': 'golf',\n",
       " 'pro': 'pro',\n",
       " 'sinc': 'since',\n",
       " 'state': 'state',\n",
       " 'death': 'death',\n",
       " 'penalti': 'penalty',\n",
       " 'given': 'given',\n",
       " 'two': 'two',\n",
       " 'consecut': 'consecutive',\n",
       " 'life': 'life',\n",
       " 'sentenc': 'sentences',\n",
       " 'sent': 'sent',\n",
       " 'notori': 'notorious',\n",
       " 'harsh': 'harshly',\n",
       " 'shawshank': 'Shawshank',\n",
       " 'prison': 'prisoner',\n",
       " 'alway': 'always',\n",
       " 'claim': 'claiming',\n",
       " 'innoc': 'innocently',\n",
       " 'cold': 'Cold',\n",
       " 'measur': 'measures',\n",
       " 'demeanor': 'demeanor',\n",
       " 'led': 'led',\n",
       " 'mani': 'many',\n",
       " 'doubt': 'doubts',\n",
       " 'word.dur': 'word.During',\n",
       " 'first': 'First',\n",
       " 'night': 'night',\n",
       " 'chief': 'Chief',\n",
       " 'guard': 'guard',\n",
       " 'byron': 'Byron',\n",
       " 'hadley': 'Hadley',\n",
       " 'clanci': 'Clancy',\n",
       " 'brown': 'Brown',\n",
       " 'savag': 'Savage',\n",
       " 'beat': 'beats',\n",
       " 'overweight': 'overweight',\n",
       " 'newli': 'newly',\n",
       " 'arriv': 'arrives',\n",
       " 'inmat': 'inmate',\n",
       " 'cri': 'cries',\n",
       " 'hyster': 'hysterically',\n",
       " 'the': 'The',\n",
       " 'later': 'Later',\n",
       " 'die': 'dies',\n",
       " 'infirmari': 'infirmary',\n",
       " 'doctor': 'doctor',\n",
       " 'left': 'left',\n",
       " 'meanwhil': 'Meanwhile',\n",
       " 'remain': 'remaining',\n",
       " 'steadfast': 'steadfast',\n",
       " 'compos': 'composes',\n",
       " 'elli': 'Ellis',\n",
       " 'boyd': 'Boyd',\n",
       " 'red': 'red',\n",
       " 'morgan': 'Morgan',\n",
       " 'freeman': 'Freeman',\n",
       " 'known': 'known',\n",
       " 'bet': 'bets',\n",
       " 'other': 'others',\n",
       " 'would': 'would',\n",
       " 'one': 'one',\n",
       " 'break': 'breaking',\n",
       " 'lose': 'loses',\n",
       " 'consider': 'considerable',\n",
       " 'amount': 'amount',\n",
       " 'cash': 'cash',\n",
       " 'sever': 'severance',\n",
       " 'year': 'years',\n",
       " 'three': 'three',\n",
       " 'others.about': 'others.About',\n",
       " 'month': 'month',\n",
       " 'approach': 'approaches',\n",
       " 'run': 'running',\n",
       " 'contraband': 'contraband',\n",
       " 'insid': 'inside',\n",
       " 'wall': 'wall',\n",
       " 'he': 'He',\n",
       " 'ask': 'asks',\n",
       " 'find': 'finds',\n",
       " 'rock': 'Rock',\n",
       " 'hammer': 'hammer',\n",
       " 'instrument': 'instrument',\n",
       " 'necessari': 'necessary',\n",
       " 'hobbi': 'hobbies',\n",
       " 'collect': 'collect',\n",
       " 'sculpt': 'sculpt',\n",
       " 'though': 'Though',\n",
       " 'consid': 'considered',\n",
       " 'realli': 'really',\n",
       " 'fish': 'fish',\n",
       " 'see': 'see',\n",
       " 'someth': 'something',\n",
       " 'like': 'like',\n",
       " 'start': 'starts',\n",
       " 'believ': 'Believing',\n",
       " 'intend': 'intended',\n",
       " 'use': 'used',\n",
       " 'engin': 'engine',\n",
       " 'escap': 'escaped',\n",
       " 'futur': 'futures',\n",
       " 'tool': 'tool',\n",
       " 'small': 'small',\n",
       " 'put': 'putting',\n",
       " 'asid': 'aside',\n",
       " 'thought': 'thoughts',\n",
       " 'could': 'could',\n",
       " 'ever': 'ever',\n",
       " 'dig': 'dig',\n",
       " 'way': 'way',\n",
       " 'prison.dur': 'prison.During',\n",
       " 'incarcer': 'incarcerated',\n",
       " 'work': 'work',\n",
       " 'laundri': 'laundry',\n",
       " 'attract': 'attracted',\n",
       " 'attent': 'attention',\n",
       " 'sister': 'sister',\n",
       " 'group': 'group',\n",
       " 'sexual': 'sexual',\n",
       " 'assault': 'assault',\n",
       " 'persist': 'persistence',\n",
       " 'resist': 'resistance',\n",
       " 'fight': 'fight',\n",
       " 'beaten': 'beaten',\n",
       " 'rape': 'raped',\n",
       " 'regular': 'regular',\n",
       " 'basis.r': 'basis.Red',\n",
       " 'pull': 'pull',\n",
       " 'string': 'stringed',\n",
       " 'get': 'get',\n",
       " 'mutual': 'mutual',\n",
       " 'friend': 'friend',\n",
       " 'detail': 'details',\n",
       " 'tar': 'tarred',\n",
       " 'roof': 'roof',\n",
       " \"'s\": \"'s\",\n",
       " 'build': 'builds',\n",
       " 'dure': 'During',\n",
       " 'job': 'job',\n",
       " 'overhear': 'overhearing',\n",
       " 'complain': 'complains',\n",
       " 'pay': 'pay',\n",
       " 'tax': 'tax',\n",
       " 'upcom': 'upcoming',\n",
       " 'inherit': 'inheritance',\n",
       " 'draw': 'drawing',\n",
       " 'expertis': 'expertise',\n",
       " 'let': 'let',\n",
       " 'know': 'knows',\n",
       " 'shelter': 'shelter',\n",
       " 'money': 'money',\n",
       " 'ir': 'IRS',\n",
       " 'turn': 'turns',\n",
       " 'one-tim': 'one-time',\n",
       " 'gift': 'gift',\n",
       " 'say': 'saying',\n",
       " 'll': \"'ll\",\n",
       " 'assist': 'assistance',\n",
       " 'exchang': 'exchange',\n",
       " 'beer': 'beer',\n",
       " 'fellow': 'fellow',\n",
       " 'threaten': 'threatens',\n",
       " 'throw': 'throwing',\n",
       " 'brutal': 'brutal',\n",
       " 'agre': 'agrees',\n",
       " 'provid': 'providing',\n",
       " 'men': 'men',\n",
       " 'finish': 'finishes',\n",
       " 'remark': 'remark',\n",
       " 'may': 'may',\n",
       " 'privileg': 'privileged',\n",
       " 'favor': 'favors',\n",
       " 'much': 'much',\n",
       " 'also': 'also',\n",
       " 'think': 'think',\n",
       " 'simpli': 'simply',\n",
       " 'feel': 'feels',\n",
       " 'free': 'frees',\n",
       " 'while': 'While',\n",
       " 'watch': 'watching',\n",
       " 'movi': 'movie',\n",
       " 'demand': 'demands',\n",
       " 'rita': 'Rita',\n",
       " 'hayworth': 'Hayworth',\n",
       " 'soon': 'soon',\n",
       " 'encount': 'encounters',\n",
       " 'bogg': 'Boggs',\n",
       " 'mark': 'mark',\n",
       " 'rolston': 'Rolston',\n",
       " 'leader': 'leaders',\n",
       " 'spend': 'spend',\n",
       " 'week': 'week',\n",
       " 'solitari': 'solitary',\n",
       " 'when': 'When',\n",
       " 'come': 'come',\n",
       " 'wait': 'wait',\n",
       " 'cell': 'cell',\n",
       " 'they': 'They',\n",
       " 'bad': 'badly',\n",
       " 'paralyz': 'paralyzed',\n",
       " 'transfer': 'transferring',\n",
       " 'hospit': 'Hospital',\n",
       " 'upstat': 'upstate',\n",
       " 'never': 'never',\n",
       " 'bother': 'bothered',\n",
       " 'bunch': 'bunch',\n",
       " 'poster': 'poster',\n",
       " 'present': 'present',\n",
       " 'buddies.warden': 'buddies.Warden',\n",
       " 'samuel': 'Samuel',\n",
       " 'norton': 'Norton',\n",
       " 'bob': 'Bob',\n",
       " 'gunton': 'Gunton',\n",
       " 'hear': 'hear',\n",
       " 'help': 'help',\n",
       " 'surpris': 'surprises',\n",
       " 'inspect': 'inspection',\n",
       " 'size': 'size',\n",
       " 'warden': 'Warden',\n",
       " 'meet': 'meeting',\n",
       " 'send': 'send',\n",
       " 'age': 'age',\n",
       " 'brook': 'Brooks',\n",
       " 'hatlen': 'Hatlen',\n",
       " 'jame': 'James',\n",
       " 'whitmor': 'Whitmore',\n",
       " 'librari': 'library',\n",
       " 'set': 'sets',\n",
       " 'make-shift': 'make-shift',\n",
       " 'desk': 'desk',\n",
       " 'servic': 'services',\n",
       " 'incom': 'income',\n",
       " 'return': 'return',\n",
       " 'financi': 'financial',\n",
       " 'advic': 'advice',\n",
       " 'opportun': 'opportunity',\n",
       " 'expand': 'expanding',\n",
       " 'senat': 'senator',\n",
       " 'fund': 'fund',\n",
       " 'write': 'writes',\n",
       " 'letter': 'letter',\n",
       " 'everi': 'every',\n",
       " 'his': 'His',\n",
       " 'support': 'support',\n",
       " 'practic': 'practice',\n",
       " 'appreci': 'appreciation',\n",
       " 'even': 'even',\n",
       " 'visit': 'visit',\n",
       " 'inter-prison': 'inter-prison',\n",
       " 'basebal': 'baseball',\n",
       " 'match': 'match',\n",
       " 'seek': 'seeks',\n",
       " 'prepar': 'prepare',\n",
       " 'next': 'next',\n",
       " 'season.not': 'season.Not',\n",
       " 'long': 'long',\n",
       " 'afterward': 'afterwards',\n",
       " 'old': 'old',\n",
       " 'librarian': 'librarian',\n",
       " 'kill': 'kill',\n",
       " 'anoth': 'another',\n",
       " 'heywood': 'Heywood',\n",
       " 'order': 'order',\n",
       " 'avoid': 'avoid',\n",
       " 'parol': 'parole',\n",
       " 'abl': 'able',\n",
       " 'talk': 'talk',\n",
       " 'goe': 'goes',\n",
       " 'halfway': 'halfway',\n",
       " 'hous': 'house',\n",
       " 'imposs': 'impossibly',\n",
       " 'adjust': 'adjust',\n",
       " 'outsid': 'outside',\n",
       " 'eventu': 'eventually',\n",
       " 'commit': 'commits',\n",
       " 'suicid': 'suicide',\n",
       " 'suggest': 'suggests',\n",
       " 'crazi': 'crazy',\n",
       " 'tell': 'tells',\n",
       " 'obvious': 'obviously',\n",
       " 'becom': 'becomes',\n",
       " 'institution': 'institutionalized',\n",
       " 'essenti': 'essential',\n",
       " 'condit': 'condition',\n",
       " 'rest': 'rest',\n",
       " 'unabl': 'Unable',\n",
       " 'adapt': 'adaptation',\n",
       " 'world': 'world',\n",
       " 'these': 'These',\n",
       " 'funni': 'funny',\n",
       " 'hate': 'hates',\n",
       " 'em': 'Em',\n",
       " 'enough': 'enough',\n",
       " 'time': 'time',\n",
       " 'pass': 'pass',\n",
       " 'depend': 'depends',\n",
       " 'after': 'After',\n",
       " 'six': 'six',\n",
       " 'receiv': 'receives',\n",
       " 'along': 'along',\n",
       " 'book': 'book',\n",
       " 'phonograph': 'phonograph',\n",
       " 'record': 'recording',\n",
       " 'halt': 'halting',\n",
       " 'letter-writ': 'letter-writing',\n",
       " 'campaign': 'campaign',\n",
       " 'undaunt': 'Undaunted',\n",
       " 'redoubl': 'redoubling',\n",
       " 'efforts.when': 'efforts.When',\n",
       " 'donat': 'donation',\n",
       " 'offic': 'officers',\n",
       " 'copi': 'copying',\n",
       " 'mozart': 'Mozart',\n",
       " 'marriag': 'marriage',\n",
       " 'figaro': 'Figaro',\n",
       " 'among': 'among',\n",
       " 'lock': 'lock',\n",
       " 'assign': 'assigned',\n",
       " 'bathroom': 'bathroom',\n",
       " 'play': 'play',\n",
       " 'pa': 'PA',\n",
       " 'system': 'system',\n",
       " 'entir': 'entire',\n",
       " 'seem': 'seems',\n",
       " 'captiv': 'captive',\n",
       " 'music': 'music',\n",
       " 'mdash': 'mdash',\n",
       " 'voic': 'voices',\n",
       " 'women': 'women',\n",
       " 'intro': 'intro',\n",
       " 'made': 'made',\n",
       " 'everyon': 'everyone',\n",
       " 'brief': 'brief',\n",
       " 'appear': 'appears',\n",
       " 'furious': 'furious',\n",
       " 'act': 'acts',\n",
       " 'defianc': 'defiance',\n",
       " 'player': 'player',\n",
       " 'reach': 'reaches',\n",
       " 'needl': 'needles',\n",
       " 'arm': 'armed',\n",
       " 'volum': 'volume',\n",
       " 'immedi': 'immediately',\n",
       " 'confin': 'confined',\n",
       " 'stretch': 'stretching',\n",
       " 'easiest': 'easiest',\n",
       " 'hole': 'hole',\n",
       " 'spent': 'spent',\n",
       " 'unlik': 'unlike',\n",
       " 'repli': 'replies',\n",
       " 'hope': 'hope',\n",
       " 'sustain': 'sustain',\n",
       " 'convinc': 'convinces',\n",
       " 'leav': 'leaving',\n",
       " 'bitter': 'bitter',\n",
       " 'thought.with': 'thought.With',\n",
       " 'enlarg': 'enlarged',\n",
       " 'materi': 'material',\n",
       " 'begin': 'begins',\n",
       " 'teach': 'teaching',\n",
       " 'want': 'wants',\n",
       " 'high': 'high',\n",
       " 'school': 'school',\n",
       " 'diploma': 'diploma',\n",
       " 'secur': 'security',\n",
       " 'steadi': 'steady',\n",
       " 'stream': 'stream',\n",
       " 'various': 'various',\n",
       " 'sourc': 'source',\n",
       " 'renov': 'renovated',\n",
       " 'name': 'name',\n",
       " 'brooks.warden': 'Brooks.Warden',\n",
       " 'profit': 'profitable',\n",
       " 'knowledg': 'knowledge',\n",
       " 'account': 'account',\n",
       " 'devis': 'devises',\n",
       " 'scheme': 'scheme',\n",
       " 'wherebi': 'whereby',\n",
       " 'public': 'public',\n",
       " 'project': 'project',\n",
       " 'win': 'wins',\n",
       " 'outbid': 'outbidding',\n",
       " 'contractor': 'contractor',\n",
       " 'cheap': 'cheap',\n",
       " 'labor': 'labor',\n",
       " 'occasion': 'occasionally',\n",
       " 'contract': 'contract',\n",
       " 'bribe': 'bribed',\n",
       " 'launder': 'laundering',\n",
       " 'differ': 'different',\n",
       " 'bank': 'bank',\n",
       " 'invest': 'invested',\n",
       " 'fake': 'fake',\n",
       " 'ident': 'identity',\n",
       " 'randal': 'Randall',\n",
       " 'stephen': 'Stephen',\n",
       " 'share': 'shared',\n",
       " 'note': 'note',\n",
       " 'go': 'go',\n",
       " 'learn': 'learned',\n",
       " 'crimin': 'criminal',\n",
       " 'young': 'young',\n",
       " 'tommi': 'Tommy',\n",
       " 'gil': 'Gil',\n",
       " 'bellow': 'bellows',\n",
       " 'serv': 'serves',\n",
       " 'robberi': 'robbery',\n",
       " 'easi': 'easy',\n",
       " 'charismat': 'charismatic',\n",
       " 'popular': 'popular',\n",
       " 'take': 'take',\n",
       " 'line': 'line',\n",
       " 'besid': 'beside',\n",
       " 'theft': 'theft',\n",
       " 'earn': 'earned',\n",
       " 'equival': 'equivalent',\n",
       " 'good': 'good',\n",
       " 'student': 'students',\n",
       " 'still': 'still',\n",
       " 'frustrat': 'frustrated',\n",
       " 'exam': 'exam',\n",
       " 'crumpl': 'crumpled',\n",
       " 'toss': 'tosses',\n",
       " 'trash': 'trash',\n",
       " 'retriev': 'retrieves',\n",
       " 'in.on': 'in.One',\n",
       " 'day': 'day',\n",
       " 'case': 'cases',\n",
       " 'visibl': 'visibly',\n",
       " 'upset': 'upset',\n",
       " 'stori': 'story',\n",
       " 'cellmat': 'cellmate',\n",
       " 'boast': 'boast',\n",
       " 'man': 'man',\n",
       " 'golfer': 'golfer',\n",
       " 'countri': 'country',\n",
       " 'club': 'club',\n",
       " 'woman': 'woman',\n",
       " 'husband': 'husband',\n",
       " 'gone': 'gone',\n",
       " 'with': 'With',\n",
       " 'new': 'new',\n",
       " 'inform': 'informing',\n",
       " 'full': 'full',\n",
       " 'expect': 'expected',\n",
       " 'north': 'North',\n",
       " 'trial': 'trial',\n",
       " 'wit': 'witnesses',\n",
       " 'reaction': 'reaction',\n",
       " 'complet': 'complete',\n",
       " 'contrari': 'contrary',\n",
       " 'emphat': 'emphatically',\n",
       " 'reveal': 'reveals',\n",
       " 'alon': 'alone',\n",
       " 'testifi': 'testifies',\n",
       " 'behalf': 'behalf',\n",
       " 'enthusiast': 'enthusiastic',\n",
       " 'shot': 'shot',\n",
       " 'dead': 'dead',\n",
       " 'hadley.when': 'Hadley.When',\n",
       " 'attempt': 'attempted',\n",
       " 'stop': 'stopping',\n",
       " 'counter': 'counters',\n",
       " 'destroy': 'destroy',\n",
       " 'burn': 'burns',\n",
       " 'privat': 'private',\n",
       " 'block': 'block',\n",
       " 'harden': 'Harden',\n",
       " 'give': 'give',\n",
       " 'solitary.afterward': 'solitary.Afterwards',\n",
       " 'usual': 'usual',\n",
       " 'daili': 'daily',\n",
       " 'broken': 'broken',\n",
       " 'although': 'Although',\n",
       " \"n't\": \"n't\",\n",
       " 'person': 'personal',\n",
       " 'drove': 'drove',\n",
       " 'away': 'away',\n",
       " 'infidel': 'infidelity',\n",
       " 'freed': 'freed',\n",
       " \"'d\": \"'d\",\n",
       " 'zihuatanejo': 'Zihuatanejo',\n",
       " 'beach': 'beach',\n",
       " 'town': 'town',\n",
       " 'pacif': 'Pacific',\n",
       " 'coast': 'coast',\n",
       " 'mexico': 'Mexico',\n",
       " 'got': 'got',\n",
       " 'engag': 'engaged',\n",
       " 'went': 'went',\n",
       " 'farm': 'farm',\n",
       " 'buxton': 'Buxton',\n",
       " 'larg': 'large',\n",
       " 'oak': 'Oaks',\n",
       " 'tree': 'tree',\n",
       " 'end': 'ends',\n",
       " 'stone': 'Stone',\n",
       " 'love': 'love',\n",
       " 'propos': 'proposal',\n",
       " 'look': 'looking',\n",
       " 'field': 'fields',\n",
       " 'there': 'There',\n",
       " 'black': 'Black',\n",
       " 'volcan': 'volcanic',\n",
       " 'place': 'place',\n",
       " 'buri': 'buried',\n",
       " 'box': 'box',\n",
       " 'refus': 'refuses',\n",
       " 'might': 'might',\n",
       " 'box.lat': 'box.Later',\n",
       " 'length': 'length',\n",
       " 'rope': 'rope',\n",
       " 'lead': 'lead',\n",
       " 'buddi': 'Buddy',\n",
       " 'suspect': 'suspects',\n",
       " 'at': 'At',\n",
       " 'shine': 'shine',\n",
       " 'shoe': 'shoe',\n",
       " 'suit': 'suit',\n",
       " 'dry-clean': 'dry-cleaning',\n",
       " 'retir': 'retire',\n",
       " 'night.th': 'night.The',\n",
       " 'follow': 'Following',\n",
       " 'morn': 'morning',\n",
       " 'alarm': 'alarm',\n",
       " 'shoebox': 'shoebox',\n",
       " 'instead': 'instead',\n",
       " 'rush': 'rush',\n",
       " 'explan': 'explanation',\n",
       " 'bring': 'bring',\n",
       " 'insist': 'insisting',\n",
       " 'noth': 'nothing',\n",
       " 'plan': 'plan',\n",
       " 'increas': 'increases',\n",
       " 'hostil': 'hostility',\n",
       " 'paranoid': 'paranoid',\n",
       " 'around': 'around',\n",
       " 'raquel': 'Raquel',\n",
       " 'welch': 'Welch',\n",
       " 'spot': 'spotted',\n",
       " 'previous': 'previously',\n",
       " 'occupi': 'occupy',\n",
       " 'marilyn': 'Marilyn',\n",
       " 'monro': 'Monroe',\n",
       " 'punch': 'punches',\n",
       " 'tear': 'tears',\n",
       " 'tunnel': 'tunnel',\n",
       " 'wide': 'wide',\n",
       " 'crawl': 'crawls',\n",
       " 'through.dur': 'through.During',\n",
       " 'thunderstorm': 'thunderstorm',\n",
       " 'wore': 'wore',\n",
       " 'catch': 'catches',\n",
       " 'lucki': 'Lucky',\n",
       " 'notic': 'notices',\n",
       " 'pack': 'packing',\n",
       " 'paper': 'papers',\n",
       " 'cloth': 'clothes',\n",
       " 'plastic': 'plastic',\n",
       " 'bag': 'bag',\n",
       " 'tie': 'tied',\n",
       " 'excav': 'excavation',\n",
       " 'space': 'space',\n",
       " 'found': 'found',\n",
       " 'sewer': 'sewer',\n",
       " 'hit': 'hit',\n",
       " 'lightn': 'lightning',\n",
       " 'strike': 'strike',\n",
       " 'burst': 'bursts',\n",
       " 'yard': 'yard',\n",
       " 'pipe': 'pipe',\n",
       " 'raw': 'raw',\n",
       " 'sewag': 'sewage',\n",
       " 'contain': 'containing',\n",
       " 'emerg': 'emerges',\n",
       " 'a': 'A',\n",
       " 'search': 'search',\n",
       " 'team': 'team',\n",
       " 'uniform': 'uniform',\n",
       " 'worn': 'worn',\n",
       " 'near': 'near',\n",
       " 'nothing.that': 'nothing.That',\n",
       " 'walk': 'walks',\n",
       " 'nation': 'nation',\n",
       " 'portland': 'Portland',\n",
       " 'assum': 'assume',\n",
       " 'document': 'document',\n",
       " 'close': 'closing',\n",
       " 'cashier': 'cashier',\n",
       " 'check': 'checks',\n",
       " 'befor': 'Before',\n",
       " 'drop': 'drops',\n",
       " 'packag': 'package',\n",
       " 'mail': 'mail',\n",
       " 'continu': 'continue',\n",
       " 'dozen': 'dozen',\n",
       " 'local': 'local',\n",
       " 'deliv': 'deliver',\n",
       " 'straight': 'straight',\n",
       " 'bugl': 'Bugle',\n",
       " 'newspaper.not': 'newspaper.Not',\n",
       " 'polic': 'police',\n",
       " 'storm': 'storm',\n",
       " 'arrest': 'arrested',\n",
       " 'taken': 'taken',\n",
       " 'littl': 'little',\n",
       " 'girl': 'girls',\n",
       " 'final': 'finally',\n",
       " 'open': 'open',\n",
       " 'safe': 'safe',\n",
       " 'touch': 'touched',\n",
       " 'bibl': 'Bible',\n",
       " 'exodus': 'Exodus',\n",
       " 'page': 'pages',\n",
       " 'cut': 'cuts',\n",
       " 'shape': 'shape',\n",
       " 'back': 'back',\n",
       " 'pound': 'pounds',\n",
       " 'door': 'door',\n",
       " 'revolv': 'revolver',\n",
       " 'shoot': 'shoot',\n",
       " 'chin': 'chin',\n",
       " 'wonder': 'wondered',\n",
       " 'right': 'right',\n",
       " 'trigger': 'triggered',\n",
       " 'gotten': 'gotten',\n",
       " 'best': 'best',\n",
       " 'short': 'shortly',\n",
       " 'postcard': 'postcard',\n",
       " 'fort': 'fort',\n",
       " 'hancock': 'Hancock',\n",
       " 'texa': 'Texas',\n",
       " 'written': 'Written',\n",
       " 'sign': 'sign',\n",
       " 'freedom': 'freedom',\n",
       " 'exploit': 'exploits',\n",
       " 'lot': 'lot',\n",
       " 'embellish': 'embellishments',\n",
       " 'miss': 'missing',\n",
       " 'friend.at': 'friend.At',\n",
       " 'board': 'board',\n",
       " 'rehabilit': 'rehabilitation',\n",
       " 'made-up': 'made-up',\n",
       " 'word': 'words',\n",
       " 'regret': 'regretted',\n",
       " 'action': 'actions',\n",
       " 'past': 'past',\n",
       " 'ago': 'ago',\n",
       " 'longer': 'longer',\n",
       " 'anyth': 'anything',\n",
       " 'grant': 'granted',\n",
       " 'groceri': 'groceries',\n",
       " 'store': 'store',\n",
       " 'stay': 'stay',\n",
       " 'room': 'room',\n",
       " 'frequent': 'frequented',\n",
       " 'pawn': 'pawn',\n",
       " 'shop': 'shop',\n",
       " 'gun': 'gun',\n",
       " 'compass': 'compassion',\n",
       " 'window': 'windows',\n",
       " 'contempl': 'contemplates',\n",
       " 'tri': 'tries',\n",
       " 'adult': 'adults',\n",
       " 'rememb': 'remember',\n",
       " 'promis': 'promise',\n",
       " 'andy.on': 'Andy.One',\n",
       " 'bought': 'bought',\n",
       " 'instruct': 'instructs',\n",
       " 'hitchhik': 'hitchhike',\n",
       " 'describ': 'describes',\n",
       " 'just': 'Just',\n",
       " 'said': 'said',\n",
       " 'under': 'Under',\n",
       " 'sum': 'sum',\n",
       " 'need': 'needed',\n",
       " 'somebodi': 'somebody',\n",
       " 'thing': 'thing',\n",
       " 'his.r': 'his.Red',\n",
       " 'violat': 'violation',\n",
       " 'unconcern': 'unconcerned',\n",
       " 'extens': 'extensive',\n",
       " 'manhunt': 'manhunt',\n",
       " 'crook': 'crook',\n",
       " 'bus': 'bus',\n",
       " 'cross': 'crosses',\n",
       " 'reunit': 'reunited',\n",
       " 'late': 'late',\n",
       " 'summer': 'summer',\n",
       " 'guest': 'guests',\n",
       " 'gather': 'gathering',\n",
       " 'wed': 'wedding',\n",
       " 'recept': 'reception',\n",
       " 'don': 'dons',\n",
       " 'vito': 'Vito',\n",
       " 'corleon': 'Corleone',\n",
       " 'daughter': 'daughter',\n",
       " 'conni': 'Connie',\n",
       " 'talia': 'Talia',\n",
       " 'shire': 'Shire',\n",
       " 'carlo': 'Carlo',\n",
       " 'rizzi': 'Rizzi',\n",
       " 'gianni': 'Gianni',\n",
       " 'russo': 'Russo',\n",
       " 'marlon': 'Marlon',\n",
       " 'brando': 'Brando',\n",
       " 'head': 'head',\n",
       " 'mafia': 'mafia',\n",
       " 'famili': 'family',\n",
       " 'associ': 'associate',\n",
       " 'godfath': 'Godfather',\n",
       " 'tom': 'Tom',\n",
       " 'hagen': 'Hagen',\n",
       " 'robert': 'Robert',\n",
       " 'duval': 'Duval',\n",
       " 'lawyer': 'lawyer',\n",
       " 'request': 'requests',\n",
       " 'accord': 'according',\n",
       " 'italian': 'Italian',\n",
       " 'tradit': 'traditional',\n",
       " 'sicilian': 'Sicilian',\n",
       " 'amerigo': 'Amerigo',\n",
       " 'bonasera': 'Bonasera',\n",
       " 'success': 'successfully',\n",
       " 'mortician': 'mortician',\n",
       " 'acquaint': 'acquaintance',\n",
       " 'whose': 'whose',\n",
       " 'advanc': 'advance',\n",
       " 'minim': 'minimal',\n",
       " 'punish': 'punish',\n",
       " 'disappoint': 'disappointed',\n",
       " 'contact': 'contact',\n",
       " 'due': 'due',\n",
       " 'nefari': 'nefarious',\n",
       " 'busi': 'business',\n",
       " 'deal': 'deal',\n",
       " 'godmoth': 'godmother',\n",
       " 'shame': 'shame',\n",
       " 'relationship': 'relationship',\n",
       " 'extract': 'extract',\n",
       " 'loyalti': 'loyalty',\n",
       " 'undertak': 'undertakers',\n",
       " 'respons': 'responsible',\n",
       " 'non-leth': 'non-lethal',\n",
       " 'manner': 'manner',\n",
       " 'necessary.meanwhil': 'necessary.Meanwhile',\n",
       " 'youngest': 'youngest',\n",
       " 'son': 'son',\n",
       " 'michael': 'Michael',\n",
       " 'al': 'Al',\n",
       " 'pacino': 'Pacino',\n",
       " 'decor': 'decorated',\n",
       " 'us': 'us',\n",
       " 'marin': 'Marine',\n",
       " 'hero': 'heroes',\n",
       " 'war': 'war',\n",
       " 'ii': 'II',\n",
       " 'girlfriend': 'girlfriend',\n",
       " 'kay': 'Kay',\n",
       " 'adam': 'Adams',\n",
       " 'dian': 'Diane',\n",
       " 'keaton': 'Keaton',\n",
       " 'anecdot': 'anecdotes',\n",
       " 'father': 'father',\n",
       " 'reassur': 'reassure',\n",
       " 'join': 'join',\n",
       " 'scene': 'scene',\n",
       " 'critic': 'criticism',\n",
       " 'exposit': 'exposition',\n",
       " 'remaind': 'remainder',\n",
       " 'film': 'film',\n",
       " 'introduc': 'introduces',\n",
       " 'charact': 'characters',\n",
       " 'fredo': 'Fredo',\n",
       " 'john': 'John',\n",
       " 'cazal': 'Cazale',\n",
       " 'older': 'older',\n",
       " 'brother': 'brother',\n",
       " 'bit': 'bit',\n",
       " 'dim-wit': 'dim-witted',\n",
       " 'quit': 'quit',\n",
       " 'drunk': 'drunk',\n",
       " 'parti': 'party',\n",
       " 'santino': 'Santino',\n",
       " 'nicknam': 'nickname',\n",
       " 'sonni': 'Sonny',\n",
       " 'caan': 'Caan',\n",
       " 'eldest': 'eldest',\n",
       " 'child': 'child',\n",
       " 'upon': 'upon',\n",
       " 'marri': 'marry',\n",
       " 'hot-temp': 'hot-tempered',\n",
       " 'philander': 'philanderer',\n",
       " 'sneak': 'sneak',\n",
       " 'bedroom': 'bedroom',\n",
       " 'sex': 'sex',\n",
       " 'bridesmaid': 'bridesmaid',\n",
       " 'luci': 'Lucy',\n",
       " 'mancini': 'Mancini',\n",
       " 'jeanni': 'Jeannie',\n",
       " 'linero': 'Linero',\n",
       " 'relat': 'relative',\n",
       " 'blood': 'blood',\n",
       " 'homeless': 'homeless',\n",
       " 'befriend': 'befriend',\n",
       " 'itali': 'Italy',\n",
       " 'neighborhood': 'neighborhood',\n",
       " 'manhattan': 'Manhattan',\n",
       " 'took': 'took',\n",
       " 'saw': 'saw',\n",
       " 'upbring': 'upbringing',\n",
       " 'educ': 'educating',\n",
       " 'now': 'Now',\n",
       " 'talent': 'talent',\n",
       " 'attorney': 'attorney',\n",
       " 'groom': 'groom',\n",
       " 'import': 'important',\n",
       " 'posit': 'position',\n",
       " 'consiglier': 'consigliere',\n",
       " 'counselor': 'counselor',\n",
       " 'despit': 'despite',\n",
       " 'non-sicilian': 'non-Sicilian',\n",
       " 'heritage.also': 'heritage.Also',\n",
       " 'celebr': 'celebrate',\n",
       " 'famous': 'famous',\n",
       " 'singer': 'Singer',\n",
       " 'johnni': 'Johnny',\n",
       " 'fontan': 'Fontane',\n",
       " 'martino': 'Martino',\n",
       " 'godson': 'godson',\n",
       " 'hollywood': 'Hollywood',\n",
       " 'petit': 'petition',\n",
       " 'land': 'land',\n",
       " 'role': 'role',\n",
       " 'revit': 'revitalize',\n",
       " 'flag': 'flag',\n",
       " 'career': 'career',\n",
       " 'jack': 'Jack',\n",
       " 'woltz': 'Woltz',\n",
       " 'marley': 'Marley',\n",
       " 'studio': 'studio',\n",
       " 'deni': 'denies',\n",
       " 'part': 'part',\n",
       " 'make': 'make',\n",
       " 'bigger': 'bigger',\n",
       " 'star': 'star',\n",
       " 'explain': 'explaining',\n",
       " 'i': 'I',\n",
       " \"'m\": \"'m\",\n",
       " 'gon': 'gon',\n",
       " 'na': 'na',\n",
       " 'offer': 'offer',\n",
       " 'ca': 'ca',\n",
       " 'congratulatori': 'congratulatory',\n",
       " 'salut': 'salute',\n",
       " 'luca': 'Lucas',\n",
       " 'brasi': 'Brasi',\n",
       " 'terrifi': 'terrifying',\n",
       " 'enforc': 'enforcer',\n",
       " 'underworld': 'underworld',\n",
       " 'fill': 'filled',\n",
       " 'baker': 'baker',\n",
       " 'cake': 'cake',\n",
       " 'wish': 'wishing',\n",
       " 'nephew': 'nephew',\n",
       " 'enzo': 'Enzo',\n",
       " 'american': 'American',\n",
       " 'citizen.aft': 'citizen.After',\n",
       " 'dispatch': 'dispatches',\n",
       " 'los': 'Los',\n",
       " 'angel': 'Angeles',\n",
       " 'angrili': 'angrily',\n",
       " 'cast': 'cast',\n",
       " 'hold': 'holding',\n",
       " 'grudg': 'grudgingly',\n",
       " 'seduc': 'seduce',\n",
       " 'ruin': 'ruins',\n",
       " 'starlet': 'starlets',\n",
       " 'stardom': 'stardom',\n",
       " 'persuad': 'persuade',\n",
       " 'howev': 'however',\n",
       " 'wake': 'wakes',\n",
       " 'earli': 'early',\n",
       " 'wet': 'wet',\n",
       " 'bed': 'bed',\n",
       " 'sheet': 'sheets',\n",
       " 'pool': 'pool',\n",
       " 'scream': 'screams',\n",
       " 'horror': 'horror',\n",
       " 'discov': 'discovers',\n",
       " 'prize': 'prize',\n",
       " 'stud': 'stud',\n",
       " 'hors': 'horse',\n",
       " 'khartoum': 'Khartoum',\n",
       " 'delet': 'delete',\n",
       " 'impli': 'implied',\n",
       " 'lenni': 'Lennie',\n",
       " 'montana': 'Montana',\n",
       " 'top': 'top',\n",
       " 'button': 'button',\n",
       " 'hitman': 'hitman',\n",
       " 'virgil': 'Virgil',\n",
       " 'turk': 'Turks',\n",
       " 'sollozzo': 'Sollozzo',\n",
       " 'lettieri': 'Lettieri',\n",
       " 'rival': 'rival',\n",
       " 'tattaglia': 'Tattaglia',\n",
       " 'financ': 'finances',\n",
       " 'well': 'well',\n",
       " 'polit': 'politely',\n",
       " 'legal': 'legal',\n",
       " 'protect': 'protective',\n",
       " 'distribut': 'distributed',\n",
       " 'heroin': 'heroine',\n",
       " 'huge': 'huge',\n",
       " 'influenc': 'influence',\n",
       " 'jeopard': 'jeopardize',\n",
       " 'move': 'Moved',\n",
       " 'narcot': 'Narcotics',\n",
       " 'trade': 'trades',\n",
       " 'judg': 'judge',\n",
       " 'politician': 'politician',\n",
       " 'alli': 'allies',\n",
       " 'cours': 'course',\n",
       " 'decad': 'decades',\n",
       " 'renounc': 'renounce',\n",
       " 'friendship': 'friendship',\n",
       " 'enter': 'enters',\n",
       " 'drug': 'drug',\n",
       " 'earlier': 'earlier',\n",
       " 'urg': 'urges',\n",
       " 'rank': 'rank',\n",
       " 'question': 'questions',\n",
       " 'assur': 'assures',\n",
       " 'guarante': 'guarantees',\n",
       " 'angri': 'angry',\n",
       " 'dissens': 'dissension',\n",
       " 'non-famili': 'non-family',\n",
       " 'member': 'members',\n",
       " 'presenc': 'presence',\n",
       " 'rebuk': 'rebukes',\n",
       " 'infiltr': 'infiltrates',\n",
       " 'organ': 'organized',\n",
       " 'report': 'reporters',\n",
       " 'bent': 'bent',\n",
       " 'allow': 'allows',\n",
       " 'bruno': 'Bruno',\n",
       " 'light': 'lights',\n",
       " 'cigarett': 'cigarettes',\n",
       " 'stab': 'stabs',\n",
       " 'hand': 'hands',\n",
       " 'subsequ': 'subsequently',\n",
       " 'garrot': 'garrote',\n",
       " 'assassin.soon': 'assassin.Soon',\n",
       " 'assassin': 'assassin',\n",
       " 'whether': 'Whether',\n",
       " 'surviv': 'survived',\n",
       " 'drive': 'drive',\n",
       " 'duti': 'duty',\n",
       " 'pauli': 'Paulie',\n",
       " 'gatto': 'Gatto',\n",
       " 'bodyguard': 'bodyguard',\n",
       " 'call': 'calls',\n",
       " 'sick': 'sick',\n",
       " 'prove': 'proves',\n",
       " 'ineffectu': 'ineffectual',\n",
       " 'fumbl': 'fumbles',\n",
       " 'absenc': 'absence',\n",
       " 'clemenza': 'Clemenza',\n",
       " 'richard': 'Richard',\n",
       " 's.': 'S.',\n",
       " 'castellano': 'Castellano',\n",
       " 'house.sollozzo': 'house.Sollozzo',\n",
       " 'abduct': 'abducted',\n",
       " 'releas': 'releases',\n",
       " 'accept': 'accepting',\n",
       " 'offer.enrag': 'offer.Enraged',\n",
       " 'issu': 'issues',\n",
       " 'ultimatum': 'ultimatum',\n",
       " 'face': 'face',\n",
       " 'lengthi': 'lengthy',\n",
       " 'bloodi': 'bloodied',\n",
       " 'cost': 'cost',\n",
       " 'side': 'side',\n",
       " 'gang': 'gang',\n",
       " 'messag': 'message',\n",
       " 'form': 'form',\n",
       " 'fresh': 'fresh',\n",
       " 'wrap': 'wrappings',\n",
       " ...}"
      ]
     },
     "execution_count": 767,
     "metadata": {},
     "output_type": "execute_result"
    }
   ],
   "source": [
    "stemmed_unstemmed_dict"
   ]
  },
  {
   "cell_type": "markdown",
   "metadata": {},
   "source": [
    "# Step 3: TF-IDF (Term Frequency - Inverse Document Frequency)"
   ]
  },
  {
   "cell_type": "markdown",
   "metadata": {},
   "source": [
    "What is TF-IDF?"
   ]
  },
  {
   "cell_type": "markdown",
   "metadata": {},
   "source": [
    "**Why do we compute TF-IDF?**   \n",
    "To run KMeans, we need to fit a matrix to the KMeans model.  \n",
    "sklearn will provide us that matrix through these following steps"
   ]
  },
  {
   "cell_type": "markdown",
   "metadata": {},
   "source": [
    "**Parameters for the model**\n",
    "<li> max_df: maximum frequency within the plots a given word can have to be used in the tfi-idf matrix. If the word is in greater than 80% of the plots it probably cares little meanining (in the context of movie plots)\n",
    "<li> min_df: the word must be in at least 20% of the plots. If a lower min_df is allowed, clustering results will be based on names--for example \"Michael\" or \"Tom\" are names found in several of the movies and the plots use these names frequently, but these names carry no real meaning.\n",
    "<li> ngram_range: we only run analysis on unigram\n",
    "<li> we use our own function 'tokenize_and_stem' to process words"
   ]
  },
  {
   "cell_type": "code",
   "execution_count": 769,
   "metadata": {
    "collapsed": false
   },
   "outputs": [],
   "source": [
    "from sklearn.feature_extraction.text import TfidfVectorizer\n",
    "\n",
    "# Build the model and set parameters\n",
    "tfidfModel = TfidfVectorizer(max_df=0.8, max_features=200000,\n",
    "                                 min_df=0.2, stop_words='english',\n",
    "                                 use_idf=True, tokenizer=tokenize_and_stem, ngram_range=(1,1))"
   ]
  },
  {
   "cell_type": "code",
   "execution_count": 770,
   "metadata": {
    "collapsed": true
   },
   "outputs": [],
   "source": [
    "# Fit the movie plots to model\n",
    "tfidfMatrix = tfidfModel.fit_transform(df2.MoviePlot) "
   ]
  },
  {
   "cell_type": "code",
   "execution_count": 771,
   "metadata": {
    "collapsed": false
   },
   "outputs": [
    {
     "data": {
      "text/plain": [
       "(239, 512)"
      ]
     },
     "execution_count": 771,
     "metadata": {},
     "output_type": "execute_result"
    }
   ],
   "source": [
    "# This matrix has 239 movies(Docs) and 512 words(terms)\n",
    "tfidfMatrix.shape"
   ]
  },
  {
   "cell_type": "markdown",
   "metadata": {},
   "source": [
    "Save the words/terms/features identified by TF-IDF."
   ]
  },
  {
   "cell_type": "code",
   "execution_count": 810,
   "metadata": {
    "collapsed": true
   },
   "outputs": [],
   "source": [
    "all_words_from_tfidf = tfidfModel.get_feature_names()"
   ]
  },
  {
   "cell_type": "code",
   "execution_count": 812,
   "metadata": {
    "collapsed": false
   },
   "outputs": [
    {
     "data": {
      "text/plain": [
       "[\"'d\", 'abandon', 'abl', 'accept', 'accompani']"
      ]
     },
     "execution_count": 812,
     "metadata": {},
     "output_type": "execute_result"
    }
   ],
   "source": [
    "# Inspect\n",
    "all_words_from_tfidf[:5]"
   ]
  },
  {
   "cell_type": "markdown",
   "metadata": {},
   "source": [
    "# Step 4: KMeans clustering"
   ]
  },
  {
   "cell_type": "code",
   "execution_count": 895,
   "metadata": {
    "collapsed": true
   },
   "outputs": [],
   "source": [
    "from sklearn.cluster import KMeans\n",
    "\n",
    "# Set how many clusters we want\n",
    "num_of_clusters = 5\n",
    "\n",
    "# Build the model\n",
    "clusters = KMeans(n_clusters=num_of_clusters,random_state=0)\n",
    "\n",
    "# Fit the model with tfidfMatrix\n",
    "clusters.fit(tfidfMatrix)\n",
    "\n",
    "# Get movie clusters\n",
    "clusterLabels = clusters.labels_.tolist()"
   ]
  },
  {
   "cell_type": "code",
   "execution_count": 925,
   "metadata": {
    "collapsed": true
   },
   "outputs": [],
   "source": [
    "X = clusters.transform(tfidfMatrix)"
   ]
  },
  {
   "cell_type": "code",
   "execution_count": 928,
   "metadata": {
    "collapsed": false
   },
   "outputs": [
    {
     "data": {
      "text/plain": [
       "array([[ 0.94752405,  0.91085093,  0.84955735,  0.93700804,  0.89493035],\n",
       "       [ 0.89053876,  0.88692186,  0.83125493,  0.92959528,  0.80634694],\n",
       "       [ 0.9055625 ,  0.8835203 ,  0.83353026,  0.90852184,  0.79414006],\n",
       "       ..., \n",
       "       [ 0.9461164 ,  0.99817557,  0.93694825,  0.84181131,  0.9379244 ],\n",
       "       [ 1.08945398,  1.12225276,  1.0591747 ,  1.04955434,  0.97540315],\n",
       "       [ 0.98567626,  0.93005225,  0.86024742,  0.97805929,  0.92418502]])"
      ]
     },
     "execution_count": 928,
     "metadata": {},
     "output_type": "execute_result"
    }
   ],
   "source": [
    "X"
   ]
  },
  {
   "cell_type": "markdown",
   "metadata": {},
   "source": [
    "## 4.1. Analyze KMeans Result"
   ]
  },
  {
   "cell_type": "code",
   "execution_count": 896,
   "metadata": {
    "collapsed": false
   },
   "outputs": [],
   "source": [
    "# Add cluster info to the original dataframe\n",
    "df2['cluster'] = clusterLabels"
   ]
  },
  {
   "cell_type": "code",
   "execution_count": 897,
   "metadata": {
    "collapsed": false
   },
   "outputs": [],
   "source": [
    "df2.index = df2.cluster"
   ]
  },
  {
   "cell_type": "code",
   "execution_count": 898,
   "metadata": {
    "collapsed": false
   },
   "outputs": [
    {
     "data": {
      "text/html": [
       "<div>\n",
       "<style>\n",
       "    .dataframe thead tr:only-child th {\n",
       "        text-align: right;\n",
       "    }\n",
       "\n",
       "    .dataframe thead th {\n",
       "        text-align: left;\n",
       "    }\n",
       "\n",
       "    .dataframe tbody tr th {\n",
       "        vertical-align: top;\n",
       "    }\n",
       "</style>\n",
       "<table border=\"1\" class=\"dataframe\">\n",
       "  <thead>\n",
       "    <tr style=\"text-align: right;\">\n",
       "      <th></th>\n",
       "      <th>MovieId</th>\n",
       "      <th>Ranking</th>\n",
       "      <th>MovieName</th>\n",
       "      <th>MoviePlot</th>\n",
       "      <th>cluster</th>\n",
       "    </tr>\n",
       "    <tr>\n",
       "      <th>cluster</th>\n",
       "      <th></th>\n",
       "      <th></th>\n",
       "      <th></th>\n",
       "      <th></th>\n",
       "      <th></th>\n",
       "    </tr>\n",
       "  </thead>\n",
       "  <tbody>\n",
       "    <tr>\n",
       "      <th>2</th>\n",
       "      <td>tt0111161</td>\n",
       "      <td>1</td>\n",
       "      <td>The Shawshank Redemption(1994)</td>\n",
       "      <td>In 1947, Andy Dufresne (Tim Robbins), a banker...</td>\n",
       "      <td>2</td>\n",
       "    </tr>\n",
       "    <tr>\n",
       "      <th>4</th>\n",
       "      <td>tt0068646</td>\n",
       "      <td>2</td>\n",
       "      <td>The Godfather(1972)</td>\n",
       "      <td>In late summer 1945, guests are gathered for t...</td>\n",
       "      <td>4</td>\n",
       "    </tr>\n",
       "    <tr>\n",
       "      <th>4</th>\n",
       "      <td>tt0071562</td>\n",
       "      <td>3</td>\n",
       "      <td>The Godfather: Part II(1974)</td>\n",
       "      <td>The Godfather Part II presents two parallel st...</td>\n",
       "      <td>4</td>\n",
       "    </tr>\n",
       "    <tr>\n",
       "      <th>2</th>\n",
       "      <td>tt0468569</td>\n",
       "      <td>4</td>\n",
       "      <td>The Dark Knight(2008)</td>\n",
       "      <td>The movie begins with a gang of men with clown...</td>\n",
       "      <td>2</td>\n",
       "    </tr>\n",
       "    <tr>\n",
       "      <th>2</th>\n",
       "      <td>tt0050083</td>\n",
       "      <td>5</td>\n",
       "      <td>12 Angry Men(1957)</td>\n",
       "      <td>In a New York City courthouse, an eighteen-yea...</td>\n",
       "      <td>2</td>\n",
       "    </tr>\n",
       "  </tbody>\n",
       "</table>\n",
       "</div>"
      ],
      "text/plain": [
       "           MovieId  Ranking                       MovieName  \\\n",
       "cluster                                                       \n",
       "2        tt0111161        1  The Shawshank Redemption(1994)   \n",
       "4        tt0068646        2             The Godfather(1972)   \n",
       "4        tt0071562        3    The Godfather: Part II(1974)   \n",
       "2        tt0468569        4           The Dark Knight(2008)   \n",
       "2        tt0050083        5              12 Angry Men(1957)   \n",
       "\n",
       "                                                 MoviePlot  cluster  \n",
       "cluster                                                              \n",
       "2        In 1947, Andy Dufresne (Tim Robbins), a banker...        2  \n",
       "4        In late summer 1945, guests are gathered for t...        4  \n",
       "4        The Godfather Part II presents two parallel st...        4  \n",
       "2        The movie begins with a gang of men with clown...        2  \n",
       "2        In a New York City courthouse, an eighteen-yea...        2  "
      ]
     },
     "execution_count": 898,
     "metadata": {},
     "output_type": "execute_result"
    }
   ],
   "source": [
    "df2[:5]"
   ]
  },
  {
   "cell_type": "markdown",
   "metadata": {},
   "source": [
    "Number of movies included in each cluster:"
   ]
  },
  {
   "cell_type": "code",
   "execution_count": 899,
   "metadata": {
    "collapsed": false
   },
   "outputs": [
    {
     "data": {
      "text/html": [
       "<div>\n",
       "<style>\n",
       "    .dataframe thead tr:only-child th {\n",
       "        text-align: right;\n",
       "    }\n",
       "\n",
       "    .dataframe thead th {\n",
       "        text-align: left;\n",
       "    }\n",
       "\n",
       "    .dataframe tbody tr th {\n",
       "        vertical-align: top;\n",
       "    }\n",
       "</style>\n",
       "<table border=\"1\" class=\"dataframe\">\n",
       "  <thead>\n",
       "    <tr style=\"text-align: right;\">\n",
       "      <th></th>\n",
       "      <th>cluster</th>\n",
       "    </tr>\n",
       "  </thead>\n",
       "  <tbody>\n",
       "    <tr>\n",
       "      <th>4</th>\n",
       "      <td>75</td>\n",
       "    </tr>\n",
       "    <tr>\n",
       "      <th>2</th>\n",
       "      <td>62</td>\n",
       "    </tr>\n",
       "    <tr>\n",
       "      <th>1</th>\n",
       "      <td>52</td>\n",
       "    </tr>\n",
       "    <tr>\n",
       "      <th>3</th>\n",
       "      <td>28</td>\n",
       "    </tr>\n",
       "    <tr>\n",
       "      <th>0</th>\n",
       "      <td>22</td>\n",
       "    </tr>\n",
       "  </tbody>\n",
       "</table>\n",
       "</div>"
      ],
      "text/plain": [
       "   cluster\n",
       "4       75\n",
       "2       62\n",
       "1       52\n",
       "3       28\n",
       "0       22"
      ]
     },
     "execution_count": 899,
     "metadata": {},
     "output_type": "execute_result"
    }
   ],
   "source": [
    "df2['cluster'].value_counts().to_frame()"
   ]
  },
  {
   "cell_type": "markdown",
   "metadata": {},
   "source": [
    "<li> clusters.cluster_centers returns a 10 * 512 2d array  \n",
    "<li> 10 means 10 clusters and 512 means 512 terms/words/features"
   ]
  },
  {
   "cell_type": "code",
   "execution_count": 900,
   "metadata": {
    "collapsed": false
   },
   "outputs": [
    {
     "data": {
      "text/plain": [
       "(5, 512)"
      ]
     },
     "execution_count": 900,
     "metadata": {},
     "output_type": "execute_result"
    }
   ],
   "source": [
    "clusters.cluster_centers_.shape"
   ]
  },
  {
   "cell_type": "markdown",
   "metadata": {},
   "source": [
    "<li> Every number in this 2d array denotes the importance of each word/term in that cluster  \n",
    "<li> Higher number means more important and closer to the centroid"
   ]
  },
  {
   "cell_type": "code",
   "execution_count": 901,
   "metadata": {
    "collapsed": false
   },
   "outputs": [
    {
     "data": {
      "text/plain": [
       "array([[ 0.00975066,  0.02463617,  0.02177475, ...,  0.01781377,\n",
       "         0.01520733,  0.02945118],\n",
       "       [ 0.0237643 ,  0.00842369,  0.01581961, ...,  0.03515742,\n",
       "         0.01980091,  0.0242825 ],\n",
       "       [ 0.01293022,  0.01205879,  0.01773394, ...,  0.02700319,\n",
       "         0.00534991,  0.0250798 ],\n",
       "       [ 0.00971694,  0.01128158,  0.02864392, ...,  0.04054877,\n",
       "         0.00355139,  0.01664356],\n",
       "       [ 0.00996609,  0.01522741,  0.01379845, ...,  0.03947041,\n",
       "         0.00653066,  0.04250192]])"
      ]
     },
     "execution_count": 901,
     "metadata": {},
     "output_type": "execute_result"
    }
   ],
   "source": [
    "clusters.cluster_centers_"
   ]
  },
  {
   "cell_type": "markdown",
   "metadata": {},
   "source": [
    "How would we interprete this 2d array and help us understand the clustering result?"
   ]
  },
  {
   "cell_type": "markdown",
   "metadata": {},
   "source": [
    " Take cluster 0 as example, the most important word will be the one has this value"
   ]
  },
  {
   "cell_type": "code",
   "execution_count": 902,
   "metadata": {
    "collapsed": false
   },
   "outputs": [
    {
     "data": {
      "text/plain": [
       "0.21941958035507872"
      ]
     },
     "execution_count": 902,
     "metadata": {},
     "output_type": "execute_result"
    }
   ],
   "source": [
    "clusters.cluster_centers_[0].max()"
   ]
  },
  {
   "cell_type": "markdown",
   "metadata": {},
   "source": [
    "But to get the actual word, we need to know the index of the word"
   ]
  },
  {
   "cell_type": "code",
   "execution_count": 903,
   "metadata": {
    "collapsed": false
   },
   "outputs": [
    {
     "data": {
      "text/plain": [
       "420"
      ]
     },
     "execution_count": 903,
     "metadata": {},
     "output_type": "execute_result"
    }
   ],
   "source": [
    "clusters.cluster_centers_[0].argmax()"
   ]
  },
  {
   "cell_type": "markdown",
   "metadata": {},
   "source": [
    "Use this index to get the acutal word"
   ]
  },
  {
   "cell_type": "code",
   "execution_count": 904,
   "metadata": {
    "collapsed": false
   },
   "outputs": [
    {
     "data": {
      "text/plain": [
       "'memori'"
      ]
     },
     "execution_count": 904,
     "metadata": {},
     "output_type": "execute_result"
    }
   ],
   "source": [
    "all_words_from_tfidf[284]"
   ]
  },
  {
   "cell_type": "markdown",
   "metadata": {},
   "source": [
    "Use stemmed_unstemmed_dict to get the unstemmed version of the word"
   ]
  },
  {
   "cell_type": "code",
   "execution_count": 905,
   "metadata": {
    "collapsed": false
   },
   "outputs": [
    {
     "data": {
      "text/plain": [
       "'memory'"
      ]
     },
     "execution_count": 905,
     "metadata": {},
     "output_type": "execute_result"
    }
   ],
   "source": [
    "stemmed_unstemmed_dict['memori']"
   ]
  },
  {
   "cell_type": "markdown",
   "metadata": {},
   "source": [
    "<li> So if we want to extract the 5 most important words/terms/features from each cluster  \n",
    "<li> We retrieve the indices of these words\n",
    "<li> Instead of argmax, we use argsort to get the indices that would sort the array  \n",
    "<li> However, argsort is sorted in an ascedning order  \n",
    "<li> So indices of the 5 most important words(which have higher number) are located in the last 5 places of the array"
   ]
  },
  {
   "cell_type": "markdown",
   "metadata": {},
   "source": [
    "Again, take cluster 0 as an example"
   ]
  },
  {
   "cell_type": "code",
   "execution_count": 906,
   "metadata": {
    "collapsed": true
   },
   "outputs": [],
   "source": [
    "orderedCentroids = clusters.cluster_centers_.argsort() "
   ]
  },
  {
   "cell_type": "code",
   "execution_count": 907,
   "metadata": {
    "collapsed": false
   },
   "outputs": [
    {
     "data": {
      "text/plain": [
       "array([420, 485,  98, 241, 285])"
      ]
     },
     "execution_count": 907,
     "metadata": {},
     "output_type": "execute_result"
    }
   ],
   "source": [
    "# Step 1 \n",
    "# [0,:-6:-1] extract the max 5 values' indices of cluster 0\n",
    "orderedCentroids[0,:-6:-1]"
   ]
  },
  {
   "cell_type": "code",
   "execution_count": 908,
   "metadata": {
    "collapsed": false
   },
   "outputs": [
    {
     "data": {
      "text/plain": [
       "'memori'"
      ]
     },
     "execution_count": 908,
     "metadata": {},
     "output_type": "execute_result"
    }
   ],
   "source": [
    "# Step 2\n",
    "# Use all_words_from_tfidf to get the actual words  \n",
    "# This word is stemmed\n",
    "all_words_from_tfidf[284]"
   ]
  },
  {
   "cell_type": "code",
   "execution_count": 909,
   "metadata": {
    "collapsed": false
   },
   "outputs": [
    {
     "data": {
      "text/plain": [
       "'memory'"
      ]
     },
     "execution_count": 909,
     "metadata": {},
     "output_type": "execute_result"
    }
   ],
   "source": [
    "# Step 3\n",
    "# Use stemmed_unstemmed_dict to get the unstemmed version of the word\n",
    "stemmed_unstemmed_dict['memori']"
   ]
  },
  {
   "cell_type": "code",
   "execution_count": 910,
   "metadata": {
    "collapsed": true
   },
   "outputs": [],
   "source": [
    "# Base on above three steps, we define this function to extract keywords\n",
    "def print_cluster_keywords(cluster_ID):   \n",
    "    print (\"Cluster \" + str(cluster_ID)  + \" top 5 keywords: \" , end=\"\")   \n",
    "    \n",
    "    cluster_keywords_dict[cluster_ID] = []\n",
    "    top5_keywords_index = orderedCentroids[cluster_ID, :-6:-1] # step 1\n",
    "    for index in top5_keywords_index:     \n",
    "        stemmed_word = all_words_from_tfidf[index] # step 2\n",
    "        unstemmed_word = stemmed_unstemmed_dict[stemmed_word] # step 3\n",
    "        cluster_keywords_dict[cluster_ID].append(unstemmed_word)\n",
    "    print (\", \".join(cluster_keywords_dict[cluster_ID]))   "
   ]
  },
  {
   "cell_type": "code",
   "execution_count": 911,
   "metadata": {
    "collapsed": true
   },
   "outputs": [],
   "source": [
    "# Retrieve movies names by cluster Id\n",
    "def print_cluster_movies(cluster_ID):\n",
    "    moives_in_cluster = df2.loc[cluster_ID]['MovieName'].values.tolist()\n",
    "    print (\"Cluster \" + str(cluster_ID) + \" has \" + str(len(moives_in_cluster)) + \" movies: \") \n",
    "    print (\", \".join(moives_in_cluster))\n",
    "    print ()"
   ]
  },
  {
   "cell_type": "markdown",
   "metadata": {},
   "source": [
    "**Print out cluster info**"
   ]
  },
  {
   "cell_type": "code",
   "execution_count": 912,
   "metadata": {
    "collapsed": false
   },
   "outputs": [
    {
     "name": "stdout",
     "output_type": "stream",
     "text": [
      "<Movie Plots Clustering Result by KMeans>\n",
      "Cluster 0 top 5 keywords: soldiers, war, command, kill, men\n",
      "Cluster 0 has 22 movies: \n",
      "The Good, the Bad and the Ugly(1966), The Lord of the Rings: The Two Towers(2002), Seven Samurai(1954), Saving Private Ryan(1998), Casablanca(1942), Apocalypse Now(1979), The Great Dictator(1940), Dr. Strangelove or: How I Learned to Stop Worrying and Love the Bomb(1964), Paths of Glory(1957), Lawrence of Arabia(1962), Full Metal Jacket(1987), Inglourious Basterds(2009), Dunkirk(2017), Downfall(2004), The Bridge on the River Kwai(1957), Gone with the Wind(1939), Hacksaw Ridge(2016), The Passion of Joan of Arc(1928), Platoon(1986), Mad Max: Fury Road(2015), Harry Potter and the Deathly Hallows: Part 2(2011), The Battle of Algiers(1966)\n",
      "\n",
      "Cluster 1 top 5 keywords: n't, saying, asks, car, looking\n",
      "Cluster 1 has 52 movies: \n",
      "Fight Club(1999), Inception(2010), The Matrix(1999), It's a Wonderful Life(1946), Léon: The Professional(1994), Spirited Away(2001), American History X(1998), Psycho(1960), Rear Window(1954), Back to the Future(1985), The Prestige(2006), The Lion King(1994), The Lives of Others(2006), Citizen Kane(1941), Vertigo(1958), North by Northwest(1959), Requiem for a Dream(2000), A Clockwork Orange(1971), Taxi Driver(1976), To Kill a Mockingbird(1962), Toy Story(1995), The Sting(1973), Toy Story 3(2010), Snatch(2000), Rashômon(1950), All About Eve(1950), The Third Man(1949), My Neighbor Totoro(1988), Howl's Moving Castle(2004), Room(2015), The Seventh Seal(1957), Casino(1995), Blade Runner(1982), The Wolf of Wall Street(2013), Fargo(1996), The Big Lebowski(1998), La La Land(2016), Gone Girl(2014), Shutter Island(2010), Logan(2017), The Wages of Fear(1953), Rush(2013), Spotlight(2015), The Truman Show(1998), Amores Perros(2000), The Maltese Falcon(1941), The Princess Bride(1987), Paper Moon(1973), Prisoners(2013), Rocky(1976), The Help(2011), Ah-ga-ssi(2016)\n",
      "\n",
      "Cluster 2 top 5 keywords: police, kill, men, man, murder\n",
      "Cluster 2 has 62 movies: \n",
      "The Shawshank Redemption(1994), The Dark Knight(2008), 12 Angry Men(1957), Schindler's List(1993), Pulp Fiction(1994), Se7en(1995), The Silence of the Lambs(1991), The Usual Suspects(1995), Once Upon a Time in the West(1968), The Green Mile(1999), The Departed(2006), Terminator 2(1991), Memento(2000), Django Unchained(2012), The Shining(1980), The Dark Knight Rises(2012), Princess Mononoke(1997), Oldeuboi(2003), Witness for the Prosecution(1957), Reservoir Dogs(1992), M(1931), Double Indemnity(1944), Monty Python and the Holy Grail(1975), For a Few Dollars More(1965), L.A. Confidential(1997), Scarface(1983), Yojimbo(1961), Batman Begins(2005), Some Like It Hot(1959), The Treasure of the Sierra Madre(1948), Unforgiven(1992), Die Hard(1988), Heat(1995), The Great Escape(1963), Chinatown(1974), Pan's Labyrinth(2006), Judgment at Nuremberg(1961), The Secret in Their Eyes(2009), On the Waterfront(1954), V for Vendetta(2005), The General(1926), Dial M for Murder(1954), Sunrise(1927), The Deer Hunter(1978), The Thing(1982), No Country for Old Men(2007), Cool Hand Luke(1967), Kill Bill: Vol. 1(2003), A Wednesday(2008), The Grand Budapest Hotel(2014), Memories of Murder(2003), 12 Years a Slave(2013), Stalker(1979), Butch Cassidy and the Sundance Kid(1969), Touch of Evil(1958), Monsters, Inc.(2001), The Terminator(1984), The Bourne Ultimatum(2007), Jaws(1975), Twelve Monkeys(1995), Infernal Affairs(2002), Dog Day Afternoon(1975)\n",
      "\n",
      "Cluster 3 top 5 keywords: ship, escaped, destroy, memory, order\n",
      "Cluster 3 has 28 movies: \n",
      "The Lord of the Rings: The Return of the King(2003), The Lord of the Rings: The Fellowship of the Ring(2001), Star Wars: Episode V - The Empire Strikes Back(1980), One Flew Over the Cuckoo's Nest(1975), Star Wars: Episode IV - A New Hope(1977), Interstellar(2014), Raiders of the Lost Ark(1981), Alien(1979), WALL·E(2008), Blade Runner 2049(2017), Aliens(1986), Das Boot(1981), Star Wars: Episode VI - Return of the Jedi(1983), Eternal Sunshine of the Spotless Mind(2004), 2001: A Space Odyssey(1968), Metropolis(1927), Indiana Jones and the Last Crusade(1989), Up(2009), The Gold Rush(1925), Inside Out(2015), Finding Nemo(2003), How to Train Your Dragon(2010), Thor: Ragnarok(2017), Jurassic Park(1993), Star Wars: The Force Awakens(2015), The Wizard of Oz(1939), Beauty and the Beast(1991), Pirates of the Caribbean: The Curse of the Black Pearl(2003)\n",
      "\n",
      "Cluster 4 top 5 keywords: father, family, son, film, becomes\n",
      "Cluster 4 has 75 movies: \n",
      "The Godfather(1972), The Godfather: Part II(1974), Forrest Gump(1994), Goodfellas(1990), City of God(2002), Life Is Beautiful(1997), City Lights(1931), The Intouchables(2011), The Pianist(2002), Whiplash(2014), Gladiator(2000), Sunset Blvd.(1950), Cinema Paradiso(1988), Grave of the Fireflies(1988), American Beauty(1999), Once Upon a Time in America(1984), Dangal(2016), Braveheart(1995), Taare Zameen Par(2007), Amélie(2001), Kimi no na wa.(2016), Amadeus(1984), Singin' in the Rain(1952), 3 Idiots(2009), Bicycle Thieves(1948), Good Will Hunting(1997), Jagten(2012), The Apartment(1960), A Separation(2011), Raging Bull(1980), Children of Heaven(1997), Incendies(2010), Ran(1985), Lock, Stock and Two Smoking Barrels(1998), Mr. Smith Goes to Washington(1939), A Beautiful Mind(2001), The Elephant Man(1980), Wild Strawberries(1957), Warrior(2011), Trainspotting(1996), Gran Torino(2008), The Sixth Sense(1999), Andrei Rublev(1966), Tokyo Story(1953), There Will Be Blood(2007), Rebecca(1940), Rang De Basanti(2006), Mary and Max(2009), Into the Wild(2007), It Happened One Night(1934), Life of Brian(1979), Hotel Rwanda(2004), Network(1976), In the Name of the Father(1993), Stand by Me(1986), Persona(1966), Ben-Hur(1959), Million Dollar Baby(2004), Hachi: A Dog's Tale(2009), Before Sunrise(1995), The Nights of Cabiria(1957), The Grapes of Wrath(1940), Catch Me If You Can(2002), Diabolique(1955), Gandhi(1982), Donnie Darko(2001), Barry Lyndon(1975), Annie Hall(1977), Munna Bhai M.B.B.S.(2003), Groundhog Day(1993), The Best Years of Our Lives(1946), Paris, Texas(1984), In the Mood for Love(2000), Dead Poets Society(1989), Gangs of Wasseypur(2012)\n",
      "\n"
     ]
    }
   ],
   "source": [
    "print (\"<Movie Plots Clustering Result by KMeans>\")\n",
    "\n",
    "cluster_keywords_dict = {} # Put clusters and their top 5 unstemmed words into one dict\n",
    "for cluster_ID in range(num_of_clusters):\n",
    "    print_cluster_keywords(cluster_ID)\n",
    "    print_cluster_movies(cluster_ID)   "
   ]
  },
  {
   "cell_type": "markdown",
   "metadata": {},
   "source": [
    "## 4.2. Plot KMeans Result"
   ]
  },
  {
   "cell_type": "code",
   "execution_count": 913,
   "metadata": {
    "collapsed": false
   },
   "outputs": [],
   "source": [
    "from sklearn import decomposition\n",
    "\n",
    "# Use PCA to reduce dimension to 2\n",
    "pca = decomposition.PCA(n_components=2)\n",
    "\n",
    "# pca does not accept sparse matrix\n",
    "# so, we transform it to an array\n",
    "tfidfMatrixArray = tfidfMatrix.toarray()"
   ]
  },
  {
   "cell_type": "code",
   "execution_count": 914,
   "metadata": {
    "collapsed": false
   },
   "outputs": [
    {
     "data": {
      "text/plain": [
       "array([[ 0.07438092,  0.        ,  0.03924414, ...,  0.0772494 ,\n",
       "         0.        ,  0.01720407],\n",
       "       [ 0.02314062,  0.        ,  0.        , ...,  0.07209909,\n",
       "         0.        ,  0.06422821],\n",
       "       [ 0.        ,  0.        ,  0.        , ...,  0.05240163,\n",
       "         0.        ,  0.03890089],\n",
       "       ..., \n",
       "       [ 0.        ,  0.05946019,  0.04835367, ...,  0.11421705,\n",
       "         0.        ,  0.0423951 ],\n",
       "       [ 0.        ,  0.        ,  0.        , ...,  0.        ,\n",
       "         0.        ,  0.        ],\n",
       "       [ 0.        ,  0.        ,  0.        , ...,  0.        ,\n",
       "         0.        ,  0.        ]])"
      ]
     },
     "execution_count": 914,
     "metadata": {},
     "output_type": "execute_result"
    }
   ],
   "source": [
    "# Inspect\n",
    "tfidfMatrixArray"
   ]
  },
  {
   "cell_type": "code",
   "execution_count": 930,
   "metadata": {
    "collapsed": true
   },
   "outputs": [],
   "source": [
    "# Fit the model \n",
    "pca.fit(tfidfMatrixArray)\n",
    "\n",
    "# Apply dimensionality reduction to it\n",
    "X = pca.transform(tfidfMatrixArray)"
   ]
  },
  {
   "cell_type": "markdown",
   "metadata": {},
   "source": [
    "After dimensionality reduction, every plot/document will have two numbers  \n",
    "Instead of the 512 features/words/terms, now each plot is represented by 2 numbers"
   ]
  },
  {
   "cell_type": "code",
   "execution_count": 931,
   "metadata": {
    "collapsed": false
   },
   "outputs": [
    {
     "data": {
      "text/plain": [
       "(239, 2)"
      ]
     },
     "execution_count": 931,
     "metadata": {},
     "output_type": "execute_result"
    }
   ],
   "source": [
    "X.shape"
   ]
  },
  {
   "cell_type": "markdown",
   "metadata": {},
   "source": [
    "This following line means after dimensionality reduction  \n",
    "Movie 1 'The Shawshank Redemption(1994)' has  these two components with those values"
   ]
  },
  {
   "cell_type": "code",
   "execution_count": 932,
   "metadata": {
    "collapsed": false
   },
   "outputs": [
    {
     "data": {
      "text/plain": [
       "array([-0.02508082,  0.02718424])"
      ]
     },
     "execution_count": 932,
     "metadata": {},
     "output_type": "execute_result"
    }
   ],
   "source": [
    "X[0]"
   ]
  },
  {
   "cell_type": "markdown",
   "metadata": {},
   "source": [
    "Extract the two features' values to 2 lists"
   ]
  },
  {
   "cell_type": "code",
   "execution_count": 918,
   "metadata": {
    "collapsed": true
   },
   "outputs": [],
   "source": [
    "xCoordinate = X[:, 0]\n",
    "yCoordinate = X[:, 1]"
   ]
  },
  {
   "cell_type": "code",
   "execution_count": 919,
   "metadata": {
    "collapsed": false
   },
   "outputs": [
    {
     "data": {
      "text/plain": [
       "array([-0.02512701, -0.0665276 , -0.09239116,  0.18136546, -0.03957884])"
      ]
     },
     "execution_count": 919,
     "metadata": {},
     "output_type": "execute_result"
    }
   ],
   "source": [
    "# Inspect\n",
    "xCoordinate[:5]"
   ]
  },
  {
   "cell_type": "code",
   "execution_count": 920,
   "metadata": {
    "collapsed": false
   },
   "outputs": [
    {
     "data": {
      "text/plain": [
       "array([ 0.0275186 , -0.02835453, -0.06641559,  0.19780717, -0.08277752])"
      ]
     },
     "execution_count": 920,
     "metadata": {},
     "output_type": "execute_result"
    }
   ],
   "source": [
    "# Inspect\n",
    "yCoordinate[:5]"
   ]
  },
  {
   "cell_type": "code",
   "execution_count": 921,
   "metadata": {
    "collapsed": false
   },
   "outputs": [],
   "source": [
    "# Create a data frame with PCA cluster results\n",
    "PCA = pd.DataFrame(dict(xCoordinate=xCoordinate, yCoordinate=yCoordinate, Cluster=df2.cluster, MovieName=df2.MovieName)) "
   ]
  },
  {
   "cell_type": "code",
   "execution_count": 922,
   "metadata": {
    "collapsed": false
   },
   "outputs": [
    {
     "data": {
      "text/html": [
       "<div>\n",
       "<style>\n",
       "    .dataframe thead tr:only-child th {\n",
       "        text-align: right;\n",
       "    }\n",
       "\n",
       "    .dataframe thead th {\n",
       "        text-align: left;\n",
       "    }\n",
       "\n",
       "    .dataframe tbody tr th {\n",
       "        vertical-align: top;\n",
       "    }\n",
       "</style>\n",
       "<table border=\"1\" class=\"dataframe\">\n",
       "  <thead>\n",
       "    <tr style=\"text-align: right;\">\n",
       "      <th></th>\n",
       "      <th>Cluster</th>\n",
       "      <th>MovieName</th>\n",
       "      <th>xCoordinate</th>\n",
       "      <th>yCoordinate</th>\n",
       "    </tr>\n",
       "    <tr>\n",
       "      <th>cluster</th>\n",
       "      <th></th>\n",
       "      <th></th>\n",
       "      <th></th>\n",
       "      <th></th>\n",
       "    </tr>\n",
       "  </thead>\n",
       "  <tbody>\n",
       "    <tr>\n",
       "      <th>2</th>\n",
       "      <td>2</td>\n",
       "      <td>The Shawshank Redemption(1994)</td>\n",
       "      <td>-0.025127</td>\n",
       "      <td>0.027519</td>\n",
       "    </tr>\n",
       "    <tr>\n",
       "      <th>4</th>\n",
       "      <td>4</td>\n",
       "      <td>The Godfather(1972)</td>\n",
       "      <td>-0.066528</td>\n",
       "      <td>-0.028355</td>\n",
       "    </tr>\n",
       "    <tr>\n",
       "      <th>4</th>\n",
       "      <td>4</td>\n",
       "      <td>The Godfather: Part II(1974)</td>\n",
       "      <td>-0.092391</td>\n",
       "      <td>-0.066416</td>\n",
       "    </tr>\n",
       "    <tr>\n",
       "      <th>2</th>\n",
       "      <td>2</td>\n",
       "      <td>The Dark Knight(2008)</td>\n",
       "      <td>0.181365</td>\n",
       "      <td>0.197807</td>\n",
       "    </tr>\n",
       "    <tr>\n",
       "      <th>2</th>\n",
       "      <td>2</td>\n",
       "      <td>12 Angry Men(1957)</td>\n",
       "      <td>-0.039579</td>\n",
       "      <td>-0.082778</td>\n",
       "    </tr>\n",
       "  </tbody>\n",
       "</table>\n",
       "</div>"
      ],
      "text/plain": [
       "         Cluster                       MovieName  xCoordinate  yCoordinate\n",
       "cluster                                                                   \n",
       "2              2  The Shawshank Redemption(1994)    -0.025127     0.027519\n",
       "4              4             The Godfather(1972)    -0.066528    -0.028355\n",
       "4              4    The Godfather: Part II(1974)    -0.092391    -0.066416\n",
       "2              2           The Dark Knight(2008)     0.181365     0.197807\n",
       "2              2              12 Angry Men(1957)    -0.039579    -0.082778"
      ]
     },
     "execution_count": 922,
     "metadata": {},
     "output_type": "execute_result"
    }
   ],
   "source": [
    "PCA[:5]"
   ]
  },
  {
   "cell_type": "code",
   "execution_count": 923,
   "metadata": {
    "collapsed": false
   },
   "outputs": [],
   "source": [
    "# Build a dict with clusters and colors\n",
    "cluster_colors_dict = {0: '#1b9e77', 1: '#d95f02', 2: '#7570b3', 3: '#e7298a', 4: '#66a61e',5:'#800000',\\\n",
    "                 6:'#D2B4DE',7:'#85C1E9',8:'#48C9B0',9:'#52BE80'}"
   ]
  },
  {
   "cell_type": "code",
   "execution_count": 924,
   "metadata": {
    "collapsed": false
   },
   "outputs": [
    {
     "data": {
      "image/png": "[encoded data removed]",
      "text/plain": [
       "<matplotlib.figure.Figure at 0x119f75c88>"
      ]
     },
     "metadata": {},
     "output_type": "display_data"
    }
   ],
   "source": [
    "import matplotlib.pyplot as plt\n",
    "%matplotlib inline \n",
    "\n",
    "# Set up the figure\n",
    "figure, axis = plt.subplots(figsize=(16, 9))\n",
    "\n",
    "groups = PCA.groupby(PCA.Cluster)\n",
    "for clusterID, group in groups: # unpack group\n",
    "    axis.plot(group.xCoordinate, group.yCoordinate, marker='o',  linestyle='', ms=12,\n",
    "            label=cluster_keywords_dict[clusterID],  color=cluster_colors_dict[clusterID],\n",
    "            mec='none')\n",
    "\n",
    "# Show legend with only 1 point, position is right bottom.\n",
    "axis.legend(numpoints=1,loc=4)  \n",
    "\n",
    "# Show the plot\n",
    "plt.show() "
   ]
  },
  {
   "cell_type": "code",
   "execution_count": 891,
   "metadata": {
    "collapsed": true
   },
   "outputs": [],
   "source": [
    "plt.close()"
   ]
  },
  {
   "cell_type": "markdown",
   "metadata": {},
   "source": [
    "# Part 5: Topic Modeling - Latent Dirichlet Allocation"
   ]
  },
  {
   "cell_type": "markdown",
   "metadata": {},
   "source": [
    "**What is topic modeling?** \n",
    "<li> a method for finding a group of words (i.e topic) from a collection of documents that best represents the information in the collection. \n",
    "<li> a form of text mining – a way to obtain recurring patterns of words in textual material."
   ]
  },
  {
   "cell_type": "markdown",
   "metadata": {},
   "source": [
    "**What Latent Dirichlet Allocation?**   \n",
    "Latent Dirichlet Allocation (LDA) model is a technique used to obtain topic models."
   ]
  },
  {
   "cell_type": "markdown",
   "metadata": {},
   "source": [
    "** How does Latent Dirichlet Allocation work?**\n",
    "\n",
    "See this example:\n",
    "\n",
    "Document 1: I had a peanut butter sandwich for breakfast.   \n",
    "Document 2: I like to eat almonds, peanuts and walnuts.    \n",
    "Document 3: My neighbor got a little dog yesterday.   \n",
    "Document 4: Cats and dogs are mortal enemies.   \n",
    "Document 5: You mustn’t feed peanuts to your dog.\n",
    "\n",
    "LDA may produce the following results:   \n",
    "Topic 1: 30% peanuts, 15% almonds, 10% breakfast… (this topic deals with food)    \n",
    "Topic 2: 20% dogs, 10% cats, 5% peanuts… (this topic deals with pets or animals)   \n",
    "\n",
    "Document 1: 100% Topic 1   \n",
    "Document 2: 100% Topic 1   \n",
    "Document 3: 100% Topic 2  \n",
    "Document 4: 100% Topic 2  \n",
    "Document 5: 70% Topic 1, 30% Topic 2"
   ]
  },
  {
   "cell_type": "markdown",
   "metadata": {},
   "source": [
    "**How does LDA perform this process?**\n",
    "1. Prepare the Document Term Matrix(DTM) - frequency of words in a particular document\n",
    "![](1.png)   \n",
    "\n",
    "2. Fit the LDA model with DTM (topic parameter is set to 2)\n",
    "*lda_model.fit(DTM)*\n",
    "\n",
    "3. Transform the DTM   \n",
    "*lda_model.transform(DTM)*\n",
    "\n",
    "4. After transformation, we get two matrices from LDA   \n",
    "4.1 lda_model.topic_word_ saves the first matrix which has the shape of (2 topics * 28 words)   \n",
    "Blank cells also have percentage numbers but those numbers are very small    \n",
    "Highlighted red numbers denote that those words that convey the topic the best\n",
    "![](2.png) \n",
    "4.2 lda_model.doc_topic_ saves the second matrix which has the shape of (5 docs * 2 topics)\n",
    "![](3.png) "
   ]
  },
  {
   "cell_type": "markdown",
   "metadata": {},
   "source": [
    "Once we know how it works, now we can use LDA on movie plots"
   ]
  },
  {
   "cell_type": "markdown",
   "metadata": {},
   "source": [
    "Make a new copy of the dataframe,reset index, drop the 'cluster' column"
   ]
  },
  {
   "cell_type": "code",
   "execution_count": 1063,
   "metadata": {
    "collapsed": true
   },
   "outputs": [],
   "source": [
    "df3 = df2.copy()\n",
    "df3.index= range(239)\n",
    "df3 = df3.drop('cluster', axis = 1)"
   ]
  },
  {
   "cell_type": "markdown",
   "metadata": {},
   "source": [
    "<li> LDA model accepts an array-like or sparse matrix \n",
    "<li> It should be a Document Term Matrix(DTM)\n",
    "<li> Its shape should (n_samples, n_features), so we cannot reuse the tfidfMatrix\n",
    "<li> We need to rebuilt a DTM which also has moive plots as rows and all words as columns\n",
    "<li> But the value would be the frequency of each word used in each movie plot"
   ]
  },
  {
   "cell_type": "markdown",
   "metadata": {},
   "source": [
    "Build a new dict which has every word as keys and their positional column index as values   \n",
    "e.g. {\"'d\": 0, 'abandon': 1,'abl': 2,'accept': 3,'accompani': 4, 'act': 5}"
   ]
  },
  {
   "cell_type": "code",
   "execution_count": 937,
   "metadata": {
    "collapsed": false
   },
   "outputs": [],
   "source": [
    "word_columnIndex_dict = {}\n",
    "for x in range(len(all_words_from_tfidf)):\n",
    "    word_columnIndex_dict[all_words_from_tfidf[x]] = x"
   ]
  },
  {
   "cell_type": "code",
   "execution_count": 1064,
   "metadata": {
    "collapsed": true
   },
   "outputs": [
    {
     "data": {
      "text/plain": [
       "{\"'d\": 0,\n",
       " 'abandon': 1,\n",
       " 'abl': 2,\n",
       " 'accept': 3,\n",
       " 'accompani': 4,\n",
       " 'act': 5,\n",
       " 'action': 6,\n",
       " 'actual': 7,\n",
       " 'address': 8,\n",
       " 'admit': 9,\n",
       " 'ago': 10,\n",
       " 'agre': 11,\n",
       " 'aliv': 12,\n",
       " 'allow': 13,\n",
       " 'alon': 14,\n",
       " 'alreadi': 15,\n",
       " 'alway': 16,\n",
       " 'angri': 17,\n",
       " 'anoth': 18,\n",
       " 'answer': 19,\n",
       " 'anyon': 20,\n",
       " 'anyth': 21,\n",
       " 'apart': 22,\n",
       " 'apolog': 23,\n",
       " 'appar': 24,\n",
       " 'appear': 25,\n",
       " 'approach': 26,\n",
       " 'area': 27,\n",
       " 'arm': 28,\n",
       " 'armi': 29,\n",
       " 'arrang': 30,\n",
       " 'arrest': 31,\n",
       " 'arriv': 32,\n",
       " 'ask': 33,\n",
       " 'assist': 34,\n",
       " 'attack': 35,\n",
       " 'attempt': 36,\n",
       " 'attend': 37,\n",
       " 'attent': 38,\n",
       " 'avoid': 39,\n",
       " 'away': 40,\n",
       " 'bad': 41,\n",
       " 'bar': 42,\n",
       " 'battl': 43,\n",
       " 'beat': 44,\n",
       " 'beauti': 45,\n",
       " 'becom': 46,\n",
       " 'bed': 47,\n",
       " 'beg': 48,\n",
       " 'begin': 49,\n",
       " 'believ': 50,\n",
       " 'best': 51,\n",
       " 'better': 52,\n",
       " 'big': 53,\n",
       " 'black': 54,\n",
       " 'blood': 55,\n",
       " 'blow': 56,\n",
       " 'board': 57,\n",
       " 'bodi': 58,\n",
       " 'book': 59,\n",
       " 'box': 60,\n",
       " 'boy': 61,\n",
       " 'break': 62,\n",
       " 'bring': 63,\n",
       " 'broken': 64,\n",
       " 'brother': 65,\n",
       " 'brought': 66,\n",
       " 'build': 67,\n",
       " 'burn': 68,\n",
       " 'busi': 69,\n",
       " 'buy': 70,\n",
       " 'ca': 71,\n",
       " 'calm': 72,\n",
       " 'captur': 73,\n",
       " 'car': 74,\n",
       " 'care': 75,\n",
       " 'carri': 76,\n",
       " 'case': 77,\n",
       " 'catch': 78,\n",
       " 'caught': 79,\n",
       " 'caus': 80,\n",
       " 'chanc': 81,\n",
       " 'chang': 82,\n",
       " 'charg': 83,\n",
       " 'chase': 84,\n",
       " 'check': 85,\n",
       " 'child': 86,\n",
       " 'children': 87,\n",
       " 'citi': 88,\n",
       " 'claim': 89,\n",
       " 'clean': 90,\n",
       " 'clear': 91,\n",
       " 'climb': 92,\n",
       " 'close': 93,\n",
       " 'cloth': 94,\n",
       " 'collaps': 95,\n",
       " 'collect': 96,\n",
       " 'come': 97,\n",
       " 'command': 98,\n",
       " 'complet': 99,\n",
       " 'concern': 100,\n",
       " 'confess': 101,\n",
       " 'confront': 102,\n",
       " 'contact': 103,\n",
       " 'contain': 104,\n",
       " 'continu': 105,\n",
       " 'control': 106,\n",
       " 'convers': 107,\n",
       " 'convinc': 108,\n",
       " 'corner': 109,\n",
       " 'coupl': 110,\n",
       " 'cover': 111,\n",
       " 'crash': 112,\n",
       " 'creat': 113,\n",
       " 'cri': 114,\n",
       " 'cross': 115,\n",
       " 'crowd': 116,\n",
       " 'cut': 117,\n",
       " 'danger': 118,\n",
       " 'dark': 119,\n",
       " 'daughter': 120,\n",
       " 'day': 121,\n",
       " 'dead': 122,\n",
       " 'deal': 123,\n",
       " 'death': 124,\n",
       " 'decid': 125,\n",
       " 'demand': 126,\n",
       " 'depart': 127,\n",
       " 'desper': 128,\n",
       " 'despit': 129,\n",
       " 'destroy': 130,\n",
       " 'die': 131,\n",
       " 'differ': 132,\n",
       " 'direct': 133,\n",
       " 'disappear': 134,\n",
       " 'discov': 135,\n",
       " 'discuss': 136,\n",
       " 'doctor': 137,\n",
       " 'door': 138,\n",
       " 'draw': 139,\n",
       " 'dress': 140,\n",
       " 'drink': 141,\n",
       " 'drive': 142,\n",
       " 'drop': 143,\n",
       " 'earlier': 144,\n",
       " 'eat': 145,\n",
       " 'els': 146,\n",
       " 'emerg': 147,\n",
       " 'empti': 148,\n",
       " 'encount': 149,\n",
       " 'end': 150,\n",
       " 'enter': 151,\n",
       " 'entir': 152,\n",
       " 'escap': 153,\n",
       " 'eventu': 154,\n",
       " 'everi': 155,\n",
       " 'everyon': 156,\n",
       " 'everyth': 157,\n",
       " 'evid': 158,\n",
       " 'explain': 159,\n",
       " 'eye': 160,\n",
       " 'face': 161,\n",
       " 'fact': 162,\n",
       " 'fail': 163,\n",
       " 'fall': 164,\n",
       " 'famili': 165,\n",
       " 'far': 166,\n",
       " 'father': 167,\n",
       " 'fear': 168,\n",
       " 'feel': 169,\n",
       " 'fight': 170,\n",
       " 'figur': 171,\n",
       " 'film': 172,\n",
       " 'final': 173,\n",
       " 'finish': 174,\n",
       " 'flee': 175,\n",
       " 'fli': 176,\n",
       " 'floor': 177,\n",
       " 'follow': 178,\n",
       " 'food': 179,\n",
       " 'forc': 180,\n",
       " 'form': 181,\n",
       " 'free': 182,\n",
       " 'friend': 183,\n",
       " 'game': 184,\n",
       " 'gave': 185,\n",
       " 'girl': 186,\n",
       " 'given': 187,\n",
       " 'goe': 188,\n",
       " 'gone': 189,\n",
       " 'good': 190,\n",
       " 'got': 191,\n",
       " 'grab': 192,\n",
       " 'great': 193,\n",
       " 'ground': 194,\n",
       " 'group': 195,\n",
       " 'grow': 196,\n",
       " 'guard': 197,\n",
       " 'gun': 198,\n",
       " 'hand': 199,\n",
       " 'hang': 200,\n",
       " 'happen': 201,\n",
       " 'happi': 202,\n",
       " 'hard': 203,\n",
       " 'head': 204,\n",
       " 'hear': 205,\n",
       " 'help': 206,\n",
       " 'hidden': 207,\n",
       " 'hide': 208,\n",
       " 'high': 209,\n",
       " 'hit': 210,\n",
       " 'hold': 211,\n",
       " 'hole': 212,\n",
       " 'home': 213,\n",
       " 'hope': 214,\n",
       " 'hospit': 215,\n",
       " 'hour': 216,\n",
       " 'hous': 217,\n",
       " 'howev': 218,\n",
       " 'human': 219,\n",
       " 'husband': 220,\n",
       " 'idea': 221,\n",
       " 'ident': 222,\n",
       " 'ignor': 223,\n",
       " 'immedi': 224,\n",
       " 'includ': 225,\n",
       " 'inform': 226,\n",
       " 'initi': 227,\n",
       " 'insid': 228,\n",
       " 'insist': 229,\n",
       " 'instead': 230,\n",
       " 'instruct': 231,\n",
       " 'intend': 232,\n",
       " 'introduc': 233,\n",
       " 'investig': 234,\n",
       " 'invit': 235,\n",
       " 'involv': 236,\n",
       " 'job': 237,\n",
       " 'john': 238,\n",
       " 'join': 239,\n",
       " 'jump': 240,\n",
       " 'kill': 241,\n",
       " 'kiss': 242,\n",
       " 'knock': 243,\n",
       " 'know': 244,\n",
       " 'known': 245,\n",
       " 'land': 246,\n",
       " 'larg': 247,\n",
       " 'late': 248,\n",
       " 'later': 249,\n",
       " 'lead': 250,\n",
       " 'learn': 251,\n",
       " 'led': 252,\n",
       " 'left': 253,\n",
       " 'leg': 254,\n",
       " 'let': 255,\n",
       " 'lie': 256,\n",
       " 'life': 257,\n",
       " 'light': 258,\n",
       " 'like': 259,\n",
       " 'line': 260,\n",
       " 'listen': 261,\n",
       " 'littl': 262,\n",
       " 'live': 263,\n",
       " 'll': 264,\n",
       " 'local': 265,\n",
       " 'locat': 266,\n",
       " 'lock': 267,\n",
       " 'long': 268,\n",
       " 'longer': 269,\n",
       " 'look': 270,\n",
       " 'lose': 271,\n",
       " 'lost': 272,\n",
       " 'love': 273,\n",
       " 'main': 274,\n",
       " 'man': 275,\n",
       " 'manag': 276,\n",
       " 'mani': 277,\n",
       " 'mark': 278,\n",
       " 'marri': 279,\n",
       " 'mean': 280,\n",
       " 'meanwhil': 281,\n",
       " 'meet': 282,\n",
       " 'member': 283,\n",
       " 'memori': 284,\n",
       " 'men': 285,\n",
       " 'mention': 286,\n",
       " 'met': 287,\n",
       " 'mind': 288,\n",
       " 'minut': 289,\n",
       " 'miss': 290,\n",
       " 'moment': 291,\n",
       " 'money': 292,\n",
       " 'month': 293,\n",
       " 'morn': 294,\n",
       " 'mother': 295,\n",
       " 'movi': 296,\n",
       " 'murder': 297,\n",
       " \"n't\": 298,\n",
       " 'near': 299,\n",
       " 'nearbi': 300,\n",
       " 'need': 301,\n",
       " 'new': 302,\n",
       " 'news': 303,\n",
       " 'night': 304,\n",
       " 'note': 305,\n",
       " 'noth': 306,\n",
       " 'notic': 307,\n",
       " 'number': 308,\n",
       " 'object': 309,\n",
       " 'offer': 310,\n",
       " 'offic': 311,\n",
       " 'old': 312,\n",
       " 'open': 313,\n",
       " 'order': 314,\n",
       " 'outsid': 315,\n",
       " 'pain': 316,\n",
       " 'paper': 317,\n",
       " 'parent': 318,\n",
       " 'parti': 319,\n",
       " 'pass': 320,\n",
       " 'past': 321,\n",
       " 'pay': 322,\n",
       " 'peopl': 323,\n",
       " 'perform': 324,\n",
       " 'person': 325,\n",
       " 'phone': 326,\n",
       " 'pick': 327,\n",
       " 'pictur': 328,\n",
       " 'piec': 329,\n",
       " 'place': 330,\n",
       " 'plan': 331,\n",
       " 'play': 332,\n",
       " 'point': 333,\n",
       " 'polic': 334,\n",
       " 'posit': 335,\n",
       " 'possibl': 336,\n",
       " 'power': 337,\n",
       " 'prepar': 338,\n",
       " 'present': 339,\n",
       " 'previous': 340,\n",
       " 'prison': 341,\n",
       " 'privat': 342,\n",
       " 'process': 343,\n",
       " 'promis': 344,\n",
       " 'protect': 345,\n",
       " 'prove': 346,\n",
       " 'provid': 347,\n",
       " 'public': 348,\n",
       " 'pull': 349,\n",
       " 'pursu': 350,\n",
       " 'push': 351,\n",
       " 'question': 352,\n",
       " 'quick': 353,\n",
       " 'quiet': 354,\n",
       " 'quit': 355,\n",
       " 'reach': 356,\n",
       " 'read': 357,\n",
       " 'readi': 358,\n",
       " 'real': 359,\n",
       " 'realiz': 360,\n",
       " 'realli': 361,\n",
       " 'reason': 362,\n",
       " 'receiv': 363,\n",
       " 'recogn': 364,\n",
       " 'refus': 365,\n",
       " 'relationship': 366,\n",
       " 'releas': 367,\n",
       " 'reluct': 368,\n",
       " 'remain': 369,\n",
       " 'rememb': 370,\n",
       " 'remind': 371,\n",
       " 'remov': 372,\n",
       " 'repli': 373,\n",
       " 'report': 374,\n",
       " 'rescu': 375,\n",
       " 'respond': 376,\n",
       " 'respons': 377,\n",
       " 'rest': 378,\n",
       " 'result': 379,\n",
       " 'retriev': 380,\n",
       " 'return': 381,\n",
       " 'reveal': 382,\n",
       " 'ride': 383,\n",
       " 'right': 384,\n",
       " 'ring': 385,\n",
       " 'road': 386,\n",
       " 'room': 387,\n",
       " 'run': 388,\n",
       " 'rush': 389,\n",
       " 'safe': 390,\n",
       " 'save': 391,\n",
       " 'say': 392,\n",
       " 'scene': 393,\n",
       " 'school': 394,\n",
       " 'scream': 395,\n",
       " 'search': 396,\n",
       " 'second': 397,\n",
       " 'secret': 398,\n",
       " 'secur': 399,\n",
       " 'seen': 400,\n",
       " 'send': 401,\n",
       " 'sent': 402,\n",
       " 'set': 403,\n",
       " 'sever': 404,\n",
       " 'share': 405,\n",
       " 'ship': 406,\n",
       " 'shock': 407,\n",
       " 'shoot': 408,\n",
       " 'short': 409,\n",
       " 'shot': 410,\n",
       " 'sign': 411,\n",
       " 'sinc': 412,\n",
       " 'sister': 413,\n",
       " 'sit': 414,\n",
       " 'sleep': 415,\n",
       " 'slowli': 416,\n",
       " 'small': 417,\n",
       " 'smile': 418,\n",
       " 'sneak': 419,\n",
       " 'soldier': 420,\n",
       " 'someon': 421,\n",
       " 'someth': 422,\n",
       " 'son': 423,\n",
       " 'soon': 424,\n",
       " 'sound': 425,\n",
       " 'speak': 426,\n",
       " 'spend': 427,\n",
       " 'spot': 428,\n",
       " 'stand': 429,\n",
       " 'start': 430,\n",
       " 'state': 431,\n",
       " 'station': 432,\n",
       " 'stay': 433,\n",
       " 'steal': 434,\n",
       " 'step': 435,\n",
       " 'stop': 436,\n",
       " 'store': 437,\n",
       " 'stori': 438,\n",
       " 'street': 439,\n",
       " 'struggl': 440,\n",
       " 'success': 441,\n",
       " 'sudden': 442,\n",
       " 'suffer': 443,\n",
       " 'suggest': 444,\n",
       " 'support': 445,\n",
       " 'sure': 446,\n",
       " 'surpris': 447,\n",
       " 'surround': 448,\n",
       " 'surviv': 449,\n",
       " 'tabl': 450,\n",
       " 'taken': 451,\n",
       " 'talk': 452,\n",
       " 'tear': 453,\n",
       " 'thank': 454,\n",
       " 'thing': 455,\n",
       " 'think': 456,\n",
       " 'thought': 457,\n",
       " 'threaten': 458,\n",
       " 'throw': 459,\n",
       " 'tie': 460,\n",
       " 'togeth': 461,\n",
       " 'told': 462,\n",
       " 'took': 463,\n",
       " 'touch': 464,\n",
       " 'town': 465,\n",
       " 'track': 466,\n",
       " 'train': 467,\n",
       " 'trap': 468,\n",
       " 'travel': 469,\n",
       " 'tri': 470,\n",
       " 'troubl': 471,\n",
       " 'true': 472,\n",
       " 'turn': 473,\n",
       " 'unabl': 474,\n",
       " 'understand': 475,\n",
       " 'upset': 476,\n",
       " 'use': 477,\n",
       " 'visit': 478,\n",
       " 'voic': 479,\n",
       " 'wait': 480,\n",
       " 'wake': 481,\n",
       " 'walk': 482,\n",
       " 'wall': 483,\n",
       " 'want': 484,\n",
       " 'war': 485,\n",
       " 'warn': 486,\n",
       " 'watch': 487,\n",
       " 'water': 488,\n",
       " 'way': 489,\n",
       " 'wear': 490,\n",
       " 'week': 491,\n",
       " 'went': 492,\n",
       " 'wife': 493,\n",
       " 'win': 494,\n",
       " 'window': 495,\n",
       " 'wish': 496,\n",
       " 'wit': 497,\n",
       " 'wo': 498,\n",
       " 'woman': 499,\n",
       " 'women': 500,\n",
       " 'wonder': 501,\n",
       " 'word': 502,\n",
       " 'work': 503,\n",
       " 'world': 504,\n",
       " 'worri': 505,\n",
       " 'wound': 506,\n",
       " 'write': 507,\n",
       " 'wrong': 508,\n",
       " 'year': 509,\n",
       " 'yell': 510,\n",
       " 'young': 511}"
      ]
     },
     "execution_count": 1064,
     "metadata": {},
     "output_type": "execute_result"
    }
   ],
   "source": [
    "# Inspect\n",
    "word_columnIndex_dict"
   ]
  },
  {
   "cell_type": "code",
   "execution_count": 947,
   "metadata": {
    "collapsed": true
   },
   "outputs": [],
   "source": [
    "plot_word_matrix = []\n",
    "for plot in df3.MoviePlot:\n",
    "    current_plot_word_freq = [0] * len(all_words_from_tfidf)\n",
    "    current_plot_stemmed_words = tokenize_and_stem(plot)\n",
    "    for word in current_plot_stemmed_words:\n",
    "        if word in all_words_from_tfidf:\n",
    "            current_plot_word_freq[word_columnIndex_dict[word]] += 1\n",
    "    current_plot_word_freq = np.asarray(current_plot_word_freq)\n",
    "    plot_word_matrix.append(current_plot_word_freq)\n",
    "plot_word_matrix = np.asarray(plot_word_matrix)"
   ]
  },
  {
   "cell_type": "code",
   "execution_count": 1067,
   "metadata": {
    "collapsed": false
   },
   "outputs": [
    {
     "data": {
      "text/plain": [
       "array([[3, 0, 2, ..., 5, 0, 1],\n",
       "       [1, 0, 0, ..., 5, 0, 4],\n",
       "       [0, 0, 0, ..., 3, 0, 2],\n",
       "       ..., \n",
       "       [0, 1, 1, ..., 3, 0, 1],\n",
       "       [0, 0, 0, ..., 0, 0, 0],\n",
       "       [0, 0, 0, ..., 0, 0, 0]])"
      ]
     },
     "execution_count": 1067,
     "metadata": {},
     "output_type": "execute_result"
    }
   ],
   "source": [
    "# Inspect\n",
    "plot_word_matrix\n",
    "# Take the first number \"3\" for instance, it means word \"'d\" was in movie plot 0 3 times"
   ]
  },
  {
   "cell_type": "markdown",
   "metadata": {},
   "source": [
    "Now we use LDA on the matrix"
   ]
  },
  {
   "cell_type": "code",
   "execution_count": 1068,
   "metadata": {
    "collapsed": false
   },
   "outputs": [
    {
     "name": "stderr",
     "output_type": "stream",
     "text": [
      "INFO:lda:n_documents: 239\n",
      "INFO:lda:vocab_size: 512\n",
      "INFO:lda:n_words: 99358\n",
      "INFO:lda:n_topics: 5\n",
      "INFO:lda:n_iter: 500\n",
      "INFO:lda:<0> log likelihood: -773340\n",
      "INFO:lda:<10> log likelihood: -714467\n",
      "INFO:lda:<20> log likelihood: -684770\n",
      "INFO:lda:<30> log likelihood: -674349\n",
      "INFO:lda:<40> log likelihood: -668847\n",
      "INFO:lda:<50> log likelihood: -664702\n",
      "INFO:lda:<60> log likelihood: -662539\n",
      "INFO:lda:<70> log likelihood: -660607\n",
      "INFO:lda:<80> log likelihood: -658242\n",
      "INFO:lda:<90> log likelihood: -657326\n",
      "INFO:lda:<100> log likelihood: -655990\n",
      "INFO:lda:<110> log likelihood: -654908\n",
      "INFO:lda:<120> log likelihood: -653731\n",
      "INFO:lda:<130> log likelihood: -652909\n",
      "INFO:lda:<140> log likelihood: -651987\n",
      "INFO:lda:<150> log likelihood: -649414\n",
      "INFO:lda:<160> log likelihood: -649156\n",
      "INFO:lda:<170> log likelihood: -647598\n",
      "INFO:lda:<180> log likelihood: -648029\n",
      "INFO:lda:<190> log likelihood: -647195\n",
      "INFO:lda:<200> log likelihood: -647454\n",
      "INFO:lda:<210> log likelihood: -646646\n",
      "INFO:lda:<220> log likelihood: -645996\n",
      "INFO:lda:<230> log likelihood: -646463\n",
      "INFO:lda:<240> log likelihood: -645747\n",
      "INFO:lda:<250> log likelihood: -645068\n",
      "INFO:lda:<260> log likelihood: -644725\n",
      "INFO:lda:<270> log likelihood: -644556\n",
      "INFO:lda:<280> log likelihood: -645508\n",
      "INFO:lda:<290> log likelihood: -644604\n",
      "INFO:lda:<300> log likelihood: -644111\n",
      "INFO:lda:<310> log likelihood: -644996\n",
      "INFO:lda:<320> log likelihood: -644682\n",
      "INFO:lda:<330> log likelihood: -644817\n",
      "INFO:lda:<340> log likelihood: -644220\n",
      "INFO:lda:<350> log likelihood: -643554\n",
      "INFO:lda:<360> log likelihood: -643384\n",
      "INFO:lda:<370> log likelihood: -643515\n",
      "INFO:lda:<380> log likelihood: -642651\n",
      "INFO:lda:<390> log likelihood: -642701\n",
      "INFO:lda:<400> log likelihood: -642771\n",
      "INFO:lda:<410> log likelihood: -643258\n",
      "INFO:lda:<420> log likelihood: -642756\n",
      "INFO:lda:<430> log likelihood: -642481\n",
      "INFO:lda:<440> log likelihood: -642563\n",
      "INFO:lda:<450> log likelihood: -642461\n",
      "INFO:lda:<460> log likelihood: -642683\n",
      "INFO:lda:<470> log likelihood: -642873\n",
      "INFO:lda:<480> log likelihood: -642065\n",
      "INFO:lda:<490> log likelihood: -641730\n",
      "INFO:lda:<499> log likelihood: -641190\n"
     ]
    },
    {
     "data": {
      "text/plain": [
       "<lda.lda.LDA at 0x11d493e10>"
      ]
     },
     "execution_count": 1068,
     "metadata": {},
     "output_type": "execute_result"
    }
   ],
   "source": [
    "import lda\n",
    "\n",
    "# Build the model, we want 5 topics and iterate 500 times\n",
    "model = lda.LDA(n_topics=5, n_iter=500, random_state=1)\n",
    "\n",
    "# Fit the model with the matrix\n",
    "model.fit(plot_word_matrix)\n"
   ]
  },
  {
   "cell_type": "markdown",
   "metadata": {},
   "source": [
    "Transform the DTM"
   ]
  },
  {
   "cell_type": "code",
   "execution_count": 950,
   "metadata": {
    "collapsed": true
   },
   "outputs": [],
   "source": [
    "Z = model.transform(plot_word_matrix)"
   ]
  },
  {
   "cell_type": "code",
   "execution_count": 1070,
   "metadata": {
    "collapsed": false
   },
   "outputs": [
    {
     "data": {
      "text/plain": [
       "(239, 5)"
      ]
     },
     "execution_count": 1070,
     "metadata": {},
     "output_type": "execute_result"
    }
   ],
   "source": [
    "Z.shape"
   ]
  },
  {
   "cell_type": "markdown",
   "metadata": {},
   "source": [
    "<li> \"model.topic\\_word\\_\" saves the importance of all_features in LDA model"
   ]
  },
  {
   "cell_type": "code",
   "execution_count": 954,
   "metadata": {
    "collapsed": false,
    "scrolled": false
   },
   "outputs": [],
   "source": [
    "topic_word_matrix = model.topic_word_ "
   ]
  },
  {
   "cell_type": "markdown",
   "metadata": {},
   "source": [
    " <li> The shape of \"model.topic\\_word\\_\" is (5 topics * 512 keywords)"
   ]
  },
  {
   "cell_type": "code",
   "execution_count": 959,
   "metadata": {
    "collapsed": false
   },
   "outputs": [
    {
     "data": {
      "text/plain": [
       "(5, 512)"
      ]
     },
     "execution_count": 959,
     "metadata": {},
     "output_type": "execute_result"
    }
   ],
   "source": [
    "# There are 5 topics and 512 keywords\n",
    "topic_word_matrix.shape"
   ]
  },
  {
   "cell_type": "markdown",
   "metadata": {},
   "source": [
    "<li> \"model.doc\\_topic\\_\" saves the importance of movie topic results in LDA results"
   ]
  },
  {
   "cell_type": "code",
   "execution_count": 1000,
   "metadata": {
    "collapsed": false
   },
   "outputs": [],
   "source": [
    "plot_topic_matrix = model.doc_topic_"
   ]
  },
  {
   "cell_type": "markdown",
   "metadata": {},
   "source": [
    "<li> The shape of \"model.doc\\_topic\\_\" is (239 documents * 5 topics)"
   ]
  },
  {
   "cell_type": "code",
   "execution_count": 1071,
   "metadata": {
    "collapsed": false
   },
   "outputs": [
    {
     "data": {
      "text/plain": [
       "(239, 5)"
      ]
     },
     "execution_count": 1071,
     "metadata": {},
     "output_type": "execute_result"
    }
   ],
   "source": [
    "# There are 239 movie plot and 5 movie topics\n",
    "plot_topic_matrix.shape"
   ]
  },
  {
   "cell_type": "markdown",
   "metadata": {},
   "source": [
    "## 5.1. Analyze LDA Result"
   ]
  },
  {
   "cell_type": "markdown",
   "metadata": {},
   "source": [
    "<li> LDA does not have the same 'clusters.labels_.tolist()' function that KMeans has.   \n",
    "<li> To see which movie is in which topic, we need to do the following:"
   ]
  },
  {
   "cell_type": "markdown",
   "metadata": {},
   "source": [
    "**Where can we read that information? **   \n",
    "\n",
    "From the 'plot_topic_matrix'   \n",
    "Take moive plot 0 'The Shawshank Redemption(1994)' as an example:   \n",
    "These five numbers denotes the this movie plot's topic coverage in five different topics"
   ]
  },
  {
   "cell_type": "code",
   "execution_count": 999,
   "metadata": {
    "collapsed": false
   },
   "outputs": [
    {
     "data": {
      "text/plain": [
       "array([  1.56530029e-01,   3.43374643e-01,   1.90657769e-04,\n",
       "         2.17540515e-01,   2.82364156e-01])"
      ]
     },
     "execution_count": 999,
     "metadata": {},
     "output_type": "execute_result"
    }
   ],
   "source": [
    "plot_topic_matrix[0] "
   ]
  },
  {
   "cell_type": "markdown",
   "metadata": {},
   "source": [
    "So to get which movie towards most to which topic, we find the max value:"
   ]
  },
  {
   "cell_type": "code",
   "execution_count": 1001,
   "metadata": {
    "collapsed": false
   },
   "outputs": [
    {
     "data": {
      "text/plain": [
       "0.34337464251668254"
      ]
     },
     "execution_count": 1001,
     "metadata": {},
     "output_type": "execute_result"
    }
   ],
   "source": [
    "plot_topic_matrix[0].max()"
   ]
  },
  {
   "cell_type": "markdown",
   "metadata": {},
   "source": [
    "But we need to index of the actual topic :"
   ]
  },
  {
   "cell_type": "code",
   "execution_count": 1072,
   "metadata": {
    "collapsed": false
   },
   "outputs": [
    {
     "data": {
      "text/plain": [
       "1"
      ]
     },
     "execution_count": 1072,
     "metadata": {},
     "output_type": "execute_result"
    }
   ],
   "source": [
    "plot_topic_matrix[0].argmax()  # 1 means movie 0 returns the highest probability on topic 1"
   ]
  },
  {
   "cell_type": "markdown",
   "metadata": {},
   "source": [
    "Now we know, 'The Shawshank Redemption(1994)' is in topic 1"
   ]
  },
  {
   "cell_type": "markdown",
   "metadata": {},
   "source": [
    "Do the above for all movies"
   ]
  },
  {
   "cell_type": "markdown",
   "metadata": {},
   "source": [
    "Set up a dict that has this structure {topic_Id: [list of movie names]}"
   ]
  },
  {
   "cell_type": "code",
   "execution_count": 1034,
   "metadata": {
    "collapsed": false
   },
   "outputs": [],
   "source": [
    "topic_movieName_dict = {}\n",
    "\n",
    "for ith_row in range(len(plot_topic_matrix)):\n",
    "    topic_ID = plot_topic_matrix[ith_row].argmax()\n",
    "    if topic_ID not in topic_movieName_dict:\n",
    "        topic_movieName_dict[topic_ID] = [df3.MovieName[ith_row]]\n",
    "    else:\n",
    "        topic_movieName_dict[topic_ID].append(df3.MovieName[ith_row])"
   ]
  },
  {
   "cell_type": "code",
   "execution_count": 1074,
   "metadata": {
    "collapsed": true
   },
   "outputs": [
    {
     "data": {
      "text/plain": [
       "{0: ['The Dark Knight(2008)',\n",
       "  'The Lord of the Rings: The Return of the King(2003)',\n",
       "  'The Good, the Bad and the Ugly(1966)',\n",
       "  'Star Wars: Episode V - The Empire Strikes Back(1980)',\n",
       "  \"One Flew Over the Cuckoo's Nest(1975)\",\n",
       "  'The Matrix(1999)',\n",
       "  'Saving Private Ryan(1998)',\n",
       "  'Raiders of the Lost Ark(1981)',\n",
       "  'Terminator 2(1991)',\n",
       "  'The Lion King(1994)',\n",
       "  'Apocalypse Now(1979)',\n",
       "  'Alien(1979)',\n",
       "  'Django Unchained(2012)',\n",
       "  'The Shining(1980)',\n",
       "  'WALL·E(2008)',\n",
       "  'Blade Runner 2049(2017)',\n",
       "  'The Dark Knight Rises(2012)',\n",
       "  'Princess Mononoke(1997)',\n",
       "  'Aliens(1986)',\n",
       "  '2001: A Space Odyssey(1968)',\n",
       "  'Toy Story(1995)',\n",
       "  'Toy Story 3(2010)',\n",
       "  'Inglourious Basterds(2009)',\n",
       "  'Snatch(2000)',\n",
       "  'Monty Python and the Holy Grail(1975)',\n",
       "  'Metropolis(1927)',\n",
       "  'Indiana Jones and the Last Crusade(1989)',\n",
       "  'Chinatown(1974)',\n",
       "  \"Pan's Labyrinth(2006)\",\n",
       "  'Judgment at Nuremberg(1961)',\n",
       "  \"Howl's Moving Castle(2004)\",\n",
       "  'Blade Runner(1982)',\n",
       "  'V for Vendetta(2005)',\n",
       "  'The General(1926)',\n",
       "  'The Deer Hunter(1978)',\n",
       "  'The Thing(1982)',\n",
       "  'No Country for Old Men(2007)',\n",
       "  'Finding Nemo(2003)',\n",
       "  'Kill Bill: Vol. 1(2003)',\n",
       "  'How to Train Your Dragon(2010)',\n",
       "  'The Passion of Joan of Arc(1928)',\n",
       "  'Logan(2017)',\n",
       "  'Persona(1966)',\n",
       "  'Jurassic Park(1993)',\n",
       "  'Mad Max: Fury Road(2015)',\n",
       "  'Stalker(1979)',\n",
       "  'Monsters, Inc.(2001)',\n",
       "  'The Terminator(1984)',\n",
       "  'Jaws(1975)',\n",
       "  'Twelve Monkeys(1995)'],\n",
       " 1: ['The Shawshank Redemption(1994)',\n",
       "  'The Godfather(1972)',\n",
       "  'The Godfather: Part II(1974)',\n",
       "  \"Schindler's List(1993)\",\n",
       "  'Fight Club(1999)',\n",
       "  'Forrest Gump(1994)',\n",
       "  'Goodfellas(1990)',\n",
       "  'Seven Samurai(1954)',\n",
       "  'City of God(2002)',\n",
       "  'Se7en(1995)',\n",
       "  'The Silence of the Lambs(1991)',\n",
       "  'Life Is Beautiful(1997)',\n",
       "  'Léon: The Professional(1994)',\n",
       "  'Interstellar(2014)',\n",
       "  'Casablanca(1942)',\n",
       "  'City Lights(1931)',\n",
       "  'The Intouchables(2011)',\n",
       "  'The Pianist(2002)',\n",
       "  'Gladiator(2000)',\n",
       "  'Memento(2000)',\n",
       "  'Sunset Blvd.(1950)',\n",
       "  'Cinema Paradiso(1988)',\n",
       "  'The Lives of Others(2006)',\n",
       "  'Grave of the Fireflies(1988)',\n",
       "  'American Beauty(1999)',\n",
       "  'Oldeuboi(2003)',\n",
       "  'Witness for the Prosecution(1957)',\n",
       "  'Once Upon a Time in America(1984)',\n",
       "  'Braveheart(1995)',\n",
       "  'M(1931)',\n",
       "  'Requiem for a Dream(2000)',\n",
       "  'Taare Zameen Par(2007)',\n",
       "  'Amélie(2001)',\n",
       "  'A Clockwork Orange(1971)',\n",
       "  'Double Indemnity(1944)',\n",
       "  'Amadeus(1984)',\n",
       "  'Eternal Sunshine of the Spotless Mind(2004)',\n",
       "  'Taxi Driver(1976)',\n",
       "  \"Singin' in the Rain(1952)\",\n",
       "  '3 Idiots(2009)',\n",
       "  'Bicycle Thieves(1948)',\n",
       "  'Good Will Hunting(1997)',\n",
       "  'Jagten(2012)',\n",
       "  'Scarface(1983)',\n",
       "  'The Apartment(1960)',\n",
       "  'A Separation(2011)',\n",
       "  'Up(2009)',\n",
       "  'The Treasure of the Sierra Madre(1948)',\n",
       "  'Raging Bull(1980)',\n",
       "  'Children of Heaven(1997)',\n",
       "  'Incendies(2010)',\n",
       "  'Ran(1985)',\n",
       "  'The Secret in Their Eyes(2009)',\n",
       "  'Lock, Stock and Two Smoking Barrels(1998)',\n",
       "  'Mr. Smith Goes to Washington(1939)',\n",
       "  'A Beautiful Mind(2001)',\n",
       "  'The Elephant Man(1980)',\n",
       "  'Warrior(2011)',\n",
       "  'Trainspotting(1996)',\n",
       "  'Gran Torino(2008)',\n",
       "  'Gone with the Wind(1939)',\n",
       "  'Sunrise(1927)',\n",
       "  'The Sixth Sense(1999)',\n",
       "  'Andrei Rublev(1966)',\n",
       "  'Tokyo Story(1953)',\n",
       "  'There Will Be Blood(2007)',\n",
       "  'Cool Hand Luke(1967)',\n",
       "  'Rebecca(1940)',\n",
       "  'Rang De Basanti(2006)',\n",
       "  'Mary and Max(2009)',\n",
       "  'Into the Wild(2007)',\n",
       "  'It Happened One Night(1934)',\n",
       "  'Life of Brian(1979)',\n",
       "  'Network(1976)',\n",
       "  'In the Name of the Father(1993)',\n",
       "  'Stand by Me(1986)',\n",
       "  'Ben-Hur(1959)',\n",
       "  'The Grand Budapest Hotel(2014)',\n",
       "  '12 Years a Slave(2013)',\n",
       "  'Million Dollar Baby(2004)',\n",
       "  'Butch Cassidy and the Sundance Kid(1969)',\n",
       "  'Amores Perros(2000)',\n",
       "  \"Hachi: A Dog's Tale(2009)\",\n",
       "  'Before Sunrise(1995)',\n",
       "  'The Nights of Cabiria(1957)',\n",
       "  'Paper Moon(1973)',\n",
       "  'The Grapes of Wrath(1940)',\n",
       "  'Catch Me If You Can(2002)',\n",
       "  'Touch of Evil(1958)',\n",
       "  'Diabolique(1955)',\n",
       "  'Gandhi(1982)',\n",
       "  'Donnie Darko(2001)',\n",
       "  'Barry Lyndon(1975)',\n",
       "  'Annie Hall(1977)',\n",
       "  'Munna Bhai M.B.B.S.(2003)',\n",
       "  'Groundhog Day(1993)',\n",
       "  'The Best Years of Our Lives(1946)',\n",
       "  'The Help(2011)',\n",
       "  'Paris, Texas(1984)',\n",
       "  'In the Mood for Love(2000)',\n",
       "  'Beauty and the Beast(1991)',\n",
       "  'Dead Poets Society(1989)',\n",
       "  'Gangs of Wasseypur(2012)'],\n",
       " 2: ['The Lord of the Rings: The Fellowship of the Ring(2001)',\n",
       "  'The Lord of the Rings: The Two Towers(2002)',\n",
       "  'Star Wars: Episode IV - A New Hope(1977)',\n",
       "  'The Great Dictator(1940)',\n",
       "  'Dr. Strangelove or: How I Learned to Stop Worrying and Love the Bomb(1964)',\n",
       "  'Star Wars: Episode VI - Return of the Jedi(1983)',\n",
       "  'Lawrence of Arabia(1962)',\n",
       "  'Dunkirk(2017)',\n",
       "  'Downfall(2004)',\n",
       "  'The Bridge on the River Kwai(1957)',\n",
       "  'Platoon(1986)',\n",
       "  'Thor: Ragnarok(2017)',\n",
       "  'Hotel Rwanda(2004)',\n",
       "  'Harry Potter and the Deathly Hallows: Part 2(2011)',\n",
       "  'Star Wars: The Force Awakens(2015)',\n",
       "  'Pirates of the Caribbean: The Curse of the Black Pearl(2003)'],\n",
       " 3: ['12 Angry Men(1957)',\n",
       "  'Inception(2010)',\n",
       "  \"It's a Wonderful Life(1946)\",\n",
       "  'Spirited Away(2001)',\n",
       "  'American History X(1998)',\n",
       "  'Once Upon a Time in the West(1968)',\n",
       "  'The Green Mile(1999)',\n",
       "  'Psycho(1960)',\n",
       "  'Rear Window(1954)',\n",
       "  'Back to the Future(1985)',\n",
       "  'Whiplash(2014)',\n",
       "  'The Prestige(2006)',\n",
       "  'Paths of Glory(1957)',\n",
       "  'Dangal(2016)',\n",
       "  'Das Boot(1981)',\n",
       "  'Citizen Kane(1941)',\n",
       "  'Vertigo(1958)',\n",
       "  'North by Northwest(1959)',\n",
       "  'Kimi no na wa.(2016)',\n",
       "  'To Kill a Mockingbird(1962)',\n",
       "  'The Sting(1973)',\n",
       "  'Rashômon(1950)',\n",
       "  'All About Eve(1950)',\n",
       "  'Yojimbo(1961)',\n",
       "  'Batman Begins(2005)',\n",
       "  'Some Like It Hot(1959)',\n",
       "  'Unforgiven(1992)',\n",
       "  'The Third Man(1949)',\n",
       "  'My Neighbor Totoro(1988)',\n",
       "  'The Gold Rush(1925)',\n",
       "  'Inside Out(2015)',\n",
       "  'On the Waterfront(1954)',\n",
       "  'Room(2015)',\n",
       "  'The Seventh Seal(1957)',\n",
       "  'Casino(1995)',\n",
       "  'Wild Strawberries(1957)',\n",
       "  'The Wolf of Wall Street(2013)',\n",
       "  'Fargo(1996)',\n",
       "  'The Big Lebowski(1998)',\n",
       "  'Hacksaw Ridge(2016)',\n",
       "  'La La Land(2016)',\n",
       "  'Gone Girl(2014)',\n",
       "  'Shutter Island(2010)',\n",
       "  'The Wages of Fear(1953)',\n",
       "  'Rush(2013)',\n",
       "  'Spotlight(2015)',\n",
       "  'The Truman Show(1998)',\n",
       "  'The Maltese Falcon(1941)',\n",
       "  'The Princess Bride(1987)',\n",
       "  'Prisoners(2013)',\n",
       "  'Rocky(1976)',\n",
       "  'The Wizard of Oz(1939)',\n",
       "  'Ah-ga-ssi(2016)'],\n",
       " 4: ['Pulp Fiction(1994)',\n",
       "  'The Usual Suspects(1995)',\n",
       "  'The Departed(2006)',\n",
       "  'Reservoir Dogs(1992)',\n",
       "  'Full Metal Jacket(1987)',\n",
       "  'For a Few Dollars More(1965)',\n",
       "  'L.A. Confidential(1997)',\n",
       "  'Die Hard(1988)',\n",
       "  'Heat(1995)',\n",
       "  'The Great Escape(1963)',\n",
       "  'Dial M for Murder(1954)',\n",
       "  'A Wednesday(2008)',\n",
       "  'Memories of Murder(2003)',\n",
       "  'The Bourne Ultimatum(2007)',\n",
       "  'Infernal Affairs(2002)',\n",
       "  'The Battle of Algiers(1966)',\n",
       "  'Dog Day Afternoon(1975)']}"
      ]
     },
     "execution_count": 1074,
     "metadata": {},
     "output_type": "execute_result"
    }
   ],
   "source": [
    "# Inspect\n",
    "topic_movieName_dict"
   ]
  },
  {
   "cell_type": "markdown",
   "metadata": {},
   "source": [
    "for better visualization, we use a table to overview it"
   ]
  },
  {
   "cell_type": "code",
   "execution_count": 1081,
   "metadata": {
    "collapsed": false
   },
   "outputs": [],
   "source": [
    "topic_movie_df = pd.DataFrame( [[k, v] for k, a in topic_movieName_dict.items() for v in a],columns=['Topic', 'MovieName'])"
   ]
  },
  {
   "cell_type": "code",
   "execution_count": 1082,
   "metadata": {
    "collapsed": true
   },
   "outputs": [
    {
     "data": {
      "text/html": [
       "<div>\n",
       "<style>\n",
       "    .dataframe thead tr:only-child th {\n",
       "        text-align: right;\n",
       "    }\n",
       "\n",
       "    .dataframe thead th {\n",
       "        text-align: left;\n",
       "    }\n",
       "\n",
       "    .dataframe tbody tr th {\n",
       "        vertical-align: top;\n",
       "    }\n",
       "</style>\n",
       "<table border=\"1\" class=\"dataframe\">\n",
       "  <thead>\n",
       "    <tr style=\"text-align: right;\">\n",
       "      <th></th>\n",
       "      <th>Topic</th>\n",
       "      <th>MovieName</th>\n",
       "    </tr>\n",
       "  </thead>\n",
       "  <tbody>\n",
       "    <tr>\n",
       "      <th>0</th>\n",
       "      <td>1</td>\n",
       "      <td>The Shawshank Redemption(1994)</td>\n",
       "    </tr>\n",
       "    <tr>\n",
       "      <th>1</th>\n",
       "      <td>1</td>\n",
       "      <td>The Godfather(1972)</td>\n",
       "    </tr>\n",
       "    <tr>\n",
       "      <th>2</th>\n",
       "      <td>1</td>\n",
       "      <td>The Godfather: Part II(1974)</td>\n",
       "    </tr>\n",
       "    <tr>\n",
       "      <th>3</th>\n",
       "      <td>1</td>\n",
       "      <td>Schindler's List(1993)</td>\n",
       "    </tr>\n",
       "    <tr>\n",
       "      <th>4</th>\n",
       "      <td>1</td>\n",
       "      <td>Fight Club(1999)</td>\n",
       "    </tr>\n",
       "    <tr>\n",
       "      <th>5</th>\n",
       "      <td>1</td>\n",
       "      <td>Forrest Gump(1994)</td>\n",
       "    </tr>\n",
       "    <tr>\n",
       "      <th>6</th>\n",
       "      <td>1</td>\n",
       "      <td>Goodfellas(1990)</td>\n",
       "    </tr>\n",
       "    <tr>\n",
       "      <th>7</th>\n",
       "      <td>1</td>\n",
       "      <td>Seven Samurai(1954)</td>\n",
       "    </tr>\n",
       "    <tr>\n",
       "      <th>8</th>\n",
       "      <td>1</td>\n",
       "      <td>City of God(2002)</td>\n",
       "    </tr>\n",
       "    <tr>\n",
       "      <th>9</th>\n",
       "      <td>1</td>\n",
       "      <td>Se7en(1995)</td>\n",
       "    </tr>\n",
       "    <tr>\n",
       "      <th>10</th>\n",
       "      <td>1</td>\n",
       "      <td>The Silence of the Lambs(1991)</td>\n",
       "    </tr>\n",
       "    <tr>\n",
       "      <th>11</th>\n",
       "      <td>1</td>\n",
       "      <td>Life Is Beautiful(1997)</td>\n",
       "    </tr>\n",
       "    <tr>\n",
       "      <th>12</th>\n",
       "      <td>1</td>\n",
       "      <td>Léon: The Professional(1994)</td>\n",
       "    </tr>\n",
       "    <tr>\n",
       "      <th>13</th>\n",
       "      <td>1</td>\n",
       "      <td>Interstellar(2014)</td>\n",
       "    </tr>\n",
       "    <tr>\n",
       "      <th>14</th>\n",
       "      <td>1</td>\n",
       "      <td>Casablanca(1942)</td>\n",
       "    </tr>\n",
       "    <tr>\n",
       "      <th>15</th>\n",
       "      <td>1</td>\n",
       "      <td>City Lights(1931)</td>\n",
       "    </tr>\n",
       "    <tr>\n",
       "      <th>16</th>\n",
       "      <td>1</td>\n",
       "      <td>The Intouchables(2011)</td>\n",
       "    </tr>\n",
       "    <tr>\n",
       "      <th>17</th>\n",
       "      <td>1</td>\n",
       "      <td>The Pianist(2002)</td>\n",
       "    </tr>\n",
       "    <tr>\n",
       "      <th>18</th>\n",
       "      <td>1</td>\n",
       "      <td>Gladiator(2000)</td>\n",
       "    </tr>\n",
       "    <tr>\n",
       "      <th>19</th>\n",
       "      <td>1</td>\n",
       "      <td>Memento(2000)</td>\n",
       "    </tr>\n",
       "    <tr>\n",
       "      <th>20</th>\n",
       "      <td>1</td>\n",
       "      <td>Sunset Blvd.(1950)</td>\n",
       "    </tr>\n",
       "    <tr>\n",
       "      <th>21</th>\n",
       "      <td>1</td>\n",
       "      <td>Cinema Paradiso(1988)</td>\n",
       "    </tr>\n",
       "    <tr>\n",
       "      <th>22</th>\n",
       "      <td>1</td>\n",
       "      <td>The Lives of Others(2006)</td>\n",
       "    </tr>\n",
       "    <tr>\n",
       "      <th>23</th>\n",
       "      <td>1</td>\n",
       "      <td>Grave of the Fireflies(1988)</td>\n",
       "    </tr>\n",
       "    <tr>\n",
       "      <th>24</th>\n",
       "      <td>1</td>\n",
       "      <td>American Beauty(1999)</td>\n",
       "    </tr>\n",
       "    <tr>\n",
       "      <th>25</th>\n",
       "      <td>1</td>\n",
       "      <td>Oldeuboi(2003)</td>\n",
       "    </tr>\n",
       "    <tr>\n",
       "      <th>26</th>\n",
       "      <td>1</td>\n",
       "      <td>Witness for the Prosecution(1957)</td>\n",
       "    </tr>\n",
       "    <tr>\n",
       "      <th>27</th>\n",
       "      <td>1</td>\n",
       "      <td>Once Upon a Time in America(1984)</td>\n",
       "    </tr>\n",
       "    <tr>\n",
       "      <th>28</th>\n",
       "      <td>1</td>\n",
       "      <td>Braveheart(1995)</td>\n",
       "    </tr>\n",
       "    <tr>\n",
       "      <th>29</th>\n",
       "      <td>1</td>\n",
       "      <td>M(1931)</td>\n",
       "    </tr>\n",
       "    <tr>\n",
       "      <th>...</th>\n",
       "      <td>...</td>\n",
       "      <td>...</td>\n",
       "    </tr>\n",
       "    <tr>\n",
       "      <th>209</th>\n",
       "      <td>4</td>\n",
       "      <td>Reservoir Dogs(1992)</td>\n",
       "    </tr>\n",
       "    <tr>\n",
       "      <th>210</th>\n",
       "      <td>4</td>\n",
       "      <td>Full Metal Jacket(1987)</td>\n",
       "    </tr>\n",
       "    <tr>\n",
       "      <th>211</th>\n",
       "      <td>4</td>\n",
       "      <td>For a Few Dollars More(1965)</td>\n",
       "    </tr>\n",
       "    <tr>\n",
       "      <th>212</th>\n",
       "      <td>4</td>\n",
       "      <td>L.A. Confidential(1997)</td>\n",
       "    </tr>\n",
       "    <tr>\n",
       "      <th>213</th>\n",
       "      <td>4</td>\n",
       "      <td>Die Hard(1988)</td>\n",
       "    </tr>\n",
       "    <tr>\n",
       "      <th>214</th>\n",
       "      <td>4</td>\n",
       "      <td>Heat(1995)</td>\n",
       "    </tr>\n",
       "    <tr>\n",
       "      <th>215</th>\n",
       "      <td>4</td>\n",
       "      <td>The Great Escape(1963)</td>\n",
       "    </tr>\n",
       "    <tr>\n",
       "      <th>216</th>\n",
       "      <td>4</td>\n",
       "      <td>Dial M for Murder(1954)</td>\n",
       "    </tr>\n",
       "    <tr>\n",
       "      <th>217</th>\n",
       "      <td>4</td>\n",
       "      <td>A Wednesday(2008)</td>\n",
       "    </tr>\n",
       "    <tr>\n",
       "      <th>218</th>\n",
       "      <td>4</td>\n",
       "      <td>Memories of Murder(2003)</td>\n",
       "    </tr>\n",
       "    <tr>\n",
       "      <th>219</th>\n",
       "      <td>4</td>\n",
       "      <td>The Bourne Ultimatum(2007)</td>\n",
       "    </tr>\n",
       "    <tr>\n",
       "      <th>220</th>\n",
       "      <td>4</td>\n",
       "      <td>Infernal Affairs(2002)</td>\n",
       "    </tr>\n",
       "    <tr>\n",
       "      <th>221</th>\n",
       "      <td>4</td>\n",
       "      <td>The Battle of Algiers(1966)</td>\n",
       "    </tr>\n",
       "    <tr>\n",
       "      <th>222</th>\n",
       "      <td>4</td>\n",
       "      <td>Dog Day Afternoon(1975)</td>\n",
       "    </tr>\n",
       "    <tr>\n",
       "      <th>223</th>\n",
       "      <td>2</td>\n",
       "      <td>The Lord of the Rings: The Fellowship of the R...</td>\n",
       "    </tr>\n",
       "    <tr>\n",
       "      <th>224</th>\n",
       "      <td>2</td>\n",
       "      <td>The Lord of the Rings: The Two Towers(2002)</td>\n",
       "    </tr>\n",
       "    <tr>\n",
       "      <th>225</th>\n",
       "      <td>2</td>\n",
       "      <td>Star Wars: Episode IV - A New Hope(1977)</td>\n",
       "    </tr>\n",
       "    <tr>\n",
       "      <th>226</th>\n",
       "      <td>2</td>\n",
       "      <td>The Great Dictator(1940)</td>\n",
       "    </tr>\n",
       "    <tr>\n",
       "      <th>227</th>\n",
       "      <td>2</td>\n",
       "      <td>Dr. Strangelove or: How I Learned to Stop Worr...</td>\n",
       "    </tr>\n",
       "    <tr>\n",
       "      <th>228</th>\n",
       "      <td>2</td>\n",
       "      <td>Star Wars: Episode VI - Return of the Jedi(1983)</td>\n",
       "    </tr>\n",
       "    <tr>\n",
       "      <th>229</th>\n",
       "      <td>2</td>\n",
       "      <td>Lawrence of Arabia(1962)</td>\n",
       "    </tr>\n",
       "    <tr>\n",
       "      <th>230</th>\n",
       "      <td>2</td>\n",
       "      <td>Dunkirk(2017)</td>\n",
       "    </tr>\n",
       "    <tr>\n",
       "      <th>231</th>\n",
       "      <td>2</td>\n",
       "      <td>Downfall(2004)</td>\n",
       "    </tr>\n",
       "    <tr>\n",
       "      <th>232</th>\n",
       "      <td>2</td>\n",
       "      <td>The Bridge on the River Kwai(1957)</td>\n",
       "    </tr>\n",
       "    <tr>\n",
       "      <th>233</th>\n",
       "      <td>2</td>\n",
       "      <td>Platoon(1986)</td>\n",
       "    </tr>\n",
       "    <tr>\n",
       "      <th>234</th>\n",
       "      <td>2</td>\n",
       "      <td>Thor: Ragnarok(2017)</td>\n",
       "    </tr>\n",
       "    <tr>\n",
       "      <th>235</th>\n",
       "      <td>2</td>\n",
       "      <td>Hotel Rwanda(2004)</td>\n",
       "    </tr>\n",
       "    <tr>\n",
       "      <th>236</th>\n",
       "      <td>2</td>\n",
       "      <td>Harry Potter and the Deathly Hallows: Part 2(2...</td>\n",
       "    </tr>\n",
       "    <tr>\n",
       "      <th>237</th>\n",
       "      <td>2</td>\n",
       "      <td>Star Wars: The Force Awakens(2015)</td>\n",
       "    </tr>\n",
       "    <tr>\n",
       "      <th>238</th>\n",
       "      <td>2</td>\n",
       "      <td>Pirates of the Caribbean: The Curse of the Bla...</td>\n",
       "    </tr>\n",
       "  </tbody>\n",
       "</table>\n",
       "<p>239 rows × 2 columns</p>\n",
       "</div>"
      ],
      "text/plain": [
       "     Topic                                          MovieName\n",
       "0        1                     The Shawshank Redemption(1994)\n",
       "1        1                                The Godfather(1972)\n",
       "2        1                       The Godfather: Part II(1974)\n",
       "3        1                             Schindler's List(1993)\n",
       "4        1                                   Fight Club(1999)\n",
       "5        1                                 Forrest Gump(1994)\n",
       "6        1                                   Goodfellas(1990)\n",
       "7        1                                Seven Samurai(1954)\n",
       "8        1                                  City of God(2002)\n",
       "9        1                                        Se7en(1995)\n",
       "10       1                     The Silence of the Lambs(1991)\n",
       "11       1                            Life Is Beautiful(1997)\n",
       "12       1                       Léon: The Professional(1994)\n",
       "13       1                                 Interstellar(2014)\n",
       "14       1                                   Casablanca(1942)\n",
       "15       1                                  City Lights(1931)\n",
       "16       1                             The Intouchables(2011)\n",
       "17       1                                  The Pianist(2002)\n",
       "18       1                                    Gladiator(2000)\n",
       "19       1                                      Memento(2000)\n",
       "20       1                                 Sunset Blvd.(1950)\n",
       "21       1                              Cinema Paradiso(1988)\n",
       "22       1                          The Lives of Others(2006)\n",
       "23       1                       Grave of the Fireflies(1988)\n",
       "24       1                              American Beauty(1999)\n",
       "25       1                                     Oldeuboi(2003)\n",
       "26       1                  Witness for the Prosecution(1957)\n",
       "27       1                  Once Upon a Time in America(1984)\n",
       "28       1                                   Braveheart(1995)\n",
       "29       1                                            M(1931)\n",
       "..     ...                                                ...\n",
       "209      4                               Reservoir Dogs(1992)\n",
       "210      4                            Full Metal Jacket(1987)\n",
       "211      4                       For a Few Dollars More(1965)\n",
       "212      4                            L.A. Confidential(1997)\n",
       "213      4                                     Die Hard(1988)\n",
       "214      4                                         Heat(1995)\n",
       "215      4                             The Great Escape(1963)\n",
       "216      4                            Dial M for Murder(1954)\n",
       "217      4                                  A Wednesday(2008)\n",
       "218      4                           Memories of Murder(2003)\n",
       "219      4                         The Bourne Ultimatum(2007)\n",
       "220      4                             Infernal Affairs(2002)\n",
       "221      4                        The Battle of Algiers(1966)\n",
       "222      4                            Dog Day Afternoon(1975)\n",
       "223      2  The Lord of the Rings: The Fellowship of the R...\n",
       "224      2        The Lord of the Rings: The Two Towers(2002)\n",
       "225      2           Star Wars: Episode IV - A New Hope(1977)\n",
       "226      2                           The Great Dictator(1940)\n",
       "227      2  Dr. Strangelove or: How I Learned to Stop Worr...\n",
       "228      2   Star Wars: Episode VI - Return of the Jedi(1983)\n",
       "229      2                           Lawrence of Arabia(1962)\n",
       "230      2                                      Dunkirk(2017)\n",
       "231      2                                     Downfall(2004)\n",
       "232      2                 The Bridge on the River Kwai(1957)\n",
       "233      2                                      Platoon(1986)\n",
       "234      2                               Thor: Ragnarok(2017)\n",
       "235      2                                 Hotel Rwanda(2004)\n",
       "236      2  Harry Potter and the Deathly Hallows: Part 2(2...\n",
       "237      2                 Star Wars: The Force Awakens(2015)\n",
       "238      2  Pirates of the Caribbean: The Curse of the Bla...\n",
       "\n",
       "[239 rows x 2 columns]"
      ]
     },
     "execution_count": 1082,
     "metadata": {},
     "output_type": "execute_result"
    }
   ],
   "source": [
    "topic_movie_df"
   ]
  },
  {
   "cell_type": "code",
   "execution_count": 1083,
   "metadata": {
    "collapsed": false
   },
   "outputs": [],
   "source": [
    "df4 = df3.merge(topic_movie_df,on = 'MovieName')"
   ]
  },
  {
   "cell_type": "code",
   "execution_count": 1084,
   "metadata": {
    "collapsed": false
   },
   "outputs": [
    {
     "data": {
      "text/html": [
       "<div>\n",
       "<style>\n",
       "    .dataframe thead tr:only-child th {\n",
       "        text-align: right;\n",
       "    }\n",
       "\n",
       "    .dataframe thead th {\n",
       "        text-align: left;\n",
       "    }\n",
       "\n",
       "    .dataframe tbody tr th {\n",
       "        vertical-align: top;\n",
       "    }\n",
       "</style>\n",
       "<table border=\"1\" class=\"dataframe\">\n",
       "  <thead>\n",
       "    <tr style=\"text-align: right;\">\n",
       "      <th></th>\n",
       "      <th>MovieId</th>\n",
       "      <th>Ranking</th>\n",
       "      <th>MovieName</th>\n",
       "      <th>MoviePlot</th>\n",
       "      <th>topic</th>\n",
       "      <th>Topic</th>\n",
       "    </tr>\n",
       "  </thead>\n",
       "  <tbody>\n",
       "    <tr>\n",
       "      <th>0</th>\n",
       "      <td>tt0111161</td>\n",
       "      <td>1</td>\n",
       "      <td>The Shawshank Redemption(1994)</td>\n",
       "      <td>In 1947, Andy Dufresne (Tim Robbins), a banker...</td>\n",
       "      <td>-1</td>\n",
       "      <td>1</td>\n",
       "    </tr>\n",
       "    <tr>\n",
       "      <th>1</th>\n",
       "      <td>tt0068646</td>\n",
       "      <td>2</td>\n",
       "      <td>The Godfather(1972)</td>\n",
       "      <td>In late summer 1945, guests are gathered for t...</td>\n",
       "      <td>-1</td>\n",
       "      <td>1</td>\n",
       "    </tr>\n",
       "    <tr>\n",
       "      <th>2</th>\n",
       "      <td>tt0071562</td>\n",
       "      <td>3</td>\n",
       "      <td>The Godfather: Part II(1974)</td>\n",
       "      <td>The Godfather Part II presents two parallel st...</td>\n",
       "      <td>-1</td>\n",
       "      <td>1</td>\n",
       "    </tr>\n",
       "    <tr>\n",
       "      <th>3</th>\n",
       "      <td>tt0468569</td>\n",
       "      <td>4</td>\n",
       "      <td>The Dark Knight(2008)</td>\n",
       "      <td>The movie begins with a gang of men with clown...</td>\n",
       "      <td>-1</td>\n",
       "      <td>0</td>\n",
       "    </tr>\n",
       "    <tr>\n",
       "      <th>4</th>\n",
       "      <td>tt0050083</td>\n",
       "      <td>5</td>\n",
       "      <td>12 Angry Men(1957)</td>\n",
       "      <td>In a New York City courthouse, an eighteen-yea...</td>\n",
       "      <td>-1</td>\n",
       "      <td>3</td>\n",
       "    </tr>\n",
       "  </tbody>\n",
       "</table>\n",
       "</div>"
      ],
      "text/plain": [
       "     MovieId  Ranking                       MovieName  \\\n",
       "0  tt0111161        1  The Shawshank Redemption(1994)   \n",
       "1  tt0068646        2             The Godfather(1972)   \n",
       "2  tt0071562        3    The Godfather: Part II(1974)   \n",
       "3  tt0468569        4           The Dark Knight(2008)   \n",
       "4  tt0050083        5              12 Angry Men(1957)   \n",
       "\n",
       "                                           MoviePlot  topic  Topic  \n",
       "0  In 1947, Andy Dufresne (Tim Robbins), a banker...     -1      1  \n",
       "1  In late summer 1945, guests are gathered for t...     -1      1  \n",
       "2  The Godfather Part II presents two parallel st...     -1      1  \n",
       "3  The movie begins with a gang of men with clown...     -1      0  \n",
       "4  In a New York City courthouse, an eighteen-yea...     -1      3  "
      ]
     },
     "execution_count": 1084,
     "metadata": {},
     "output_type": "execute_result"
    }
   ],
   "source": [
    "df4[:5]"
   ]
  },
  {
   "cell_type": "code",
   "execution_count": 1086,
   "metadata": {
    "collapsed": true
   },
   "outputs": [],
   "source": [
    "# define a funtion to print top 5 keywords per topic ID\n",
    "def print_topic_keywords(topic_ID):\n",
    "    print (\"Topic \" + str(topic_ID)  + \" top 5 keywords: \" , end=\"\") \n",
    "    \n",
    "    topic_keywords_dict[topic_ID] = []\n",
    "    top5_keywords_index = topic_word_matrix[topic_ID].argsort()[:-6:-1]\n",
    "    for index in top5_keywords_index:\n",
    "        stemmed_word = all_words_from_tfidf[index] \n",
    "        unstemmed_word = stemmed_unstemmed_dict[stemmed_word] \n",
    "        topic_keywords_dict[topic_ID].append(unstemmed_word)\n",
    "   \n",
    "    print (\", \".join(topic_keywords_dict[topic_ID]))"
   ]
  },
  {
   "cell_type": "code",
   "execution_count": 1087,
   "metadata": {
    "collapsed": true
   },
   "outputs": [],
   "source": [
    "# define a function to print all movies in that topic\n",
    "def print_topic_movies(topic_ID):\n",
    "    print (\"Topic \" + str(topic_ID) + \" has \" + str(len(topic_movieName_dict[topic_ID])) + \" movies : \" )\n",
    "    print (', '.join(topic_movieName_dict[i]))  \n",
    "    print ()"
   ]
  },
  {
   "cell_type": "code",
   "execution_count": 1088,
   "metadata": {
    "collapsed": false
   },
   "outputs": [
    {
     "name": "stdout",
     "output_type": "stream",
     "text": [
      "<Movie Clustering Result by LDA>\n",
      "Topic 0 top 5 keywords: head, away, room, door, appears\n",
      "Topic 0 has 50 movies : \n",
      "Pulp Fiction(1994), The Usual Suspects(1995), The Departed(2006), Reservoir Dogs(1992), Full Metal Jacket(1987), For a Few Dollars More(1965), L.A. Confidential(1997), Die Hard(1988), Heat(1995), The Great Escape(1963), Dial M for Murder(1954), A Wednesday(2008), Memories of Murder(2003), The Bourne Ultimatum(2007), Infernal Affairs(2002), The Battle of Algiers(1966), Dog Day Afternoon(1975)\n",
      "\n",
      "Topic 1 top 5 keywords: father, friend, day, Later, meeting\n",
      "Topic 1 has 103 movies : \n",
      "Pulp Fiction(1994), The Usual Suspects(1995), The Departed(2006), Reservoir Dogs(1992), Full Metal Jacket(1987), For a Few Dollars More(1965), L.A. Confidential(1997), Die Hard(1988), Heat(1995), The Great Escape(1963), Dial M for Murder(1954), A Wednesday(2008), Memories of Murder(2003), The Bourne Ultimatum(2007), Infernal Affairs(2002), The Battle of Algiers(1966), Dog Day Afternoon(1975)\n",
      "\n",
      "Topic 2 top 5 keywords: soldiers, order, ship, forces, escaped\n",
      "Topic 2 has 16 movies : \n",
      "Pulp Fiction(1994), The Usual Suspects(1995), The Departed(2006), Reservoir Dogs(1992), Full Metal Jacket(1987), For a Few Dollars More(1965), L.A. Confidential(1997), Die Hard(1988), Heat(1995), The Great Escape(1963), Dial M for Murder(1954), A Wednesday(2008), Memories of Murder(2003), The Bourne Ultimatum(2007), Infernal Affairs(2002), The Battle of Algiers(1966), Dog Day Afternoon(1975)\n",
      "\n",
      "Topic 3 top 5 keywords: n't, saying, asks, come, knows\n",
      "Topic 3 has 53 movies : \n",
      "Pulp Fiction(1994), The Usual Suspects(1995), The Departed(2006), Reservoir Dogs(1992), Full Metal Jacket(1987), For a Few Dollars More(1965), L.A. Confidential(1997), Die Hard(1988), Heat(1995), The Great Escape(1963), Dial M for Murder(1954), A Wednesday(2008), Memories of Murder(2003), The Bourne Ultimatum(2007), Infernal Affairs(2002), The Battle of Algiers(1966), Dog Day Afternoon(1975)\n",
      "\n",
      "Topic 4 top 5 keywords: kill, police, men, officers, shoot\n",
      "Topic 4 has 17 movies : \n",
      "Pulp Fiction(1994), The Usual Suspects(1995), The Departed(2006), Reservoir Dogs(1992), Full Metal Jacket(1987), For a Few Dollars More(1965), L.A. Confidential(1997), Die Hard(1988), Heat(1995), The Great Escape(1963), Dial M for Murder(1954), A Wednesday(2008), Memories of Murder(2003), The Bourne Ultimatum(2007), Infernal Affairs(2002), The Battle of Algiers(1966), Dog Day Afternoon(1975)\n",
      "\n"
     ]
    }
   ],
   "source": [
    "print (\"<Movie Clustering Result by LDA>\")\n",
    "\n",
    "topic_keywords_dict = {}\n",
    "\n",
    "for topic_ID in range(len(topic_word_matrix)):\n",
    "    print_topic_keywords(topic_ID)\n",
    "    print_topic_movies(topic_ID)"
   ]
  },
  {
   "cell_type": "code",
   "execution_count": 1041,
   "metadata": {
    "collapsed": true
   },
   "outputs": [],
   "source": [
    "from sklearn.preprocessing import normalize\n",
    "array = normalize(plot_word_matrix, axis=0, norm='l1')"
   ]
  },
  {
   "cell_type": "code",
   "execution_count": 1042,
   "metadata": {
    "collapsed": false
   },
   "outputs": [
    {
     "data": {
      "text/plain": [
       "array([[ 0.02608696,  0.        ,  0.01117318, ...,  0.01305483,\n",
       "         0.        ,  0.00352113],\n",
       "       [ 0.00869565,  0.        ,  0.        , ...,  0.01305483,\n",
       "         0.        ,  0.01408451],\n",
       "       [ 0.        ,  0.        ,  0.        , ...,  0.0078329 ,\n",
       "         0.        ,  0.00704225],\n",
       "       ..., \n",
       "       [ 0.        ,  0.01149425,  0.00558659, ...,  0.0078329 ,\n",
       "         0.        ,  0.00352113],\n",
       "       [ 0.        ,  0.        ,  0.        , ...,  0.        ,\n",
       "         0.        ,  0.        ],\n",
       "       [ 0.        ,  0.        ,  0.        , ...,  0.        ,\n",
       "         0.        ,  0.        ]])"
      ]
     },
     "execution_count": 1042,
     "metadata": {},
     "output_type": "execute_result"
    }
   ],
   "source": [
    "array"
   ]
  },
  {
   "cell_type": "code",
   "execution_count": 1043,
   "metadata": {
    "collapsed": false
   },
   "outputs": [],
   "source": [
    "# Use PCA to reduce dimension to 2\n",
    "pca = decomposition.PCA(n_components=2)\n",
    "\n",
    "#Array = feature_matrix_synopses_tf.toarray()\n",
    "\n",
    "# Fit the model \n",
    "pca.fit(array)\n",
    "\n",
    "# Apply dimensionality reduction to it\n",
    "X = pca.transform(array)\n",
    "\n",
    "xCoordinate = X[:, 0]\n",
    "yCoordinate = X[:, 1]"
   ]
  },
  {
   "cell_type": "code",
   "execution_count": 1044,
   "metadata": {
    "collapsed": false
   },
   "outputs": [],
   "source": [
    "#create data frame with PCA cluster results\n",
    "PCAdf2 = pd.DataFrame(dict(xCoordinate=xCoordinate, yCoordinate=yCoordinate, topic=df4.Topic_y, MovieName=df4.MovieName)) "
   ]
  },
  {
   "cell_type": "code",
   "execution_count": 1045,
   "metadata": {
    "collapsed": false
   },
   "outputs": [
    {
     "data": {
      "text/plain": [
       "0.48911270552710351"
      ]
     },
     "execution_count": 1045,
     "metadata": {},
     "output_type": "execute_result"
    }
   ],
   "source": [
    "xCoordinate.max()"
   ]
  },
  {
   "cell_type": "code",
   "execution_count": 1046,
   "metadata": {
    "collapsed": false
   },
   "outputs": [
    {
     "data": {
      "text/plain": [
       "0.40708012097285229"
      ]
     },
     "execution_count": 1046,
     "metadata": {},
     "output_type": "execute_result"
    }
   ],
   "source": [
    "yCoordinate.max()"
   ]
  },
  {
   "cell_type": "code",
   "execution_count": 1047,
   "metadata": {
    "collapsed": false
   },
   "outputs": [
    {
     "data": {
      "text/html": [
       "<div>\n",
       "<style>\n",
       "    .dataframe thead tr:only-child th {\n",
       "        text-align: right;\n",
       "    }\n",
       "\n",
       "    .dataframe thead th {\n",
       "        text-align: left;\n",
       "    }\n",
       "\n",
       "    .dataframe tbody tr th {\n",
       "        vertical-align: top;\n",
       "    }\n",
       "</style>\n",
       "<table border=\"1\" class=\"dataframe\">\n",
       "  <thead>\n",
       "    <tr style=\"text-align: right;\">\n",
       "      <th></th>\n",
       "      <th>MovieName</th>\n",
       "      <th>topic</th>\n",
       "      <th>xCoordinate</th>\n",
       "      <th>yCoordinate</th>\n",
       "    </tr>\n",
       "  </thead>\n",
       "  <tbody>\n",
       "    <tr>\n",
       "      <th>0</th>\n",
       "      <td>The Shawshank Redemption(1994)</td>\n",
       "      <td>1</td>\n",
       "      <td>0.017777</td>\n",
       "      <td>-0.008990</td>\n",
       "    </tr>\n",
       "    <tr>\n",
       "      <th>1</th>\n",
       "      <td>The Godfather(1972)</td>\n",
       "      <td>1</td>\n",
       "      <td>0.024909</td>\n",
       "      <td>-0.011219</td>\n",
       "    </tr>\n",
       "    <tr>\n",
       "      <th>2</th>\n",
       "      <td>The Godfather: Part II(1974)</td>\n",
       "      <td>1</td>\n",
       "      <td>-0.002451</td>\n",
       "      <td>0.000142</td>\n",
       "    </tr>\n",
       "    <tr>\n",
       "      <th>3</th>\n",
       "      <td>The Dark Knight(2008)</td>\n",
       "      <td>0</td>\n",
       "      <td>0.188087</td>\n",
       "      <td>-0.027993</td>\n",
       "    </tr>\n",
       "    <tr>\n",
       "      <th>4</th>\n",
       "      <td>12 Angry Men(1957)</td>\n",
       "      <td>3</td>\n",
       "      <td>-0.011986</td>\n",
       "      <td>0.008278</td>\n",
       "    </tr>\n",
       "    <tr>\n",
       "      <th>5</th>\n",
       "      <td>Schindler's List(1993)</td>\n",
       "      <td>1</td>\n",
       "      <td>-0.035511</td>\n",
       "      <td>-0.008646</td>\n",
       "    </tr>\n",
       "    <tr>\n",
       "      <th>6</th>\n",
       "      <td>Pulp Fiction(1994)</td>\n",
       "      <td>4</td>\n",
       "      <td>-0.028989</td>\n",
       "      <td>-0.009503</td>\n",
       "    </tr>\n",
       "    <tr>\n",
       "      <th>7</th>\n",
       "      <td>The Lord of the Rings: The Return of the King(...</td>\n",
       "      <td>0</td>\n",
       "      <td>0.001974</td>\n",
       "      <td>-0.012617</td>\n",
       "    </tr>\n",
       "    <tr>\n",
       "      <th>8</th>\n",
       "      <td>The Good, the Bad and the Ugly(1966)</td>\n",
       "      <td>0</td>\n",
       "      <td>-0.053408</td>\n",
       "      <td>-0.006833</td>\n",
       "    </tr>\n",
       "    <tr>\n",
       "      <th>9</th>\n",
       "      <td>Fight Club(1999)</td>\n",
       "      <td>1</td>\n",
       "      <td>0.010214</td>\n",
       "      <td>-0.000524</td>\n",
       "    </tr>\n",
       "    <tr>\n",
       "      <th>10</th>\n",
       "      <td>The Lord of the Rings: The Fellowship of the R...</td>\n",
       "      <td>2</td>\n",
       "      <td>-0.059252</td>\n",
       "      <td>-0.011214</td>\n",
       "    </tr>\n",
       "    <tr>\n",
       "      <th>11</th>\n",
       "      <td>Forrest Gump(1994)</td>\n",
       "      <td>1</td>\n",
       "      <td>-0.068615</td>\n",
       "      <td>0.000019</td>\n",
       "    </tr>\n",
       "    <tr>\n",
       "      <th>12</th>\n",
       "      <td>Star Wars: Episode V - The Empire Strikes Back...</td>\n",
       "      <td>0</td>\n",
       "      <td>0.013539</td>\n",
       "      <td>-0.034937</td>\n",
       "    </tr>\n",
       "    <tr>\n",
       "      <th>13</th>\n",
       "      <td>Inception(2010)</td>\n",
       "      <td>3</td>\n",
       "      <td>0.154962</td>\n",
       "      <td>0.028279</td>\n",
       "    </tr>\n",
       "    <tr>\n",
       "      <th>14</th>\n",
       "      <td>The Lord of the Rings: The Two Towers(2002)</td>\n",
       "      <td>2</td>\n",
       "      <td>-0.029480</td>\n",
       "      <td>-0.018138</td>\n",
       "    </tr>\n",
       "    <tr>\n",
       "      <th>15</th>\n",
       "      <td>One Flew Over the Cuckoo's Nest(1975)</td>\n",
       "      <td>0</td>\n",
       "      <td>-0.028709</td>\n",
       "      <td>-0.005541</td>\n",
       "    </tr>\n",
       "    <tr>\n",
       "      <th>16</th>\n",
       "      <td>Goodfellas(1990)</td>\n",
       "      <td>1</td>\n",
       "      <td>-0.032436</td>\n",
       "      <td>-0.001816</td>\n",
       "    </tr>\n",
       "    <tr>\n",
       "      <th>17</th>\n",
       "      <td>The Matrix(1999)</td>\n",
       "      <td>0</td>\n",
       "      <td>0.195410</td>\n",
       "      <td>-0.010564</td>\n",
       "    </tr>\n",
       "    <tr>\n",
       "      <th>18</th>\n",
       "      <td>Seven Samurai(1954)</td>\n",
       "      <td>1</td>\n",
       "      <td>-0.037677</td>\n",
       "      <td>-0.017920</td>\n",
       "    </tr>\n",
       "    <tr>\n",
       "      <th>19</th>\n",
       "      <td>Star Wars: Episode IV - A New Hope(1977)</td>\n",
       "      <td>2</td>\n",
       "      <td>0.183369</td>\n",
       "      <td>-0.102424</td>\n",
       "    </tr>\n",
       "    <tr>\n",
       "      <th>20</th>\n",
       "      <td>City of God(2002)</td>\n",
       "      <td>1</td>\n",
       "      <td>-0.060134</td>\n",
       "      <td>-0.007234</td>\n",
       "    </tr>\n",
       "    <tr>\n",
       "      <th>21</th>\n",
       "      <td>Se7en(1995)</td>\n",
       "      <td>1</td>\n",
       "      <td>-0.024562</td>\n",
       "      <td>-0.008881</td>\n",
       "    </tr>\n",
       "    <tr>\n",
       "      <th>22</th>\n",
       "      <td>The Silence of the Lambs(1991)</td>\n",
       "      <td>1</td>\n",
       "      <td>-0.053289</td>\n",
       "      <td>-0.012290</td>\n",
       "    </tr>\n",
       "    <tr>\n",
       "      <th>23</th>\n",
       "      <td>It's a Wonderful Life(1946)</td>\n",
       "      <td>3</td>\n",
       "      <td>0.021363</td>\n",
       "      <td>0.025872</td>\n",
       "    </tr>\n",
       "    <tr>\n",
       "      <th>24</th>\n",
       "      <td>Life Is Beautiful(1997)</td>\n",
       "      <td>1</td>\n",
       "      <td>-0.066511</td>\n",
       "      <td>-0.002254</td>\n",
       "    </tr>\n",
       "    <tr>\n",
       "      <th>25</th>\n",
       "      <td>The Usual Suspects(1995)</td>\n",
       "      <td>4</td>\n",
       "      <td>-0.041727</td>\n",
       "      <td>-0.006764</td>\n",
       "    </tr>\n",
       "    <tr>\n",
       "      <th>26</th>\n",
       "      <td>Léon: The Professional(1994)</td>\n",
       "      <td>1</td>\n",
       "      <td>-0.019526</td>\n",
       "      <td>0.001875</td>\n",
       "    </tr>\n",
       "    <tr>\n",
       "      <th>27</th>\n",
       "      <td>Saving Private Ryan(1998)</td>\n",
       "      <td>0</td>\n",
       "      <td>0.064599</td>\n",
       "      <td>-0.021577</td>\n",
       "    </tr>\n",
       "    <tr>\n",
       "      <th>28</th>\n",
       "      <td>Spirited Away(2001)</td>\n",
       "      <td>3</td>\n",
       "      <td>0.114895</td>\n",
       "      <td>0.053167</td>\n",
       "    </tr>\n",
       "    <tr>\n",
       "      <th>29</th>\n",
       "      <td>American History X(1998)</td>\n",
       "      <td>3</td>\n",
       "      <td>0.000459</td>\n",
       "      <td>0.018981</td>\n",
       "    </tr>\n",
       "    <tr>\n",
       "      <th>...</th>\n",
       "      <td>...</td>\n",
       "      <td>...</td>\n",
       "      <td>...</td>\n",
       "      <td>...</td>\n",
       "    </tr>\n",
       "    <tr>\n",
       "      <th>209</th>\n",
       "      <td>The Grapes of Wrath(1940)</td>\n",
       "      <td>1</td>\n",
       "      <td>-0.073659</td>\n",
       "      <td>-0.005038</td>\n",
       "    </tr>\n",
       "    <tr>\n",
       "      <th>210</th>\n",
       "      <td>Rocky(1976)</td>\n",
       "      <td>3</td>\n",
       "      <td>0.050475</td>\n",
       "      <td>0.031452</td>\n",
       "    </tr>\n",
       "    <tr>\n",
       "      <th>211</th>\n",
       "      <td>Catch Me If You Can(2002)</td>\n",
       "      <td>1</td>\n",
       "      <td>-0.025621</td>\n",
       "      <td>-0.003915</td>\n",
       "    </tr>\n",
       "    <tr>\n",
       "      <th>212</th>\n",
       "      <td>Touch of Evil(1958)</td>\n",
       "      <td>1</td>\n",
       "      <td>-0.051066</td>\n",
       "      <td>-0.000323</td>\n",
       "    </tr>\n",
       "    <tr>\n",
       "      <th>213</th>\n",
       "      <td>Diabolique(1955)</td>\n",
       "      <td>1</td>\n",
       "      <td>-0.070923</td>\n",
       "      <td>0.000538</td>\n",
       "    </tr>\n",
       "    <tr>\n",
       "      <th>214</th>\n",
       "      <td>Gandhi(1982)</td>\n",
       "      <td>1</td>\n",
       "      <td>-0.035601</td>\n",
       "      <td>0.010161</td>\n",
       "    </tr>\n",
       "    <tr>\n",
       "      <th>215</th>\n",
       "      <td>Donnie Darko(2001)</td>\n",
       "      <td>1</td>\n",
       "      <td>-0.022107</td>\n",
       "      <td>0.013433</td>\n",
       "    </tr>\n",
       "    <tr>\n",
       "      <th>216</th>\n",
       "      <td>Monsters, Inc.(2001)</td>\n",
       "      <td>0</td>\n",
       "      <td>-0.055840</td>\n",
       "      <td>-0.011752</td>\n",
       "    </tr>\n",
       "    <tr>\n",
       "      <th>217</th>\n",
       "      <td>Barry Lyndon(1975)</td>\n",
       "      <td>1</td>\n",
       "      <td>-0.026402</td>\n",
       "      <td>0.006653</td>\n",
       "    </tr>\n",
       "    <tr>\n",
       "      <th>218</th>\n",
       "      <td>Annie Hall(1977)</td>\n",
       "      <td>1</td>\n",
       "      <td>-0.075641</td>\n",
       "      <td>-0.000180</td>\n",
       "    </tr>\n",
       "    <tr>\n",
       "      <th>219</th>\n",
       "      <td>The Terminator(1984)</td>\n",
       "      <td>0</td>\n",
       "      <td>0.017242</td>\n",
       "      <td>-0.038850</td>\n",
       "    </tr>\n",
       "    <tr>\n",
       "      <th>220</th>\n",
       "      <td>Munna Bhai M.B.B.S.(2003)</td>\n",
       "      <td>1</td>\n",
       "      <td>-0.034485</td>\n",
       "      <td>0.004659</td>\n",
       "    </tr>\n",
       "    <tr>\n",
       "      <th>221</th>\n",
       "      <td>Star Wars: The Force Awakens(2015)</td>\n",
       "      <td>2</td>\n",
       "      <td>0.019723</td>\n",
       "      <td>-0.034994</td>\n",
       "    </tr>\n",
       "    <tr>\n",
       "      <th>222</th>\n",
       "      <td>The Bourne Ultimatum(2007)</td>\n",
       "      <td>4</td>\n",
       "      <td>-0.055474</td>\n",
       "      <td>-0.010783</td>\n",
       "    </tr>\n",
       "    <tr>\n",
       "      <th>223</th>\n",
       "      <td>The Wizard of Oz(1939)</td>\n",
       "      <td>3</td>\n",
       "      <td>-0.049787</td>\n",
       "      <td>-0.003864</td>\n",
       "    </tr>\n",
       "    <tr>\n",
       "      <th>224</th>\n",
       "      <td>Groundhog Day(1993)</td>\n",
       "      <td>1</td>\n",
       "      <td>-0.044364</td>\n",
       "      <td>0.007472</td>\n",
       "    </tr>\n",
       "    <tr>\n",
       "      <th>225</th>\n",
       "      <td>Jaws(1975)</td>\n",
       "      <td>0</td>\n",
       "      <td>0.031887</td>\n",
       "      <td>-0.008570</td>\n",
       "    </tr>\n",
       "    <tr>\n",
       "      <th>226</th>\n",
       "      <td>The Best Years of Our Lives(1946)</td>\n",
       "      <td>1</td>\n",
       "      <td>-0.060309</td>\n",
       "      <td>0.002369</td>\n",
       "    </tr>\n",
       "    <tr>\n",
       "      <th>227</th>\n",
       "      <td>Twelve Monkeys(1995)</td>\n",
       "      <td>0</td>\n",
       "      <td>-0.040624</td>\n",
       "      <td>-0.017747</td>\n",
       "    </tr>\n",
       "    <tr>\n",
       "      <th>228</th>\n",
       "      <td>Infernal Affairs(2002)</td>\n",
       "      <td>4</td>\n",
       "      <td>-0.052549</td>\n",
       "      <td>-0.013888</td>\n",
       "    </tr>\n",
       "    <tr>\n",
       "      <th>229</th>\n",
       "      <td>The Help(2011)</td>\n",
       "      <td>1</td>\n",
       "      <td>-0.018238</td>\n",
       "      <td>0.021627</td>\n",
       "    </tr>\n",
       "    <tr>\n",
       "      <th>230</th>\n",
       "      <td>Paris, Texas(1984)</td>\n",
       "      <td>1</td>\n",
       "      <td>-0.027245</td>\n",
       "      <td>0.017121</td>\n",
       "    </tr>\n",
       "    <tr>\n",
       "      <th>231</th>\n",
       "      <td>In the Mood for Love(2000)</td>\n",
       "      <td>1</td>\n",
       "      <td>-0.079823</td>\n",
       "      <td>-0.002229</td>\n",
       "    </tr>\n",
       "    <tr>\n",
       "      <th>232</th>\n",
       "      <td>Ah-ga-ssi(2016)</td>\n",
       "      <td>3</td>\n",
       "      <td>0.076913</td>\n",
       "      <td>0.066952</td>\n",
       "    </tr>\n",
       "    <tr>\n",
       "      <th>233</th>\n",
       "      <td>The Battle of Algiers(1966)</td>\n",
       "      <td>4</td>\n",
       "      <td>-0.062239</td>\n",
       "      <td>-0.003515</td>\n",
       "    </tr>\n",
       "    <tr>\n",
       "      <th>234</th>\n",
       "      <td>Beauty and the Beast(1991)</td>\n",
       "      <td>1</td>\n",
       "      <td>-0.021518</td>\n",
       "      <td>-0.000889</td>\n",
       "    </tr>\n",
       "    <tr>\n",
       "      <th>235</th>\n",
       "      <td>Dead Poets Society(1989)</td>\n",
       "      <td>1</td>\n",
       "      <td>0.008189</td>\n",
       "      <td>0.044513</td>\n",
       "    </tr>\n",
       "    <tr>\n",
       "      <th>236</th>\n",
       "      <td>Pirates of the Caribbean: The Curse of the Bla...</td>\n",
       "      <td>2</td>\n",
       "      <td>-0.049583</td>\n",
       "      <td>-0.014972</td>\n",
       "    </tr>\n",
       "    <tr>\n",
       "      <th>237</th>\n",
       "      <td>Gangs of Wasseypur(2012)</td>\n",
       "      <td>1</td>\n",
       "      <td>-0.085955</td>\n",
       "      <td>-0.005434</td>\n",
       "    </tr>\n",
       "    <tr>\n",
       "      <th>238</th>\n",
       "      <td>Dog Day Afternoon(1975)</td>\n",
       "      <td>4</td>\n",
       "      <td>-0.052554</td>\n",
       "      <td>-0.011035</td>\n",
       "    </tr>\n",
       "  </tbody>\n",
       "</table>\n",
       "<p>239 rows × 4 columns</p>\n",
       "</div>"
      ],
      "text/plain": [
       "                                             MovieName  topic  xCoordinate  \\\n",
       "0                       The Shawshank Redemption(1994)      1     0.017777   \n",
       "1                                  The Godfather(1972)      1     0.024909   \n",
       "2                         The Godfather: Part II(1974)      1    -0.002451   \n",
       "3                                The Dark Knight(2008)      0     0.188087   \n",
       "4                                   12 Angry Men(1957)      3    -0.011986   \n",
       "5                               Schindler's List(1993)      1    -0.035511   \n",
       "6                                   Pulp Fiction(1994)      4    -0.028989   \n",
       "7    The Lord of the Rings: The Return of the King(...      0     0.001974   \n",
       "8                 The Good, the Bad and the Ugly(1966)      0    -0.053408   \n",
       "9                                     Fight Club(1999)      1     0.010214   \n",
       "10   The Lord of the Rings: The Fellowship of the R...      2    -0.059252   \n",
       "11                                  Forrest Gump(1994)      1    -0.068615   \n",
       "12   Star Wars: Episode V - The Empire Strikes Back...      0     0.013539   \n",
       "13                                     Inception(2010)      3     0.154962   \n",
       "14         The Lord of the Rings: The Two Towers(2002)      2    -0.029480   \n",
       "15               One Flew Over the Cuckoo's Nest(1975)      0    -0.028709   \n",
       "16                                    Goodfellas(1990)      1    -0.032436   \n",
       "17                                    The Matrix(1999)      0     0.195410   \n",
       "18                                 Seven Samurai(1954)      1    -0.037677   \n",
       "19            Star Wars: Episode IV - A New Hope(1977)      2     0.183369   \n",
       "20                                   City of God(2002)      1    -0.060134   \n",
       "21                                         Se7en(1995)      1    -0.024562   \n",
       "22                      The Silence of the Lambs(1991)      1    -0.053289   \n",
       "23                         It's a Wonderful Life(1946)      3     0.021363   \n",
       "24                             Life Is Beautiful(1997)      1    -0.066511   \n",
       "25                            The Usual Suspects(1995)      4    -0.041727   \n",
       "26                        Léon: The Professional(1994)      1    -0.019526   \n",
       "27                           Saving Private Ryan(1998)      0     0.064599   \n",
       "28                                 Spirited Away(2001)      3     0.114895   \n",
       "29                            American History X(1998)      3     0.000459   \n",
       "..                                                 ...    ...          ...   \n",
       "209                          The Grapes of Wrath(1940)      1    -0.073659   \n",
       "210                                        Rocky(1976)      3     0.050475   \n",
       "211                          Catch Me If You Can(2002)      1    -0.025621   \n",
       "212                                Touch of Evil(1958)      1    -0.051066   \n",
       "213                                   Diabolique(1955)      1    -0.070923   \n",
       "214                                       Gandhi(1982)      1    -0.035601   \n",
       "215                                 Donnie Darko(2001)      1    -0.022107   \n",
       "216                               Monsters, Inc.(2001)      0    -0.055840   \n",
       "217                                 Barry Lyndon(1975)      1    -0.026402   \n",
       "218                                   Annie Hall(1977)      1    -0.075641   \n",
       "219                               The Terminator(1984)      0     0.017242   \n",
       "220                          Munna Bhai M.B.B.S.(2003)      1    -0.034485   \n",
       "221                 Star Wars: The Force Awakens(2015)      2     0.019723   \n",
       "222                         The Bourne Ultimatum(2007)      4    -0.055474   \n",
       "223                             The Wizard of Oz(1939)      3    -0.049787   \n",
       "224                                Groundhog Day(1993)      1    -0.044364   \n",
       "225                                         Jaws(1975)      0     0.031887   \n",
       "226                  The Best Years of Our Lives(1946)      1    -0.060309   \n",
       "227                               Twelve Monkeys(1995)      0    -0.040624   \n",
       "228                             Infernal Affairs(2002)      4    -0.052549   \n",
       "229                                     The Help(2011)      1    -0.018238   \n",
       "230                                 Paris, Texas(1984)      1    -0.027245   \n",
       "231                         In the Mood for Love(2000)      1    -0.079823   \n",
       "232                                    Ah-ga-ssi(2016)      3     0.076913   \n",
       "233                        The Battle of Algiers(1966)      4    -0.062239   \n",
       "234                         Beauty and the Beast(1991)      1    -0.021518   \n",
       "235                           Dead Poets Society(1989)      1     0.008189   \n",
       "236  Pirates of the Caribbean: The Curse of the Bla...      2    -0.049583   \n",
       "237                           Gangs of Wasseypur(2012)      1    -0.085955   \n",
       "238                            Dog Day Afternoon(1975)      4    -0.052554   \n",
       "\n",
       "     yCoordinate  \n",
       "0      -0.008990  \n",
       "1      -0.011219  \n",
       "2       0.000142  \n",
       "3      -0.027993  \n",
       "4       0.008278  \n",
       "5      -0.008646  \n",
       "6      -0.009503  \n",
       "7      -0.012617  \n",
       "8      -0.006833  \n",
       "9      -0.000524  \n",
       "10     -0.011214  \n",
       "11      0.000019  \n",
       "12     -0.034937  \n",
       "13      0.028279  \n",
       "14     -0.018138  \n",
       "15     -0.005541  \n",
       "16     -0.001816  \n",
       "17     -0.010564  \n",
       "18     -0.017920  \n",
       "19     -0.102424  \n",
       "20     -0.007234  \n",
       "21     -0.008881  \n",
       "22     -0.012290  \n",
       "23      0.025872  \n",
       "24     -0.002254  \n",
       "25     -0.006764  \n",
       "26      0.001875  \n",
       "27     -0.021577  \n",
       "28      0.053167  \n",
       "29      0.018981  \n",
       "..           ...  \n",
       "209    -0.005038  \n",
       "210     0.031452  \n",
       "211    -0.003915  \n",
       "212    -0.000323  \n",
       "213     0.000538  \n",
       "214     0.010161  \n",
       "215     0.013433  \n",
       "216    -0.011752  \n",
       "217     0.006653  \n",
       "218    -0.000180  \n",
       "219    -0.038850  \n",
       "220     0.004659  \n",
       "221    -0.034994  \n",
       "222    -0.010783  \n",
       "223    -0.003864  \n",
       "224     0.007472  \n",
       "225    -0.008570  \n",
       "226     0.002369  \n",
       "227    -0.017747  \n",
       "228    -0.013888  \n",
       "229     0.021627  \n",
       "230     0.017121  \n",
       "231    -0.002229  \n",
       "232     0.066952  \n",
       "233    -0.003515  \n",
       "234    -0.000889  \n",
       "235     0.044513  \n",
       "236    -0.014972  \n",
       "237    -0.005434  \n",
       "238    -0.011035  \n",
       "\n",
       "[239 rows x 4 columns]"
      ]
     },
     "execution_count": 1047,
     "metadata": {},
     "output_type": "execute_result"
    }
   ],
   "source": [
    "PCAdf2"
   ]
  },
  {
   "cell_type": "code",
   "execution_count": 1049,
   "metadata": {
    "collapsed": false
   },
   "outputs": [],
   "source": [
    "#Build a dict with clusters and colors\n",
    "topic_Colors = {0:'#800000',1:'#D2B4DE',2:'#85C1E9',3:'#48C9B0',4:'#52BE80'}"
   ]
  },
  {
   "cell_type": "code",
   "execution_count": 1050,
   "metadata": {
    "collapsed": false,
    "scrolled": false
   },
   "outputs": [
    {
     "data": {
      "image/png": "[encoded data removed]",
      "text/plain": [
       "<matplotlib.figure.Figure at 0x11ec37c88>"
      ]
     },
     "metadata": {},
     "output_type": "display_data"
    }
   ],
   "source": [
    "%matplotlib inline \n",
    "\n",
    "# set up plot\n",
    "figure, axis = plt.subplots(figsize=(16, 9))\n",
    "\n",
    "groups = PCAdf2.groupby(PCAdf2.topic)\n",
    "for topic_ID, group in groups: # unpack group\n",
    "    axis.plot(group.xCoordinate, group.yCoordinate, marker='o',  linestyle='', ms=10,\n",
    "            label=topic_keywords_dict[topic_ID], color=topic_Colors[topic_ID], \n",
    "            mec='none')\n",
    "\n",
    "axis.legend(numpoints=1,loc=4)  #show legend with only 1 point, position is right bottom.\n",
    "\n",
    "plt.show() #show the plot"
   ]
  },
  {
   "cell_type": "code",
   "execution_count": 1051,
   "metadata": {
    "collapsed": true
   },
   "outputs": [],
   "source": [
    "plt.close()"
   ]
  }
 ],
 "metadata": {
  "kernelspec": {
   "display_name": "Python 3",
   "language": "python",
   "name": "python3"
  },
  "language_info": {
   "codemirror_mode": {
    "name": "ipython",
    "version": 3
   },
   "file_extension": ".py",
   "mimetype": "text/x-python",
   "name": "python",
   "nbconvert_exporter": "python",
   "pygments_lexer": "ipython3",
   "version": "3.6.0"
  }
 },
 "nbformat": 4,
 "nbformat_minor": 0
}
