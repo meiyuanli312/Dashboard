{
 "cells": [
  {
   "cell_type": "markdown",
   "metadata": {},
   "source": [
    "The following visulizations refute the claim that \"Finanical Marktes punishes security breahces\"\n",
    "By \"punishe\", we mean and assume the stock price will go down noticeably after the breach so that we would make the connection between stock price, volume to breaches.  \n"
   ]
  },
  {
   "cell_type": "markdown",
   "metadata": {},
   "source": [
    "##### Intermediate 1 & Intermediate2"
   ]
  },
  {
   "cell_type": "markdown",
   "metadata": {},
   "source": [
    "https://public.tableau.com/views/Citigroupsstockpriceperformanceaftersecuritybreaches/CitiIntermediate1?:embed=y&:display_count=yes&publish=yes"
   ]
  },
  {
   "cell_type": "markdown",
   "metadata": {},
   "source": [
    "Both chars depict the stock price of Citigroup from 2005 to 2013.\n",
    "Because citigroup had three breaches in 2005, 2011 and 2013.\n",
    "It showed some fluctions each time after the breaches, but it is not that dramatic to connect the dot between security breahces and stock price.\n",
    "The shortcoming is that both of them did not exlain the stock price drop approxmiately from 2007 to 2009."
   ]
  },
  {
   "cell_type": "code",
   "execution_count": 52,
   "metadata": {
    "collapsed": false
   },
   "outputs": [
    {
     "data": {
      "text/html": [
       "<div class='tableauPlaceholder' id='viz1507370512378' style='position: relative'><noscript><a href='#'><img alt=' ' src='https:&#47;&#47;public.tableau.com&#47;static&#47;images&#47;Ci&#47;Citigroupsstockpriceperformanceaftersecuritybreaches&#47;CitiIntermediate1&#47;1_rss.png' style='border: none' /></a></noscript><object class='tableauViz'  style='display:none;'><param name='host_url' value='https%3A%2F%2Fpublic.tableau.com%2F' /> <param name='embed_code_version' value='2' /> <param name='site_root' value='' /><param name='name' value='Citigroupsstockpriceperformanceaftersecuritybreaches&#47;CitiIntermediate1' /><param name='tabs' value='yes' /><param name='toolbar' value='yes' /><param name='static_image' value='https:&#47;&#47;public.tableau.com&#47;static&#47;images&#47;Ci&#47;Citigroupsstockpriceperformanceaftersecuritybreaches&#47;CitiIntermediate1&#47;1.png' /> <param name='animate_transition' value='yes' /><param name='display_static_image' value='yes' /><param name='display_spinner' value='yes' /><param name='display_overlay' value='yes' /><param name='display_count' value='yes' /><param name='filter' value='publish=yes' /></object></div>                <script type='text/javascript'>                    var divElement = document.getElementById('viz1507370512378');                    var vizElement = divElement.getElementsByTagName('object')[0];                    vizElement.style.width='100%';vizElement.style.height=(divElement.offsetWidth*0.75)+'px';                    var scriptElement = document.createElement('script');                    scriptElement.src = 'https://public.tableau.com/javascripts/api/viz_v1.js';                    vizElement.parentNode.insertBefore(scriptElement, vizElement);                </script>"
      ],
      "text/plain": [
       "<IPython.core.display.HTML object>"
      ]
     },
     "metadata": {},
     "output_type": "display_data"
    }
   ],
   "source": [
    "%%HTML\n",
    "<div class='tableauPlaceholder' id='viz1507370512378' style='position: relative'><noscript><a href='#'><img alt=' ' src='https:&#47;&#47;public.tableau.com&#47;static&#47;images&#47;Ci&#47;Citigroupsstockpriceperformanceaftersecuritybreaches&#47;CitiIntermediate1&#47;1_rss.png' style='border: none' /></a></noscript><object class='tableauViz'  style='display:none;'><param name='host_url' value='https%3A%2F%2Fpublic.tableau.com%2F' /> <param name='embed_code_version' value='2' /> <param name='site_root' value='' /><param name='name' value='Citigroupsstockpriceperformanceaftersecuritybreaches&#47;CitiIntermediate1' /><param name='tabs' value='yes' /><param name='toolbar' value='yes' /><param name='static_image' value='https:&#47;&#47;public.tableau.com&#47;static&#47;images&#47;Ci&#47;Citigroupsstockpriceperformanceaftersecuritybreaches&#47;CitiIntermediate1&#47;1.png' /> <param name='animate_transition' value='yes' /><param name='display_static_image' value='yes' /><param name='display_spinner' value='yes' /><param name='display_overlay' value='yes' /><param name='display_count' value='yes' /><param name='filter' value='publish=yes' /></object></div>                <script type='text/javascript'>                    var divElement = document.getElementById('viz1507370512378');                    var vizElement = divElement.getElementsByTagName('object')[0];                    vizElement.style.width='100%';vizElement.style.height=(divElement.offsetWidth*0.75)+'px';                    var scriptElement = document.createElement('script');                    scriptElement.src = 'https://public.tableau.com/javascripts/api/viz_v1.js';                    vizElement.parentNode.insertBefore(scriptElement, vizElement);                </script>"
   ]
  },
  {
   "cell_type": "markdown",
   "metadata": {},
   "source": [
    "Final Version\n",
    "https://public.tableau.com/views/CitiFinal/CitiFinal?:embed=y&:display_count=yes&publish=yes"
   ]
  },
  {
   "cell_type": "markdown",
   "metadata": {},
   "source": [
    "### Pros\n",
    "#### Finalized version provides an explaination why the sudden plummet in 2008 \n",
    "#### It also explained why it did not go up after the financial cisis.\n",
    "###  Regression line is removed because time factor is not really not prominent in this case."
   ]
  },
  {
   "cell_type": "markdown",
   "metadata": {},
   "source": [
    "### Cons\n",
    "#### The time range can be reduced to three segments 2005, 2011 and 20013.\n",
    "#### Then we can perform a side-by-side comparson.\n",
    "#### This way we don't have to explain the above reasons."
   ]
  },
  {
   "cell_type": "code",
   "execution_count": 58,
   "metadata": {
    "collapsed": false,
    "scrolled": true
   },
   "outputs": [
    {
     "data": {
      "text/html": [
       "<div class='tableauPlaceholder' id='viz1507399217804' style='position: relative'><noscript><a href='#'><img alt=' ' src='https:&#47;&#47;public.tableau.com&#47;static&#47;images&#47;Ci&#47;CitiFinal&#47;CitiFinal&#47;1_rss.png' style='border: none' /></a></noscript><object class='tableauViz'  style='display:none;'><param name='host_url' value='https%3A%2F%2Fpublic.tableau.com%2F' /> <param name='embed_code_version' value='2' /> <param name='site_root' value='' /><param name='name' value='CitiFinal&#47;CitiFinal' /><param name='tabs' value='no' /><param name='toolbar' value='yes' /><param name='static_image' value='https:&#47;&#47;public.tableau.com&#47;static&#47;images&#47;Ci&#47;CitiFinal&#47;CitiFinal&#47;1.png' /> <param name='animate_transition' value='yes' /><param name='display_static_image' value='yes' /><param name='display_spinner' value='yes' /><param name='display_overlay' value='yes' /><param name='display_count' value='yes' /><param name='filter' value='publish=yes' /></object></div>                <script type='text/javascript'>                    var divElement = document.getElementById('viz1507399217804');                    var vizElement = divElement.getElementsByTagName('object')[0];                    vizElement.style.width='100%';vizElement.style.height=(divElement.offsetWidth*0.75)+'px';                    var scriptElement = document.createElement('script');                    scriptElement.src = 'https://public.tableau.com/javascripts/api/viz_v1.js';                    vizElement.parentNode.insertBefore(scriptElement, vizElement);                </script>"
      ],
      "text/plain": [
       "<IPython.core.display.HTML object>"
      ]
     },
     "metadata": {},
     "output_type": "display_data"
    }
   ],
   "source": [
    "%%HTML\n",
    "<div class='tableauPlaceholder' id='viz1507399217804' style='position: relative'><noscript><a href='#'><img alt=' ' src='https:&#47;&#47;public.tableau.com&#47;static&#47;images&#47;Ci&#47;CitiFinal&#47;CitiFinal&#47;1_rss.png' style='border: none' /></a></noscript><object class='tableauViz'  style='display:none;'><param name='host_url' value='https%3A%2F%2Fpublic.tableau.com%2F' /> <param name='embed_code_version' value='2' /> <param name='site_root' value='' /><param name='name' value='CitiFinal&#47;CitiFinal' /><param name='tabs' value='no' /><param name='toolbar' value='yes' /><param name='static_image' value='https:&#47;&#47;public.tableau.com&#47;static&#47;images&#47;Ci&#47;CitiFinal&#47;CitiFinal&#47;1.png' /> <param name='animate_transition' value='yes' /><param name='display_static_image' value='yes' /><param name='display_spinner' value='yes' /><param name='display_overlay' value='yes' /><param name='display_count' value='yes' /><param name='filter' value='publish=yes' /></object></div>                <script type='text/javascript'>                    var divElement = document.getElementById('viz1507399217804');                    var vizElement = divElement.getElementsByTagName('object')[0];                    vizElement.style.width='100%';vizElement.style.height=(divElement.offsetWidth*0.75)+'px';                    var scriptElement = document.createElement('script');                    scriptElement.src = 'https://public.tableau.com/javascripts/api/viz_v1.js';                    vizElement.parentNode.insertBefore(scriptElement, vizElement);                </script>"
   ]
  },
  {
   "cell_type": "markdown",
   "metadata": {},
   "source": [
    "Below is the data wrangling process to arrive above visulizations."
   ]
  },
  {
   "cell_type": "markdown",
   "metadata": {},
   "source": [
    "Read the csv in from Lab2"
   ]
  },
  {
   "cell_type": "code",
   "execution_count": 1,
   "metadata": {
    "collapsed": true
   },
   "outputs": [],
   "source": [
    "import pandas as pd"
   ]
  },
  {
   "cell_type": "code",
   "execution_count": 2,
   "metadata": {
    "collapsed": false
   },
   "outputs": [],
   "source": [
    "df = pd.read_csv('dataForLab2.csv')"
   ]
  },
  {
   "cell_type": "markdown",
   "metadata": {},
   "source": [
    "Inspect the data"
   ]
  },
  {
   "cell_type": "code",
   "execution_count": 3,
   "metadata": {
    "collapsed": false
   },
   "outputs": [
    {
     "data": {
      "text/html": [
       "<div>\n",
       "<style>\n",
       "    .dataframe thead tr:only-child th {\n",
       "        text-align: right;\n",
       "    }\n",
       "\n",
       "    .dataframe thead th {\n",
       "        text-align: left;\n",
       "    }\n",
       "\n",
       "    .dataframe tbody tr th {\n",
       "        vertical-align: top;\n",
       "    }\n",
       "</style>\n",
       "<table border=\"1\" class=\"dataframe\">\n",
       "  <thead>\n",
       "    <tr style=\"text-align: right;\">\n",
       "      <th></th>\n",
       "      <th>Unnamed: 0</th>\n",
       "      <th>ENTITY</th>\n",
       "      <th>ACTUAL YEAR</th>\n",
       "      <th>RECORDS LOST</th>\n",
       "      <th>ORGANISATION</th>\n",
       "      <th>METHOD OF LEAK</th>\n",
       "      <th>DATA SENSITIVITY</th>\n",
       "    </tr>\n",
       "  </thead>\n",
       "  <tbody>\n",
       "    <tr>\n",
       "      <th>0</th>\n",
       "      <td>0</td>\n",
       "      <td>AOL</td>\n",
       "      <td>2004</td>\n",
       "      <td>92000000</td>\n",
       "      <td>web</td>\n",
       "      <td>inside job</td>\n",
       "      <td>1</td>\n",
       "    </tr>\n",
       "    <tr>\n",
       "      <th>1</th>\n",
       "      <td>1</td>\n",
       "      <td>Automatic Data Processing</td>\n",
       "      <td>2005</td>\n",
       "      <td>125000</td>\n",
       "      <td>financial</td>\n",
       "      <td>poor security</td>\n",
       "      <td>20</td>\n",
       "    </tr>\n",
       "    <tr>\n",
       "      <th>2</th>\n",
       "      <td>2</td>\n",
       "      <td>Ameritrade Inc.</td>\n",
       "      <td>2005</td>\n",
       "      <td>200000</td>\n",
       "      <td>financial</td>\n",
       "      <td>lost / stolen device</td>\n",
       "      <td>20</td>\n",
       "    </tr>\n",
       "    <tr>\n",
       "      <th>3</th>\n",
       "      <td>3</td>\n",
       "      <td>Citigroup</td>\n",
       "      <td>2005</td>\n",
       "      <td>3900000</td>\n",
       "      <td>financial</td>\n",
       "      <td>lost / stolen device</td>\n",
       "      <td>300</td>\n",
       "    </tr>\n",
       "    <tr>\n",
       "      <th>4</th>\n",
       "      <td>4</td>\n",
       "      <td>Cardsystems Solutions Inc.</td>\n",
       "      <td>2005</td>\n",
       "      <td>40000000</td>\n",
       "      <td>financial</td>\n",
       "      <td>hacked</td>\n",
       "      <td>300</td>\n",
       "    </tr>\n",
       "  </tbody>\n",
       "</table>\n",
       "</div>"
      ],
      "text/plain": [
       "   Unnamed: 0                       ENTITY  ACTUAL YEAR  RECORDS LOST  \\\n",
       "0           0                          AOL         2004      92000000   \n",
       "1           1    Automatic Data Processing         2005        125000   \n",
       "2           2              Ameritrade Inc.         2005        200000   \n",
       "3           3                    Citigroup         2005       3900000   \n",
       "4           4  Cardsystems Solutions Inc.          2005      40000000   \n",
       "\n",
       "  ORGANISATION        METHOD OF LEAK  DATA SENSITIVITY  \n",
       "0          web            inside job                 1  \n",
       "1    financial         poor security                20  \n",
       "2    financial  lost / stolen device                20  \n",
       "3    financial  lost / stolen device               300  \n",
       "4    financial                hacked               300  "
      ]
     },
     "execution_count": 3,
     "metadata": {},
     "output_type": "execute_result"
    }
   ],
   "source": [
    "df[:5]"
   ]
  },
  {
   "cell_type": "markdown",
   "metadata": {},
   "source": [
    "Drop first row"
   ]
  },
  {
   "cell_type": "code",
   "execution_count": 4,
   "metadata": {
    "collapsed": false
   },
   "outputs": [],
   "source": [
    "df = df.drop('Unnamed: 0', axis=1)"
   ]
  },
  {
   "cell_type": "code",
   "execution_count": 5,
   "metadata": {
    "collapsed": false
   },
   "outputs": [
    {
     "data": {
      "text/html": [
       "<div>\n",
       "<style>\n",
       "    .dataframe thead tr:only-child th {\n",
       "        text-align: right;\n",
       "    }\n",
       "\n",
       "    .dataframe thead th {\n",
       "        text-align: left;\n",
       "    }\n",
       "\n",
       "    .dataframe tbody tr th {\n",
       "        vertical-align: top;\n",
       "    }\n",
       "</style>\n",
       "<table border=\"1\" class=\"dataframe\">\n",
       "  <thead>\n",
       "    <tr style=\"text-align: right;\">\n",
       "      <th></th>\n",
       "      <th>ENTITY</th>\n",
       "      <th>ACTUAL YEAR</th>\n",
       "      <th>RECORDS LOST</th>\n",
       "      <th>ORGANISATION</th>\n",
       "      <th>METHOD OF LEAK</th>\n",
       "      <th>DATA SENSITIVITY</th>\n",
       "    </tr>\n",
       "  </thead>\n",
       "  <tbody>\n",
       "    <tr>\n",
       "      <th>0</th>\n",
       "      <td>AOL</td>\n",
       "      <td>2004</td>\n",
       "      <td>92000000</td>\n",
       "      <td>web</td>\n",
       "      <td>inside job</td>\n",
       "      <td>1</td>\n",
       "    </tr>\n",
       "    <tr>\n",
       "      <th>1</th>\n",
       "      <td>Automatic Data Processing</td>\n",
       "      <td>2005</td>\n",
       "      <td>125000</td>\n",
       "      <td>financial</td>\n",
       "      <td>poor security</td>\n",
       "      <td>20</td>\n",
       "    </tr>\n",
       "    <tr>\n",
       "      <th>2</th>\n",
       "      <td>Ameritrade Inc.</td>\n",
       "      <td>2005</td>\n",
       "      <td>200000</td>\n",
       "      <td>financial</td>\n",
       "      <td>lost / stolen device</td>\n",
       "      <td>20</td>\n",
       "    </tr>\n",
       "    <tr>\n",
       "      <th>3</th>\n",
       "      <td>Citigroup</td>\n",
       "      <td>2005</td>\n",
       "      <td>3900000</td>\n",
       "      <td>financial</td>\n",
       "      <td>lost / stolen device</td>\n",
       "      <td>300</td>\n",
       "    </tr>\n",
       "    <tr>\n",
       "      <th>4</th>\n",
       "      <td>Cardsystems Solutions Inc.</td>\n",
       "      <td>2005</td>\n",
       "      <td>40000000</td>\n",
       "      <td>financial</td>\n",
       "      <td>hacked</td>\n",
       "      <td>300</td>\n",
       "    </tr>\n",
       "  </tbody>\n",
       "</table>\n",
       "</div>"
      ],
      "text/plain": [
       "                        ENTITY  ACTUAL YEAR  RECORDS LOST ORGANISATION  \\\n",
       "0                          AOL         2004      92000000          web   \n",
       "1    Automatic Data Processing         2005        125000    financial   \n",
       "2              Ameritrade Inc.         2005        200000    financial   \n",
       "3                    Citigroup         2005       3900000    financial   \n",
       "4  Cardsystems Solutions Inc.          2005      40000000    financial   \n",
       "\n",
       "         METHOD OF LEAK  DATA SENSITIVITY  \n",
       "0            inside job                 1  \n",
       "1         poor security                20  \n",
       "2  lost / stolen device                20  \n",
       "3  lost / stolen device               300  \n",
       "4                hacked               300  "
      ]
     },
     "execution_count": 5,
     "metadata": {},
     "output_type": "execute_result"
    }
   ],
   "source": [
    "df[:5]"
   ]
  },
  {
   "cell_type": "markdown",
   "metadata": {},
   "source": [
    "Extract the Entity column "
   ]
  },
  {
   "cell_type": "code",
   "execution_count": 6,
   "metadata": {
    "collapsed": true
   },
   "outputs": [],
   "source": [
    "entities = df['ENTITY'] "
   ]
  },
  {
   "cell_type": "markdown",
   "metadata": {},
   "source": [
    "Find out the one with higer number breaches"
   ]
  },
  {
   "cell_type": "code",
   "execution_count": 7,
   "metadata": {
    "collapsed": false
   },
   "outputs": [
    {
     "data": {
      "text/plain": [
       "Yahoo                         3\n",
       "AOL                           3\n",
       "Citigroup                     3\n",
       "Dropbox                       2\n",
       "US Military                   2\n",
       "Countrywide Financial Corp    2\n",
       "AT&T                          2\n",
       "JP Morgan Chase               2\n",
       "Sony Pictures                 2\n",
       "Interpark                     1\n",
       "Name: ENTITY, dtype: int64"
      ]
     },
     "execution_count": 7,
     "metadata": {},
     "output_type": "execute_result"
    }
   ],
   "source": [
    "entities.value_counts()[:10]"
   ]
  },
  {
   "cell_type": "markdown",
   "metadata": {},
   "source": [
    "Find out which years the breaches happened"
   ]
  },
  {
   "cell_type": "code",
   "execution_count": 8,
   "metadata": {
    "collapsed": false
   },
   "outputs": [
    {
     "data": {
      "text/html": [
       "<div>\n",
       "<style>\n",
       "    .dataframe thead tr:only-child th {\n",
       "        text-align: right;\n",
       "    }\n",
       "\n",
       "    .dataframe thead th {\n",
       "        text-align: left;\n",
       "    }\n",
       "\n",
       "    .dataframe tbody tr th {\n",
       "        vertical-align: top;\n",
       "    }\n",
       "</style>\n",
       "<table border=\"1\" class=\"dataframe\">\n",
       "  <thead>\n",
       "    <tr style=\"text-align: right;\">\n",
       "      <th></th>\n",
       "      <th>ENTITY</th>\n",
       "      <th>ACTUAL YEAR</th>\n",
       "      <th>RECORDS LOST</th>\n",
       "      <th>ORGANISATION</th>\n",
       "      <th>METHOD OF LEAK</th>\n",
       "      <th>DATA SENSITIVITY</th>\n",
       "    </tr>\n",
       "    <tr>\n",
       "      <th>ENTITY</th>\n",
       "      <th></th>\n",
       "      <th></th>\n",
       "      <th></th>\n",
       "      <th></th>\n",
       "      <th></th>\n",
       "      <th></th>\n",
       "    </tr>\n",
       "  </thead>\n",
       "  <tbody>\n",
       "    <tr>\n",
       "      <th>Citigroup</th>\n",
       "      <td>Citigroup</td>\n",
       "      <td>2005</td>\n",
       "      <td>3900000</td>\n",
       "      <td>financial</td>\n",
       "      <td>lost / stolen device</td>\n",
       "      <td>300</td>\n",
       "    </tr>\n",
       "    <tr>\n",
       "      <th>Citigroup</th>\n",
       "      <td>Citigroup</td>\n",
       "      <td>2011</td>\n",
       "      <td>360083</td>\n",
       "      <td>financial</td>\n",
       "      <td>hacked</td>\n",
       "      <td>300</td>\n",
       "    </tr>\n",
       "    <tr>\n",
       "      <th>Citigroup</th>\n",
       "      <td>Citigroup</td>\n",
       "      <td>2013</td>\n",
       "      <td>150000</td>\n",
       "      <td>financial</td>\n",
       "      <td>accidentally published</td>\n",
       "      <td>20</td>\n",
       "    </tr>\n",
       "  </tbody>\n",
       "</table>\n",
       "</div>"
      ],
      "text/plain": [
       "              ENTITY  ACTUAL YEAR  RECORDS LOST ORGANISATION  \\\n",
       "ENTITY                                                         \n",
       "Citigroup  Citigroup         2005       3900000    financial   \n",
       "Citigroup  Citigroup         2011        360083    financial   \n",
       "Citigroup  Citigroup         2013        150000    financial   \n",
       "\n",
       "                   METHOD OF LEAK  DATA SENSITIVITY  \n",
       "ENTITY                                               \n",
       "Citigroup    lost / stolen device               300  \n",
       "Citigroup                  hacked               300  \n",
       "Citigroup  accidentally published                20  "
      ]
     },
     "execution_count": 8,
     "metadata": {},
     "output_type": "execute_result"
    }
   ],
   "source": [
    "df.index = entities\n",
    "df.loc['Citigroup',:]"
   ]
  },
  {
   "cell_type": "markdown",
   "metadata": {},
   "source": [
    "### Query this ticker symbol for all entities then analyze Citigroup"
   ]
  },
  {
   "cell_type": "code",
   "execution_count": 9,
   "metadata": {
    "collapsed": false
   },
   "outputs": [],
   "source": [
    "import json \n",
    "from urllib2 import urlopen"
   ]
  },
  {
   "cell_type": "markdown",
   "metadata": {},
   "source": [
    "Get Json Responses for all entities"
   ]
  },
  {
   "cell_type": "code",
   "execution_count": 10,
   "metadata": {
    "collapsed": false
   },
   "outputs": [],
   "source": [
    "# This function receives a entity name, and parse it into a json object\n",
    "def getJson(name):\n",
    "    response = urlopen(\"http://d.yimg.com/autoc.finance.yahoo.com/autoc?query=\"+'%20'.join(name.split(' '))+\"&region=1&lang=en\").read().decode('utf-8')\n",
    "    responseJson = json.loads(response)\n",
    "    return responseJson\n",
    "    "
   ]
  },
  {
   "cell_type": "code",
   "execution_count": 12,
   "metadata": {
    "collapsed": false
   },
   "outputs": [],
   "source": [
    "responsesJsonList = entities.apply(getJson)"
   ]
  },
  {
   "cell_type": "code",
   "execution_count": 13,
   "metadata": {
    "collapsed": false
   },
   "outputs": [
    {
     "data": {
      "text/plain": [
       "1    {u'ResultSet': {u'Query': u'ADP', u'Result': [...\n",
       "2    {u'ResultSet': {u'Query': u'Ameritrade Inc.', ...\n",
       "3    {u'ResultSet': {u'Query': u'Citigroup', u'Resu...\n",
       "4    {u'ResultSet': {u'Query': u'Cardsystems Soluti...\n",
       "Name: ENTITY, dtype: object"
      ]
     },
     "execution_count": 13,
     "metadata": {},
     "output_type": "execute_result"
    }
   ],
   "source": [
    "responsesJsonList[1:5] # Citigroup in no.3"
   ]
  },
  {
   "cell_type": "markdown",
   "metadata": {},
   "source": [
    "Extract the acutal result of every json object"
   ]
  },
  {
   "cell_type": "code",
   "execution_count": 14,
   "metadata": {
    "collapsed": true
   },
   "outputs": [],
   "source": [
    "# Get down do the acutal data\n",
    "def getResults(JsonReponse):\n",
    "    return JsonReponse.get('ResultSet').get('Result')"
   ]
  },
  {
   "cell_type": "code",
   "execution_count": 15,
   "metadata": {
    "collapsed": false
   },
   "outputs": [],
   "source": [
    "resultsList = responsesJsonList.apply(getResults)"
   ]
  },
  {
   "cell_type": "code",
   "execution_count": 16,
   "metadata": {
    "collapsed": false
   },
   "outputs": [
    {
     "data": {
      "text/plain": [
       "0    [{u'typeDisp': u'Equity', u'name': u'TIME WARN...\n",
       "1    [{u'typeDisp': u'Equity', u'name': u'Automatic...\n",
       "2                                                   []\n",
       "3    [{u'typeDisp': u'Equity', u'name': u'CITIGROUP...\n",
       "4                                                   []\n",
       "Name: ENTITY, dtype: object"
      ]
     },
     "execution_count": 16,
     "metadata": {},
     "output_type": "execute_result"
    }
   ],
   "source": [
    "resultsList[:5] # Citigroup in no.3"
   ]
  },
  {
   "cell_type": "markdown",
   "metadata": {},
   "source": [
    "Extract symbols and names then store in a dic\n",
    "#### Criteria: IPO in NYSE or NASDAQ and typeDisp is Equity"
   ]
  },
  {
   "cell_type": "code",
   "execution_count": 17,
   "metadata": {
    "collapsed": false
   },
   "outputs": [],
   "source": [
    "# If the data set is empty, return an empty list\n",
    "# If the entity is not listed in NYSE or NASDAQ, return an empty dict\n",
    "def getSymbolsAndNames(result):    \n",
    "    symbolsAndNames = {}\n",
    "    if len(result) == 0:\n",
    "        return result\n",
    "    else:\n",
    "        for item in result:\n",
    "            if ((item.get('exchDisp') == 'NYSE') and(item.get('typeDisp') == 'Equity')) or ((item.get('exchDisp') == 'NASDAQ') and(item.get('typeDisp') == 'Equity')):\n",
    "                key  = item.get('symbol')\n",
    "                value = item.get('name')\n",
    "                symbolsAndNames[key] = value\n",
    "        return symbolsAndNames\n",
    "            "
   ]
  },
  {
   "cell_type": "code",
   "execution_count": 18,
   "metadata": {
    "collapsed": true
   },
   "outputs": [],
   "source": [
    "symbolsAndNamesList = resultsList.apply(getSymbolsAndNames)"
   ]
  },
  {
   "cell_type": "code",
   "execution_count": 19,
   "metadata": {
    "collapsed": false
   },
   "outputs": [
    {
     "data": {
      "text/plain": [
       "0                                                   {}\n",
       "1         {u'ADP': u'Automatic Data Processing, Inc.'}\n",
       "2                                                   []\n",
       "3    {u'C-PP': u'Citigroup Inc.', u'C': u'Citigroup...\n",
       "4                                                   []\n",
       "Name: ENTITY, dtype: object"
      ]
     },
     "execution_count": 19,
     "metadata": {},
     "output_type": "execute_result"
    }
   ],
   "source": [
    "symbolsAndNamesList[:5]"
   ]
  },
  {
   "cell_type": "code",
   "execution_count": 20,
   "metadata": {
    "collapsed": false,
    "scrolled": true
   },
   "outputs": [
    {
     "data": {
      "text/plain": [
       "{u'C': u'Citigroup Inc.',\n",
       " u'C-PC': u'Citigroup Inc.',\n",
       " u'C-PJ': u'Citigroup Inc.',\n",
       " u'C-PK': u'Citigroup Inc. Dep Shs Repstg 1',\n",
       " u'C-PL': u'Citigroup Inc.',\n",
       " u'C-PN': u'Citigroup Capital XIII',\n",
       " u'C-PP': u'Citigroup Inc.',\n",
       " u'C-PS': u'Citigroup Inc.'}"
      ]
     },
     "execution_count": 20,
     "metadata": {},
     "output_type": "execute_result"
    }
   ],
   "source": [
    "symbolsAndNamesList[139]"
   ]
  },
  {
   "cell_type": "markdown",
   "metadata": {},
   "source": [
    "Use fuzzy wuzzy to find the most possible symbol"
   ]
  },
  {
   "cell_type": "code",
   "execution_count": 21,
   "metadata": {
    "collapsed": false
   },
   "outputs": [],
   "source": [
    "from fuzzywuzzy import fuzz\n",
    "from fuzzywuzzy import process"
   ]
  },
  {
   "cell_type": "markdown",
   "metadata": {},
   "source": [
    "Use function to extract all names to compare with entities later"
   ]
  },
  {
   "cell_type": "code",
   "execution_count": 22,
   "metadata": {
    "collapsed": false
   },
   "outputs": [],
   "source": [
    "# This function process the above dict\n",
    "# It should return a list with all possible names\n",
    "# Take Citigroup as an example:\n",
    "# It should be:\n",
    "# [u'Citigroup Inc.',\n",
    "#  u'Citigroup Inc.',\n",
    "#  u'Citigroup Inc.',\n",
    "#  u'Citigroup Inc.',\n",
    "#  u'Citigroup Inc.',\n",
    "#  u'Citigroup Inc. Dep Shs Repstg 1',\n",
    "#  u'Citigroup Inc.',\n",
    "#   u'Citigroup Capital XIII']\n",
    "def getNames(symbolsAndNames):\n",
    "    names = []\n",
    "    if len(symbolsAndNames) == 0:\n",
    "        return symbolsAndNames\n",
    "    else :\n",
    "        for v in symbolsAndNames.values():\n",
    "            names.append(v)\n",
    "        return names"
   ]
  },
  {
   "cell_type": "code",
   "execution_count": 23,
   "metadata": {
    "collapsed": false
   },
   "outputs": [],
   "source": [
    "namesList = symbolsAndNamesList.apply(getNames)"
   ]
  },
  {
   "cell_type": "code",
   "execution_count": 24,
   "metadata": {
    "collapsed": false
   },
   "outputs": [
    {
     "data": {
      "text/plain": [
       "0                                                   {}\n",
       "1                    [Automatic Data Processing, Inc.]\n",
       "2                                                   []\n",
       "3    [Citigroup Inc., Citigroup Inc., Citigroup Inc...\n",
       "4                                                   []\n",
       "5                                            [HP Inc.]\n",
       "6                                                   []\n",
       "7                                                   {}\n",
       "8                                                   []\n",
       "9                                                   {}\n",
       "Name: ENTITY, dtype: object"
      ]
     },
     "execution_count": 24,
     "metadata": {},
     "output_type": "execute_result"
    }
   ],
   "source": [
    "namesList[:10]"
   ]
  },
  {
   "cell_type": "code",
   "execution_count": 25,
   "metadata": {
    "collapsed": false
   },
   "outputs": [
    {
     "data": {
      "text/plain": [
       "[u'Citigroup Inc.',\n",
       " u'Citigroup Inc.',\n",
       " u'Citigroup Inc.',\n",
       " u'Citigroup Inc.',\n",
       " u'Citigroup Inc.',\n",
       " u'Citigroup Inc. Dep Shs Repstg 1',\n",
       " u'Citigroup Inc.',\n",
       " u'Citigroup Capital XIII']"
      ]
     },
     "execution_count": 25,
     "metadata": {},
     "output_type": "execute_result"
    }
   ],
   "source": [
    "namesList[3] # citigroup in no.3"
   ]
  },
  {
   "cell_type": "markdown",
   "metadata": {},
   "source": [
    "Fuzzy Wuzzy Process Function"
   ]
  },
  {
   "cell_type": "markdown",
   "metadata": {},
   "source": [
    "For loop to compare entity name with list of names we just processed"
   ]
  },
  {
   "cell_type": "code",
   "execution_count": 26,
   "metadata": {
    "collapsed": false
   },
   "outputs": [],
   "source": [
    "# After this loop, fuzzy wuzzy will give out an list of tupes\n",
    "# Tuple will have this format(name, score)\n",
    "scoreListOfList = []\n",
    "for x in range(0, len(entities)):\n",
    "    entity = entities[x]\n",
    "    names = namesList[x]\n",
    "    if len(names) == 0:\n",
    "        scoreListOfList.append(names)\n",
    "    else:\n",
    "        scoreListOfList.append(process.extract(entity,names))"
   ]
  },
  {
   "cell_type": "code",
   "execution_count": 27,
   "metadata": {
    "collapsed": false
   },
   "outputs": [],
   "source": [
    "scoreListOfList = pd.Series(scoreListOfList)"
   ]
  },
  {
   "cell_type": "code",
   "execution_count": 28,
   "metadata": {
    "collapsed": false
   },
   "outputs": [
    {
     "data": {
      "text/plain": [
       "[(u'Citigroup Inc.', 95),\n",
       " (u'Citigroup Inc.', 95),\n",
       " (u'Citigroup Inc.', 95),\n",
       " (u'Citigroup Inc.', 95),\n",
       " (u'Citigroup Inc.', 95)]"
      ]
     },
     "execution_count": 28,
     "metadata": {},
     "output_type": "execute_result"
    }
   ],
   "source": [
    "scoreListOfList[3] # Citigroup in no.3"
   ]
  },
  {
   "cell_type": "markdown",
   "metadata": {},
   "source": [
    "Define a function to get a name which has the higest score "
   ]
  },
  {
   "cell_type": "code",
   "execution_count": 29,
   "metadata": {
    "collapsed": true
   },
   "outputs": [],
   "source": [
    "# This should return the name which has the higest score \n",
    "def getHighest(scoreList):\n",
    "    if len(scoreList) == 0:\n",
    "        return scoreList\n",
    "    else:\n",
    "        return scoreList[0][0]"
   ]
  },
  {
   "cell_type": "code",
   "execution_count": 30,
   "metadata": {
    "collapsed": false
   },
   "outputs": [],
   "source": [
    "nameHasMaxScoreList = scoreListOfList.apply(getHighest)"
   ]
  },
  {
   "cell_type": "code",
   "execution_count": 31,
   "metadata": {
    "collapsed": false
   },
   "outputs": [
    {
     "data": {
      "text/plain": [
       "u'Citigroup Inc.'"
      ]
     },
     "execution_count": 31,
     "metadata": {},
     "output_type": "execute_result"
    }
   ],
   "source": [
    "nameHasMaxScoreList[3] # Citigroup in no.3"
   ]
  },
  {
   "cell_type": "markdown",
   "metadata": {},
   "source": [
    "Look up symbols has the name with highest fuzzy wuzzy score and store it in a list"
   ]
  },
  {
   "cell_type": "markdown",
   "metadata": {},
   "source": [
    "for loop tp get a list has"
   ]
  },
  {
   "cell_type": "code",
   "execution_count": 32,
   "metadata": {
    "collapsed": false
   },
   "outputs": [
    {
     "data": {
      "text/plain": [
       "{u'C': u'Citigroup Inc.',\n",
       " u'C-PC': u'Citigroup Inc.',\n",
       " u'C-PJ': u'Citigroup Inc.',\n",
       " u'C-PK': u'Citigroup Inc. Dep Shs Repstg 1',\n",
       " u'C-PL': u'Citigroup Inc.',\n",
       " u'C-PN': u'Citigroup Capital XIII',\n",
       " u'C-PP': u'Citigroup Inc.',\n",
       " u'C-PS': u'Citigroup Inc.'}"
      ]
     },
     "execution_count": 32,
     "metadata": {},
     "output_type": "execute_result"
    }
   ],
   "source": [
    "symbolsAndNamesList[3]"
   ]
  },
  {
   "cell_type": "code",
   "execution_count": 33,
   "metadata": {
    "collapsed": false
   },
   "outputs": [],
   "source": [
    "# This for loop will look up the symbols which has the value \"Citigroup Inc.\"\n",
    "# It should return [u'C-PP', u'C', u'C-PS', u'C-PC', u'C-PJ', u'C-PL']\n",
    "reducedSymbolsList = []\n",
    "for x in range(0, len(entities)):\n",
    "    reducedSymbols  = []\n",
    "    if len(symbolsAndNamesList[x]) != 0:\n",
    "        for symbol, name in symbolsAndNamesList[x].items() :\n",
    "            if len(nameHasMaxScoreList[x]) != 0:\n",
    "                if name == nameHasMaxScoreList[x]:\n",
    "                    reducedSymbols.append(symbol)\n",
    "            else:\n",
    "                reducedSymbols.append(nameHasMaxScoreList[x])\n",
    "        reducedSymbolsList.append(reducedSymbols)\n",
    "    else:\n",
    "        reducedSymbolsList.append(symbolsAndNamesList[x])"
   ]
  },
  {
   "cell_type": "code",
   "execution_count": 34,
   "metadata": {
    "collapsed": true
   },
   "outputs": [],
   "source": [
    "reducedSymbolsList = pd.Series(reducedSymbolsList)"
   ]
  },
  {
   "cell_type": "code",
   "execution_count": 35,
   "metadata": {
    "collapsed": false,
    "scrolled": true
   },
   "outputs": [
    {
     "data": {
      "text/plain": [
       "[u'C-PP', u'C', u'C-PS', u'C-PC', u'C-PJ', u'C-PL']"
      ]
     },
     "execution_count": 35,
     "metadata": {},
     "output_type": "execute_result"
    }
   ],
   "source": [
    "reducedSymbolsList[3]"
   ]
  },
  {
   "cell_type": "markdown",
   "metadata": {},
   "source": [
    "Remove anything after dash and Settle down to a finalized symbol list"
   ]
  },
  {
   "cell_type": "code",
   "execution_count": 36,
   "metadata": {
    "collapsed": true
   },
   "outputs": [],
   "source": [
    "import re"
   ]
  },
  {
   "cell_type": "code",
   "execution_count": 37,
   "metadata": {
    "collapsed": false
   },
   "outputs": [],
   "source": [
    "# This removes the unnecessary characters in ticker symbols\n",
    "# It should give out [u'C', u'C', u'C', u'C', u'C', u'C']\n",
    "def stripSymbols(reducedSymbols):\n",
    "    strippedSymbols = []\n",
    "    if len(reducedSymbols) != 0:\n",
    "        for reducedSymbol in reducedSymbols:\n",
    "            if '-' in reducedSymbol:\n",
    "                strippedSymbols.append(re.sub('-[A-Z]+', '', reducedSymbol))\n",
    "            else :\n",
    "                strippedSymbols.append(reducedSymbol)\n",
    "    else:\n",
    "        strippedSymbols.append(reducedSymbols)\n",
    "    return strippedSymbols"
   ]
  },
  {
   "cell_type": "code",
   "execution_count": 38,
   "metadata": {
    "collapsed": false
   },
   "outputs": [],
   "source": [
    "strippedSymbolsList = reducedSymbolsList.apply(stripSymbols)"
   ]
  },
  {
   "cell_type": "code",
   "execution_count": 39,
   "metadata": {
    "collapsed": false
   },
   "outputs": [
    {
     "data": {
      "text/plain": [
       "[u'C', u'C', u'C', u'C', u'C', u'C']"
      ]
     },
     "execution_count": 39,
     "metadata": {},
     "output_type": "execute_result"
    }
   ],
   "source": [
    "strippedSymbolsList[3]"
   ]
  },
  {
   "cell_type": "markdown",
   "metadata": {},
   "source": [
    "Extract the first one as the finalized ticker symbol"
   ]
  },
  {
   "cell_type": "code",
   "execution_count": 40,
   "metadata": {
    "collapsed": true
   },
   "outputs": [],
   "source": [
    "# Pick the first one as our finalized symbol for later qurey\n",
    "# It should be 'C'\n",
    "def getFinalSymbol(strippedSymbols):\n",
    "    if len(strippedSymbols) == 0:\n",
    "        return strippedSymbols\n",
    "    else:\n",
    "        return strippedSymbols[0]"
   ]
  },
  {
   "cell_type": "code",
   "execution_count": 41,
   "metadata": {
    "collapsed": false
   },
   "outputs": [],
   "source": [
    "finalSymbolsList = strippedSymbolsList.apply(getFinalSymbol)"
   ]
  },
  {
   "cell_type": "markdown",
   "metadata": {},
   "source": [
    "Incorporate this final Symbol list to the original df"
   ]
  },
  {
   "cell_type": "code",
   "execution_count": 43,
   "metadata": {
    "collapsed": false
   },
   "outputs": [],
   "source": [
    "df['Symbol'] = finalSymbolsList.values"
   ]
  },
  {
   "cell_type": "code",
   "execution_count": 57,
   "metadata": {
    "collapsed": false
   },
   "outputs": [
    {
     "data": {
      "text/plain": [
       "ENTITY                Equifax\n",
       "ACTUAL YEAR              2017\n",
       "RECORDS LOST        143000000\n",
       "ORGANISATION        financial\n",
       "METHOD OF LEAK         hacked\n",
       "DATA SENSITIVITY        50000\n",
       "Symbol                    EFX\n",
       "Name: Equifax, dtype: object"
      ]
     },
     "execution_count": 57,
     "metadata": {},
     "output_type": "execute_result"
    }
   ],
   "source": [
    "df.loc[\"Equifax\",:]"
   ]
  },
  {
   "cell_type": "markdown",
   "metadata": {},
   "source": [
    "Save to csv file"
   ]
  },
  {
   "cell_type": "code",
   "execution_count": 45,
   "metadata": {
    "collapsed": true
   },
   "outputs": [],
   "source": [
    "df.to_csv('integratedData.csv')"
   ]
  },
  {
   "cell_type": "markdown",
   "metadata": {},
   "source": [
    "Use pandas_reader to get historical data for ticker symbol C"
   ]
  },
  {
   "cell_type": "code",
   "execution_count": 1,
   "metadata": {
    "collapsed": false
   },
   "outputs": [],
   "source": [
    "from pandas_datareader import data as pdr"
   ]
  },
  {
   "cell_type": "code",
   "execution_count": 2,
   "metadata": {
    "collapsed": false
   },
   "outputs": [],
   "source": [
    "historicalPrice = pdr.DataReader('EFX', 'yahoo', \"2005-01-01\", \"2015-10-06\")"
   ]
  },
  {
   "cell_type": "code",
   "execution_count": 5,
   "metadata": {
    "collapsed": false
   },
   "outputs": [],
   "source": [
    "historicalPrice.to_csv('efx.csv') "
   ]
  },
  {
   "cell_type": "code",
   "execution_count": 48,
   "metadata": {
    "collapsed": false
   },
   "outputs": [
    {
     "data": {
      "text/html": [
       "<div>\n",
       "<style>\n",
       "    .dataframe thead tr:only-child th {\n",
       "        text-align: right;\n",
       "    }\n",
       "\n",
       "    .dataframe thead th {\n",
       "        text-align: left;\n",
       "    }\n",
       "\n",
       "    .dataframe tbody tr th {\n",
       "        vertical-align: top;\n",
       "    }\n",
       "</style>\n",
       "<table border=\"1\" class=\"dataframe\">\n",
       "  <thead>\n",
       "    <tr style=\"text-align: right;\">\n",
       "      <th></th>\n",
       "      <th>Open</th>\n",
       "      <th>High</th>\n",
       "      <th>Low</th>\n",
       "      <th>Close</th>\n",
       "      <th>Adj Close</th>\n",
       "      <th>Volume</th>\n",
       "    </tr>\n",
       "    <tr>\n",
       "      <th>Date</th>\n",
       "      <th></th>\n",
       "      <th></th>\n",
       "      <th></th>\n",
       "      <th></th>\n",
       "      <th></th>\n",
       "      <th></th>\n",
       "    </tr>\n",
       "  </thead>\n",
       "  <tbody>\n",
       "    <tr>\n",
       "      <th>2005-01-03</th>\n",
       "      <td>490.000000</td>\n",
       "      <td>490.000000</td>\n",
       "      <td>482.000000</td>\n",
       "      <td>482.700012</td>\n",
       "      <td>393.000092</td>\n",
       "      <td>1474600</td>\n",
       "    </tr>\n",
       "    <tr>\n",
       "      <th>2005-01-04</th>\n",
       "      <td>482.799988</td>\n",
       "      <td>487.700012</td>\n",
       "      <td>477.000000</td>\n",
       "      <td>478.600006</td>\n",
       "      <td>389.661926</td>\n",
       "      <td>1584700</td>\n",
       "    </tr>\n",
       "    <tr>\n",
       "      <th>2005-01-05</th>\n",
       "      <td>480.500000</td>\n",
       "      <td>487.799988</td>\n",
       "      <td>480.200012</td>\n",
       "      <td>484.600006</td>\n",
       "      <td>394.546906</td>\n",
       "      <td>1893300</td>\n",
       "    </tr>\n",
       "    <tr>\n",
       "      <th>2005-01-06</th>\n",
       "      <td>488.000000</td>\n",
       "      <td>492.399994</td>\n",
       "      <td>487.399994</td>\n",
       "      <td>489.299988</td>\n",
       "      <td>398.373596</td>\n",
       "      <td>1804900</td>\n",
       "    </tr>\n",
       "    <tr>\n",
       "      <th>2005-01-07</th>\n",
       "      <td>491.000000</td>\n",
       "      <td>491.100006</td>\n",
       "      <td>486.000000</td>\n",
       "      <td>486.500000</td>\n",
       "      <td>396.093994</td>\n",
       "      <td>1280300</td>\n",
       "    </tr>\n",
       "  </tbody>\n",
       "</table>\n",
       "</div>"
      ],
      "text/plain": [
       "                  Open        High         Low       Close   Adj Close  \\\n",
       "Date                                                                     \n",
       "2005-01-03  490.000000  490.000000  482.000000  482.700012  393.000092   \n",
       "2005-01-04  482.799988  487.700012  477.000000  478.600006  389.661926   \n",
       "2005-01-05  480.500000  487.799988  480.200012  484.600006  394.546906   \n",
       "2005-01-06  488.000000  492.399994  487.399994  489.299988  398.373596   \n",
       "2005-01-07  491.000000  491.100006  486.000000  486.500000  396.093994   \n",
       "\n",
       "             Volume  \n",
       "Date                 \n",
       "2005-01-03  1474600  \n",
       "2005-01-04  1584700  \n",
       "2005-01-05  1893300  \n",
       "2005-01-06  1804900  \n",
       "2005-01-07  1280300  "
      ]
     },
     "execution_count": 48,
     "metadata": {},
     "output_type": "execute_result"
    }
   ],
   "source": [
    "historicalPrice[:5]"
   ]
  },
  {
   "cell_type": "markdown",
   "metadata": {},
   "source": [
    "Drew the plot to get a idea "
   ]
  },
  {
   "cell_type": "code",
   "execution_count": 49,
   "metadata": {
    "collapsed": true
   },
   "outputs": [],
   "source": [
    "import warnings\n",
    "warnings.filterwarnings('ignore')"
   ]
  },
  {
   "cell_type": "code",
   "execution_count": 50,
   "metadata": {
    "collapsed": false
   },
   "outputs": [
    {
     "name": "stdout",
     "output_type": "stream",
     "text": [
      "Populating the interactive namespace from numpy and matplotlib\n"
     ]
    },
    {
     "data": {
      "text/plain": [
       "<matplotlib.axes._subplots.AxesSubplot at 0x10ab3c150>"
      ]
     },
     "execution_count": 50,
     "metadata": {},
     "output_type": "execute_result"
    },
    {
     "data": {
      "image/png": "[encoded data removed]",
      "text/plain": [
       "<matplotlib.figure.Figure at 0x10ab25810>"
      ]
     },
     "metadata": {},
     "output_type": "display_data"
    }
   ],
   "source": [
    "%pylab inline\n",
    "historicalPrice['Close'].plot()"
   ]
  },
  {
   "cell_type": "markdown",
   "metadata": {},
   "source": [
    "save the data to csv file"
   ]
  },
  {
   "cell_type": "code",
   "execution_count": 51,
   "metadata": {
    "collapsed": false
   },
   "outputs": [],
   "source": [
    "historicalPrice.to_csv('historicalPrice.csv')"
   ]
  }
 ],
 "metadata": {
  "kernelspec": {
   "display_name": "Python 2",
   "language": "python",
   "name": "python2"
  },
  "language_info": {
   "codemirror_mode": {
    "name": "ipython",
    "version": 2
   },
   "file_extension": ".py",
   "mimetype": "text/x-python",
   "name": "python",
   "nbconvert_exporter": "python",
   "pygments_lexer": "ipython2",
   "version": "2.7.11"
  }
 },
 "nbformat": 4,
 "nbformat_minor": 0
}
