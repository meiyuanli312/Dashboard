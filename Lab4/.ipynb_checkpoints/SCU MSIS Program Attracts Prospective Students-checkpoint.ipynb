{
 "cells": [
  {
   "cell_type": "markdown",
   "metadata": {},
   "source": [
    "### First bar chart compares the how many words in MSIS curriculum match the  key/top skills  mentioned in a PDF reported by Monster.com"
   ]
  },
  {
   "cell_type": "code",
   "execution_count": 671,
   "metadata": {
    "collapsed": false,
    "scrolled": true
   },
   "outputs": [
    {
     "name": "stdout",
     "output_type": "stream",
     "text": [
      "Populating the interactive namespace from numpy and matplotlib\n"
     ]
    },
    {
     "data": {
      "text/plain": [
       "<matplotlib.axes._subplots.AxesSubplot at 0x10e69b2e8>"
      ]
     },
     "execution_count": 671,
     "metadata": {},
     "output_type": "execute_result"
    },
    {
     "data": {
      "image/png": "[encoded data removed]",
      "text/plain": [
       "<matplotlib.figure.Figure at 0x10e6c4fd0>"
      ]
     },
     "metadata": {},
     "output_type": "display_data"
    }
   ],
   "source": [
    "%pylab inline\n",
    "skillCount.plot(kind = 'bar')"
   ]
  },
  {
   "cell_type": "markdown",
   "metadata": {},
   "source": [
    "### Second chart presents out of 150 silicone valley companies, how many are NYSE listed, how many are NASDAQ listed and how many are on the list of Fortune 500"
   ]
  },
  {
   "cell_type": "code",
   "execution_count": 772,
   "metadata": {
    "collapsed": false,
    "scrolled": true
   },
   "outputs": [
    {
     "name": "stdout",
     "output_type": "stream",
     "text": [
      "Populating the interactive namespace from numpy and matplotlib\n"
     ]
    },
    {
     "data": {
      "text/plain": [
       "<matplotlib.axes._subplots.AxesSubplot at 0x10acf12e8>"
      ]
     },
     "execution_count": 772,
     "metadata": {},
     "output_type": "execute_result"
    },
    {
     "data": {
      "image/png": "[encoded data removed]",
      "text/plain": [
       "<matplotlib.figure.Figure at 0x10acf2b70>"
      ]
     },
     "metadata": {},
     "output_type": "display_data"
    }
   ],
   "source": [
    "%pylab inline\n",
    "result.plot(kind = 'bar')"
   ]
  },
  {
   "cell_type": "markdown",
   "metadata": {},
   "source": [
    "Data Wrangling dow below"
   ]
  },
  {
   "cell_type": "markdown",
   "metadata": {},
   "source": [
    "#### Down below is for the first chart until state otherwise"
   ]
  },
  {
   "cell_type": "code",
   "execution_count": 407,
   "metadata": {
    "collapsed": false
   },
   "outputs": [],
   "source": [
    "from urllib.request import urlopen \n",
    "from selenium import webdriver\n",
    "import time\n",
    "from bs4 import BeautifulSoup\n",
    "import pandas as pd"
   ]
  },
  {
   "cell_type": "markdown",
   "metadata": {},
   "source": [
    "To get both course titles and descriptions, we find the CSS selector \"panel-group\""
   ]
  },
  {
   "cell_type": "markdown",
   "metadata": {},
   "source": [
    "![title](webScrpingTag.jpeg)"
   ]
  },
  {
   "cell_type": "code",
   "execution_count": 777,
   "metadata": {
    "collapsed": false
   },
   "outputs": [
    {
     "name": "stdout",
     "output_type": "stream",
     "text": [
      "2601 : Object-Oriented Analysis and Programming\n",
      "2602 : Information Systems Analysis & Design\n",
      "2603 : Database Management Systems\n",
      "2604 : Information Systems Policy and Strategy\n",
      "2605 : Telecommunications & Business Networks\n",
      "2606 : Software Project Management\n",
      "2621 : Business Intelligence & Data Warehousing\n",
      "2622 : ERP Systems\n",
      "2623 : Financial Information Systems\n",
      "2624 : E-Business Technologies: Virtualization and Cloud Computing\n",
      "2627 : Big Data Modeling and Analytics\n",
      "2628 : The Business of Cloud Computing\n",
      "2629 : Dashboards, Scorecards and Visualization\n",
      "2630 : Web Programming\n",
      "2640 : Capstone Project Proposal\n",
      "2641 : Information Technology: Ethics and Public Policy\n",
      "2642 : Capstone Project I\n",
      "2643 : Capstone Project II\n",
      "2644 : MSIS Master's Thesis\n",
      "2645 : Capstone Design Proposal\n",
      "2646 : Capstone Design Project I\n",
      "2647 : Capstone Design Project II\n",
      "2797 : Curricular Practicum Education\n",
      "2798 : Extended Curricular Practicum Education\n",
      "2801 : Mobile Payment and e_Commerce Security\n",
      "2802 : Data Science Analysis with Python\n"
     ]
    }
   ],
   "source": [
    "# These follwoing lines read a dynamic webpage\n",
    "driver = webdriver.PhantomJS(executable_path='/Users/Meiyuan/Downloads/phantomjs-2.1.1-macosx/bin/phantomjs') \n",
    "driver.get(\"https://www.scu.edu/business/ms-information-systems/curriculum/msis-courses/\")  \n",
    "time.sleep(3) # Sleep 3 seconds for the driver to load js page \n",
    "print (driver.find_element_by_css_selector('div.panel-group').text) \n",
    "driver.close()"
   ]
  },
  {
   "cell_type": "markdown",
   "metadata": {},
   "source": [
    "Unfortunatley, the course description is written in CSS pseudo elements, we have to find another way to extract them"
   ]
  },
  {
   "cell_type": "markdown",
   "metadata": {},
   "source": [
    "Use BeautifulSoup to parse the non-dynamic version of the above saved page "
   ]
  },
  {
   "cell_type": "code",
   "execution_count": 651,
   "metadata": {
    "collapsed": false
   },
   "outputs": [],
   "source": [
    "titleAndDesc = bsObj.find('div', {\"class\":\"panel-group\"}).getText().strip()"
   ]
  },
  {
   "cell_type": "code",
   "execution_count": 650,
   "metadata": {
    "collapsed": false,
    "scrolled": true
   },
   "outputs": [
    {
     "name": "stdout",
     "output_type": "stream",
     "text": [
      "<h1><span></span>MS in Information Systems</h1>\n"
     ]
    }
   ],
   "source": [
    "bsObj = BeautifulSoup(open(\"MSIS.html\",encoding='utf-8'), 'html.parser') \n",
    "print (bsObj.h1) # test to see whether it has the right page or not"
   ]
  },
  {
   "cell_type": "code",
   "execution_count": 652,
   "metadata": {
    "collapsed": false
   },
   "outputs": [
    {
     "data": {
      "text/plain": [
       "'2601 : Object-Oriented Analysis and Programming\\n\\n\\n\\nProvides students with advanced topics in object-oriented programming methodology. Instructor will present different programming paradigms and discuss object-oriented programming concepts including principles of data abstraction, inheritance, polymo'"
      ]
     },
     "execution_count": 652,
     "metadata": {},
     "output_type": "execute_result"
    }
   ],
   "source": [
    "titleAndDesc[:300] # Output is a very long string.Preview of the course titles and descriptions."
   ]
  },
  {
   "cell_type": "markdown",
   "metadata": {},
   "source": [
    "Remove new line characters and split the long string for later u"
   ]
  },
  {
   "cell_type": "code",
   "execution_count": 240,
   "metadata": {
    "collapsed": true
   },
   "outputs": [],
   "source": [
    "import re"
   ]
  },
  {
   "cell_type": "code",
   "execution_count": 661,
   "metadata": {
    "collapsed": true
   },
   "outputs": [],
   "source": [
    "titleAndDesc = re.sub('[\\n]+','   ', titleAndDesc)"
   ]
  },
  {
   "cell_type": "code",
   "execution_count": 662,
   "metadata": {
    "collapsed": false
   },
   "outputs": [
    {
     "data": {
      "text/plain": [
       "'2601 : Object-Oriented Analysis and Programming   Provides students with advanced topics in object-oriented programming methodology. Instructor will present different programming paradigms and discuss object-oriented programming concepts including principles of data abstraction, inheritance, polymor'"
      ]
     },
     "execution_count": 662,
     "metadata": {},
     "output_type": "execute_result"
    }
   ],
   "source": [
    "titleAndDesc[:300]"
   ]
  },
  {
   "cell_type": "markdown",
   "metadata": {},
   "source": [
    "Extract the most-needed tech skills form a PDF published by Monster.com.  \n",
    "The name is <b> Local Market Overview -- Silicon Valley </b>"
   ]
  },
  {
   "cell_type": "markdown",
   "metadata": {},
   "source": [
    "In this 29-page PDF file, two pages (19 and 29) present 30 skills in total. Some of them are identical, so we need to make a list only has unqiue skills."
   ]
  },
  {
   "cell_type": "markdown",
   "metadata": {},
   "source": [
    "![title](combined.jpg)"
   ]
  },
  {
   "cell_type": "code",
   "execution_count": 87,
   "metadata": {
    "collapsed": true
   },
   "outputs": [],
   "source": [
    "from urllib.request import urlopen \n",
    "from pdfminer.pdfinterp import PDFResourceManager, process_pdf \n",
    "from pdfminer.converter import TextConverter \n",
    "from pdfminer.layout import LAParams \n",
    "from io import StringIO \n",
    "from io import open"
   ]
  },
  {
   "cell_type": "code",
   "execution_count": 208,
   "metadata": {
    "collapsed": true
   },
   "outputs": [],
   "source": [
    "# Read PDF in and convert it to a string\n",
    "def readPDF(pdfFile):\n",
    "\n",
    "    rsrcmgr = PDFResourceManager() \n",
    "    retstr = StringIO() \n",
    "    laparams = LAParams() \n",
    "    device = TextConverter(rsrcmgr, retstr, laparams=laparams)\n",
    "\n",
    "    process_pdf(rsrcmgr, device, pdfFile) \n",
    "    device.close()\n",
    "\n",
    "    content = retstr.getvalue() \n",
    "    retstr.close() \n",
    "    return content"
   ]
  },
  {
   "cell_type": "code",
   "execution_count": 209,
   "metadata": {
    "collapsed": false
   },
   "outputs": [],
   "source": [
    "pdfFile = urlopen(\"https://media.newjobs.com/a/i/intelligence/Silicon-Valley-Monster-Local-Market-Overview_JUN2016.pdf\") \n",
    "outputString = readPDF(pdfFile) \n",
    "pdfFile.close()"
   ]
  },
  {
   "cell_type": "markdown",
   "metadata": {},
   "source": [
    "Remove new line character, unicode character and dot"
   ]
  },
  {
   "cell_type": "code",
   "execution_count": 210,
   "metadata": {
    "collapsed": false
   },
   "outputs": [],
   "source": [
    "output1stClean = outputString.replace('\\n',' ').replace('\\x0c',' ').replace('•',' ')"
   ]
  },
  {
   "cell_type": "markdown",
   "metadata": {},
   "source": [
    "Split it with two spaces becasuse some the skills we want are delimited with one space.\n",
    "Using one will break them up."
   ]
  },
  {
   "cell_type": "code",
   "execution_count": 211,
   "metadata": {
    "collapsed": false
   },
   "outputs": [],
   "source": [
    "outputSlited = output1stClean.split('  ')"
   ]
  },
  {
   "cell_type": "markdown",
   "metadata": {},
   "source": [
    "Remove the leading and trailing spaces for every tiem in the list"
   ]
  },
  {
   "cell_type": "code",
   "execution_count": 212,
   "metadata": {
    "collapsed": true
   },
   "outputs": [],
   "source": [
    "outputStripped = []\n",
    "for item in outputSlited:\n",
    "    outputStripped.append(item.strip())"
   ]
  },
  {
   "cell_type": "code",
   "execution_count": 270,
   "metadata": {
    "collapsed": false
   },
   "outputs": [
    {
     "data": {
      "text/plain": [
       "['100',\n",
       " '100',\n",
       " '100',\n",
       " '100',\n",
       " 'As part of a',\n",
       " 'larger search',\n",
       " '2,300',\n",
       " '3,000',\n",
       " '2,300',\n",
       " 'n/a',\n",
       " '400',\n",
       " '800',\n",
       " 'n/a',\n",
       " '1,100',\n",
       " '300',\n",
       " '400',\n",
       " '500',\n",
       " '2,900',\n",
       " '500',\n",
       " '1,100',\n",
       " '200',\n",
       " '1,000',\n",
       " '300',\n",
       " 'n/a',\n",
       " '500',\n",
       " '300',\n",
       " '200',\n",
       " 'n/a',\n",
       " '200',\n",
       " '200',\n",
       " '700',\n",
       " 'Source: Monster Internal Data, Direct Keyword Searches, 12-month',\n",
       " 'average, June 2015 – May 2016; San Francisco – San Jose metro area',\n",
       " '25',\n",
       " '54,900',\n",
       " 'MONTHLY JOB SEARCHES',\n",
       " 'Note: Direct keyword searches on the site account for about 1/2 of',\n",
       " 'job traffic with increasing traffic coming from 3rd Party Search (e.g.,',\n",
       " 'Google, Banners, TargetMail, Career Ad Network, and other traffic',\n",
       " 'drivers)',\n",
       " 'Results reflect selected Technology related terms. Most Non-Human',\n",
       " 'Traffic removed from the results.',\n",
       " '',\n",
       " 'Most Viewed Silicon Valley Area Jobs',\n",
       " 'Occupation',\n",
       " '% of Total Job',\n",
       " 'Views',\n",
       " 'Software Developers and Programmers',\n",
       " 'Misc. Engineers (e.g., Validation Engineers, Manufacturing engineers, etc.)',\n",
       " 'Secretaries and Administrative Assistants',\n",
       " 'Sales Representatives, Wholesale and Manufacturing',\n",
       " 'Misc. Business Operations Specialists (e.g., Project Managers, Program Managers, etc.)',\n",
       " 'Customer Service Representatives',\n",
       " 'Misc. Computer Occupations (e.g., SW QA Eng/Testers, Comp Sys Eng/Arch, IT Project Managers, etc.)',\n",
       " 'Misc. Managers (e.g., general managers, etc.)',\n",
       " 'General and Operations Managers',\n",
       " 'Market Research Analysts and Marketing Specialists',\n",
       " '6.5%',\n",
       " '4.7%',\n",
       " '4.5%',\n",
       " '3.8%',\n",
       " '3.4%',\n",
       " '2.9%',\n",
       " '2.8%',\n",
       " '2.1%',\n",
       " '1.9%',\n",
       " '1.9%',\n",
       " 'Source: Monster Internal Data, Most Recently Viewed Job, Dec 2015 – May 2016, San Francisco – San Jose metro area; Most Non-Human Traffic removed',\n",
       " 'from the results.',\n",
       " '26',\n",
       " '',\n",
       " 'Types of Candidates in Silicon Valley',\n",
       " 'More than 127,000 SILICON VALLEY Professionals are available',\n",
       " '',\n",
       " '',\n",
       " '',\n",
       " '',\n",
       " '',\n",
       " '',\n",
       " '',\n",
       " 'on MONSTER',\n",
       " 'Key Job Titles',\n",
       " 'Software Engineer',\n",
       " 'Administrative Assistant',\n",
       " 'Sales Representative',\n",
       " 'Project Manager',\n",
       " 'Quality Assurance Engineer',\n",
       " 'Receptionist',\n",
       " 'Customer Services Rep.',\n",
       " 'R&D Assistant',\n",
       " 'Cashier',\n",
       " 'Account Manager',\n",
       " 'Program Manager',\n",
       " 'Executive Assistant',\n",
       " 'Office Manager',\n",
       " 'Operations Manager',\n",
       " 'Business Analyst',\n",
       " '9,500',\n",
       " '9,400',\n",
       " '9,200',\n",
       " '6,400',\n",
       " '5,400',\n",
       " '4,300',\n",
       " '4,000',\n",
       " '3,800',\n",
       " '3,700',\n",
       " '3,700',\n",
       " '3,400',\n",
       " '3,400',\n",
       " '3,300',\n",
       " '3,100',\n",
       " '2,700',\n",
       " 'Source: Monster Internal Data, Resume Search Database, June 2016, Silicon Valley',\n",
       " 'Note: Results reflect current and previous work experience.',\n",
       " '27',\n",
       " '8% 1%',\n",
       " '4%',\n",
       " 'Masters and Above',\n",
       " '27%',\n",
       " \"Bachelor's Degree\",\n",
       " '20%',\n",
       " '40%',\n",
       " 'Associate/Some-College',\n",
       " 'Cert. or Voc. Training',\n",
       " 'High School Degree',\n",
       " 'Some High School',\n",
       " 'Key Skills',\n",
       " 'Sales',\n",
       " 'Analysis Skills',\n",
       " 'Customer Support/Service',\n",
       " 'Team Lead/Manager',\n",
       " 'Training/Teaching',\n",
       " 'Communication Skills',\n",
       " 'Project/Program Management',\n",
       " 'Marketing',\n",
       " 'Administrative Skills',\n",
       " 'Recruiting/Hiring',\n",
       " 'Resumes',\n",
       " '47,000',\n",
       " '46,100',\n",
       " '44,500',\n",
       " '32,000',\n",
       " '31,100',\n",
       " '30,700',\n",
       " '29,900',\n",
       " '27,800',\n",
       " '22,800',\n",
       " '21,900',\n",
       " '',\n",
       " 'Marketing/PR Candidates in Silicon Valley',\n",
       " '',\n",
       " 'More than 14,000 SILICON VALLEY MARKETING/PR Professionals',\n",
       " 'are available on MONSTER',\n",
       " '5,900',\n",
       " 'Marketing Managers',\n",
       " '5,200',\n",
       " 'Market Research',\n",
       " 'Analysts & Specialists',\n",
       " '1,700',\n",
       " 'Event Planners',\n",
       " '1,400',\n",
       " 'Public Relations',\n",
       " 'Managers & Specialists',\n",
       " '9,000',\n",
       " 'Key Marketing/PR Skills',\n",
       " 'Sales',\n",
       " 'Social Media',\n",
       " 'Online Marketing',\n",
       " 'CRM',\n",
       " 'Salesforce',\n",
       " 'Alliance/Partner Management',\n",
       " 'Marketing Communications',\n",
       " 'Cloud Computing',\n",
       " '3,600',\n",
       " '2,800',\n",
       " '2,000',\n",
       " '1,900',\n",
       " '1,800',\n",
       " '1,500',\n",
       " '1,100',\n",
       " 'SEO',\n",
       " 'SEM',\n",
       " 'SaaS',\n",
       " 'Digital Media',\n",
       " 'Big Data',\n",
       " 'Virtualization',\n",
       " 'UXD',\n",
       " '900',\n",
       " '900',\n",
       " '800',\n",
       " '300',\n",
       " '300',\n",
       " '300',\n",
       " '300',\n",
       " 'Source: Monster Internal Data, Resume Search Database, June 2016, Silicon Valley',\n",
       " 'Note: Results reflect current and previous work experience.',\n",
       " '28',\n",
       " '',\n",
       " 'Tech Candidates in Silicon Valley',\n",
       " 'More than 35,000 SILICON VALLEY TECH Professionals are available',\n",
       " '',\n",
       " '',\n",
       " '',\n",
       " '',\n",
       " '',\n",
       " '',\n",
       " '',\n",
       " 'on MONSTER',\n",
       " 'Key Tech Job Titles',\n",
       " 'Key Tech Skills',\n",
       " 'Software Engineer',\n",
       " 'Project Manager',\n",
       " 'Quality Assurance Engineer',\n",
       " '3,100',\n",
       " '2,800',\n",
       " 'Systems Engineer',\n",
       " '2,100',\n",
       " '9,500',\n",
       " 'Program Manager',\n",
       " 'Systems Administrator',\n",
       " 'Applications Engineer',\n",
       " 'Software Analyst',\n",
       " 'Systems Analyst',\n",
       " 'Web Developer',\n",
       " 'IT Manager',\n",
       " 'Software QA Engineer',\n",
       " 'Java Software Engineer',\n",
       " 'Design Engineer',\n",
       " 'Network Engineer',\n",
       " '1,700',\n",
       " '1,600',\n",
       " '1,600',\n",
       " '1,400',\n",
       " '1,200',\n",
       " '1,100',\n",
       " '1,000',\n",
       " '1,000',\n",
       " '900',\n",
       " '800',\n",
       " '800',\n",
       " 'Source: Monster Internal Data, Resume Search Database, June 2016, Silicon Valley',\n",
       " 'Note: Results reflect current and previous work experience.',\n",
       " '29',\n",
       " 'Java',\n",
       " 'SQL',\n",
       " 'Linux',\n",
       " 'HTML',\n",
       " 'UI/UX',\n",
       " 'UNIX',\n",
       " 'C',\n",
       " 'C++',\n",
       " 'JavaScript',\n",
       " 'CSS',\n",
       " 'Cloud Computing',\n",
       " 'PERL',\n",
       " 'Python',\n",
       " 'Web Services',\n",
       " 'Virtualization',\n",
       " '10,300',\n",
       " '9,700',\n",
       " '9,400',\n",
       " '8,800',\n",
       " '8,700',\n",
       " '8,200',\n",
       " '7,900',\n",
       " '7,800',\n",
       " '7,600',\n",
       " '5,600',\n",
       " '4,100',\n",
       " '3,700',\n",
       " '2,500',\n",
       " '2,400',\n",
       " '2,100',\n",
       " '',\n",
       " '']"
      ]
     },
     "execution_count": 270,
     "metadata": {},
     "output_type": "execute_result"
    }
   ],
   "source": [
    "outputStripped[1000:]"
   ]
  },
  {
   "cell_type": "markdown",
   "metadata": {},
   "source": [
    "Top15 skills are on page number '19' so extrct the skills by this criteria.\n",
    "If it has more than one '19' in the list, post-processing or other criteria are needed."
   ]
  },
  {
   "cell_type": "code",
   "execution_count": 311,
   "metadata": {
    "collapsed": true
   },
   "outputs": [],
   "source": [
    "top15Skills = []"
   ]
  },
  {
   "cell_type": "code",
   "execution_count": 312,
   "metadata": {
    "collapsed": false
   },
   "outputs": [],
   "source": [
    "for x in range(len(outputStripped)):\n",
    "    if outputStripped[x] == '19':\n",
    "        for y in range(15):\n",
    "            top15Skills.append(outputStripped[x+y+1])"
   ]
  },
  {
   "cell_type": "code",
   "execution_count": 313,
   "metadata": {
    "collapsed": false
   },
   "outputs": [
    {
     "data": {
      "text/plain": [
       "['CSS',\n",
       " 'HTML',\n",
       " 'JavaScript',\n",
       " 'UI',\n",
       " 'Web Services',\n",
       " 'Java',\n",
       " 'QA',\n",
       " 'SQL',\n",
       " 'UX',\n",
       " 'Python',\n",
       " 'UNIX',\n",
       " 'Big Data',\n",
       " 'Perl',\n",
       " 'Linux',\n",
       " 'C/C++']"
      ]
     },
     "execution_count": 313,
     "metadata": {},
     "output_type": "execute_result"
    }
   ],
   "source": [
    "top15Skills"
   ]
  },
  {
   "cell_type": "markdown",
   "metadata": {},
   "source": [
    "Key tech skills on page 29 are after a page number '29' in the list so extrct the skills by this criteria.\n",
    "If it has more than one '19' in the list, post-processing or other criteria are needed."
   ]
  },
  {
   "cell_type": "code",
   "execution_count": 657,
   "metadata": {
    "collapsed": true
   },
   "outputs": [],
   "source": [
    "keyTechSkills = []"
   ]
  },
  {
   "cell_type": "code",
   "execution_count": 658,
   "metadata": {
    "collapsed": false
   },
   "outputs": [],
   "source": [
    "for x in range(len(outputStripped)):\n",
    "    if outputStripped[x] == '29':\n",
    "        for y in range(15):\n",
    "            keyTechSkills.append(outputStripped[x+y+1])"
   ]
  },
  {
   "cell_type": "code",
   "execution_count": 659,
   "metadata": {
    "collapsed": false
   },
   "outputs": [],
   "source": [
    "keyTechSkills = keyTechSkills[-15:-1] # Post processing to get the correct 15 itmes"
   ]
  },
  {
   "cell_type": "code",
   "execution_count": 660,
   "metadata": {
    "collapsed": false
   },
   "outputs": [
    {
     "data": {
      "text/plain": [
       "['Java',\n",
       " 'SQL',\n",
       " 'Linux',\n",
       " 'HTML',\n",
       " 'UI/UX',\n",
       " 'UNIX',\n",
       " 'C',\n",
       " 'C++',\n",
       " 'JavaScript',\n",
       " 'CSS',\n",
       " 'Cloud Computing',\n",
       " 'PERL',\n",
       " 'Python',\n",
       " 'Web Services']"
      ]
     },
     "execution_count": 660,
     "metadata": {},
     "output_type": "execute_result"
    }
   ],
   "source": [
    "keyTechSkills"
   ]
  },
  {
   "cell_type": "markdown",
   "metadata": {},
   "source": [
    "Merge two lists"
   ]
  },
  {
   "cell_type": "code",
   "execution_count": 315,
   "metadata": {
    "collapsed": true
   },
   "outputs": [],
   "source": [
    "top15Skills.extend(keyTechSkills)"
   ]
  },
  {
   "cell_type": "markdown",
   "metadata": {},
   "source": [
    "Create a set"
   ]
  },
  {
   "cell_type": "code",
   "execution_count": 316,
   "metadata": {
    "collapsed": true
   },
   "outputs": [],
   "source": [
    "skillSet = (top15Skills)"
   ]
  },
  {
   "cell_type": "code",
   "execution_count": 317,
   "metadata": {
    "collapsed": false
   },
   "outputs": [
    {
     "data": {
      "text/plain": [
       "['CSS',\n",
       " 'HTML',\n",
       " 'JavaScript',\n",
       " 'UI',\n",
       " 'Web Services',\n",
       " 'Java',\n",
       " 'QA',\n",
       " 'SQL',\n",
       " 'UX',\n",
       " 'Python',\n",
       " 'UNIX',\n",
       " 'Big Data',\n",
       " 'Perl',\n",
       " 'Linux',\n",
       " 'C/C++',\n",
       " 'Java',\n",
       " 'SQL',\n",
       " 'Linux',\n",
       " 'HTML',\n",
       " 'UI/UX',\n",
       " 'UNIX',\n",
       " 'C',\n",
       " 'C++',\n",
       " 'JavaScript',\n",
       " 'CSS',\n",
       " 'Cloud Computing',\n",
       " 'PERL',\n",
       " 'Python']"
      ]
     },
     "execution_count": 317,
     "metadata": {},
     "output_type": "execute_result"
    }
   ],
   "source": [
    "skillSet"
   ]
  },
  {
   "cell_type": "raw",
   "metadata": {},
   "source": [
    "Now we have a string containing MSIS curriculum and description and a list contains the sills"
   ]
  },
  {
   "cell_type": "code",
   "execution_count": 663,
   "metadata": {
    "collapsed": true
   },
   "outputs": [],
   "source": [
    "skillCount = {}"
   ]
  },
  {
   "cell_type": "code",
   "execution_count": 664,
   "metadata": {
    "collapsed": true
   },
   "outputs": [],
   "source": [
    "for skill in skillSet:\n",
    "    skillCount[skill] = titleAndDesc.count(skill)"
   ]
  },
  {
   "cell_type": "code",
   "execution_count": 665,
   "metadata": {
    "collapsed": false
   },
   "outputs": [
    {
     "data": {
      "text/plain": [
       "{'Big Data': 4,\n",
       " 'C': 53,\n",
       " 'C++': 0,\n",
       " 'C/C++': 0,\n",
       " 'CSS': 1,\n",
       " 'Cloud Computing': 4,\n",
       " 'HTML': 1,\n",
       " 'Java': 3,\n",
       " 'JavaScript': 1,\n",
       " 'Linux': 0,\n",
       " 'PERL': 0,\n",
       " 'Perl': 0,\n",
       " 'Python': 4,\n",
       " 'QA': 0,\n",
       " 'SQL': 4,\n",
       " 'UI': 0,\n",
       " 'UI/UX': 0,\n",
       " 'UNIX': 0,\n",
       " 'UX': 0,\n",
       " 'Web Services': 0}"
      ]
     },
     "execution_count": 665,
     "metadata": {},
     "output_type": "execute_result"
    }
   ],
   "source": [
    "skillCount"
   ]
  },
  {
   "cell_type": "markdown",
   "metadata": {},
   "source": [
    "Speical handling of skill 'C' to get the correct number "
   ]
  },
  {
   "cell_type": "code",
   "execution_count": 666,
   "metadata": {
    "collapsed": true
   },
   "outputs": [],
   "source": [
    "skillCount['C'] = titleAndDesc.count(' '+ 'C'+' ')"
   ]
  },
  {
   "cell_type": "code",
   "execution_count": 667,
   "metadata": {
    "collapsed": false
   },
   "outputs": [
    {
     "data": {
      "text/plain": [
       "{'Big Data': 4,\n",
       " 'C': 1,\n",
       " 'C++': 0,\n",
       " 'C/C++': 0,\n",
       " 'CSS': 1,\n",
       " 'Cloud Computing': 4,\n",
       " 'HTML': 1,\n",
       " 'Java': 3,\n",
       " 'JavaScript': 1,\n",
       " 'Linux': 0,\n",
       " 'PERL': 0,\n",
       " 'Perl': 0,\n",
       " 'Python': 4,\n",
       " 'QA': 0,\n",
       " 'SQL': 4,\n",
       " 'UI': 0,\n",
       " 'UI/UX': 0,\n",
       " 'UNIX': 0,\n",
       " 'UX': 0,\n",
       " 'Web Services': 0}"
      ]
     },
     "execution_count": 667,
     "metadata": {},
     "output_type": "execute_result"
    }
   ],
   "source": [
    "skillCount"
   ]
  },
  {
   "cell_type": "markdown",
   "metadata": {},
   "source": [
    "Turn it into a Series"
   ]
  },
  {
   "cell_type": "code",
   "execution_count": 669,
   "metadata": {
    "collapsed": false
   },
   "outputs": [],
   "source": [
    "skillCount = pd.Series(skillCount, index = skillCount.keys())"
   ]
  },
  {
   "cell_type": "code",
   "execution_count": 670,
   "metadata": {
    "collapsed": false
   },
   "outputs": [
    {
     "data": {
      "text/plain": [
       "CSS                1\n",
       "HTML               1\n",
       "JavaScript         1\n",
       "UI                 0\n",
       "Web Services       0\n",
       "Java               3\n",
       "QA                 0\n",
       "SQL                4\n",
       "UX                 0\n",
       "Python             4\n",
       "UNIX               0\n",
       "Big Data           4\n",
       "Perl               0\n",
       "Linux              0\n",
       "C/C++              0\n",
       "UI/UX              0\n",
       "C                  1\n",
       "C++                0\n",
       "Cloud Computing    4\n",
       "PERL               0\n",
       "dtype: int64"
      ]
     },
     "execution_count": 670,
     "metadata": {},
     "output_type": "execute_result"
    }
   ],
   "source": [
    "skillCount"
   ]
  },
  {
   "cell_type": "code",
   "execution_count": 671,
   "metadata": {
    "collapsed": false,
    "scrolled": true
   },
   "outputs": [
    {
     "name": "stdout",
     "output_type": "stream",
     "text": [
      "Populating the interactive namespace from numpy and matplotlib\n"
     ]
    },
    {
     "data": {
      "text/plain": [
       "<matplotlib.axes._subplots.AxesSubplot at 0x10e69b2e8>"
      ]
     },
     "execution_count": 671,
     "metadata": {},
     "output_type": "execute_result"
    },
    {
     "data": {
      "image/png": "[encoded data removed]",
      "text/plain": [
       "<matplotlib.figure.Figure at 0x10e6c4fd0>"
      ]
     },
     "metadata": {},
     "output_type": "display_data"
    }
   ],
   "source": [
    "%pylab inline\n",
    "skillCount.plot(kind = 'bar')"
   ]
  },
  {
   "cell_type": "markdown",
   "metadata": {
    "collapsed": true
   },
   "source": [
    "Below will present how present out of 150 silicon valley companies, how many are NYSE listed, NASDAQ listed and on the list of Fortune 500 in 2017."
   ]
  },
  {
   "cell_type": "code",
   "execution_count": 673,
   "metadata": {
    "collapsed": false
   },
   "outputs": [
    {
     "name": "stderr",
     "output_type": "stream",
     "text": [
      "WARNING:pdfminer.converter:undefined: <PDFType1Font: basefont='GGFTXZ+BentonSans-Regular'>, 30\n",
      "WARNING:pdfminer.converter:undefined: <PDFType1Font: basefont='GGFTXZ+BentonSans-Regular'>, 28\n",
      "WARNING:pdfminer.converter:undefined: <PDFType1Font: basefont='GGFTXZ+BentonSans-Regular'>, 30\n",
      "WARNING:pdfminer.converter:undefined: <PDFType1Font: basefont='GGFTXZ+BentonSans-Regular'>, 28\n",
      "WARNING:pdfminer.layout:Too many boxes (204) to group, skipping.\n"
     ]
    }
   ],
   "source": [
    "pdfFile = open(\"2017-Silicon-Valley-150.pdf\", 'rb')\n",
    "outputString = readPDF(pdfFile)\n",
    "pdfFile.close()"
   ]
  },
  {
   "cell_type": "markdown",
   "metadata": {},
   "source": [
    "Remove new lines"
   ]
  },
  {
   "cell_type": "code",
   "execution_count": 674,
   "metadata": {
    "collapsed": false
   },
   "outputs": [],
   "source": [
    "output = re.sub('\\n',' ', outputString)"
   ]
  },
  {
   "cell_type": "code",
   "execution_count": 676,
   "metadata": {
    "collapsed": false
   },
   "outputs": [
    {
     "data": {
      "text/plain": [
       "'2016 2015   rank  rank   End  Last four  quarter quarters % chg   Last four   Proﬁt/ quarters Rank  '"
      ]
     },
     "execution_count": 676,
     "metadata": {},
     "output_type": "execute_result"
    }
   ],
   "source": [
    "output[:100]"
   ]
  },
  {
   "cell_type": "markdown",
   "metadata": {},
   "source": [
    "We want to extract the red part"
   ]
  },
  {
   "cell_type": "markdown",
   "metadata": {},
   "source": [
    "![title](CompanyNames2.jpeg)"
   ]
  },
  {
   "cell_type": "markdown",
   "metadata": {},
   "source": [
    "Data Wrangling for us to get the 150 names"
   ]
  },
  {
   "cell_type": "code",
   "execution_count": 679,
   "metadata": {
    "collapsed": false
   },
   "outputs": [],
   "source": [
    "outlist = re.split('[  ]\\d+[ ]', output)"
   ]
  },
  {
   "cell_type": "code",
   "execution_count": 690,
   "metadata": {
    "collapsed": false
   },
   "outputs": [
    {
     "data": {
      "text/plain": [
       "1046"
      ]
     },
     "execution_count": 690,
     "metadata": {},
     "output_type": "execute_result"
    }
   ],
   "source": [
    "len(outlist) # huge number becuase it contains a lot of empty strings"
   ]
  },
  {
   "cell_type": "markdown",
   "metadata": {},
   "source": [
    "Intermediate list to hold all non-empty ngrams produced from the original long string"
   ]
  },
  {
   "cell_type": "code",
   "execution_count": 736,
   "metadata": {
    "collapsed": true
   },
   "outputs": [],
   "source": [
    "interMList = []"
   ]
  },
  {
   "cell_type": "code",
   "execution_count": 737,
   "metadata": {
    "collapsed": false
   },
   "outputs": [],
   "source": [
    "# Not only extract the non-empty list, leading and trailing spaces are removed\n",
    "for x in range(len(outlist)):\n",
    "    if outlist[x] != '':\n",
    "        interMList.append(outlist[x].strip())"
   ]
  },
  {
   "cell_type": "code",
   "execution_count": 738,
   "metadata": {
    "collapsed": false
   },
   "outputs": [
    {
     "data": {
      "text/plain": [
       "485"
      ]
     },
     "execution_count": 738,
     "metadata": {},
     "output_type": "execute_result"
    }
   ],
   "source": [
    "len(interMList) # shorter list"
   ]
  },
  {
   "cell_type": "code",
   "execution_count": 739,
   "metadata": {
    "collapsed": false
   },
   "outputs": [],
   "source": [
    "companyList = []"
   ]
  },
  {
   "cell_type": "code",
   "execution_count": 740,
   "metadata": {
    "collapsed": false
   },
   "outputs": [],
   "source": [
    "# First company starts with '8x8' then we extract the following 149 names\n",
    "for x in range(len(interMList)):\n",
    "    if interMList[x] == '8x8':\n",
    "        for y in range(150):\n",
    "            companyList.append(interMList[x+y])"
   ]
  },
  {
   "cell_type": "code",
   "execution_count": 743,
   "metadata": {
    "collapsed": false
   },
   "outputs": [
    {
     "data": {
      "text/plain": [
       "['8x8', 'A10 Networks', 'Abaxis', 'Accuray', 'Adobe Systems']"
      ]
     },
     "execution_count": 743,
     "metadata": {},
     "output_type": "execute_result"
    }
   ],
   "source": [
    "companyList[:5]"
   ]
  },
  {
   "cell_type": "code",
   "execution_count": 742,
   "metadata": {
    "collapsed": false
   },
   "outputs": [
    {
     "data": {
      "text/plain": [
       "150"
      ]
     },
     "execution_count": 742,
     "metadata": {},
     "output_type": "execute_result"
    }
   ],
   "source": [
    "len(companyList)"
   ]
  },
  {
   "cell_type": "code",
   "execution_count": 700,
   "metadata": {
    "collapsed": false,
    "scrolled": false
   },
   "outputs": [],
   "source": [
    "companyList = pd.Series(companyList) # Create a Series based on it"
   ]
  },
  {
   "cell_type": "code",
   "execution_count": 701,
   "metadata": {
    "collapsed": false
   },
   "outputs": [],
   "source": [
    "companyList.to_csv('svcompanies.csv') # Save the company list"
   ]
  },
  {
   "cell_type": "markdown",
   "metadata": {},
   "source": [
    "From now on we read a fortune 500 company list, a NYSE stock list and a NASDAQ stock list"
   ]
  },
  {
   "cell_type": "code",
   "execution_count": 702,
   "metadata": {
    "collapsed": false
   },
   "outputs": [],
   "source": [
    "fortune500df = pd.read_csv('Fortune500US.csv')"
   ]
  },
  {
   "cell_type": "code",
   "execution_count": 703,
   "metadata": {
    "collapsed": false
   },
   "outputs": [],
   "source": [
    "fortune500df.columns = ['Rank','Name']"
   ]
  },
  {
   "cell_type": "code",
   "execution_count": 706,
   "metadata": {
    "collapsed": false
   },
   "outputs": [
    {
     "data": {
      "text/html": [
       "<div>\n",
       "<style>\n",
       "    .dataframe thead tr:only-child th {\n",
       "        text-align: right;\n",
       "    }\n",
       "\n",
       "    .dataframe thead th {\n",
       "        text-align: left;\n",
       "    }\n",
       "\n",
       "    .dataframe tbody tr th {\n",
       "        vertical-align: top;\n",
       "    }\n",
       "</style>\n",
       "<table border=\"1\" class=\"dataframe\">\n",
       "  <thead>\n",
       "    <tr style=\"text-align: right;\">\n",
       "      <th></th>\n",
       "      <th>Rank</th>\n",
       "      <th>Name</th>\n",
       "    </tr>\n",
       "  </thead>\n",
       "  <tbody>\n",
       "    <tr>\n",
       "      <th>0</th>\n",
       "      <td>1</td>\n",
       "      <td>Walmart</td>\n",
       "    </tr>\n",
       "    <tr>\n",
       "      <th>1</th>\n",
       "      <td>2</td>\n",
       "      <td>Berkshire Hathaway</td>\n",
       "    </tr>\n",
       "    <tr>\n",
       "      <th>2</th>\n",
       "      <td>3</td>\n",
       "      <td>Apple</td>\n",
       "    </tr>\n",
       "    <tr>\n",
       "      <th>3</th>\n",
       "      <td>4</td>\n",
       "      <td>Exxon Mobil</td>\n",
       "    </tr>\n",
       "    <tr>\n",
       "      <th>4</th>\n",
       "      <td>5</td>\n",
       "      <td>McKesson</td>\n",
       "    </tr>\n",
       "  </tbody>\n",
       "</table>\n",
       "</div>"
      ],
      "text/plain": [
       "   Rank                Name\n",
       "0     1             Walmart\n",
       "1     2  Berkshire Hathaway\n",
       "2     3               Apple\n",
       "3     4         Exxon Mobil\n",
       "4     5            McKesson"
      ]
     },
     "execution_count": 706,
     "metadata": {},
     "output_type": "execute_result"
    }
   ],
   "source": [
    "fortune500df[:5]"
   ]
  },
  {
   "cell_type": "code",
   "execution_count": 704,
   "metadata": {
    "collapsed": true
   },
   "outputs": [],
   "source": [
    "fortune500String = ' '.join(fortune500df.Name.tolist()) # concatenate the long list to a string for later processing"
   ]
  },
  {
   "cell_type": "markdown",
   "metadata": {},
   "source": [
    "Nasdaq List"
   ]
  },
  {
   "cell_type": "code",
   "execution_count": 489,
   "metadata": {
    "collapsed": true
   },
   "outputs": [],
   "source": [
    "nasdaqdf = pd.read_csv('NASDAQcompanylist.csv')"
   ]
  },
  {
   "cell_type": "code",
   "execution_count": 705,
   "metadata": {
    "collapsed": false
   },
   "outputs": [
    {
     "data": {
      "text/html": [
       "<div>\n",
       "<style>\n",
       "    .dataframe thead tr:only-child th {\n",
       "        text-align: right;\n",
       "    }\n",
       "\n",
       "    .dataframe thead th {\n",
       "        text-align: left;\n",
       "    }\n",
       "\n",
       "    .dataframe tbody tr th {\n",
       "        vertical-align: top;\n",
       "    }\n",
       "</style>\n",
       "<table border=\"1\" class=\"dataframe\">\n",
       "  <thead>\n",
       "    <tr style=\"text-align: right;\">\n",
       "      <th></th>\n",
       "      <th>Symbol</th>\n",
       "      <th>Name</th>\n",
       "      <th>LastSale</th>\n",
       "      <th>MarketCap</th>\n",
       "      <th>ADR TSO</th>\n",
       "      <th>IPOyear</th>\n",
       "      <th>Sector</th>\n",
       "      <th>Industry</th>\n",
       "      <th>Summary Quote</th>\n",
       "      <th>Unnamed: 9</th>\n",
       "    </tr>\n",
       "  </thead>\n",
       "  <tbody>\n",
       "    <tr>\n",
       "      <th>0</th>\n",
       "      <td>PIH</td>\n",
       "      <td>1347 Property Insurance Holdings, Inc.</td>\n",
       "      <td>7.6838</td>\n",
       "      <td>4.577060e+07</td>\n",
       "      <td>n/a</td>\n",
       "      <td>2014</td>\n",
       "      <td>Finance</td>\n",
       "      <td>Property-Casualty Insurers</td>\n",
       "      <td>http://www.nasdaq.com/symbol/pih</td>\n",
       "      <td>NaN</td>\n",
       "    </tr>\n",
       "    <tr>\n",
       "      <th>1</th>\n",
       "      <td>TURN</td>\n",
       "      <td>180 Degree Capital Corp.</td>\n",
       "      <td>1.8737</td>\n",
       "      <td>5.831247e+07</td>\n",
       "      <td>n/a</td>\n",
       "      <td>n/a</td>\n",
       "      <td>Finance</td>\n",
       "      <td>Finance/Investors Services</td>\n",
       "      <td>http://www.nasdaq.com/symbol/turn</td>\n",
       "      <td>NaN</td>\n",
       "    </tr>\n",
       "    <tr>\n",
       "      <th>2</th>\n",
       "      <td>FLWS</td>\n",
       "      <td>1-800 FLOWERS.COM, Inc.</td>\n",
       "      <td>9.95</td>\n",
       "      <td>6.455454e+08</td>\n",
       "      <td>n/a</td>\n",
       "      <td>1999</td>\n",
       "      <td>Consumer Services</td>\n",
       "      <td>Other Specialty Stores</td>\n",
       "      <td>http://www.nasdaq.com/symbol/flws</td>\n",
       "      <td>NaN</td>\n",
       "    </tr>\n",
       "    <tr>\n",
       "      <th>3</th>\n",
       "      <td>FCCY</td>\n",
       "      <td>1st Constitution Bancorp (NJ)</td>\n",
       "      <td>17.85</td>\n",
       "      <td>1.440365e+08</td>\n",
       "      <td>n/a</td>\n",
       "      <td>n/a</td>\n",
       "      <td>Finance</td>\n",
       "      <td>Savings Institutions</td>\n",
       "      <td>http://www.nasdaq.com/symbol/fccy</td>\n",
       "      <td>NaN</td>\n",
       "    </tr>\n",
       "    <tr>\n",
       "      <th>4</th>\n",
       "      <td>SRCE</td>\n",
       "      <td>1st Source Corporation</td>\n",
       "      <td>52.08</td>\n",
       "      <td>1.350712e+09</td>\n",
       "      <td>n/a</td>\n",
       "      <td>n/a</td>\n",
       "      <td>Finance</td>\n",
       "      <td>Major Banks</td>\n",
       "      <td>http://www.nasdaq.com/symbol/srce</td>\n",
       "      <td>NaN</td>\n",
       "    </tr>\n",
       "  </tbody>\n",
       "</table>\n",
       "</div>"
      ],
      "text/plain": [
       "  Symbol                                    Name LastSale     MarketCap  \\\n",
       "0    PIH  1347 Property Insurance Holdings, Inc.   7.6838  4.577060e+07   \n",
       "1   TURN                180 Degree Capital Corp.   1.8737  5.831247e+07   \n",
       "2   FLWS                 1-800 FLOWERS.COM, Inc.     9.95  6.455454e+08   \n",
       "3   FCCY           1st Constitution Bancorp (NJ)    17.85  1.440365e+08   \n",
       "4   SRCE                  1st Source Corporation    52.08  1.350712e+09   \n",
       "\n",
       "  ADR TSO IPOyear             Sector                    Industry  \\\n",
       "0     n/a    2014            Finance  Property-Casualty Insurers   \n",
       "1     n/a     n/a            Finance  Finance/Investors Services   \n",
       "2     n/a    1999  Consumer Services      Other Specialty Stores   \n",
       "3     n/a     n/a            Finance        Savings Institutions   \n",
       "4     n/a     n/a            Finance                 Major Banks   \n",
       "\n",
       "                       Summary Quote  Unnamed: 9  \n",
       "0   http://www.nasdaq.com/symbol/pih         NaN  \n",
       "1  http://www.nasdaq.com/symbol/turn         NaN  \n",
       "2  http://www.nasdaq.com/symbol/flws         NaN  \n",
       "3  http://www.nasdaq.com/symbol/fccy         NaN  \n",
       "4  http://www.nasdaq.com/symbol/srce         NaN  "
      ]
     },
     "execution_count": 705,
     "metadata": {},
     "output_type": "execute_result"
    }
   ],
   "source": [
    "nasdaqdf[:5] # Notice names of this list has post-fix 'Inc.' or 'Corp."
   ]
  },
  {
   "cell_type": "code",
   "execution_count": 708,
   "metadata": {
    "collapsed": true
   },
   "outputs": [],
   "source": [
    "nasdaqString = ' '.join(nasdaqdf.Name.tolist())"
   ]
  },
  {
   "cell_type": "markdown",
   "metadata": {},
   "source": [
    "NYSE list"
   ]
  },
  {
   "cell_type": "code",
   "execution_count": 491,
   "metadata": {
    "collapsed": true
   },
   "outputs": [],
   "source": [
    "nysedf = pd.read_csv('NYSEcompanylist.csv')"
   ]
  },
  {
   "cell_type": "code",
   "execution_count": 492,
   "metadata": {
    "collapsed": false
   },
   "outputs": [
    {
     "data": {
      "text/html": [
       "<div>\n",
       "<style>\n",
       "    .dataframe thead tr:only-child th {\n",
       "        text-align: right;\n",
       "    }\n",
       "\n",
       "    .dataframe thead th {\n",
       "        text-align: left;\n",
       "    }\n",
       "\n",
       "    .dataframe tbody tr th {\n",
       "        vertical-align: top;\n",
       "    }\n",
       "</style>\n",
       "<table border=\"1\" class=\"dataframe\">\n",
       "  <thead>\n",
       "    <tr style=\"text-align: right;\">\n",
       "      <th></th>\n",
       "      <th>Symbol</th>\n",
       "      <th>Name</th>\n",
       "      <th>LastSale</th>\n",
       "      <th>MarketCap</th>\n",
       "      <th>ADR TSO</th>\n",
       "      <th>IPOyear</th>\n",
       "      <th>Sector</th>\n",
       "      <th>Industry</th>\n",
       "      <th>Summary Quote</th>\n",
       "      <th>Unnamed: 9</th>\n",
       "    </tr>\n",
       "  </thead>\n",
       "  <tbody>\n",
       "    <tr>\n",
       "      <th>0</th>\n",
       "      <td>DDD</td>\n",
       "      <td>3D Systems Corporation</td>\n",
       "      <td>12.68</td>\n",
       "      <td>1.442987e+09</td>\n",
       "      <td>n/a</td>\n",
       "      <td>n/a</td>\n",
       "      <td>Technology</td>\n",
       "      <td>Computer Software: Prepackaged Software</td>\n",
       "      <td>http://www.nasdaq.com/symbol/ddd</td>\n",
       "      <td>NaN</td>\n",
       "    </tr>\n",
       "    <tr>\n",
       "      <th>1</th>\n",
       "      <td>MMM</td>\n",
       "      <td>3M Company</td>\n",
       "      <td>216.75</td>\n",
       "      <td>1.293493e+11</td>\n",
       "      <td>n/a</td>\n",
       "      <td>n/a</td>\n",
       "      <td>Health Care</td>\n",
       "      <td>Medical/Dental Instruments</td>\n",
       "      <td>http://www.nasdaq.com/symbol/mmm</td>\n",
       "      <td>NaN</td>\n",
       "    </tr>\n",
       "    <tr>\n",
       "      <th>2</th>\n",
       "      <td>WBAI</td>\n",
       "      <td>500.com Limited</td>\n",
       "      <td>11.29</td>\n",
       "      <td>4.602664e+08</td>\n",
       "      <td>n/a</td>\n",
       "      <td>2013</td>\n",
       "      <td>Consumer Services</td>\n",
       "      <td>Services-Misc. Amusement &amp; Recreation</td>\n",
       "      <td>http://www.nasdaq.com/symbol/wbai</td>\n",
       "      <td>NaN</td>\n",
       "    </tr>\n",
       "    <tr>\n",
       "      <th>3</th>\n",
       "      <td>WUBA</td>\n",
       "      <td>58.com Inc.</td>\n",
       "      <td>64.41</td>\n",
       "      <td>9.376452e+09</td>\n",
       "      <td>n/a</td>\n",
       "      <td>2013</td>\n",
       "      <td>Technology</td>\n",
       "      <td>Computer Software: Programming, Data Processing</td>\n",
       "      <td>http://www.nasdaq.com/symbol/wuba</td>\n",
       "      <td>NaN</td>\n",
       "    </tr>\n",
       "    <tr>\n",
       "      <th>4</th>\n",
       "      <td>AHC</td>\n",
       "      <td>A.H. Belo Corporation</td>\n",
       "      <td>4.5</td>\n",
       "      <td>9.788925e+07</td>\n",
       "      <td>n/a</td>\n",
       "      <td>n/a</td>\n",
       "      <td>Consumer Services</td>\n",
       "      <td>Newspapers/Magazines</td>\n",
       "      <td>http://www.nasdaq.com/symbol/ahc</td>\n",
       "      <td>NaN</td>\n",
       "    </tr>\n",
       "  </tbody>\n",
       "</table>\n",
       "</div>"
      ],
      "text/plain": [
       "  Symbol                    Name LastSale     MarketCap ADR TSO IPOyear  \\\n",
       "0    DDD  3D Systems Corporation    12.68  1.442987e+09     n/a     n/a   \n",
       "1    MMM              3M Company   216.75  1.293493e+11     n/a     n/a   \n",
       "2   WBAI         500.com Limited    11.29  4.602664e+08     n/a    2013   \n",
       "3   WUBA             58.com Inc.    64.41  9.376452e+09     n/a    2013   \n",
       "4    AHC   A.H. Belo Corporation      4.5  9.788925e+07     n/a     n/a   \n",
       "\n",
       "              Sector                                         Industry  \\\n",
       "0         Technology          Computer Software: Prepackaged Software   \n",
       "1        Health Care                       Medical/Dental Instruments   \n",
       "2  Consumer Services            Services-Misc. Amusement & Recreation   \n",
       "3         Technology  Computer Software: Programming, Data Processing   \n",
       "4  Consumer Services                             Newspapers/Magazines   \n",
       "\n",
       "                       Summary Quote  Unnamed: 9  \n",
       "0   http://www.nasdaq.com/symbol/ddd         NaN  \n",
       "1   http://www.nasdaq.com/symbol/mmm         NaN  \n",
       "2  http://www.nasdaq.com/symbol/wbai         NaN  \n",
       "3  http://www.nasdaq.com/symbol/wuba         NaN  \n",
       "4   http://www.nasdaq.com/symbol/ahc         NaN  "
      ]
     },
     "execution_count": 492,
     "metadata": {},
     "output_type": "execute_result"
    }
   ],
   "source": [
    "nysedf[:5]"
   ]
  },
  {
   "cell_type": "code",
   "execution_count": 496,
   "metadata": {
    "collapsed": true
   },
   "outputs": [],
   "source": [
    "nyseString = ' '.join(nysedf.Name.tolist())"
   ]
  },
  {
   "cell_type": "markdown",
   "metadata": {},
   "source": [
    "Put names into different buckes"
   ]
  },
  {
   "cell_type": "code",
   "execution_count": 765,
   "metadata": {
    "collapsed": true
   },
   "outputs": [],
   "source": [
    "NYSE = []\n",
    "NASDAQ = []\n",
    "Fortune500 = []"
   ]
  },
  {
   "cell_type": "code",
   "execution_count": 766,
   "metadata": {
    "collapsed": false
   },
   "outputs": [],
   "source": [
    "for company in companyList:\n",
    "    if company in nyseString:\n",
    "        NYSE.append(company)\n",
    "    if company in nasdaqString:\n",
    "        NASDAQ.append(company)\n",
    "    if company in fortune500String:\n",
    "        Fortune500.append(company)"
   ]
  },
  {
   "cell_type": "code",
   "execution_count": 767,
   "metadata": {
    "collapsed": false
   },
   "outputs": [
    {
     "data": {
      "text/plain": [
       "['A10 Networks',\n",
       " 'Aerohive Networks',\n",
       " 'Agilent Technologies',\n",
       " 'Apple',\n",
       " 'Arista Networks']"
      ]
     },
     "execution_count": 767,
     "metadata": {},
     "output_type": "execute_result"
    }
   ],
   "source": [
    "NYSE[:5]"
   ]
  },
  {
   "cell_type": "markdown",
   "metadata": {},
   "source": [
    "Create a dict to present the name and number"
   ]
  },
  {
   "cell_type": "code",
   "execution_count": 768,
   "metadata": {
    "collapsed": false
   },
   "outputs": [],
   "source": [
    "valueCountDict = {'NYSE':len(NYSE), 'NASDAQ':len(NASDAQ), 'Fortune500':len(Fortune500)}"
   ]
  },
  {
   "cell_type": "code",
   "execution_count": 769,
   "metadata": {
    "collapsed": false
   },
   "outputs": [
    {
     "data": {
      "text/plain": [
       "{'Fortune500': 20, 'NASDAQ': 81, 'NYSE': 43}"
      ]
     },
     "execution_count": 769,
     "metadata": {},
     "output_type": "execute_result"
    }
   ],
   "source": [
    "valueCountDict"
   ]
  },
  {
   "cell_type": "code",
   "execution_count": 770,
   "metadata": {
    "collapsed": false
   },
   "outputs": [],
   "source": [
    "result = pd.Series(valueCountDict, index = ['Fortune500','NASDAQ','NYSE'])"
   ]
  },
  {
   "cell_type": "markdown",
   "metadata": {},
   "source": [
    "Show the preliminary result"
   ]
  },
  {
   "cell_type": "code",
   "execution_count": 771,
   "metadata": {
    "collapsed": false
   },
   "outputs": [],
   "source": [
    "import matplotlib"
   ]
  },
  {
   "cell_type": "code",
   "execution_count": 772,
   "metadata": {
    "collapsed": false,
    "scrolled": true
   },
   "outputs": [
    {
     "name": "stdout",
     "output_type": "stream",
     "text": [
      "Populating the interactive namespace from numpy and matplotlib\n"
     ]
    },
    {
     "data": {
      "text/plain": [
       "<matplotlib.axes._subplots.AxesSubplot at 0x10acf12e8>"
      ]
     },
     "execution_count": 772,
     "metadata": {},
     "output_type": "execute_result"
    },
    {
     "data": {
      "image/png": "[encoded data removed]",
      "text/plain": [
       "<matplotlib.figure.Figure at 0x10acf2b70>"
      ]
     },
     "metadata": {},
     "output_type": "display_data"
    }
   ],
   "source": [
    "%pylab inline\n",
    "result.plot(kind = 'bar')"
   ]
  },
  {
   "cell_type": "code",
   "execution_count": 773,
   "metadata": {
    "collapsed": true
   },
   "outputs": [],
   "source": [
    "result.to_csv('result.csv') # Save the result"
   ]
  },
  {
   "cell_type": "markdown",
   "metadata": {},
   "source": [
    "Following steps will create dataframe which has company, 'NYSE Listed', 'NASDAQ Listed' and 'Fortune 500' as its columns"
   ]
  },
  {
   "cell_type": "code",
   "execution_count": 585,
   "metadata": {
    "collapsed": false
   },
   "outputs": [],
   "source": [
    "companydf = pd.DataFrame(companyList, columns = ['Name'])"
   ]
  },
  {
   "cell_type": "code",
   "execution_count": 586,
   "metadata": {
    "collapsed": true
   },
   "outputs": [],
   "source": [
    "companydf.index = companydf.Name"
   ]
  },
  {
   "cell_type": "code",
   "execution_count": 587,
   "metadata": {
    "collapsed": false
   },
   "outputs": [
    {
     "data": {
      "text/html": [
       "<div>\n",
       "<style>\n",
       "    .dataframe thead tr:only-child th {\n",
       "        text-align: right;\n",
       "    }\n",
       "\n",
       "    .dataframe thead th {\n",
       "        text-align: left;\n",
       "    }\n",
       "\n",
       "    .dataframe tbody tr th {\n",
       "        vertical-align: top;\n",
       "    }\n",
       "</style>\n",
       "<table border=\"1\" class=\"dataframe\">\n",
       "  <thead>\n",
       "    <tr style=\"text-align: right;\">\n",
       "      <th></th>\n",
       "      <th>Name</th>\n",
       "    </tr>\n",
       "    <tr>\n",
       "      <th>Name</th>\n",
       "      <th></th>\n",
       "    </tr>\n",
       "  </thead>\n",
       "  <tbody>\n",
       "    <tr>\n",
       "      <th>8x8</th>\n",
       "      <td>8x8</td>\n",
       "    </tr>\n",
       "    <tr>\n",
       "      <th>A10 Networks</th>\n",
       "      <td>A10 Networks</td>\n",
       "    </tr>\n",
       "    <tr>\n",
       "      <th>Abaxis</th>\n",
       "      <td>Abaxis</td>\n",
       "    </tr>\n",
       "    <tr>\n",
       "      <th>Accuray</th>\n",
       "      <td>Accuray</td>\n",
       "    </tr>\n",
       "    <tr>\n",
       "      <th>Adobe Systems</th>\n",
       "      <td>Adobe Systems</td>\n",
       "    </tr>\n",
       "  </tbody>\n",
       "</table>\n",
       "</div>"
      ],
      "text/plain": [
       "                        Name\n",
       "Name                        \n",
       "8x8                      8x8\n",
       "A10 Networks    A10 Networks\n",
       "Abaxis                Abaxis\n",
       "Accuray              Accuray\n",
       "Adobe Systems  Adobe Systems"
      ]
     },
     "execution_count": 587,
     "metadata": {},
     "output_type": "execute_result"
    }
   ],
   "source": [
    "companydf[:5]"
   ]
  },
  {
   "cell_type": "code",
   "execution_count": 588,
   "metadata": {
    "collapsed": false
   },
   "outputs": [],
   "source": [
    "companydf['NYSE Listed'] = 0"
   ]
  },
  {
   "cell_type": "code",
   "execution_count": 589,
   "metadata": {
    "collapsed": true
   },
   "outputs": [],
   "source": [
    "companydf['NASDAQ Listed'] = 0"
   ]
  },
  {
   "cell_type": "code",
   "execution_count": 590,
   "metadata": {
    "collapsed": true
   },
   "outputs": [],
   "source": [
    "companydf['Fortune 500'] = 0"
   ]
  },
  {
   "cell_type": "markdown",
   "metadata": {},
   "source": [
    "Assign Value "
   ]
  },
  {
   "cell_type": "code",
   "execution_count": 592,
   "metadata": {
    "collapsed": false
   },
   "outputs": [],
   "source": [
    "for company in companyList:\n",
    "    if company in nyseString:\n",
    "        companydf.loc[company,'NYSE Listed'] = 1\n",
    "    if company in nasdaqString:\n",
    "        companydf.loc[company,'NASDAQ Listed'] = 1\n",
    "    if company in fortune500String:\n",
    "        companydf.loc[company,'Fortune 500'] = 1"
   ]
  },
  {
   "cell_type": "code",
   "execution_count": 594,
   "metadata": {
    "collapsed": false
   },
   "outputs": [],
   "source": [
    "companydf.index = range(150)"
   ]
  },
  {
   "cell_type": "code",
   "execution_count": 595,
   "metadata": {
    "collapsed": false
   },
   "outputs": [
    {
     "data": {
      "text/html": [
       "<div>\n",
       "<style>\n",
       "    .dataframe thead tr:only-child th {\n",
       "        text-align: right;\n",
       "    }\n",
       "\n",
       "    .dataframe thead th {\n",
       "        text-align: left;\n",
       "    }\n",
       "\n",
       "    .dataframe tbody tr th {\n",
       "        vertical-align: top;\n",
       "    }\n",
       "</style>\n",
       "<table border=\"1\" class=\"dataframe\">\n",
       "  <thead>\n",
       "    <tr style=\"text-align: right;\">\n",
       "      <th></th>\n",
       "      <th>Name</th>\n",
       "      <th>NYSE Listed</th>\n",
       "      <th>NASDAQ Listed</th>\n",
       "      <th>Fortune 500</th>\n",
       "    </tr>\n",
       "  </thead>\n",
       "  <tbody>\n",
       "    <tr>\n",
       "      <th>0</th>\n",
       "      <td>8x8</td>\n",
       "      <td>0</td>\n",
       "      <td>1</td>\n",
       "      <td>0</td>\n",
       "    </tr>\n",
       "    <tr>\n",
       "      <th>1</th>\n",
       "      <td>A10 Networks</td>\n",
       "      <td>1</td>\n",
       "      <td>0</td>\n",
       "      <td>0</td>\n",
       "    </tr>\n",
       "    <tr>\n",
       "      <th>2</th>\n",
       "      <td>Abaxis</td>\n",
       "      <td>0</td>\n",
       "      <td>0</td>\n",
       "      <td>0</td>\n",
       "    </tr>\n",
       "    <tr>\n",
       "      <th>3</th>\n",
       "      <td>Accuray</td>\n",
       "      <td>0</td>\n",
       "      <td>1</td>\n",
       "      <td>0</td>\n",
       "    </tr>\n",
       "    <tr>\n",
       "      <th>4</th>\n",
       "      <td>Adobe Systems</td>\n",
       "      <td>0</td>\n",
       "      <td>1</td>\n",
       "      <td>1</td>\n",
       "    </tr>\n",
       "    <tr>\n",
       "      <th>5</th>\n",
       "      <td>Advanced Micro Devices</td>\n",
       "      <td>0</td>\n",
       "      <td>1</td>\n",
       "      <td>0</td>\n",
       "    </tr>\n",
       "    <tr>\n",
       "      <th>6</th>\n",
       "      <td>Aemetis</td>\n",
       "      <td>0</td>\n",
       "      <td>1</td>\n",
       "      <td>0</td>\n",
       "    </tr>\n",
       "    <tr>\n",
       "      <th>7</th>\n",
       "      <td>Aerohive Networks</td>\n",
       "      <td>1</td>\n",
       "      <td>0</td>\n",
       "      <td>0</td>\n",
       "    </tr>\n",
       "    <tr>\n",
       "      <th>8</th>\n",
       "      <td>Agilent Technologies</td>\n",
       "      <td>1</td>\n",
       "      <td>0</td>\n",
       "      <td>0</td>\n",
       "    </tr>\n",
       "    <tr>\n",
       "      <th>9</th>\n",
       "      <td>Align Technology</td>\n",
       "      <td>0</td>\n",
       "      <td>1</td>\n",
       "      <td>0</td>\n",
       "    </tr>\n",
       "    <tr>\n",
       "      <th>10</th>\n",
       "      <td>Alphabet</td>\n",
       "      <td>0</td>\n",
       "      <td>1</td>\n",
       "      <td>1</td>\n",
       "    </tr>\n",
       "    <tr>\n",
       "      <th>11</th>\n",
       "      <td>Apple</td>\n",
       "      <td>1</td>\n",
       "      <td>1</td>\n",
       "      <td>1</td>\n",
       "    </tr>\n",
       "    <tr>\n",
       "      <th>12</th>\n",
       "      <td>Applied Materials</td>\n",
       "      <td>0</td>\n",
       "      <td>1</td>\n",
       "      <td>1</td>\n",
       "    </tr>\n",
       "    <tr>\n",
       "      <th>13</th>\n",
       "      <td>Applied Micro Circuits</td>\n",
       "      <td>0</td>\n",
       "      <td>0</td>\n",
       "      <td>0</td>\n",
       "    </tr>\n",
       "    <tr>\n",
       "      <th>14</th>\n",
       "      <td>Arista Networks</td>\n",
       "      <td>1</td>\n",
       "      <td>0</td>\n",
       "      <td>0</td>\n",
       "    </tr>\n",
       "    <tr>\n",
       "      <th>15</th>\n",
       "      <td>Aviat Networks</td>\n",
       "      <td>0</td>\n",
       "      <td>1</td>\n",
       "      <td>0</td>\n",
       "    </tr>\n",
       "    <tr>\n",
       "      <th>16</th>\n",
       "      <td>Barracuda Networks</td>\n",
       "      <td>1</td>\n",
       "      <td>0</td>\n",
       "      <td>0</td>\n",
       "    </tr>\n",
       "    <tr>\n",
       "      <th>17</th>\n",
       "      <td>Bio-Rad Laboratories</td>\n",
       "      <td>1</td>\n",
       "      <td>0</td>\n",
       "      <td>0</td>\n",
       "    </tr>\n",
       "    <tr>\n",
       "      <th>18</th>\n",
       "      <td>Box</td>\n",
       "      <td>1</td>\n",
       "      <td>1</td>\n",
       "      <td>0</td>\n",
       "    </tr>\n",
       "    <tr>\n",
       "      <th>19</th>\n",
       "      <td>Brocade Communications</td>\n",
       "      <td>0</td>\n",
       "      <td>1</td>\n",
       "      <td>0</td>\n",
       "    </tr>\n",
       "    <tr>\n",
       "      <th>20</th>\n",
       "      <td>Cadence Design Systems</td>\n",
       "      <td>0</td>\n",
       "      <td>1</td>\n",
       "      <td>0</td>\n",
       "    </tr>\n",
       "    <tr>\n",
       "      <th>21</th>\n",
       "      <td>Callidus Software</td>\n",
       "      <td>0</td>\n",
       "      <td>1</td>\n",
       "      <td>0</td>\n",
       "    </tr>\n",
       "    <tr>\n",
       "      <th>22</th>\n",
       "      <td>Cavium</td>\n",
       "      <td>0</td>\n",
       "      <td>1</td>\n",
       "      <td>0</td>\n",
       "    </tr>\n",
       "    <tr>\n",
       "      <th>23</th>\n",
       "      <td>Chegg</td>\n",
       "      <td>1</td>\n",
       "      <td>0</td>\n",
       "      <td>0</td>\n",
       "    </tr>\n",
       "    <tr>\n",
       "      <th>24</th>\n",
       "      <td>Cisco Systems</td>\n",
       "      <td>0</td>\n",
       "      <td>1</td>\n",
       "      <td>1</td>\n",
       "    </tr>\n",
       "    <tr>\n",
       "      <th>25</th>\n",
       "      <td>Coherent</td>\n",
       "      <td>0</td>\n",
       "      <td>1</td>\n",
       "      <td>0</td>\n",
       "    </tr>\n",
       "    <tr>\n",
       "      <th>26</th>\n",
       "      <td>Coherus Biosciences</td>\n",
       "      <td>0</td>\n",
       "      <td>0</td>\n",
       "      <td>0</td>\n",
       "    </tr>\n",
       "    <tr>\n",
       "      <th>27</th>\n",
       "      <td>Cypress Semiconductor</td>\n",
       "      <td>0</td>\n",
       "      <td>1</td>\n",
       "      <td>0</td>\n",
       "    </tr>\n",
       "    <tr>\n",
       "      <th>28</th>\n",
       "      <td>Depomed</td>\n",
       "      <td>0</td>\n",
       "      <td>1</td>\n",
       "      <td>0</td>\n",
       "    </tr>\n",
       "    <tr>\n",
       "      <th>29</th>\n",
       "      <td>Dolby Laboratories</td>\n",
       "      <td>1</td>\n",
       "      <td>0</td>\n",
       "      <td>0</td>\n",
       "    </tr>\n",
       "    <tr>\n",
       "      <th>...</th>\n",
       "      <td>...</td>\n",
       "      <td>...</td>\n",
       "      <td>...</td>\n",
       "      <td>...</td>\n",
       "    </tr>\n",
       "    <tr>\n",
       "      <th>120</th>\n",
       "      <td>Sunrun</td>\n",
       "      <td>0</td>\n",
       "      <td>1</td>\n",
       "      <td>0</td>\n",
       "    </tr>\n",
       "    <tr>\n",
       "      <th>121</th>\n",
       "      <td>Super Micro Computer</td>\n",
       "      <td>0</td>\n",
       "      <td>1</td>\n",
       "      <td>0</td>\n",
       "    </tr>\n",
       "    <tr>\n",
       "      <th>122</th>\n",
       "      <td>Symantec</td>\n",
       "      <td>0</td>\n",
       "      <td>1</td>\n",
       "      <td>1</td>\n",
       "    </tr>\n",
       "    <tr>\n",
       "      <th>123</th>\n",
       "      <td>Synaptics</td>\n",
       "      <td>0</td>\n",
       "      <td>1</td>\n",
       "      <td>0</td>\n",
       "    </tr>\n",
       "    <tr>\n",
       "      <th>124</th>\n",
       "      <td>Synnex</td>\n",
       "      <td>1</td>\n",
       "      <td>0</td>\n",
       "      <td>1</td>\n",
       "    </tr>\n",
       "    <tr>\n",
       "      <th>125</th>\n",
       "      <td>Synopsys</td>\n",
       "      <td>0</td>\n",
       "      <td>1</td>\n",
       "      <td>0</td>\n",
       "    </tr>\n",
       "    <tr>\n",
       "      <th>126</th>\n",
       "      <td>TeleNav</td>\n",
       "      <td>0</td>\n",
       "      <td>0</td>\n",
       "      <td>0</td>\n",
       "    </tr>\n",
       "    <tr>\n",
       "      <th>127</th>\n",
       "      <td>Tesla</td>\n",
       "      <td>0</td>\n",
       "      <td>1</td>\n",
       "      <td>1</td>\n",
       "    </tr>\n",
       "    <tr>\n",
       "      <th>128</th>\n",
       "      <td>TiVo</td>\n",
       "      <td>0</td>\n",
       "      <td>1</td>\n",
       "      <td>0</td>\n",
       "    </tr>\n",
       "    <tr>\n",
       "      <th>129</th>\n",
       "      <td>Trimble Navigation</td>\n",
       "      <td>0</td>\n",
       "      <td>0</td>\n",
       "      <td>0</td>\n",
       "    </tr>\n",
       "    <tr>\n",
       "      <th>130</th>\n",
       "      <td>Twilio Inc</td>\n",
       "      <td>1</td>\n",
       "      <td>0</td>\n",
       "      <td>0</td>\n",
       "    </tr>\n",
       "    <tr>\n",
       "      <th>131</th>\n",
       "      <td>Twitter</td>\n",
       "      <td>1</td>\n",
       "      <td>0</td>\n",
       "      <td>0</td>\n",
       "    </tr>\n",
       "    <tr>\n",
       "      <th>132</th>\n",
       "      <td>Ubiquiti Networks</td>\n",
       "      <td>0</td>\n",
       "      <td>1</td>\n",
       "      <td>0</td>\n",
       "    </tr>\n",
       "    <tr>\n",
       "      <th>133</th>\n",
       "      <td>Ultra Clean</td>\n",
       "      <td>0</td>\n",
       "      <td>1</td>\n",
       "      <td>0</td>\n",
       "    </tr>\n",
       "    <tr>\n",
       "      <th>134</th>\n",
       "      <td>Ultratech</td>\n",
       "      <td>0</td>\n",
       "      <td>0</td>\n",
       "      <td>0</td>\n",
       "    </tr>\n",
       "    <tr>\n",
       "      <th>135</th>\n",
       "      <td>Varian Medical Systems</td>\n",
       "      <td>1</td>\n",
       "      <td>0</td>\n",
       "      <td>0</td>\n",
       "    </tr>\n",
       "    <tr>\n",
       "      <th>136</th>\n",
       "      <td>Veeva Systems</td>\n",
       "      <td>1</td>\n",
       "      <td>0</td>\n",
       "      <td>0</td>\n",
       "    </tr>\n",
       "    <tr>\n",
       "      <th>137</th>\n",
       "      <td>VeriFone Systems</td>\n",
       "      <td>0</td>\n",
       "      <td>0</td>\n",
       "      <td>0</td>\n",
       "    </tr>\n",
       "    <tr>\n",
       "      <th>138</th>\n",
       "      <td>Viavi Solutions</td>\n",
       "      <td>0</td>\n",
       "      <td>1</td>\n",
       "      <td>0</td>\n",
       "    </tr>\n",
       "    <tr>\n",
       "      <th>139</th>\n",
       "      <td>VMware</td>\n",
       "      <td>0</td>\n",
       "      <td>0</td>\n",
       "      <td>0</td>\n",
       "    </tr>\n",
       "    <tr>\n",
       "      <th>140</th>\n",
       "      <td>WageWorks</td>\n",
       "      <td>1</td>\n",
       "      <td>0</td>\n",
       "      <td>0</td>\n",
       "    </tr>\n",
       "    <tr>\n",
       "      <th>141</th>\n",
       "      <td>Workday</td>\n",
       "      <td>0</td>\n",
       "      <td>1</td>\n",
       "      <td>0</td>\n",
       "    </tr>\n",
       "    <tr>\n",
       "      <th>142</th>\n",
       "      <td>Xilinx</td>\n",
       "      <td>0</td>\n",
       "      <td>1</td>\n",
       "      <td>0</td>\n",
       "    </tr>\n",
       "    <tr>\n",
       "      <th>143</th>\n",
       "      <td>Xperi</td>\n",
       "      <td>0</td>\n",
       "      <td>1</td>\n",
       "      <td>0</td>\n",
       "    </tr>\n",
       "    <tr>\n",
       "      <th>144</th>\n",
       "      <td>Yahoo</td>\n",
       "      <td>0</td>\n",
       "      <td>0</td>\n",
       "      <td>1</td>\n",
       "    </tr>\n",
       "    <tr>\n",
       "      <th>145</th>\n",
       "      <td>Yelp</td>\n",
       "      <td>1</td>\n",
       "      <td>0</td>\n",
       "      <td>0</td>\n",
       "    </tr>\n",
       "    <tr>\n",
       "      <th>146</th>\n",
       "      <td>YuMe</td>\n",
       "      <td>1</td>\n",
       "      <td>0</td>\n",
       "      <td>0</td>\n",
       "    </tr>\n",
       "    <tr>\n",
       "      <th>147</th>\n",
       "      <td>Zeltiq Aesthetics</td>\n",
       "      <td>0</td>\n",
       "      <td>0</td>\n",
       "      <td>0</td>\n",
       "    </tr>\n",
       "    <tr>\n",
       "      <th>148</th>\n",
       "      <td>Zendesk</td>\n",
       "      <td>1</td>\n",
       "      <td>0</td>\n",
       "      <td>0</td>\n",
       "    </tr>\n",
       "    <tr>\n",
       "      <th>149</th>\n",
       "      <td>Zynga</td>\n",
       "      <td>0</td>\n",
       "      <td>1</td>\n",
       "      <td>0</td>\n",
       "    </tr>\n",
       "  </tbody>\n",
       "</table>\n",
       "<p>150 rows × 4 columns</p>\n",
       "</div>"
      ],
      "text/plain": [
       "                       Name  NYSE Listed  NASDAQ Listed  Fortune 500\n",
       "0                       8x8            0              1            0\n",
       "1              A10 Networks            1              0            0\n",
       "2                    Abaxis            0              0            0\n",
       "3                   Accuray            0              1            0\n",
       "4             Adobe Systems            0              1            1\n",
       "5    Advanced Micro Devices            0              1            0\n",
       "6                   Aemetis            0              1            0\n",
       "7         Aerohive Networks            1              0            0\n",
       "8      Agilent Technologies            1              0            0\n",
       "9          Align Technology            0              1            0\n",
       "10                 Alphabet            0              1            1\n",
       "11                    Apple            1              1            1\n",
       "12        Applied Materials            0              1            1\n",
       "13   Applied Micro Circuits            0              0            0\n",
       "14          Arista Networks            1              0            0\n",
       "15           Aviat Networks            0              1            0\n",
       "16       Barracuda Networks            1              0            0\n",
       "17     Bio-Rad Laboratories            1              0            0\n",
       "18                      Box            1              1            0\n",
       "19   Brocade Communications            0              1            0\n",
       "20   Cadence Design Systems            0              1            0\n",
       "21        Callidus Software            0              1            0\n",
       "22                   Cavium            0              1            0\n",
       "23                    Chegg            1              0            0\n",
       "24            Cisco Systems            0              1            1\n",
       "25                 Coherent            0              1            0\n",
       "26      Coherus Biosciences            0              0            0\n",
       "27    Cypress Semiconductor            0              1            0\n",
       "28                  Depomed            0              1            0\n",
       "29       Dolby Laboratories            1              0            0\n",
       "..                      ...          ...            ...          ...\n",
       "120                  Sunrun            0              1            0\n",
       "121    Super Micro Computer            0              1            0\n",
       "122                Symantec            0              1            1\n",
       "123               Synaptics            0              1            0\n",
       "124                  Synnex            1              0            1\n",
       "125                Synopsys            0              1            0\n",
       "126                 TeleNav            0              0            0\n",
       "127                   Tesla            0              1            1\n",
       "128                    TiVo            0              1            0\n",
       "129      Trimble Navigation            0              0            0\n",
       "130              Twilio Inc            1              0            0\n",
       "131                 Twitter            1              0            0\n",
       "132       Ubiquiti Networks            0              1            0\n",
       "133             Ultra Clean            0              1            0\n",
       "134               Ultratech            0              0            0\n",
       "135  Varian Medical Systems            1              0            0\n",
       "136           Veeva Systems            1              0            0\n",
       "137        VeriFone Systems            0              0            0\n",
       "138         Viavi Solutions            0              1            0\n",
       "139                  VMware            0              0            0\n",
       "140               WageWorks            1              0            0\n",
       "141                 Workday            0              1            0\n",
       "142                  Xilinx            0              1            0\n",
       "143                   Xperi            0              1            0\n",
       "144                   Yahoo            0              0            1\n",
       "145                    Yelp            1              0            0\n",
       "146                    YuMe            1              0            0\n",
       "147       Zeltiq Aesthetics            0              0            0\n",
       "148                 Zendesk            1              0            0\n",
       "149                   Zynga            0              1            0\n",
       "\n",
       "[150 rows x 4 columns]"
      ]
     },
     "execution_count": 595,
     "metadata": {},
     "output_type": "execute_result"
    }
   ],
   "source": [
    "companydf"
   ]
  },
  {
   "cell_type": "code",
   "execution_count": 596,
   "metadata": {
    "collapsed": true
   },
   "outputs": [],
   "source": [
    "companydf.to_csv('company.csv')"
   ]
  },
  {
   "cell_type": "code",
   "execution_count": null,
   "metadata": {
    "collapsed": true
   },
   "outputs": [],
   "source": []
  }
 ],
 "metadata": {
  "kernelspec": {
   "display_name": "Python 3",
   "language": "python",
   "name": "python3"
  },
  "language_info": {
   "codemirror_mode": {
    "name": "ipython",
    "version": 3
   },
   "file_extension": ".py",
   "mimetype": "text/x-python",
   "name": "python",
   "nbconvert_exporter": "python",
   "pygments_lexer": "ipython3",
   "version": "3.6.0"
  }
 },
 "nbformat": 4,
 "nbformat_minor": 0
}
