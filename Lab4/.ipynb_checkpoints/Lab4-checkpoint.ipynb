{
 "cells": [
  {
   "cell_type": "code",
   "execution_count": 67,
   "metadata": {
    "collapsed": true
   },
   "outputs": [],
   "source": [
    "from urllib2 import urlopen \n",
    "from bs4 import BeautifulSoup"
   ]
  },
  {
   "cell_type": "code",
   "execution_count": 74,
   "metadata": {
    "collapsed": false
   },
   "outputs": [
    {
     "name": "stdout",
     "output_type": "stream",
     "text": [
      "<h1><span></span>MS in Information Systems</h1>\n"
     ]
    }
   ],
   "source": [
    "#html = urlopen(\"/Users/Meiyuan/Dashboard/Lab4\") \n",
    "bsObj = BeautifulSoup(open(\"/Users/Meiyuan/Dashboard/Lab4/MSIS.html\"), 'html.parser') \n",
    "print (bsObj.h1)"
   ]
  },
  {
   "cell_type": "code",
   "execution_count": 83,
   "metadata": {
    "collapsed": false
   },
   "outputs": [],
   "source": [
    "courseList = bsObj.find('div', {\"class\":\"panel-group\"})"
   ]
  },
  {
   "cell_type": "code",
   "execution_count": 99,
   "metadata": {
    "collapsed": false
   },
   "outputs": [],
   "source": [
    "courseText = courseList.getText()"
   ]
  },
  {
   "cell_type": "code",
   "execution_count": 90,
   "metadata": {
    "collapsed": true
   },
   "outputs": [],
   "source": [
    "import re"
   ]
  },
  {
   "cell_type": "code",
   "execution_count": 100,
   "metadata": {
    "collapsed": false
   },
   "outputs": [],
   "source": [
    "courseText = re.sub('[\\n]+','   ', courseText)"
   ]
  },
  {
   "cell_type": "code",
   "execution_count": 102,
   "metadata": {
    "collapsed": false
   },
   "outputs": [
    {
     "data": {
      "text/plain": [
       "[u' ',\n",
       " u'601 : Object-Oriented Analysis and Programming   Provides students with advanced topics in object-oriented programming methodology. Instructor will present different programming paradigms and discuss object-oriented programming concepts including principles of data abstraction, inheritance, polymorphism, and encapsulation. The course will emphasize problem solving using Java programming language. Topics covered include classes and objects, data abstraction, \"agents, message, and methods,\" class hierarchies and inheritance, I/O packages, applets, exceptions, and multi-threaded programming. Students are required to develop several programming assignments using the Java programming language in various computer environments. Prerequisite: Knowledge of C programming language or equivalent. ',\n",
       " u'602 : Information Systems Analysis & Design   Methodology to assist in the analysis and design of computer-based information systems for business applications. Tools include data flow diagrams, flowcharts, Structured English, pseudo code, hierarchy charts, structure diagrams, and Warnier-Orr charts. Application of these tools to a systems development project is required. Cross-listed as OMIS 372. Credit will not be given for both. Prerequisite: None. ',\n",
       " u'603 : Database Management Systems   This course aims to give an understanding of and hands-on experience with the most widely used database tools. The objective of this course is to convey intermediate to advanced database concepts and to acquaint students with state-of-the-art software tools. The course will rely on classroom discussions, media articles and cases, as well as programming exercises and an integrative group project. Use of database software is required. A lab fee is required. Cross-listed as OMIS 366. Credit will not be given for both. Prerequisite: Experience with computer usage. ',\n",
       " u'604 : Information Systems Policy and Strategy   Strategic management and deployment of information systems and technologies (ISTs) to improve business competitiveness. An examination of the role of IST strategy in enabling companies to effectively manage in the turbulent and dynamic business environment brought about by the Internet. Analysis of new business opportunities in electronic commerce brought about by ISTs, including organizational redesign that these technologies require. An examination of implementation and change management issues related to IST deployment in the new environment. Focuses on drawing lessons from the experiences of leading companies that are deploying ISTs to define and support their e-commerce strategies. Cross-listed as OMIS 378. Credit will not be given for both. Prerequisite: None. ',\n",
       " u'605 : Telecommunications & Business Networks   This course provides the essential technical understanding necessary to evaluate and integrate telecommunication technologies into sustainable business models as well as to make decisions concerning the communications infrastructure in any organization. Covering technologies including voice and data networks, local and wide area networking, internet, and generations of wireless technologies to form the basis for the discussion of economic and managerial issues about how the technology is deployed, including issues of interoperability, scalability, regulations, security, service level agreements, convergence, unified messaging, and service quality. Prerequisite: None. ',\n",
       " u'606 : Software Project Management   An overview of software project development methodology, covering both technical and managerial aspects of software development. Examines alternate software life cycle models and introduces modern techniques for definition, design, implementation, and validation of software products. Cross-listed as OMIS 368.  Credit will not be given for both.  Prerequisite: Knowledge of or experience with a high-level programming language, or permission of instructor. ',\n",
       " u'621 : Business Intelligence & Data Warehousing   Topics covered will include building systems and interfaces to collect data from traditional data sources as well as from Web browsers; transforming and loading such data into data warehouses and data marts; and extracting information from the traditional data warehouses, as well as from Web-enabled data warehouses. Also covers building multidimensional data cubes, OLAP servers and clients, data mining, and building infrastructure to support real-time customer relationship management. There will be hands-on exercises and a group project. A lab fee is required. Cross-listed as OMIS 386. Credit will not be given for both. Prerequisite: MSIS 603 or OMIS 366. ',\n",
       " u\"622 : ERP Systems   Enterprise resource planning (ERP) systems attempt to integrate all departments and functions across a company onto a single computer system that can serve every department's particular needs for data that is up-to-date and accurate, and independent of language, location, and currency. These systems dictate a standard data format across the entire organization; they are modular, multifunctional, and compatible with third party software. This course has dual foci: the first is on analyzing ERP systems through a managerial perspective, and the second focus is on system implementation. A hands-on group project emphasizes the application of the concepts and techniques discussed in class. The class will also investigate multivendor systems and integration issues.  Prerequisite: None. \",\n",
       " u'623 : Financial Information Systems   Course examines the analysis, design, and implementation of enterprise information systems as they relate to the accounting function and the financial management of a firm. Particular emphasis is placed on learning not only what functions the systems provide, but also understanding their technological structure and the linkages with business strategy. Moreover, this course is intended to enable students to develop the ability to recognize organizational situations for which information system controls and assurance would help achieve organizational goals and to participate in the planning, development, and implementations of control devices in highly automated contexts. Prerequisites: ACTG 300 and knowledge of database management systems. ',\n",
       " u'624 : E-Business Technologies: Virtualization and Cloud Computing   Studies strategic management and deployment of information systems and technologies (ISTs) to improve business competitiveness. Examines the role of IST strategy in enabling companies to effectively manage in the turbulent and dynamic business environment brought about by the Internet. Analyzes new business opportunities in electronic commerce brought about by ISTs, including the organizational redesign that these technologies require. Reviews the implementation and change management issues related to IST deployment in the new environment. Focuses on drawing lessons from the experiences of leading companies that are deploying ISTs to define and support their e-commerce strategies. Prerequisite: None. (3 units) ',\n",
       " u'627 : Big Data Modeling and Analytics   Today, more than 80% of useful data is unstructured. Businesses ,governments and all organizations  now wants  to store, process and analyze these huge datasets economically and predictably to solve numerous problems  - find new markets, reduce risks, improve healthcare and many such applications. Todays useful data has velocity, variety and volume.  Old SQL databases are not fit to handle the new requirements.  Term  Big Data was coined to solve the emerging problem.    This course is about Big Data and its role in carrying out modern business intelligence for actionable insight to address new business needs. This course is a lab led and open source software rooted course. Students will learn the fundamentals of Hadoop framework, NoSQL databases and R language. The class will focus on storage, process and analysis aspects of Big Data.    Students will have access to a MapR Hadoop image. The image is enhanced by instructor to include MongoDB and R.  Prerequisites: MSIS 2601 and 2603. ',\n",
       " u'628 : The Business of Cloud Computing   Students will learn the Challenges and Solutions to manage a Cloud Infrastructure. The focus areas of this course will include Best Practices for a Dynamic Cloud Infrastructure, Cloud Operations Management and Cloud Security. Students learn the essentials, Challenges and how to manage a Cloud Infrastructure. This will be a fast paced, hands on class, where students would be deploying, managing their own Cloud Infrastructure. Employing, managing, and monitoring tools and techniques to help you get the most from Cloud Computing resources and applications. The course will introduce strategies and plans for securing data to meet the highest level of Cloud security and compliance standards. Exploration of legal and privacy issues, regulations, and compliance for Cloud Computing will also be presented.  The students are expected to know the basics of Virtualization, Computer Architecture, Computer Networking and IMS.   Prerequisites: MSIS 2601, 2603, and 2605 ',\n",
       " u'629 : Dashboards, Scorecards and Visualization   This course will introduce dashboards and scorecards for presenting and analyzing critical performance and operational data. It will teach students how these tools can be used to translate business strategy into accountability and measure progress against goals. This course will introduce dashboard functionality, characteristics and components, key elements, design principles, security, standards and best practices. It will highlight differences between dashboards and scorecards, which are used for measuring performance. You will explore the optimal selection and use of key performance indicators (KPIs). You will learn how dashboards and scorecards can be designed and implemented. The course will also introduce you to various software tools used to create dashboards and scorecards and, also, how to select them. Visualization principles, tools, and techniques are presented and used to implement dashboards and scorecards. The students will work on a group project in which they will functionally design a dashboard and scorecard, which will reflect a real-world business environment. Prerequisites: MSIS 2601 and 2603 ',\n",
       " u'630 : Web Programming   The course will focus on the design and development of web based applications using a number of currently popular tools and strategies; also to be explored is the use of databases as data repositories for web applications. Core technologies including HTML, CSS, JavaScript, PHP, and MySQL will be emphasized.   Prerequisites: MSIS 2601 and 2603 ',\n",
       " u'640 : Capstone Project Proposal ',\n",
       " u'641 : Information Technology: Ethics and Public Policy   Introduces the normative principles for ethical decision-making: identifying    which principles are applicable; and, weighing conflicting principles. Includes    in-depth exploration of contemporary ethical issues, together with public    policy issues relating to information technology in the context of the legal    environment of business. Class lectures and discussions are based on the    textbook, supplemented by ethical simulations and scenarios. ',\n",
       " u'642 : Capstone Project I ',\n",
       " u'643 : Capstone Project II ',\n",
       " u\"644 : MSIS Master's Thesis \",\n",
       " u'645 : Capstone Design Proposal ',\n",
       " u'646 : Capstone Design Project I ',\n",
       " u'647 : Capstone Design Project II ',\n",
       " u'797 : Curricular Practicum Education   The primary purpose of Co-op education is to give international students an opportunity to gain practical knowledge in their field of study.  This course is designed to prepare them for such an experience.  It consists of a series of lectures on topics that will familiarize them with Silicon Valley working environment, and will enable them to relate their experience in the industry to their academic program.  Attendance is mandatory. Prerequisite:  Students must a minimum of 3 consecutive quarters of full time course enrollment and be in good academic standing (Cumulative grade point average must be 3.0 or higher). ',\n",
       " u'798 : Extended Curricular Practicum Education ',\n",
       " u'801 : Mobile Payment and e_Commerce Security   This course reviews the advancements in mobile payments, crypto-currency and on-line transaction security and will prepare you to engage in platform and application development for this emerging new market. You will learn the fundamentals of secure chip-cards processing as mandated by the Europay, MasterCard and Visa (EMV). Various mobile payment technologies will be discussed in details with a special focus on the pros and cons of Near Field Communication (NFC), secure element, Host Card Emulation (HCE), Bluetooth, QR codes, tokens and eWallets. The course covers online transaction security risks such as Heartbleed, and fraud prevention methods including multi-level authentication, biometrics, cloud-based security and Fast Identification Online (FIDO). The course concludes with a discussion on role of crypto-currency and future trends.   By the end of the course, you will have a thorough understanding of mobile payments, secure card, cloud-based e-commerce, online authentication and end-to-end secure data transfer from device to the cloud, including all the entities involved in processing the transaction. Prerequisites: MSIS 2601, and MSIS 2605. ',\n",
       " u'802 : Data Science Analysis with Python   Data science involves the application of scientific methodologies to extract understanding from and make predictions based on data sets from a broad range of sources. Data science involves knowledge and skills from three areas: i) programming, math/statistics and domain specific expertise. The objective of this course is to teach the programming skills relevant to data science. Students will learn the Python programming language, along with a complete set of open source tools for data science in Python, including the IPython Notebook, NumPy, SciPy, Pandas, matplotlib, scikit-learn and many others. Students will learn skills that cover the various phases of exploratory data analysis: importing data (SQL, web, JSON, CSV), cleaning and transforming data, algorithmic thinking, grouping and aggregation, visualization, time series, statistical modeling/prediction and communication of results. The course will utilize data from a wide range of sources and will culminate with a final project and presentation.   ']"
      ]
     },
     "execution_count": 102,
     "metadata": {},
     "output_type": "execute_result"
    }
   ],
   "source": [
    "courseText.split('  2')"
   ]
  },
  {
   "cell_type": "code",
   "execution_count": 89,
   "metadata": {
    "collapsed": false
   },
   "outputs": [
    {
     "data": {
      "text/plain": [
       "u'\\n\\n\\n\\n2601 : Object-Oriented Analysis and Programming\\n\\n\\n\\nProvides students with advanced topics in object-oriented programming methodology. Instructor will present different programming paradigms and discuss object-oriented programming concepts including principles of data abstraction, inheritance, polymorphism, and encapsulation. The course will emphasize problem solving using Java programming language. Topics covered include classes and objects, data abstraction, \"agents, message, and methods,\" class hierarchies and inheritance, I/O packages, applets, exceptions, and multi-threaded programming. Students are required to develop several programming assignments using the Java programming language in various computer environments. Prerequisite: Knowledge of C programming language or equivalent.\\n\\n\\n\\n\\n\\n2602 : Information Systems Analysis & Design\\n\\n\\n\\nMethodology to assist in the analysis and design of computer-based information systems for business applications. Tools include data flow diagrams, flowcharts, Structured English, pseudo code, hierarchy charts, structure diagrams, and Warnier-Orr charts. Application of these tools to a systems development project is required. Cross-listed as OMIS 372. Credit will not be given for both. Prerequisite: None.\\n\\n\\n\\n\\n\\n2603 : Database Management Systems\\n\\n\\n\\nThis course aims to give an understanding of and hands-on experience with the most widely used database tools. The objective of this course is to convey intermediate to advanced database concepts and to acquaint students with state-of-the-art software tools. The course will rely on classroom discussions, media articles and cases, as well as programming exercises and an integrative group project. Use of database software is required. A lab fee is required. Cross-listed as OMIS 366. Credit will not be given for both. Prerequisite: Experience with computer usage.\\n\\n\\n\\n\\n\\n2604 : Information Systems Policy and Strategy\\n\\n\\n\\nStrategic management and deployment of information systems and technologies (ISTs) to improve business competitiveness. An examination of the role of IST strategy in enabling companies to effectively manage in the turbulent and dynamic business environment brought about by the Internet. Analysis of new business opportunities in electronic commerce brought about by ISTs, including organizational redesign that these technologies require. An examination of implementation and change management issues related to IST deployment in the new environment. Focuses on drawing lessons from the experiences of leading companies that are deploying ISTs to define and support their e-commerce strategies. Cross-listed as OMIS 378. Credit will not be given for both. Prerequisite: None.\\n\\n\\n\\n\\n\\n2605 : Telecommunications & Business Networks\\n\\n\\n\\nThis course provides the essential technical understanding necessary to evaluate and integrate telecommunication technologies into sustainable business models as well as to make decisions concerning the communications infrastructure in any organization. Covering technologies including voice and data networks, local and wide area networking, internet, and generations of wireless technologies to form the basis for the discussion of economic and managerial issues about how the technology is deployed, including issues of interoperability, scalability, regulations, security, service level agreements, convergence, unified messaging, and service quality. Prerequisite: None.\\n\\n\\n\\n\\n\\n2606 : Software Project Management\\n\\n\\n\\nAn overview of software project development methodology, covering both technical and managerial aspects of software development. Examines alternate software life cycle models and introduces modern techniques for definition, design, implementation, and validation of software products. Cross-listed as OMIS 368.  Credit will not be given for both.  Prerequisite: Knowledge of or experience with a high-level programming language, or permission of instructor.\\n\\n\\n\\n\\n\\n2621 : Business Intelligence & Data Warehousing\\n\\n\\n\\nTopics covered will include building systems and interfaces to collect data from traditional data sources as well as from Web browsers; transforming and loading such data into data warehouses and data marts; and extracting information from the traditional data warehouses, as well as from Web-enabled data warehouses. Also covers building multidimensional data cubes, OLAP servers and clients, data mining, and building infrastructure to support real-time customer relationship management. There will be hands-on exercises and a group project. A lab fee is required. Cross-listed as OMIS 386. Credit will not be given for both. Prerequisite: MSIS 603 or OMIS 366.\\n\\n\\n\\n\\n\\n2622 : ERP Systems\\n\\n\\n\\nEnterprise resource planning (ERP) systems attempt to integrate all departments and functions across a company onto a single computer system that can serve every department\\'s particular needs for data that is up-to-date and accurate, and independent of language, location, and currency. These systems dictate a standard data format across the entire organization; they are modular, multifunctional, and compatible with third party software. This course has dual foci: the first is on analyzing ERP systems through a managerial perspective, and the second focus is on system implementation. A hands-on group project emphasizes the application of the concepts and techniques discussed in class. The class will also investigate multivendor systems and integration issues.  Prerequisite: None.\\n\\n\\n\\n\\n\\n2623 : Financial Information Systems\\n\\n\\n\\nCourse examines the analysis, design, and implementation of enterprise information systems as they relate to the accounting function and the financial management of a firm. Particular emphasis is placed on learning not only what functions the systems provide, but also understanding their technological structure and the linkages with business strategy. Moreover, this course is intended to enable students to develop the ability to recognize organizational situations for which information system controls and assurance would help achieve organizational goals and to participate in the planning, development, and implementations of control devices in highly automated contexts. Prerequisites: ACTG 300 and knowledge of database management systems.\\n\\n\\n\\n\\n\\n2624 : E-Business Technologies: Virtualization and Cloud Computing\\n\\n\\n\\nStudies strategic management and deployment of information systems and technologies (ISTs) to improve business competitiveness. Examines the role of IST strategy in enabling companies to effectively manage in the turbulent and dynamic business environment brought about by the Internet. Analyzes new business opportunities in electronic commerce brought about by ISTs, including the organizational redesign that these technologies require. Reviews the implementation and change management issues related to IST deployment in the new environment. Focuses on drawing lessons from the experiences of leading companies that are deploying ISTs to define and support their e-commerce strategies. Prerequisite: None. (3 units)\\n\\n\\n\\n\\n\\n2627 : Big Data Modeling and Analytics\\n\\n\\n\\nToday, more than 80% of useful data is unstructured. Businesses ,governments and all organizations  now wants  to store, process and analyze these huge datasets economically and predictably to solve numerous problems  - find new markets, reduce risks, improve healthcare and many such applications. Todays useful data has velocity, variety and volume.  Old SQL databases are not fit to handle the new requirements.  Term  Big Data was coined to solve the emerging problem. \\nThis course is about Big Data and its role in carrying out modern business intelligence for actionable insight to address new business needs. This course is a lab led and open source software rooted course. Students will learn the fundamentals of Hadoop framework, NoSQL databases and R language. The class will focus on storage, process and analysis aspects of Big Data.    Students will have access to a MapR Hadoop image. The image is enhanced by instructor to include MongoDB and R.  Prerequisites: MSIS 2601 and 2603.\\n\\n\\n\\n\\n\\n2628 : The Business of Cloud Computing\\n\\n\\n\\nStudents will learn the Challenges and Solutions to manage a Cloud Infrastructure. The focus areas of this course will include Best Practices for a Dynamic Cloud Infrastructure, Cloud Operations Management and Cloud Security. Students learn the essentials, Challenges and how to manage a Cloud Infrastructure. This will be a fast paced, hands on class, where students would be deploying, managing their own Cloud Infrastructure. Employing, managing, and monitoring tools and techniques to help you get the most from Cloud Computing resources and applications. The course will introduce strategies and plans for securing data to meet the highest level of Cloud security and compliance standards. Exploration of legal and privacy issues, regulations, and compliance for Cloud Computing will also be presented.  The students are expected to know the basics of Virtualization, Computer Architecture, Computer Networking and IMS.   Prerequisites: MSIS 2601, 2603, and 2605\\n\\n\\n\\n\\n\\n2629 : Dashboards, Scorecards and Visualization\\n\\n\\n\\nThis course will introduce dashboards and scorecards for presenting and analyzing critical performance and operational data. It will teach students how these tools can be used to translate business strategy into accountability and measure progress against goals. This course will introduce dashboard functionality, characteristics and components, key elements, design principles, security, standards and best practices. It will highlight differences between dashboards and scorecards, which are used for measuring performance. You will explore the optimal selection and use of key performance indicators (KPIs). You will learn how dashboards and scorecards can be designed and implemented. The course will also introduce you to various software tools used to create dashboards and scorecards and, also, how to select them. Visualization principles, tools, and techniques are presented and used to implement dashboards and scorecards. The students will work on a group project in which they will functionally design a dashboard and scorecard, which will reflect a real-world business environment. Prerequisites: MSIS 2601 and 2603\\n\\n\\n\\n\\n\\n2630 : Web Programming\\n\\n\\n\\nThe course will focus on the design and development of web based applications using a number of currently popular tools and strategies; also to be explored is the use of databases as data repositories for web applications. Core technologies including HTML, CSS, JavaScript, PHP, and MySQL will be emphasized.\\nPrerequisites: MSIS 2601 and 2603\\n\\n\\n\\n\\n\\n2640 : Capstone Project Proposal\\n\\n\\n\\n\\n\\n\\n\\n\\n\\n2641 : Information Technology: Ethics and Public Policy\\n\\n\\n\\nIntroduces the normative principles for ethical decision-making: identifying \\nwhich principles are applicable; and, weighing conflicting principles. Includes \\nin-depth exploration of contemporary ethical issues, together with public \\npolicy issues relating to information technology in the context of the legal \\nenvironment of business. Class lectures and discussions are based on the \\ntextbook, supplemented by ethical simulations and scenarios.\\n\\n\\n\\n\\n\\n2642 : Capstone Project I\\n\\n\\n\\n\\n\\n\\n\\n\\n\\n2643 : Capstone Project II\\n\\n\\n\\n\\n\\n\\n\\n\\n\\n2644 : MSIS Master\\'s Thesis\\n\\n\\n\\n\\n\\n\\n\\n\\n\\n2645 : Capstone Design Proposal\\n\\n\\n\\n\\n\\n\\n\\n\\n\\n2646 : Capstone Design Project I\\n\\n\\n\\n\\n\\n\\n\\n\\n\\n2647 : Capstone Design Project II\\n\\n\\n\\n\\n\\n\\n\\n\\n\\n2797 : Curricular Practicum Education\\n\\n\\n\\nThe primary purpose of Co-op education is to give international students an opportunity to gain practical knowledge in their field of study.  This course is designed to prepare them for such an experience.  It consists of a series of lectures on topics that will familiarize them with Silicon Valley working environment, and will enable them to relate their experience in the industry to their academic program.  Attendance is mandatory. Prerequisite:  Students must a minimum of 3 consecutive quarters of full time course enrollment and be in good academic standing (Cumulative grade point average must be 3.0 or higher).\\n\\n\\n\\n\\n\\n2798 : Extended Curricular Practicum Education\\n\\n\\n\\n\\n\\n\\n\\n\\n\\n2801 : Mobile Payment and e_Commerce Security\\n\\n\\n\\nThis course reviews the advancements in mobile payments, crypto-currency and on-line transaction security and will prepare you to engage in platform and application development for this emerging new market. You will learn the fundamentals of secure chip-cards processing as mandated by the Europay, MasterCard and Visa (EMV). Various mobile payment technologies will be discussed in details with a special focus on the pros and cons of Near Field Communication (NFC), secure element, Host Card Emulation (HCE), Bluetooth, QR codes, tokens and eWallets. The course covers online transaction security risks such as Heartbleed, and fraud prevention methods including multi-level authentication, biometrics, cloud-based security and Fast Identification Online (FIDO). The course concludes with a discussion on role of crypto-currency and future trends.\\n\\nBy the end of the course, you will have a thorough understanding of mobile payments, secure card, cloud-based e-commerce, online authentication and end-to-end secure data transfer from device to the cloud, including all the entities involved in processing the transaction. Prerequisites: MSIS 2601, and MSIS 2605.\\n\\n\\n\\n\\n\\n2802 : Data Science Analysis with Python\\n\\n\\n\\nData science involves the application of scientific methodologies to extract understanding from and make predictions based on data sets from a broad range of sources. Data science involves knowledge and skills from three areas: i) programming, math/statistics and domain specific expertise. The objective of this course is to teach the programming skills relevant to data science. Students will learn the Python programming language, along with a complete set of open source tools for data science in Python, including the IPython Notebook, NumPy, SciPy, Pandas, matplotlib, scikit-learn and many others. Students will learn skills that cover the various phases of exploratory data analysis: importing data (SQL, web, JSON, CSV), cleaning and transforming data, algorithmic thinking, grouping and aggregation, visualization, time series, statistical modeling/prediction and communication of results. The course will utilize data from a wide range of sources and will culminate with a final project and presentation.\\n\\n'"
      ]
     },
     "execution_count": 89,
     "metadata": {},
     "output_type": "execute_result"
    }
   ],
   "source": [
    "courseText"
   ]
  },
  {
   "cell_type": "code",
   "execution_count": 88,
   "metadata": {
    "collapsed": false
   },
   "outputs": [
    {
     "data": {
      "text/plain": [
       "[u'',\n",
       " u'2601 : Object-Oriented Analysis and Programming',\n",
       " u'Provides students with advanced topics in object-oriented programming methodology. Instructor will present different programming paradigms and discuss object-oriented programming concepts including principles of data abstraction, inheritance, polymorphism, and encapsulation. The course will emphasize problem solving using Java programming language. Topics covered include classes and objects, data abstraction, \"agents, message, and methods,\" class hierarchies and inheritance, I/O packages, applets, exceptions, and multi-threaded programming. Students are required to develop several programming assignments using the Java programming language in various computer environments. Prerequisite: Knowledge of C programming language or equivalent.',\n",
       " u'\\n\\n2602 : Information Systems Analysis & Design',\n",
       " u'Methodology to assist in the analysis and design of computer-based information systems for business applications. Tools include data flow diagrams, flowcharts, Structured English, pseudo code, hierarchy charts, structure diagrams, and Warnier-Orr charts. Application of these tools to a systems development project is required. Cross-listed as OMIS 372. Credit will not be given for both. Prerequisite: None.',\n",
       " u'\\n\\n2603 : Database Management Systems',\n",
       " u'This course aims to give an understanding of and hands-on experience with the most widely used database tools. The objective of this course is to convey intermediate to advanced database concepts and to acquaint students with state-of-the-art software tools. The course will rely on classroom discussions, media articles and cases, as well as programming exercises and an integrative group project. Use of database software is required. A lab fee is required. Cross-listed as OMIS 366. Credit will not be given for both. Prerequisite: Experience with computer usage.',\n",
       " u'\\n\\n2604 : Information Systems Policy and Strategy',\n",
       " u'Strategic management and deployment of information systems and technologies (ISTs) to improve business competitiveness. An examination of the role of IST strategy in enabling companies to effectively manage in the turbulent and dynamic business environment brought about by the Internet. Analysis of new business opportunities in electronic commerce brought about by ISTs, including organizational redesign that these technologies require. An examination of implementation and change management issues related to IST deployment in the new environment. Focuses on drawing lessons from the experiences of leading companies that are deploying ISTs to define and support their e-commerce strategies. Cross-listed as OMIS 378. Credit will not be given for both. Prerequisite: None.',\n",
       " u'\\n\\n2605 : Telecommunications & Business Networks',\n",
       " u'This course provides the essential technical understanding necessary to evaluate and integrate telecommunication technologies into sustainable business models as well as to make decisions concerning the communications infrastructure in any organization. Covering technologies including voice and data networks, local and wide area networking, internet, and generations of wireless technologies to form the basis for the discussion of economic and managerial issues about how the technology is deployed, including issues of interoperability, scalability, regulations, security, service level agreements, convergence, unified messaging, and service quality. Prerequisite: None.',\n",
       " u'\\n\\n2606 : Software Project Management',\n",
       " u'An overview of software project development methodology, covering both technical and managerial aspects of software development. Examines alternate software life cycle models and introduces modern techniques for definition, design, implementation, and validation of software products. Cross-listed as OMIS 368.  Credit will not be given for both.  Prerequisite: Knowledge of or experience with a high-level programming language, or permission of instructor.',\n",
       " u'\\n\\n2621 : Business Intelligence & Data Warehousing',\n",
       " u'Topics covered will include building systems and interfaces to collect data from traditional data sources as well as from Web browsers; transforming and loading such data into data warehouses and data marts; and extracting information from the traditional data warehouses, as well as from Web-enabled data warehouses. Also covers building multidimensional data cubes, OLAP servers and clients, data mining, and building infrastructure to support real-time customer relationship management. There will be hands-on exercises and a group project. A lab fee is required. Cross-listed as OMIS 386. Credit will not be given for both. Prerequisite: MSIS 603 or OMIS 366.',\n",
       " u'\\n\\n2622 : ERP Systems',\n",
       " u\"Enterprise resource planning (ERP) systems attempt to integrate all departments and functions across a company onto a single computer system that can serve every department's particular needs for data that is up-to-date and accurate, and independent of language, location, and currency. These systems dictate a standard data format across the entire organization; they are modular, multifunctional, and compatible with third party software. This course has dual foci: the first is on analyzing ERP systems through a managerial perspective, and the second focus is on system implementation. A hands-on group project emphasizes the application of the concepts and techniques discussed in class. The class will also investigate multivendor systems and integration issues.  Prerequisite: None.\",\n",
       " u'\\n\\n2623 : Financial Information Systems',\n",
       " u'Course examines the analysis, design, and implementation of enterprise information systems as they relate to the accounting function and the financial management of a firm. Particular emphasis is placed on learning not only what functions the systems provide, but also understanding their technological structure and the linkages with business strategy. Moreover, this course is intended to enable students to develop the ability to recognize organizational situations for which information system controls and assurance would help achieve organizational goals and to participate in the planning, development, and implementations of control devices in highly automated contexts. Prerequisites: ACTG 300 and knowledge of database management systems.',\n",
       " u'\\n\\n2624 : E-Business Technologies: Virtualization and Cloud Computing',\n",
       " u'Studies strategic management and deployment of information systems and technologies (ISTs) to improve business competitiveness. Examines the role of IST strategy in enabling companies to effectively manage in the turbulent and dynamic business environment brought about by the Internet. Analyzes new business opportunities in electronic commerce brought about by ISTs, including the organizational redesign that these technologies require. Reviews the implementation and change management issues related to IST deployment in the new environment. Focuses on drawing lessons from the experiences of leading companies that are deploying ISTs to define and support their e-commerce strategies. Prerequisite: None. (3 units)',\n",
       " u'\\n\\n2627 : Big Data Modeling and Analytics',\n",
       " u'Today, more than 80% of useful data is unstructured. Businesses ,governments and all organizations  now wants  to store, process and analyze these huge datasets economically and predictably to solve numerous problems  - find new markets, reduce risks, improve healthcare and many such applications. Todays useful data has velocity, variety and volume.  Old SQL databases are not fit to handle the new requirements.  Term  Big Data was coined to solve the emerging problem. \\nThis course is about Big Data and its role in carrying out modern business intelligence for actionable insight to address new business needs. This course is a lab led and open source software rooted course. Students will learn the fundamentals of Hadoop framework, NoSQL databases and R language. The class will focus on storage, process and analysis aspects of Big Data.    Students will have access to a MapR Hadoop image. The image is enhanced by instructor to include MongoDB and R.  Prerequisites: MSIS 2601 and 2603.',\n",
       " u'\\n\\n2628 : The Business of Cloud Computing',\n",
       " u'Students will learn the Challenges and Solutions to manage a Cloud Infrastructure. The focus areas of this course will include Best Practices for a Dynamic Cloud Infrastructure, Cloud Operations Management and Cloud Security. Students learn the essentials, Challenges and how to manage a Cloud Infrastructure. This will be a fast paced, hands on class, where students would be deploying, managing their own Cloud Infrastructure. Employing, managing, and monitoring tools and techniques to help you get the most from Cloud Computing resources and applications. The course will introduce strategies and plans for securing data to meet the highest level of Cloud security and compliance standards. Exploration of legal and privacy issues, regulations, and compliance for Cloud Computing will also be presented.  The students are expected to know the basics of Virtualization, Computer Architecture, Computer Networking and IMS.   Prerequisites: MSIS 2601, 2603, and 2605',\n",
       " u'\\n\\n2629 : Dashboards, Scorecards and Visualization',\n",
       " u'This course will introduce dashboards and scorecards for presenting and analyzing critical performance and operational data. It will teach students how these tools can be used to translate business strategy into accountability and measure progress against goals. This course will introduce dashboard functionality, characteristics and components, key elements, design principles, security, standards and best practices. It will highlight differences between dashboards and scorecards, which are used for measuring performance. You will explore the optimal selection and use of key performance indicators (KPIs). You will learn how dashboards and scorecards can be designed and implemented. The course will also introduce you to various software tools used to create dashboards and scorecards and, also, how to select them. Visualization principles, tools, and techniques are presented and used to implement dashboards and scorecards. The students will work on a group project in which they will functionally design a dashboard and scorecard, which will reflect a real-world business environment. Prerequisites: MSIS 2601 and 2603',\n",
       " u'\\n\\n2630 : Web Programming',\n",
       " u'The course will focus on the design and development of web based applications using a number of currently popular tools and strategies; also to be explored is the use of databases as data repositories for web applications. Core technologies including HTML, CSS, JavaScript, PHP, and MySQL will be emphasized.\\nPrerequisites: MSIS 2601 and 2603',\n",
       " u'\\n\\n2640 : Capstone Project Proposal',\n",
       " u'',\n",
       " u'\\n\\n2641 : Information Technology: Ethics and Public Policy',\n",
       " u'Introduces the normative principles for ethical decision-making: identifying \\nwhich principles are applicable; and, weighing conflicting principles. Includes \\nin-depth exploration of contemporary ethical issues, together with public \\npolicy issues relating to information technology in the context of the legal \\nenvironment of business. Class lectures and discussions are based on the \\ntextbook, supplemented by ethical simulations and scenarios.',\n",
       " u'\\n\\n2642 : Capstone Project I',\n",
       " u'',\n",
       " u'\\n\\n2643 : Capstone Project II',\n",
       " u'',\n",
       " u\"\\n\\n2644 : MSIS Master's Thesis\",\n",
       " u'',\n",
       " u'\\n\\n2645 : Capstone Design Proposal',\n",
       " u'',\n",
       " u'\\n\\n2646 : Capstone Design Project I',\n",
       " u'',\n",
       " u'\\n\\n2647 : Capstone Design Project II',\n",
       " u'',\n",
       " u'\\n\\n2797 : Curricular Practicum Education',\n",
       " u'The primary purpose of Co-op education is to give international students an opportunity to gain practical knowledge in their field of study.  This course is designed to prepare them for such an experience.  It consists of a series of lectures on topics that will familiarize them with Silicon Valley working environment, and will enable them to relate their experience in the industry to their academic program.  Attendance is mandatory. Prerequisite:  Students must a minimum of 3 consecutive quarters of full time course enrollment and be in good academic standing (Cumulative grade point average must be 3.0 or higher).',\n",
       " u'\\n\\n2798 : Extended Curricular Practicum Education',\n",
       " u'',\n",
       " u'\\n\\n2801 : Mobile Payment and e_Commerce Security',\n",
       " u'This course reviews the advancements in mobile payments, crypto-currency and on-line transaction security and will prepare you to engage in platform and application development for this emerging new market. You will learn the fundamentals of secure chip-cards processing as mandated by the Europay, MasterCard and Visa (EMV). Various mobile payment technologies will be discussed in details with a special focus on the pros and cons of Near Field Communication (NFC), secure element, Host Card Emulation (HCE), Bluetooth, QR codes, tokens and eWallets. The course covers online transaction security risks such as Heartbleed, and fraud prevention methods including multi-level authentication, biometrics, cloud-based security and Fast Identification Online (FIDO). The course concludes with a discussion on role of crypto-currency and future trends.\\n\\nBy the end of the course, you will have a thorough understanding of mobile payments, secure card, cloud-based e-commerce, online authentication and end-to-end secure data transfer from device to the cloud, including all the entities involved in processing the transaction. Prerequisites: MSIS 2601, and MSIS 2605.',\n",
       " u'\\n\\n2802 : Data Science Analysis with Python',\n",
       " u'Data science involves the application of scientific methodologies to extract understanding from and make predictions based on data sets from a broad range of sources. Data science involves knowledge and skills from three areas: i) programming, math/statistics and domain specific expertise. The objective of this course is to teach the programming skills relevant to data science. Students will learn the Python programming language, along with a complete set of open source tools for data science in Python, including the IPython Notebook, NumPy, SciPy, Pandas, matplotlib, scikit-learn and many others. Students will learn skills that cover the various phases of exploratory data analysis: importing data (SQL, web, JSON, CSV), cleaning and transforming data, algorithmic thinking, grouping and aggregation, visualization, time series, statistical modeling/prediction and communication of results. The course will utilize data from a wide range of sources and will culminate with a final project and presentation.\\n\\n']"
      ]
     },
     "execution_count": 88,
     "metadata": {},
     "output_type": "execute_result"
    }
   ],
   "source": [
    "courseText.split('\\n\\n\\n\\n')"
   ]
  },
  {
   "cell_type": "code",
   "execution_count": 43,
   "metadata": {
    "collapsed": false
   },
   "outputs": [
    {
     "name": "stdout",
     "output_type": "stream",
     "text": [
      "<bound method Tag.get_text of <a aria-expanded=\"false\" class=\"False collapsed\" data-parent=\"#accordionCont\" data-toggle=\"collapse\"><span class=\"caret\"></span> 250 : Information Security Management</a>>\n"
     ]
    }
   ],
   "source": [
    "for course in courseList: \n",
    "    print (course.get_text)"
   ]
  },
  {
   "cell_type": "code",
   "execution_count": null,
   "metadata": {
    "collapsed": true
   },
   "outputs": [],
   "source": []
  }
 ],
 "metadata": {
  "kernelspec": {
   "display_name": "Python 2",
   "language": "python",
   "name": "python2"
  },
  "language_info": {
   "codemirror_mode": {
    "name": "ipython",
    "version": 2
   },
   "file_extension": ".py",
   "mimetype": "text/x-python",
   "name": "python",
   "nbconvert_exporter": "python",
   "pygments_lexer": "ipython2",
   "version": "2.7.11"
  }
 },
 "nbformat": 4,
 "nbformat_minor": 0
}
