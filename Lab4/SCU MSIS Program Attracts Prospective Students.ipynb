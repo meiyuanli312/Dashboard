{
 "cells": [
  {
   "cell_type": "markdown",
   "metadata": {},
   "source": [
    "For this Lab, I collected 6 datasets.\n",
    "First two data sets are MSIS curriculum page and skills scraped from a PDF published by Monster.com. These two are <b>integrated</b> into one data set specifys the skills MSIS program needs.\n",
    "\n",
    "\n",
    "Antother four data sets are a list of NASDAQ stocks, a list of NYSE stocks, a list of Fortune 500 and a list contains 150 silicone valley compaines. These four <b>integrate </b> into one data sets specify out of 150 valley companies, how many are NASDAQ listed, NYSE listed or on the list for fortune 500."
   ]
  },
  {
   "cell_type": "markdown",
   "metadata": {},
   "source": [
    "### Road Map for  Claim 1\n",
    "(Data) Key words on MSIS curriculum page matched up  with skills scraped from a PDF published by Monster.com.(Claim) MSIS program offers skills that the (Qualifier) local job Market needs. (Warrant) Since we can offer what the job markets need most, our program would be very appealing to students and recuriter. (Backing) References stating the more matched skills the program offers, the more students are recruited.(Reservation/Rebuttal) Some most needed skills are not poped up on the program curriculum page."
   ]
  },
  {
   "cell_type": "markdown",
   "metadata": {},
   "source": [
    "### Road Map for  Claim 2\n",
    "(Data) 150 silicone valley companies, a list of NASDAQ stocks, a list of NYSE stocks, a list of Fortune 500. (Claim) SCU MSIS program graduates has an relative esaier way to get a very good job.(Warrant) More companies will render more opportunies for job seekers. And silicone valley has more companies than anywhere else in the country.(Backing) Reference stating that students study in the valley do get jobs easier than other areas.(Reservation/Rebuttal) Top ranking schools students who are not in the bay area also get jobs easier."
   ]
  },
  {
   "cell_type": "markdown",
   "metadata": {},
   "source": [
    "### First bar chart  claims  MSIS program offers skills that the job Market needs."
   ]
  },
  {
   "cell_type": "markdown",
   "metadata": {},
   "source": [
    "Advantages: Clearly shows some of the skills offered in MSIS are what the job market need."
   ]
  },
  {
   "cell_type": "markdown",
   "metadata": {},
   "source": [
    "Disadvantages: Not enough skills nor not enough words to represent a strong relationship"
   ]
  },
  {
   "cell_type": "markdown",
   "metadata": {},
   "source": [
    "If possible, I would like to have a list contains all the technical terms we have in MSIS and more skills that are needed on the job market"
   ]
  },
  {
   "cell_type": "code",
   "execution_count": 806,
   "metadata": {
    "collapsed": false,
    "scrolled": false
   },
   "outputs": [
    {
     "name": "stdout",
     "output_type": "stream",
     "text": [
      "Populating the interactive namespace from numpy and matplotlib\n"
     ]
    },
    {
     "data": {
      "text/plain": [
       "<matplotlib.axes._subplots.AxesSubplot at 0x1130f8898>"
      ]
     },
     "execution_count": 806,
     "metadata": {},
     "output_type": "execute_result"
    },
    {
     "data": {
      "image/png": "[encoded data removed]",
      "text/plain": [
       "<matplotlib.figure.Figure at 0x10f6c5390>"
      ]
     },
     "metadata": {},
     "output_type": "display_data"
    }
   ],
   "source": [
    "%pylab inline\n",
    "skillCount.plot(kind = 'bar')"
   ]
  },
  {
   "cell_type": "markdown",
   "metadata": {},
   "source": [
    "### Second chart claims students enrolled will have the convience of being a few blocks away from these companies. Therefore more job opportunitues."
   ]
  },
  {
   "cell_type": "markdown",
   "metadata": {},
   "source": [
    "Advantages:  It's clear that out of only 150 companies, over 120 companies are in the stock market and some are even on the fortune 500 list"
   ]
  },
  {
   "cell_type": "markdown",
   "metadata": {},
   "source": [
    "Disadvantages: Companies number is not big enough to make a strong argument to all companies are attractive"
   ]
  },
  {
   "cell_type": "markdown",
   "metadata": {},
   "source": [
    "If possible, I would like to collect all companies in the valley and make the comparison again. "
   ]
  },
  {
   "cell_type": "code",
   "execution_count": 796,
   "metadata": {
    "collapsed": false,
    "scrolled": true
   },
   "outputs": [
    {
     "name": "stdout",
     "output_type": "stream",
     "text": [
      "Populating the interactive namespace from numpy and matplotlib\n"
     ]
    },
    {
     "data": {
      "text/plain": [
       "<matplotlib.axes._subplots.AxesSubplot at 0x10fc0b2e8>"
      ]
     },
     "execution_count": 796,
     "metadata": {},
     "output_type": "execute_result"
    },
    {
     "data": {
      "image/png": "[encoded data removed]",
      "text/plain": [
       "<matplotlib.figure.Figure at 0x10f6f01d0>"
      ]
     },
     "metadata": {},
     "output_type": "display_data"
    }
   ],
   "source": [
    "%pylab inline\n",
    "result.plot(kind = 'bar')"
   ]
  },
  {
   "cell_type": "markdown",
   "metadata": {},
   "source": [
    "Data Wrangling down below"
   ]
  },
  {
   "cell_type": "markdown",
   "metadata": {},
   "source": [
    "#### From this cell on is for the first chart until state otherwise"
   ]
  },
  {
   "cell_type": "code",
   "execution_count": 407,
   "metadata": {
    "collapsed": false
   },
   "outputs": [],
   "source": [
    "from urllib.request import urlopen \n",
    "from selenium import webdriver\n",
    "import time\n",
    "from bs4 import BeautifulSoup\n",
    "import pandas as pd"
   ]
  },
  {
   "cell_type": "markdown",
   "metadata": {},
   "source": [
    "To get both course titles and descriptions, we find the CSS selector \"panel-group\""
   ]
  },
  {
   "cell_type": "markdown",
   "metadata": {},
   "source": [
    "![title](webScrpingTag.jpeg)"
   ]
  },
  {
   "cell_type": "code",
   "execution_count": 777,
   "metadata": {
    "collapsed": false
   },
   "outputs": [
    {
     "name": "stdout",
     "output_type": "stream",
     "text": [
      "2601 : Object-Oriented Analysis and Programming\n",
      "2602 : Information Systems Analysis & Design\n",
      "2603 : Database Management Systems\n",
      "2604 : Information Systems Policy and Strategy\n",
      "2605 : Telecommunications & Business Networks\n",
      "2606 : Software Project Management\n",
      "2621 : Business Intelligence & Data Warehousing\n",
      "2622 : ERP Systems\n",
      "2623 : Financial Information Systems\n",
      "2624 : E-Business Technologies: Virtualization and Cloud Computing\n",
      "2627 : Big Data Modeling and Analytics\n",
      "2628 : The Business of Cloud Computing\n",
      "2629 : Dashboards, Scorecards and Visualization\n",
      "2630 : Web Programming\n",
      "2640 : Capstone Project Proposal\n",
      "2641 : Information Technology: Ethics and Public Policy\n",
      "2642 : Capstone Project I\n",
      "2643 : Capstone Project II\n",
      "2644 : MSIS Master's Thesis\n",
      "2645 : Capstone Design Proposal\n",
      "2646 : Capstone Design Project I\n",
      "2647 : Capstone Design Project II\n",
      "2797 : Curricular Practicum Education\n",
      "2798 : Extended Curricular Practicum Education\n",
      "2801 : Mobile Payment and e_Commerce Security\n",
      "2802 : Data Science Analysis with Python\n"
     ]
    }
   ],
   "source": [
    "# These follwoing lines read a dynamic webpage\n",
    "driver = webdriver.PhantomJS(executable_path='/Users/Meiyuan/Downloads/phantomjs-2.1.1-macosx/bin/phantomjs') \n",
    "driver.get(\"https://www.scu.edu/business/ms-information-systems/curriculum/msis-courses/\")  \n",
    "time.sleep(3) # Sleep 3 seconds for the driver to load js page \n",
    "print (driver.find_element_by_css_selector('div.panel-group').text) \n",
    "driver.close()"
   ]
  },
  {
   "cell_type": "markdown",
   "metadata": {},
   "source": [
    "Unfortunatley, the course description is written in CSS pseudo elements, we have to find another way to extract them"
   ]
  },
  {
   "cell_type": "markdown",
   "metadata": {},
   "source": [
    "Use BeautifulSoup to parse the non-dynamic version of the above saved page "
   ]
  },
  {
   "cell_type": "code",
   "execution_count": 651,
   "metadata": {
    "collapsed": false
   },
   "outputs": [],
   "source": [
    "titleAndDesc = bsObj.find('div', {\"class\":\"panel-group\"}).getText().strip()"
   ]
  },
  {
   "cell_type": "code",
   "execution_count": 650,
   "metadata": {
    "collapsed": false,
    "scrolled": true
   },
   "outputs": [
    {
     "name": "stdout",
     "output_type": "stream",
     "text": [
      "<h1><span></span>MS in Information Systems</h1>\n"
     ]
    }
   ],
   "source": [
    "bsObj = BeautifulSoup(open(\"MSIS.html\",encoding='utf-8'), 'html.parser') \n",
    "print (bsObj.h1) # test to see whether it has the right page or not"
   ]
  },
  {
   "cell_type": "code",
   "execution_count": 652,
   "metadata": {
    "collapsed": false
   },
   "outputs": [
    {
     "data": {
      "text/plain": [
       "'2601 : Object-Oriented Analysis and Programming\\n\\n\\n\\nProvides students with advanced topics in object-oriented programming methodology. Instructor will present different programming paradigms and discuss object-oriented programming concepts including principles of data abstraction, inheritance, polymo'"
      ]
     },
     "execution_count": 652,
     "metadata": {},
     "output_type": "execute_result"
    }
   ],
   "source": [
    "titleAndDesc[:300] # Output is a very long string.Preview of the course titles and descriptions."
   ]
  },
  {
   "cell_type": "markdown",
   "metadata": {},
   "source": [
    "Remove new line characters and split the long string for later use"
   ]
  },
  {
   "cell_type": "code",
   "execution_count": 240,
   "metadata": {
    "collapsed": true
   },
   "outputs": [],
   "source": [
    "import re"
   ]
  },
  {
   "cell_type": "code",
   "execution_count": 661,
   "metadata": {
    "collapsed": true
   },
   "outputs": [],
   "source": [
    "titleAndDesc = re.sub('[\\n]+','   ', titleAndDesc)"
   ]
  },
  {
   "cell_type": "code",
   "execution_count": 662,
   "metadata": {
    "collapsed": false
   },
   "outputs": [
    {
     "data": {
      "text/plain": [
       "'2601 : Object-Oriented Analysis and Programming   Provides students with advanced topics in object-oriented programming methodology. Instructor will present different programming paradigms and discuss object-oriented programming concepts including principles of data abstraction, inheritance, polymor'"
      ]
     },
     "execution_count": 662,
     "metadata": {},
     "output_type": "execute_result"
    }
   ],
   "source": [
    "titleAndDesc[:300]"
   ]
  },
  {
   "cell_type": "markdown",
   "metadata": {},
   "source": [
    "Extract the most-needed tech skills form a PDF published by Monster.com.  \n",
    "The name is <b> Local Market Overview -- Silicon Valley </b>"
   ]
  },
  {
   "cell_type": "markdown",
   "metadata": {},
   "source": [
    "In this 29-page PDF file, two pages (19 and 29) present 30 skills in total. Some of them are identical, so we need to make a list only has unqiue skills."
   ]
  },
  {
   "cell_type": "markdown",
   "metadata": {},
   "source": [
    "![title](combined2.jpg)"
   ]
  },
  {
   "cell_type": "code",
   "execution_count": 87,
   "metadata": {
    "collapsed": true
   },
   "outputs": [],
   "source": [
    "from urllib.request import urlopen \n",
    "from pdfminer.pdfinterp import PDFResourceManager, process_pdf \n",
    "from pdfminer.converter import TextConverter \n",
    "from pdfminer.layout import LAParams \n",
    "from io import StringIO \n",
    "from io import open"
   ]
  },
  {
   "cell_type": "code",
   "execution_count": 208,
   "metadata": {
    "collapsed": true
   },
   "outputs": [],
   "source": [
    "# Read PDF in and convert it to a string\n",
    "def readPDF(pdfFile):\n",
    "\n",
    "    rsrcmgr = PDFResourceManager() \n",
    "    retstr = StringIO() \n",
    "    laparams = LAParams() \n",
    "    device = TextConverter(rsrcmgr, retstr, laparams=laparams)\n",
    "\n",
    "    process_pdf(rsrcmgr, device, pdfFile) \n",
    "    device.close()\n",
    "\n",
    "    content = retstr.getvalue() \n",
    "    retstr.close() \n",
    "    return content"
   ]
  },
  {
   "cell_type": "code",
   "execution_count": 209,
   "metadata": {
    "collapsed": false
   },
   "outputs": [],
   "source": [
    "pdfFile = urlopen(\"https://media.newjobs.com/a/i/intelligence/Silicon-Valley-Monster-Local-Market-Overview_JUN2016.pdf\") \n",
    "outputString = readPDF(pdfFile) \n",
    "pdfFile.close()"
   ]
  },
  {
   "cell_type": "markdown",
   "metadata": {},
   "source": [
    "Remove new line character, unicode character and dot"
   ]
  },
  {
   "cell_type": "code",
   "execution_count": 210,
   "metadata": {
    "collapsed": false
   },
   "outputs": [],
   "source": [
    "output1stClean = outputString.replace('\\n',' ').replace('\\x0c',' ').replace('•',' ')"
   ]
  },
  {
   "cell_type": "markdown",
   "metadata": {},
   "source": [
    "Split it with two spaces becasuse some the skills we want are delimited with one space.\n",
    "Using one will break them up."
   ]
  },
  {
   "cell_type": "code",
   "execution_count": 211,
   "metadata": {
    "collapsed": false
   },
   "outputs": [],
   "source": [
    "outputSlited = output1stClean.split('  ')"
   ]
  },
  {
   "cell_type": "markdown",
   "metadata": {},
   "source": [
    "Remove the leading and trailing spaces for every tiem in the list and drop the empty items"
   ]
  },
  {
   "cell_type": "code",
   "execution_count": 779,
   "metadata": {
    "collapsed": true
   },
   "outputs": [],
   "source": [
    "outputStripped = []\n",
    "for item in outputSlited:\n",
    "    if item != '':\n",
    "        outputStripped.append(item.strip())"
   ]
  },
  {
   "cell_type": "code",
   "execution_count": 780,
   "metadata": {
    "collapsed": false
   },
   "outputs": [
    {
     "data": {
      "text/plain": [
       "['Local Market',\n",
       " 'Overview --',\n",
       " 'Silicon Valley',\n",
       " 'PRESENTED BY:',\n",
       " 'Global Market Insights',\n",
       " 'June 2016',\n",
       " 'Silicon Valley Employment Snapshot',\n",
       " '1.1M',\n",
       " '40K',\n",
       " '3.7%']"
      ]
     },
     "execution_count": 780,
     "metadata": {},
     "output_type": "execute_result"
    }
   ],
   "source": [
    "outputStripped[:10]"
   ]
  },
  {
   "cell_type": "markdown",
   "metadata": {},
   "source": [
    "Top15 skills are on page number '19' so extrct the skills by this criteria.\n",
    "If it has more than one '19' in the list, post-processing or other criteria are needed."
   ]
  },
  {
   "cell_type": "code",
   "execution_count": 311,
   "metadata": {
    "collapsed": true
   },
   "outputs": [],
   "source": [
    "top15Skills = []"
   ]
  },
  {
   "cell_type": "code",
   "execution_count": 312,
   "metadata": {
    "collapsed": false
   },
   "outputs": [],
   "source": [
    "for x in range(len(outputStripped)):\n",
    "    if outputStripped[x] == '19':\n",
    "        for y in range(15):\n",
    "            top15Skills.append(outputStripped[x+y+1])"
   ]
  },
  {
   "cell_type": "code",
   "execution_count": 313,
   "metadata": {
    "collapsed": false
   },
   "outputs": [
    {
     "data": {
      "text/plain": [
       "['CSS',\n",
       " 'HTML',\n",
       " 'JavaScript',\n",
       " 'UI',\n",
       " 'Web Services',\n",
       " 'Java',\n",
       " 'QA',\n",
       " 'SQL',\n",
       " 'UX',\n",
       " 'Python',\n",
       " 'UNIX',\n",
       " 'Big Data',\n",
       " 'Perl',\n",
       " 'Linux',\n",
       " 'C/C++']"
      ]
     },
     "execution_count": 313,
     "metadata": {},
     "output_type": "execute_result"
    }
   ],
   "source": [
    "top15Skills"
   ]
  },
  {
   "cell_type": "markdown",
   "metadata": {},
   "source": [
    "Key tech skills on page 29 are after a page number '29' in the list so extrct the skills by this criteria.\n",
    "If it has more than one '19' in the list, post-processing or other criteria are needed."
   ]
  },
  {
   "cell_type": "code",
   "execution_count": 657,
   "metadata": {
    "collapsed": true
   },
   "outputs": [],
   "source": [
    "keyTechSkills = []"
   ]
  },
  {
   "cell_type": "code",
   "execution_count": 658,
   "metadata": {
    "collapsed": false
   },
   "outputs": [],
   "source": [
    "for x in range(len(outputStripped)):\n",
    "    if outputStripped[x] == '29':\n",
    "        for y in range(15):\n",
    "            keyTechSkills.append(outputStripped[x+y+1])"
   ]
  },
  {
   "cell_type": "code",
   "execution_count": 659,
   "metadata": {
    "collapsed": false
   },
   "outputs": [],
   "source": [
    "keyTechSkills = keyTechSkills[-15:-1] # Post processing to get the correct 15 itmes"
   ]
  },
  {
   "cell_type": "code",
   "execution_count": 660,
   "metadata": {
    "collapsed": false
   },
   "outputs": [
    {
     "data": {
      "text/plain": [
       "['Java',\n",
       " 'SQL',\n",
       " 'Linux',\n",
       " 'HTML',\n",
       " 'UI/UX',\n",
       " 'UNIX',\n",
       " 'C',\n",
       " 'C++',\n",
       " 'JavaScript',\n",
       " 'CSS',\n",
       " 'Cloud Computing',\n",
       " 'PERL',\n",
       " 'Python',\n",
       " 'Web Services']"
      ]
     },
     "execution_count": 660,
     "metadata": {},
     "output_type": "execute_result"
    }
   ],
   "source": [
    "keyTechSkills"
   ]
  },
  {
   "cell_type": "markdown",
   "metadata": {},
   "source": [
    "Merge two lists"
   ]
  },
  {
   "cell_type": "code",
   "execution_count": 315,
   "metadata": {
    "collapsed": true
   },
   "outputs": [],
   "source": [
    "top15Skills.extend(keyTechSkills)"
   ]
  },
  {
   "cell_type": "markdown",
   "metadata": {},
   "source": [
    "Create a set"
   ]
  },
  {
   "cell_type": "code",
   "execution_count": 316,
   "metadata": {
    "collapsed": true
   },
   "outputs": [],
   "source": [
    "skillSet = (top15Skills)"
   ]
  },
  {
   "cell_type": "code",
   "execution_count": 317,
   "metadata": {
    "collapsed": false
   },
   "outputs": [
    {
     "data": {
      "text/plain": [
       "['CSS',\n",
       " 'HTML',\n",
       " 'JavaScript',\n",
       " 'UI',\n",
       " 'Web Services',\n",
       " 'Java',\n",
       " 'QA',\n",
       " 'SQL',\n",
       " 'UX',\n",
       " 'Python',\n",
       " 'UNIX',\n",
       " 'Big Data',\n",
       " 'Perl',\n",
       " 'Linux',\n",
       " 'C/C++',\n",
       " 'Java',\n",
       " 'SQL',\n",
       " 'Linux',\n",
       " 'HTML',\n",
       " 'UI/UX',\n",
       " 'UNIX',\n",
       " 'C',\n",
       " 'C++',\n",
       " 'JavaScript',\n",
       " 'CSS',\n",
       " 'Cloud Computing',\n",
       " 'PERL',\n",
       " 'Python']"
      ]
     },
     "execution_count": 317,
     "metadata": {},
     "output_type": "execute_result"
    }
   ],
   "source": [
    "skillSet"
   ]
  },
  {
   "cell_type": "raw",
   "metadata": {},
   "source": [
    "Now we have a string containing MSIS curriculum and description and a list contains the sills"
   ]
  },
  {
   "cell_type": "code",
   "execution_count": 663,
   "metadata": {
    "collapsed": true
   },
   "outputs": [],
   "source": [
    "skillCount = {}"
   ]
  },
  {
   "cell_type": "code",
   "execution_count": 664,
   "metadata": {
    "collapsed": true
   },
   "outputs": [],
   "source": [
    "for skill in skillSet:\n",
    "    skillCount[skill] = titleAndDesc.count(skill)"
   ]
  },
  {
   "cell_type": "code",
   "execution_count": 665,
   "metadata": {
    "collapsed": false
   },
   "outputs": [
    {
     "data": {
      "text/plain": [
       "{'Big Data': 4,\n",
       " 'C': 53,\n",
       " 'C++': 0,\n",
       " 'C/C++': 0,\n",
       " 'CSS': 1,\n",
       " 'Cloud Computing': 4,\n",
       " 'HTML': 1,\n",
       " 'Java': 3,\n",
       " 'JavaScript': 1,\n",
       " 'Linux': 0,\n",
       " 'PERL': 0,\n",
       " 'Perl': 0,\n",
       " 'Python': 4,\n",
       " 'QA': 0,\n",
       " 'SQL': 4,\n",
       " 'UI': 0,\n",
       " 'UI/UX': 0,\n",
       " 'UNIX': 0,\n",
       " 'UX': 0,\n",
       " 'Web Services': 0}"
      ]
     },
     "execution_count": 665,
     "metadata": {},
     "output_type": "execute_result"
    }
   ],
   "source": [
    "skillCount"
   ]
  },
  {
   "cell_type": "markdown",
   "metadata": {},
   "source": [
    "Speical handling of skill 'C' to get the correct number "
   ]
  },
  {
   "cell_type": "code",
   "execution_count": 666,
   "metadata": {
    "collapsed": true
   },
   "outputs": [],
   "source": [
    "skillCount['C'] = titleAndDesc.count(' '+ 'C'+' ')"
   ]
  },
  {
   "cell_type": "code",
   "execution_count": 667,
   "metadata": {
    "collapsed": false
   },
   "outputs": [
    {
     "data": {
      "text/plain": [
       "{'Big Data': 4,\n",
       " 'C': 1,\n",
       " 'C++': 0,\n",
       " 'C/C++': 0,\n",
       " 'CSS': 1,\n",
       " 'Cloud Computing': 4,\n",
       " 'HTML': 1,\n",
       " 'Java': 3,\n",
       " 'JavaScript': 1,\n",
       " 'Linux': 0,\n",
       " 'PERL': 0,\n",
       " 'Perl': 0,\n",
       " 'Python': 4,\n",
       " 'QA': 0,\n",
       " 'SQL': 4,\n",
       " 'UI': 0,\n",
       " 'UI/UX': 0,\n",
       " 'UNIX': 0,\n",
       " 'UX': 0,\n",
       " 'Web Services': 0}"
      ]
     },
     "execution_count": 667,
     "metadata": {},
     "output_type": "execute_result"
    }
   ],
   "source": [
    "skillCount"
   ]
  },
  {
   "cell_type": "markdown",
   "metadata": {},
   "source": [
    "Turn it into a Series"
   ]
  },
  {
   "cell_type": "code",
   "execution_count": 792,
   "metadata": {
    "collapsed": false
   },
   "outputs": [],
   "source": [
    "skillCount = pd.Series(skillCount, index = skillCount.keys()).sort_values(ascending = False)"
   ]
  },
  {
   "cell_type": "code",
   "execution_count": 793,
   "metadata": {
    "collapsed": false,
    "scrolled": false
   },
   "outputs": [
    {
     "name": "stdout",
     "output_type": "stream",
     "text": [
      "Populating the interactive namespace from numpy and matplotlib\n"
     ]
    },
    {
     "data": {
      "text/plain": [
       "<matplotlib.axes._subplots.AxesSubplot at 0x10ad36ef0>"
      ]
     },
     "execution_count": 793,
     "metadata": {},
     "output_type": "execute_result"
    },
    {
     "data": {
      "image/png": "[encoded data removed]",
      "text/plain": [
       "<matplotlib.figure.Figure at 0x10ad36080>"
      ]
     },
     "metadata": {},
     "output_type": "display_data"
    }
   ],
   "source": [
    "%pylab inline\n",
    "skillCount.plot(kind = 'bar')"
   ]
  },
  {
   "cell_type": "markdown",
   "metadata": {},
   "source": [
    "#### Down below is for the secind chart until state otherwise"
   ]
  },
  {
   "cell_type": "markdown",
   "metadata": {
    "collapsed": true
   },
   "source": [
    "Below will present how present out of 150 silicon valley companies, how many are NYSE listed, NASDAQ listed and on the list of Fortune 500 in 2017."
   ]
  },
  {
   "cell_type": "code",
   "execution_count": 673,
   "metadata": {
    "collapsed": false
   },
   "outputs": [
    {
     "name": "stderr",
     "output_type": "stream",
     "text": [
      "WARNING:pdfminer.converter:undefined: <PDFType1Font: basefont='GGFTXZ+BentonSans-Regular'>, 30\n",
      "WARNING:pdfminer.converter:undefined: <PDFType1Font: basefont='GGFTXZ+BentonSans-Regular'>, 28\n",
      "WARNING:pdfminer.converter:undefined: <PDFType1Font: basefont='GGFTXZ+BentonSans-Regular'>, 30\n",
      "WARNING:pdfminer.converter:undefined: <PDFType1Font: basefont='GGFTXZ+BentonSans-Regular'>, 28\n",
      "WARNING:pdfminer.layout:Too many boxes (204) to group, skipping.\n"
     ]
    }
   ],
   "source": [
    "pdfFile = open(\"2017-Silicon-Valley-150.pdf\", 'rb')\n",
    "outputString = readPDF(pdfFile)\n",
    "pdfFile.close()"
   ]
  },
  {
   "cell_type": "markdown",
   "metadata": {},
   "source": [
    "Remove new lines"
   ]
  },
  {
   "cell_type": "code",
   "execution_count": 674,
   "metadata": {
    "collapsed": false
   },
   "outputs": [],
   "source": [
    "output = re.sub('\\n',' ', outputString)"
   ]
  },
  {
   "cell_type": "code",
   "execution_count": 676,
   "metadata": {
    "collapsed": false
   },
   "outputs": [
    {
     "data": {
      "text/plain": [
       "'2016 2015   rank  rank   End  Last four  quarter quarters % chg   Last four   Proﬁt/ quarters Rank  '"
      ]
     },
     "execution_count": 676,
     "metadata": {},
     "output_type": "execute_result"
    }
   ],
   "source": [
    "output[:100]"
   ]
  },
  {
   "cell_type": "markdown",
   "metadata": {},
   "source": [
    "We want to extract the red part"
   ]
  },
  {
   "cell_type": "markdown",
   "metadata": {},
   "source": [
    "![title](CompanyNames2.jpeg)"
   ]
  },
  {
   "cell_type": "markdown",
   "metadata": {},
   "source": [
    "Data Wrangling for us to get the 150 names"
   ]
  },
  {
   "cell_type": "code",
   "execution_count": 679,
   "metadata": {
    "collapsed": false
   },
   "outputs": [],
   "source": [
    "outlist = re.split('[  ]\\d+[ ]', output)"
   ]
  },
  {
   "cell_type": "code",
   "execution_count": 690,
   "metadata": {
    "collapsed": false
   },
   "outputs": [
    {
     "data": {
      "text/plain": [
       "1046"
      ]
     },
     "execution_count": 690,
     "metadata": {},
     "output_type": "execute_result"
    }
   ],
   "source": [
    "len(outlist) # huge number becuase it contains a lot of empty strings"
   ]
  },
  {
   "cell_type": "markdown",
   "metadata": {},
   "source": [
    "Intermediate list to hold all non-empty ngrams produced from the original long string"
   ]
  },
  {
   "cell_type": "code",
   "execution_count": 736,
   "metadata": {
    "collapsed": true
   },
   "outputs": [],
   "source": [
    "interMList = []"
   ]
  },
  {
   "cell_type": "code",
   "execution_count": 737,
   "metadata": {
    "collapsed": false
   },
   "outputs": [],
   "source": [
    "# Not only extract the non-empty list, leading and trailing spaces are removed\n",
    "for x in range(len(outlist)):\n",
    "    if outlist[x] != '':\n",
    "        interMList.append(outlist[x].strip())"
   ]
  },
  {
   "cell_type": "code",
   "execution_count": 738,
   "metadata": {
    "collapsed": false
   },
   "outputs": [
    {
     "data": {
      "text/plain": [
       "485"
      ]
     },
     "execution_count": 738,
     "metadata": {},
     "output_type": "execute_result"
    }
   ],
   "source": [
    "len(interMList) # shorter list"
   ]
  },
  {
   "cell_type": "code",
   "execution_count": 781,
   "metadata": {
    "collapsed": false
   },
   "outputs": [],
   "source": [
    "companyList = [] # Hold the 150 companies"
   ]
  },
  {
   "cell_type": "code",
   "execution_count": 782,
   "metadata": {
    "collapsed": false
   },
   "outputs": [],
   "source": [
    "# First company starts with '8x8' then we extract the following 149 names\n",
    "for x in range(len(interMList)):\n",
    "    if interMList[x] == '8x8':\n",
    "        for y in range(150):\n",
    "            companyList.append(interMList[x+y])"
   ]
  },
  {
   "cell_type": "code",
   "execution_count": 783,
   "metadata": {
    "collapsed": false
   },
   "outputs": [
    {
     "data": {
      "text/plain": [
       "['8x8', 'A10 Networks', 'Abaxis', 'Accuray', 'Adobe Systems']"
      ]
     },
     "execution_count": 783,
     "metadata": {},
     "output_type": "execute_result"
    }
   ],
   "source": [
    "companyList[:5]"
   ]
  },
  {
   "cell_type": "code",
   "execution_count": 784,
   "metadata": {
    "collapsed": false
   },
   "outputs": [
    {
     "data": {
      "text/plain": [
       "150"
      ]
     },
     "execution_count": 784,
     "metadata": {},
     "output_type": "execute_result"
    }
   ],
   "source": [
    "len(companyList)"
   ]
  },
  {
   "cell_type": "code",
   "execution_count": 700,
   "metadata": {
    "collapsed": false,
    "scrolled": false
   },
   "outputs": [],
   "source": [
    "companyList = pd.Series(companyList) # Create a Series based on it"
   ]
  },
  {
   "cell_type": "code",
   "execution_count": 701,
   "metadata": {
    "collapsed": false
   },
   "outputs": [],
   "source": [
    "companyList.to_csv('svcompanies.csv') # Save the company list"
   ]
  },
  {
   "cell_type": "markdown",
   "metadata": {},
   "source": [
    "From now on we read a fortune 500 company list, a NYSE stock list and a NASDAQ stock list"
   ]
  },
  {
   "cell_type": "code",
   "execution_count": 702,
   "metadata": {
    "collapsed": false
   },
   "outputs": [],
   "source": [
    "fortune500df = pd.read_csv('Fortune500US.csv')"
   ]
  },
  {
   "cell_type": "code",
   "execution_count": 703,
   "metadata": {
    "collapsed": false
   },
   "outputs": [],
   "source": [
    "fortune500df.columns = ['Rank','Name']"
   ]
  },
  {
   "cell_type": "code",
   "execution_count": 706,
   "metadata": {
    "collapsed": false
   },
   "outputs": [
    {
     "data": {
      "text/html": [
       "<div>\n",
       "<style>\n",
       "    .dataframe thead tr:only-child th {\n",
       "        text-align: right;\n",
       "    }\n",
       "\n",
       "    .dataframe thead th {\n",
       "        text-align: left;\n",
       "    }\n",
       "\n",
       "    .dataframe tbody tr th {\n",
       "        vertical-align: top;\n",
       "    }\n",
       "</style>\n",
       "<table border=\"1\" class=\"dataframe\">\n",
       "  <thead>\n",
       "    <tr style=\"text-align: right;\">\n",
       "      <th></th>\n",
       "      <th>Rank</th>\n",
       "      <th>Name</th>\n",
       "    </tr>\n",
       "  </thead>\n",
       "  <tbody>\n",
       "    <tr>\n",
       "      <th>0</th>\n",
       "      <td>1</td>\n",
       "      <td>Walmart</td>\n",
       "    </tr>\n",
       "    <tr>\n",
       "      <th>1</th>\n",
       "      <td>2</td>\n",
       "      <td>Berkshire Hathaway</td>\n",
       "    </tr>\n",
       "    <tr>\n",
       "      <th>2</th>\n",
       "      <td>3</td>\n",
       "      <td>Apple</td>\n",
       "    </tr>\n",
       "    <tr>\n",
       "      <th>3</th>\n",
       "      <td>4</td>\n",
       "      <td>Exxon Mobil</td>\n",
       "    </tr>\n",
       "    <tr>\n",
       "      <th>4</th>\n",
       "      <td>5</td>\n",
       "      <td>McKesson</td>\n",
       "    </tr>\n",
       "  </tbody>\n",
       "</table>\n",
       "</div>"
      ],
      "text/plain": [
       "   Rank                Name\n",
       "0     1             Walmart\n",
       "1     2  Berkshire Hathaway\n",
       "2     3               Apple\n",
       "3     4         Exxon Mobil\n",
       "4     5            McKesson"
      ]
     },
     "execution_count": 706,
     "metadata": {},
     "output_type": "execute_result"
    }
   ],
   "source": [
    "fortune500df[:5]"
   ]
  },
  {
   "cell_type": "code",
   "execution_count": 704,
   "metadata": {
    "collapsed": true
   },
   "outputs": [],
   "source": [
    "fortune500String = ' '.join(fortune500df.Name.tolist()) # concatenate the long list to a string for later processing"
   ]
  },
  {
   "cell_type": "markdown",
   "metadata": {},
   "source": [
    "Nasdaq List"
   ]
  },
  {
   "cell_type": "code",
   "execution_count": 489,
   "metadata": {
    "collapsed": true
   },
   "outputs": [],
   "source": [
    "nasdaqdf = pd.read_csv('NASDAQcompanylist.csv')"
   ]
  },
  {
   "cell_type": "code",
   "execution_count": 705,
   "metadata": {
    "collapsed": false
   },
   "outputs": [
    {
     "data": {
      "text/html": [
       "<div>\n",
       "<style>\n",
       "    .dataframe thead tr:only-child th {\n",
       "        text-align: right;\n",
       "    }\n",
       "\n",
       "    .dataframe thead th {\n",
       "        text-align: left;\n",
       "    }\n",
       "\n",
       "    .dataframe tbody tr th {\n",
       "        vertical-align: top;\n",
       "    }\n",
       "</style>\n",
       "<table border=\"1\" class=\"dataframe\">\n",
       "  <thead>\n",
       "    <tr style=\"text-align: right;\">\n",
       "      <th></th>\n",
       "      <th>Symbol</th>\n",
       "      <th>Name</th>\n",
       "      <th>LastSale</th>\n",
       "      <th>MarketCap</th>\n",
       "      <th>ADR TSO</th>\n",
       "      <th>IPOyear</th>\n",
       "      <th>Sector</th>\n",
       "      <th>Industry</th>\n",
       "      <th>Summary Quote</th>\n",
       "      <th>Unnamed: 9</th>\n",
       "    </tr>\n",
       "  </thead>\n",
       "  <tbody>\n",
       "    <tr>\n",
       "      <th>0</th>\n",
       "      <td>PIH</td>\n",
       "      <td>1347 Property Insurance Holdings, Inc.</td>\n",
       "      <td>7.6838</td>\n",
       "      <td>4.577060e+07</td>\n",
       "      <td>n/a</td>\n",
       "      <td>2014</td>\n",
       "      <td>Finance</td>\n",
       "      <td>Property-Casualty Insurers</td>\n",
       "      <td>http://www.nasdaq.com/symbol/pih</td>\n",
       "      <td>NaN</td>\n",
       "    </tr>\n",
       "    <tr>\n",
       "      <th>1</th>\n",
       "      <td>TURN</td>\n",
       "      <td>180 Degree Capital Corp.</td>\n",
       "      <td>1.8737</td>\n",
       "      <td>5.831247e+07</td>\n",
       "      <td>n/a</td>\n",
       "      <td>n/a</td>\n",
       "      <td>Finance</td>\n",
       "      <td>Finance/Investors Services</td>\n",
       "      <td>http://www.nasdaq.com/symbol/turn</td>\n",
       "      <td>NaN</td>\n",
       "    </tr>\n",
       "    <tr>\n",
       "      <th>2</th>\n",
       "      <td>FLWS</td>\n",
       "      <td>1-800 FLOWERS.COM, Inc.</td>\n",
       "      <td>9.95</td>\n",
       "      <td>6.455454e+08</td>\n",
       "      <td>n/a</td>\n",
       "      <td>1999</td>\n",
       "      <td>Consumer Services</td>\n",
       "      <td>Other Specialty Stores</td>\n",
       "      <td>http://www.nasdaq.com/symbol/flws</td>\n",
       "      <td>NaN</td>\n",
       "    </tr>\n",
       "    <tr>\n",
       "      <th>3</th>\n",
       "      <td>FCCY</td>\n",
       "      <td>1st Constitution Bancorp (NJ)</td>\n",
       "      <td>17.85</td>\n",
       "      <td>1.440365e+08</td>\n",
       "      <td>n/a</td>\n",
       "      <td>n/a</td>\n",
       "      <td>Finance</td>\n",
       "      <td>Savings Institutions</td>\n",
       "      <td>http://www.nasdaq.com/symbol/fccy</td>\n",
       "      <td>NaN</td>\n",
       "    </tr>\n",
       "    <tr>\n",
       "      <th>4</th>\n",
       "      <td>SRCE</td>\n",
       "      <td>1st Source Corporation</td>\n",
       "      <td>52.08</td>\n",
       "      <td>1.350712e+09</td>\n",
       "      <td>n/a</td>\n",
       "      <td>n/a</td>\n",
       "      <td>Finance</td>\n",
       "      <td>Major Banks</td>\n",
       "      <td>http://www.nasdaq.com/symbol/srce</td>\n",
       "      <td>NaN</td>\n",
       "    </tr>\n",
       "  </tbody>\n",
       "</table>\n",
       "</div>"
      ],
      "text/plain": [
       "  Symbol                                    Name LastSale     MarketCap  \\\n",
       "0    PIH  1347 Property Insurance Holdings, Inc.   7.6838  4.577060e+07   \n",
       "1   TURN                180 Degree Capital Corp.   1.8737  5.831247e+07   \n",
       "2   FLWS                 1-800 FLOWERS.COM, Inc.     9.95  6.455454e+08   \n",
       "3   FCCY           1st Constitution Bancorp (NJ)    17.85  1.440365e+08   \n",
       "4   SRCE                  1st Source Corporation    52.08  1.350712e+09   \n",
       "\n",
       "  ADR TSO IPOyear             Sector                    Industry  \\\n",
       "0     n/a    2014            Finance  Property-Casualty Insurers   \n",
       "1     n/a     n/a            Finance  Finance/Investors Services   \n",
       "2     n/a    1999  Consumer Services      Other Specialty Stores   \n",
       "3     n/a     n/a            Finance        Savings Institutions   \n",
       "4     n/a     n/a            Finance                 Major Banks   \n",
       "\n",
       "                       Summary Quote  Unnamed: 9  \n",
       "0   http://www.nasdaq.com/symbol/pih         NaN  \n",
       "1  http://www.nasdaq.com/symbol/turn         NaN  \n",
       "2  http://www.nasdaq.com/symbol/flws         NaN  \n",
       "3  http://www.nasdaq.com/symbol/fccy         NaN  \n",
       "4  http://www.nasdaq.com/symbol/srce         NaN  "
      ]
     },
     "execution_count": 705,
     "metadata": {},
     "output_type": "execute_result"
    }
   ],
   "source": [
    "nasdaqdf[:5] # Notice names of this list has post-fix 'Inc.' or 'Corp."
   ]
  },
  {
   "cell_type": "code",
   "execution_count": 708,
   "metadata": {
    "collapsed": true
   },
   "outputs": [],
   "source": [
    "nasdaqString = ' '.join(nasdaqdf.Name.tolist())"
   ]
  },
  {
   "cell_type": "markdown",
   "metadata": {},
   "source": [
    "NYSE list"
   ]
  },
  {
   "cell_type": "code",
   "execution_count": 491,
   "metadata": {
    "collapsed": true
   },
   "outputs": [],
   "source": [
    "nysedf = pd.read_csv('NYSEcompanylist.csv')"
   ]
  },
  {
   "cell_type": "code",
   "execution_count": 492,
   "metadata": {
    "collapsed": false
   },
   "outputs": [
    {
     "data": {
      "text/html": [
       "<div>\n",
       "<style>\n",
       "    .dataframe thead tr:only-child th {\n",
       "        text-align: right;\n",
       "    }\n",
       "\n",
       "    .dataframe thead th {\n",
       "        text-align: left;\n",
       "    }\n",
       "\n",
       "    .dataframe tbody tr th {\n",
       "        vertical-align: top;\n",
       "    }\n",
       "</style>\n",
       "<table border=\"1\" class=\"dataframe\">\n",
       "  <thead>\n",
       "    <tr style=\"text-align: right;\">\n",
       "      <th></th>\n",
       "      <th>Symbol</th>\n",
       "      <th>Name</th>\n",
       "      <th>LastSale</th>\n",
       "      <th>MarketCap</th>\n",
       "      <th>ADR TSO</th>\n",
       "      <th>IPOyear</th>\n",
       "      <th>Sector</th>\n",
       "      <th>Industry</th>\n",
       "      <th>Summary Quote</th>\n",
       "      <th>Unnamed: 9</th>\n",
       "    </tr>\n",
       "  </thead>\n",
       "  <tbody>\n",
       "    <tr>\n",
       "      <th>0</th>\n",
       "      <td>DDD</td>\n",
       "      <td>3D Systems Corporation</td>\n",
       "      <td>12.68</td>\n",
       "      <td>1.442987e+09</td>\n",
       "      <td>n/a</td>\n",
       "      <td>n/a</td>\n",
       "      <td>Technology</td>\n",
       "      <td>Computer Software: Prepackaged Software</td>\n",
       "      <td>http://www.nasdaq.com/symbol/ddd</td>\n",
       "      <td>NaN</td>\n",
       "    </tr>\n",
       "    <tr>\n",
       "      <th>1</th>\n",
       "      <td>MMM</td>\n",
       "      <td>3M Company</td>\n",
       "      <td>216.75</td>\n",
       "      <td>1.293493e+11</td>\n",
       "      <td>n/a</td>\n",
       "      <td>n/a</td>\n",
       "      <td>Health Care</td>\n",
       "      <td>Medical/Dental Instruments</td>\n",
       "      <td>http://www.nasdaq.com/symbol/mmm</td>\n",
       "      <td>NaN</td>\n",
       "    </tr>\n",
       "    <tr>\n",
       "      <th>2</th>\n",
       "      <td>WBAI</td>\n",
       "      <td>500.com Limited</td>\n",
       "      <td>11.29</td>\n",
       "      <td>4.602664e+08</td>\n",
       "      <td>n/a</td>\n",
       "      <td>2013</td>\n",
       "      <td>Consumer Services</td>\n",
       "      <td>Services-Misc. Amusement &amp; Recreation</td>\n",
       "      <td>http://www.nasdaq.com/symbol/wbai</td>\n",
       "      <td>NaN</td>\n",
       "    </tr>\n",
       "    <tr>\n",
       "      <th>3</th>\n",
       "      <td>WUBA</td>\n",
       "      <td>58.com Inc.</td>\n",
       "      <td>64.41</td>\n",
       "      <td>9.376452e+09</td>\n",
       "      <td>n/a</td>\n",
       "      <td>2013</td>\n",
       "      <td>Technology</td>\n",
       "      <td>Computer Software: Programming, Data Processing</td>\n",
       "      <td>http://www.nasdaq.com/symbol/wuba</td>\n",
       "      <td>NaN</td>\n",
       "    </tr>\n",
       "    <tr>\n",
       "      <th>4</th>\n",
       "      <td>AHC</td>\n",
       "      <td>A.H. Belo Corporation</td>\n",
       "      <td>4.5</td>\n",
       "      <td>9.788925e+07</td>\n",
       "      <td>n/a</td>\n",
       "      <td>n/a</td>\n",
       "      <td>Consumer Services</td>\n",
       "      <td>Newspapers/Magazines</td>\n",
       "      <td>http://www.nasdaq.com/symbol/ahc</td>\n",
       "      <td>NaN</td>\n",
       "    </tr>\n",
       "  </tbody>\n",
       "</table>\n",
       "</div>"
      ],
      "text/plain": [
       "  Symbol                    Name LastSale     MarketCap ADR TSO IPOyear  \\\n",
       "0    DDD  3D Systems Corporation    12.68  1.442987e+09     n/a     n/a   \n",
       "1    MMM              3M Company   216.75  1.293493e+11     n/a     n/a   \n",
       "2   WBAI         500.com Limited    11.29  4.602664e+08     n/a    2013   \n",
       "3   WUBA             58.com Inc.    64.41  9.376452e+09     n/a    2013   \n",
       "4    AHC   A.H. Belo Corporation      4.5  9.788925e+07     n/a     n/a   \n",
       "\n",
       "              Sector                                         Industry  \\\n",
       "0         Technology          Computer Software: Prepackaged Software   \n",
       "1        Health Care                       Medical/Dental Instruments   \n",
       "2  Consumer Services            Services-Misc. Amusement & Recreation   \n",
       "3         Technology  Computer Software: Programming, Data Processing   \n",
       "4  Consumer Services                             Newspapers/Magazines   \n",
       "\n",
       "                       Summary Quote  Unnamed: 9  \n",
       "0   http://www.nasdaq.com/symbol/ddd         NaN  \n",
       "1   http://www.nasdaq.com/symbol/mmm         NaN  \n",
       "2  http://www.nasdaq.com/symbol/wbai         NaN  \n",
       "3  http://www.nasdaq.com/symbol/wuba         NaN  \n",
       "4   http://www.nasdaq.com/symbol/ahc         NaN  "
      ]
     },
     "execution_count": 492,
     "metadata": {},
     "output_type": "execute_result"
    }
   ],
   "source": [
    "nysedf[:5]"
   ]
  },
  {
   "cell_type": "code",
   "execution_count": 496,
   "metadata": {
    "collapsed": true
   },
   "outputs": [],
   "source": [
    "nyseString = ' '.join(nysedf.Name.tolist())"
   ]
  },
  {
   "cell_type": "markdown",
   "metadata": {},
   "source": [
    "Put names into different buckes"
   ]
  },
  {
   "cell_type": "code",
   "execution_count": 765,
   "metadata": {
    "collapsed": true
   },
   "outputs": [],
   "source": [
    "NYSE = []\n",
    "NASDAQ = []\n",
    "Fortune500 = []"
   ]
  },
  {
   "cell_type": "code",
   "execution_count": 766,
   "metadata": {
    "collapsed": false
   },
   "outputs": [],
   "source": [
    "for company in companyList:\n",
    "    if company in nyseString:\n",
    "        NYSE.append(company)\n",
    "    if company in nasdaqString:\n",
    "        NASDAQ.append(company)\n",
    "    if company in fortune500String:\n",
    "        Fortune500.append(company)"
   ]
  },
  {
   "cell_type": "code",
   "execution_count": 767,
   "metadata": {
    "collapsed": false
   },
   "outputs": [
    {
     "data": {
      "text/plain": [
       "['A10 Networks',\n",
       " 'Aerohive Networks',\n",
       " 'Agilent Technologies',\n",
       " 'Apple',\n",
       " 'Arista Networks']"
      ]
     },
     "execution_count": 767,
     "metadata": {},
     "output_type": "execute_result"
    }
   ],
   "source": [
    "NYSE[:5]"
   ]
  },
  {
   "cell_type": "markdown",
   "metadata": {},
   "source": [
    "Create a dict to present the name and number"
   ]
  },
  {
   "cell_type": "code",
   "execution_count": 768,
   "metadata": {
    "collapsed": false
   },
   "outputs": [],
   "source": [
    "valueCountDict = {'NYSE':len(NYSE), 'NASDAQ':len(NASDAQ), 'Fortune500':len(Fortune500)}"
   ]
  },
  {
   "cell_type": "code",
   "execution_count": 769,
   "metadata": {
    "collapsed": false
   },
   "outputs": [
    {
     "data": {
      "text/plain": [
       "{'Fortune500': 20, 'NASDAQ': 81, 'NYSE': 43}"
      ]
     },
     "execution_count": 769,
     "metadata": {},
     "output_type": "execute_result"
    }
   ],
   "source": [
    "valueCountDict"
   ]
  },
  {
   "cell_type": "code",
   "execution_count": 794,
   "metadata": {
    "collapsed": false
   },
   "outputs": [],
   "source": [
    "result = pd.Series(valueCountDict, index = ['Fortune500','NASDAQ','NYSE']).sort_values(ascending = False)"
   ]
  },
  {
   "cell_type": "markdown",
   "metadata": {},
   "source": [
    "Show the preliminary result"
   ]
  },
  {
   "cell_type": "code",
   "execution_count": 795,
   "metadata": {
    "collapsed": false
   },
   "outputs": [],
   "source": [
    "import matplotlib"
   ]
  },
  {
   "cell_type": "code",
   "execution_count": 796,
   "metadata": {
    "collapsed": false,
    "scrolled": true
   },
   "outputs": [
    {
     "name": "stdout",
     "output_type": "stream",
     "text": [
      "Populating the interactive namespace from numpy and matplotlib\n"
     ]
    },
    {
     "data": {
      "text/plain": [
       "<matplotlib.axes._subplots.AxesSubplot at 0x10fc0b2e8>"
      ]
     },
     "execution_count": 796,
     "metadata": {},
     "output_type": "execute_result"
    },
    {
     "data": {
      "image/png": "[encoded data removed]",
      "text/plain": [
       "<matplotlib.figure.Figure at 0x10f6f01d0>"
      ]
     },
     "metadata": {},
     "output_type": "display_data"
    }
   ],
   "source": [
    "%pylab inline\n",
    "result.plot(kind = 'bar')"
   ]
  },
  {
   "cell_type": "code",
   "execution_count": 773,
   "metadata": {
    "collapsed": true
   },
   "outputs": [],
   "source": [
    "result.to_csv('result.csv') # Save the result"
   ]
  },
  {
   "cell_type": "markdown",
   "metadata": {},
   "source": [
    "Following steps will create dataframe which has company, 'NYSE Listed', 'NASDAQ Listed' and 'Fortune 500' as its columns"
   ]
  },
  {
   "cell_type": "code",
   "execution_count": 585,
   "metadata": {
    "collapsed": false
   },
   "outputs": [],
   "source": [
    "companydf = pd.DataFrame(companyList, columns = ['Name'])"
   ]
  },
  {
   "cell_type": "code",
   "execution_count": 586,
   "metadata": {
    "collapsed": true
   },
   "outputs": [],
   "source": [
    "companydf.index = companydf.Name"
   ]
  },
  {
   "cell_type": "code",
   "execution_count": 587,
   "metadata": {
    "collapsed": false
   },
   "outputs": [
    {
     "data": {
      "text/html": [
       "<div>\n",
       "<style>\n",
       "    .dataframe thead tr:only-child th {\n",
       "        text-align: right;\n",
       "    }\n",
       "\n",
       "    .dataframe thead th {\n",
       "        text-align: left;\n",
       "    }\n",
       "\n",
       "    .dataframe tbody tr th {\n",
       "        vertical-align: top;\n",
       "    }\n",
       "</style>\n",
       "<table border=\"1\" class=\"dataframe\">\n",
       "  <thead>\n",
       "    <tr style=\"text-align: right;\">\n",
       "      <th></th>\n",
       "      <th>Name</th>\n",
       "    </tr>\n",
       "    <tr>\n",
       "      <th>Name</th>\n",
       "      <th></th>\n",
       "    </tr>\n",
       "  </thead>\n",
       "  <tbody>\n",
       "    <tr>\n",
       "      <th>8x8</th>\n",
       "      <td>8x8</td>\n",
       "    </tr>\n",
       "    <tr>\n",
       "      <th>A10 Networks</th>\n",
       "      <td>A10 Networks</td>\n",
       "    </tr>\n",
       "    <tr>\n",
       "      <th>Abaxis</th>\n",
       "      <td>Abaxis</td>\n",
       "    </tr>\n",
       "    <tr>\n",
       "      <th>Accuray</th>\n",
       "      <td>Accuray</td>\n",
       "    </tr>\n",
       "    <tr>\n",
       "      <th>Adobe Systems</th>\n",
       "      <td>Adobe Systems</td>\n",
       "    </tr>\n",
       "  </tbody>\n",
       "</table>\n",
       "</div>"
      ],
      "text/plain": [
       "                        Name\n",
       "Name                        \n",
       "8x8                      8x8\n",
       "A10 Networks    A10 Networks\n",
       "Abaxis                Abaxis\n",
       "Accuray              Accuray\n",
       "Adobe Systems  Adobe Systems"
      ]
     },
     "execution_count": 587,
     "metadata": {},
     "output_type": "execute_result"
    }
   ],
   "source": [
    "companydf[:5]"
   ]
  },
  {
   "cell_type": "code",
   "execution_count": 588,
   "metadata": {
    "collapsed": false
   },
   "outputs": [],
   "source": [
    "companydf['NYSE Listed'] = 0"
   ]
  },
  {
   "cell_type": "code",
   "execution_count": 589,
   "metadata": {
    "collapsed": true
   },
   "outputs": [],
   "source": [
    "companydf['NASDAQ Listed'] = 0"
   ]
  },
  {
   "cell_type": "code",
   "execution_count": 590,
   "metadata": {
    "collapsed": true
   },
   "outputs": [],
   "source": [
    "companydf['Fortune 500'] = 0"
   ]
  },
  {
   "cell_type": "markdown",
   "metadata": {},
   "source": [
    "Assign Value "
   ]
  },
  {
   "cell_type": "code",
   "execution_count": 592,
   "metadata": {
    "collapsed": false
   },
   "outputs": [],
   "source": [
    "for company in companyList:\n",
    "    if company in nyseString:\n",
    "        companydf.loc[company,'NYSE Listed'] = 1\n",
    "    if company in nasdaqString:\n",
    "        companydf.loc[company,'NASDAQ Listed'] = 1\n",
    "    if company in fortune500String:\n",
    "        companydf.loc[company,'Fortune 500'] = 1"
   ]
  },
  {
   "cell_type": "code",
   "execution_count": 594,
   "metadata": {
    "collapsed": false
   },
   "outputs": [],
   "source": [
    "companydf.index = range(150)"
   ]
  },
  {
   "cell_type": "code",
   "execution_count": 785,
   "metadata": {
    "collapsed": false
   },
   "outputs": [
    {
     "data": {
      "text/html": [
       "<div>\n",
       "<style>\n",
       "    .dataframe thead tr:only-child th {\n",
       "        text-align: right;\n",
       "    }\n",
       "\n",
       "    .dataframe thead th {\n",
       "        text-align: left;\n",
       "    }\n",
       "\n",
       "    .dataframe tbody tr th {\n",
       "        vertical-align: top;\n",
       "    }\n",
       "</style>\n",
       "<table border=\"1\" class=\"dataframe\">\n",
       "  <thead>\n",
       "    <tr style=\"text-align: right;\">\n",
       "      <th></th>\n",
       "      <th>Name</th>\n",
       "      <th>NYSE Listed</th>\n",
       "      <th>NASDAQ Listed</th>\n",
       "      <th>Fortune 500</th>\n",
       "    </tr>\n",
       "  </thead>\n",
       "  <tbody>\n",
       "    <tr>\n",
       "      <th>0</th>\n",
       "      <td>8x8</td>\n",
       "      <td>0</td>\n",
       "      <td>1</td>\n",
       "      <td>0</td>\n",
       "    </tr>\n",
       "    <tr>\n",
       "      <th>1</th>\n",
       "      <td>A10 Networks</td>\n",
       "      <td>1</td>\n",
       "      <td>0</td>\n",
       "      <td>0</td>\n",
       "    </tr>\n",
       "    <tr>\n",
       "      <th>2</th>\n",
       "      <td>Abaxis</td>\n",
       "      <td>0</td>\n",
       "      <td>0</td>\n",
       "      <td>0</td>\n",
       "    </tr>\n",
       "    <tr>\n",
       "      <th>3</th>\n",
       "      <td>Accuray</td>\n",
       "      <td>0</td>\n",
       "      <td>1</td>\n",
       "      <td>0</td>\n",
       "    </tr>\n",
       "    <tr>\n",
       "      <th>4</th>\n",
       "      <td>Adobe Systems</td>\n",
       "      <td>0</td>\n",
       "      <td>1</td>\n",
       "      <td>1</td>\n",
       "    </tr>\n",
       "    <tr>\n",
       "      <th>5</th>\n",
       "      <td>Advanced Micro Devices</td>\n",
       "      <td>0</td>\n",
       "      <td>1</td>\n",
       "      <td>0</td>\n",
       "    </tr>\n",
       "    <tr>\n",
       "      <th>6</th>\n",
       "      <td>Aemetis</td>\n",
       "      <td>0</td>\n",
       "      <td>1</td>\n",
       "      <td>0</td>\n",
       "    </tr>\n",
       "    <tr>\n",
       "      <th>7</th>\n",
       "      <td>Aerohive Networks</td>\n",
       "      <td>1</td>\n",
       "      <td>0</td>\n",
       "      <td>0</td>\n",
       "    </tr>\n",
       "    <tr>\n",
       "      <th>8</th>\n",
       "      <td>Agilent Technologies</td>\n",
       "      <td>1</td>\n",
       "      <td>0</td>\n",
       "      <td>0</td>\n",
       "    </tr>\n",
       "    <tr>\n",
       "      <th>9</th>\n",
       "      <td>Align Technology</td>\n",
       "      <td>0</td>\n",
       "      <td>1</td>\n",
       "      <td>0</td>\n",
       "    </tr>\n",
       "  </tbody>\n",
       "</table>\n",
       "</div>"
      ],
      "text/plain": [
       "                     Name  NYSE Listed  NASDAQ Listed  Fortune 500\n",
       "0                     8x8            0              1            0\n",
       "1            A10 Networks            1              0            0\n",
       "2                  Abaxis            0              0            0\n",
       "3                 Accuray            0              1            0\n",
       "4           Adobe Systems            0              1            1\n",
       "5  Advanced Micro Devices            0              1            0\n",
       "6                 Aemetis            0              1            0\n",
       "7       Aerohive Networks            1              0            0\n",
       "8    Agilent Technologies            1              0            0\n",
       "9        Align Technology            0              1            0"
      ]
     },
     "execution_count": 785,
     "metadata": {},
     "output_type": "execute_result"
    }
   ],
   "source": [
    "companydf[:10]"
   ]
  },
  {
   "cell_type": "code",
   "execution_count": 596,
   "metadata": {
    "collapsed": true
   },
   "outputs": [],
   "source": [
    "companydf.to_csv('company.csv')"
   ]
  }
 ],
 "metadata": {
  "kernelspec": {
   "display_name": "Python 3",
   "language": "python",
   "name": "python3"
  },
  "language_info": {
   "codemirror_mode": {
    "name": "ipython",
    "version": 3
   },
   "file_extension": ".py",
   "mimetype": "text/x-python",
   "name": "python",
   "nbconvert_exporter": "python",
   "pygments_lexer": "ipython3",
   "version": "3.6.0"
  }
 },
 "nbformat": 4,
 "nbformat_minor": 0
}
