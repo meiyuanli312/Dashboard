{
 "cells": [
  {
   "cell_type": "code",
   "execution_count": 1,
   "metadata": {
    "collapsed": true
   },
   "outputs": [],
   "source": [
    "import pandas as pd"
   ]
  },
  {
   "cell_type": "code",
   "execution_count": 2,
   "metadata": {
    "collapsed": true
   },
   "outputs": [],
   "source": [
    "demographics = pd.read_csv('Demo.csv')"
   ]
  },
  {
   "cell_type": "code",
   "execution_count": 3,
   "metadata": {
    "collapsed": false
   },
   "outputs": [
    {
     "data": {
      "text/html": [
       "<div>\n",
       "<style>\n",
       "    .dataframe thead tr:only-child th {\n",
       "        text-align: right;\n",
       "    }\n",
       "\n",
       "    .dataframe thead th {\n",
       "        text-align: left;\n",
       "    }\n",
       "\n",
       "    .dataframe tbody tr th {\n",
       "        vertical-align: top;\n",
       "    }\n",
       "</style>\n",
       "<table border=\"1\" class=\"dataframe\">\n",
       "  <thead>\n",
       "    <tr style=\"text-align: right;\">\n",
       "      <th></th>\n",
       "      <th>SEQN</th>\n",
       "      <th>SDDSRVYR</th>\n",
       "      <th>RIDSTATR</th>\n",
       "      <th>RIDEXMON</th>\n",
       "      <th>RIAGENDR</th>\n",
       "      <th>RIDAGEYR</th>\n",
       "      <th>RIDAGEMN</th>\n",
       "      <th>RIDAGEEX</th>\n",
       "      <th>RIDRETH1</th>\n",
       "      <th>DMQMILIT</th>\n",
       "      <th>...</th>\n",
       "      <th>FIAPROXY</th>\n",
       "      <th>FIAINTRP</th>\n",
       "      <th>MIALANG</th>\n",
       "      <th>MIAPROXY</th>\n",
       "      <th>MIAINTRP</th>\n",
       "      <th>AIALANG</th>\n",
       "      <th>WTINT2YR</th>\n",
       "      <th>WTMEC2YR</th>\n",
       "      <th>SDMVPSU</th>\n",
       "      <th>SDMVSTRA</th>\n",
       "    </tr>\n",
       "  </thead>\n",
       "  <tbody>\n",
       "    <tr>\n",
       "      <th>0</th>\n",
       "      <td>41475</td>\n",
       "      <td>5</td>\n",
       "      <td>2</td>\n",
       "      <td>2</td>\n",
       "      <td>2</td>\n",
       "      <td>62</td>\n",
       "      <td>751</td>\n",
       "      <td>752</td>\n",
       "      <td>5</td>\n",
       "      <td>2</td>\n",
       "      <td>...</td>\n",
       "      <td>2</td>\n",
       "      <td>2</td>\n",
       "      <td>1</td>\n",
       "      <td>2</td>\n",
       "      <td>2</td>\n",
       "      <td>1</td>\n",
       "      <td>59356.356430</td>\n",
       "      <td>60045.772500</td>\n",
       "      <td>1</td>\n",
       "      <td>60</td>\n",
       "    </tr>\n",
       "    <tr>\n",
       "      <th>1</th>\n",
       "      <td>41476</td>\n",
       "      <td>5</td>\n",
       "      <td>2</td>\n",
       "      <td>1</td>\n",
       "      <td>2</td>\n",
       "      <td>6</td>\n",
       "      <td>81</td>\n",
       "      <td>82</td>\n",
       "      <td>5</td>\n",
       "      <td></td>\n",
       "      <td>...</td>\n",
       "      <td>2</td>\n",
       "      <td>2</td>\n",
       "      <td></td>\n",
       "      <td></td>\n",
       "      <td></td>\n",
       "      <td></td>\n",
       "      <td>35057.218410</td>\n",
       "      <td>35353.210440</td>\n",
       "      <td>1</td>\n",
       "      <td>70</td>\n",
       "    </tr>\n",
       "    <tr>\n",
       "      <th>2</th>\n",
       "      <td>41477</td>\n",
       "      <td>5</td>\n",
       "      <td>2</td>\n",
       "      <td>2</td>\n",
       "      <td>1</td>\n",
       "      <td>71</td>\n",
       "      <td>859</td>\n",
       "      <td>860</td>\n",
       "      <td>3</td>\n",
       "      <td>1</td>\n",
       "      <td>...</td>\n",
       "      <td>2</td>\n",
       "      <td>2</td>\n",
       "      <td>1</td>\n",
       "      <td>2</td>\n",
       "      <td>2</td>\n",
       "      <td>1</td>\n",
       "      <td>9935.266183</td>\n",
       "      <td>10074.150070</td>\n",
       "      <td>1</td>\n",
       "      <td>67</td>\n",
       "    </tr>\n",
       "    <tr>\n",
       "      <th>3</th>\n",
       "      <td>41478</td>\n",
       "      <td>5</td>\n",
       "      <td>2</td>\n",
       "      <td>2</td>\n",
       "      <td>2</td>\n",
       "      <td>1</td>\n",
       "      <td>17</td>\n",
       "      <td>17</td>\n",
       "      <td>3</td>\n",
       "      <td></td>\n",
       "      <td>...</td>\n",
       "      <td>2</td>\n",
       "      <td>2</td>\n",
       "      <td></td>\n",
       "      <td></td>\n",
       "      <td></td>\n",
       "      <td></td>\n",
       "      <td>12846.712060</td>\n",
       "      <td>14560.472650</td>\n",
       "      <td>2</td>\n",
       "      <td>59</td>\n",
       "    </tr>\n",
       "    <tr>\n",
       "      <th>4</th>\n",
       "      <td>41479</td>\n",
       "      <td>5</td>\n",
       "      <td>2</td>\n",
       "      <td>1</td>\n",
       "      <td>1</td>\n",
       "      <td>52</td>\n",
       "      <td>629</td>\n",
       "      <td>630</td>\n",
       "      <td>1</td>\n",
       "      <td>2</td>\n",
       "      <td>...</td>\n",
       "      <td>2</td>\n",
       "      <td>2</td>\n",
       "      <td>2</td>\n",
       "      <td>2</td>\n",
       "      <td>2</td>\n",
       "      <td>2</td>\n",
       "      <td>8727.797555</td>\n",
       "      <td>9234.055759</td>\n",
       "      <td>1</td>\n",
       "      <td>70</td>\n",
       "    </tr>\n",
       "  </tbody>\n",
       "</table>\n",
       "<p>5 rows × 43 columns</p>\n",
       "</div>"
      ],
      "text/plain": [
       "    SEQN  SDDSRVYR  RIDSTATR RIDEXMON  RIAGENDR  RIDAGEYR RIDAGEMN RIDAGEEX  \\\n",
       "0  41475         5         2        2         2        62      751      752   \n",
       "1  41476         5         2        1         2         6       81       82   \n",
       "2  41477         5         2        2         1        71      859      860   \n",
       "3  41478         5         2        2         2         1       17       17   \n",
       "4  41479         5         2        1         1        52      629      630   \n",
       "\n",
       "   RIDRETH1 DMQMILIT   ...     FIAPROXY FIAINTRP MIALANG MIAPROXY MIAINTRP  \\\n",
       "0         5        2   ...            2        2       1        2        2   \n",
       "1         5            ...            2        2                             \n",
       "2         3        1   ...            2        2       1        2        2   \n",
       "3         3            ...            2        2                             \n",
       "4         1        2   ...            2        2       2        2        2   \n",
       "\n",
       "  AIALANG      WTINT2YR      WTMEC2YR  SDMVPSU SDMVSTRA  \n",
       "0       1  59356.356430  60045.772500        1       60  \n",
       "1          35057.218410  35353.210440        1       70  \n",
       "2       1   9935.266183  10074.150070        1       67  \n",
       "3          12846.712060  14560.472650        2       59  \n",
       "4       2   8727.797555   9234.055759        1       70  \n",
       "\n",
       "[5 rows x 43 columns]"
      ]
     },
     "execution_count": 3,
     "metadata": {},
     "output_type": "execute_result"
    }
   ],
   "source": [
    "# Inspect\n",
    "demographics[:5]"
   ]
  },
  {
   "cell_type": "code",
   "execution_count": 4,
   "metadata": {
    "collapsed": false
   },
   "outputs": [
    {
     "name": "stderr",
     "output_type": "stream",
     "text": [
      "/Library/Frameworks/Python.framework/Versions/3.6/lib/python3.6/site-packages/IPython/core/interactiveshell.py:2698: DtypeWarning: Columns (33,51,52,53) have mixed types. Specify dtype option on import or set low_memory=False.\n",
      "  interactivity=interactivity, compiler=compiler, result=result)\n"
     ]
    }
   ],
   "source": [
    "body = pd.read_csv('BMI.csv')"
   ]
  },
  {
   "cell_type": "code",
   "execution_count": 5,
   "metadata": {
    "collapsed": false
   },
   "outputs": [
    {
     "data": {
      "text/html": [
       "<div>\n",
       "<style>\n",
       "    .dataframe thead tr:only-child th {\n",
       "        text-align: right;\n",
       "    }\n",
       "\n",
       "    .dataframe thead th {\n",
       "        text-align: left;\n",
       "    }\n",
       "\n",
       "    .dataframe tbody tr th {\n",
       "        vertical-align: top;\n",
       "    }\n",
       "</style>\n",
       "<table border=\"1\" class=\"dataframe\">\n",
       "  <thead>\n",
       "    <tr style=\"text-align: right;\">\n",
       "      <th></th>\n",
       "      <th>SEQN</th>\n",
       "      <th>BMDSTATS</th>\n",
       "      <th>BMXWT</th>\n",
       "      <th>BMIWT</th>\n",
       "      <th>BMXRECUM</th>\n",
       "      <th>BMIRECUM</th>\n",
       "      <th>BMXHEAD</th>\n",
       "      <th>BMIHEAD</th>\n",
       "      <th>BMXHT</th>\n",
       "      <th>BMIHT</th>\n",
       "      <th>...</th>\n",
       "      <th>FIAPROXY</th>\n",
       "      <th>FIAINTRP</th>\n",
       "      <th>MIALANG</th>\n",
       "      <th>MIAPROXY</th>\n",
       "      <th>MIAINTRP</th>\n",
       "      <th>AIALANG</th>\n",
       "      <th>WTINT2YR</th>\n",
       "      <th>WTMEC2YR</th>\n",
       "      <th>SDMVPSU</th>\n",
       "      <th>SDMVSTRA</th>\n",
       "    </tr>\n",
       "  </thead>\n",
       "  <tbody>\n",
       "    <tr>\n",
       "      <th>0</th>\n",
       "      <td>41475</td>\n",
       "      <td>3</td>\n",
       "      <td>138.9</td>\n",
       "      <td></td>\n",
       "      <td></td>\n",
       "      <td></td>\n",
       "      <td></td>\n",
       "      <td></td>\n",
       "      <td>154.7</td>\n",
       "      <td></td>\n",
       "      <td>...</td>\n",
       "      <td>2</td>\n",
       "      <td>2</td>\n",
       "      <td>1</td>\n",
       "      <td>2</td>\n",
       "      <td>2</td>\n",
       "      <td>1</td>\n",
       "      <td>59356.356430</td>\n",
       "      <td>60045.772500</td>\n",
       "      <td>1</td>\n",
       "      <td>60</td>\n",
       "    </tr>\n",
       "    <tr>\n",
       "      <th>1</th>\n",
       "      <td>41476</td>\n",
       "      <td>1</td>\n",
       "      <td>22</td>\n",
       "      <td></td>\n",
       "      <td></td>\n",
       "      <td></td>\n",
       "      <td></td>\n",
       "      <td></td>\n",
       "      <td>120.4</td>\n",
       "      <td></td>\n",
       "      <td>...</td>\n",
       "      <td>2</td>\n",
       "      <td>2</td>\n",
       "      <td></td>\n",
       "      <td></td>\n",
       "      <td></td>\n",
       "      <td></td>\n",
       "      <td>35057.218410</td>\n",
       "      <td>35353.210440</td>\n",
       "      <td>1</td>\n",
       "      <td>70</td>\n",
       "    </tr>\n",
       "    <tr>\n",
       "      <th>2</th>\n",
       "      <td>41477</td>\n",
       "      <td>1</td>\n",
       "      <td>83.9</td>\n",
       "      <td></td>\n",
       "      <td></td>\n",
       "      <td></td>\n",
       "      <td></td>\n",
       "      <td></td>\n",
       "      <td>167.1</td>\n",
       "      <td></td>\n",
       "      <td>...</td>\n",
       "      <td>2</td>\n",
       "      <td>2</td>\n",
       "      <td>1</td>\n",
       "      <td>2</td>\n",
       "      <td>2</td>\n",
       "      <td>1</td>\n",
       "      <td>9935.266183</td>\n",
       "      <td>10074.150070</td>\n",
       "      <td>1</td>\n",
       "      <td>67</td>\n",
       "    </tr>\n",
       "    <tr>\n",
       "      <th>3</th>\n",
       "      <td>41478</td>\n",
       "      <td>1</td>\n",
       "      <td>11.5</td>\n",
       "      <td></td>\n",
       "      <td>77.4</td>\n",
       "      <td></td>\n",
       "      <td></td>\n",
       "      <td></td>\n",
       "      <td></td>\n",
       "      <td></td>\n",
       "      <td>...</td>\n",
       "      <td>2</td>\n",
       "      <td>2</td>\n",
       "      <td></td>\n",
       "      <td></td>\n",
       "      <td></td>\n",
       "      <td></td>\n",
       "      <td>12846.712060</td>\n",
       "      <td>14560.472650</td>\n",
       "      <td>2</td>\n",
       "      <td>59</td>\n",
       "    </tr>\n",
       "    <tr>\n",
       "      <th>4</th>\n",
       "      <td>41479</td>\n",
       "      <td>1</td>\n",
       "      <td>65.7</td>\n",
       "      <td></td>\n",
       "      <td></td>\n",
       "      <td></td>\n",
       "      <td></td>\n",
       "      <td></td>\n",
       "      <td>154.4</td>\n",
       "      <td></td>\n",
       "      <td>...</td>\n",
       "      <td>2</td>\n",
       "      <td>2</td>\n",
       "      <td>2</td>\n",
       "      <td>2</td>\n",
       "      <td>2</td>\n",
       "      <td>2</td>\n",
       "      <td>8727.797555</td>\n",
       "      <td>9234.055759</td>\n",
       "      <td>1</td>\n",
       "      <td>70</td>\n",
       "    </tr>\n",
       "  </tbody>\n",
       "</table>\n",
       "<p>5 rows × 65 columns</p>\n",
       "</div>"
      ],
      "text/plain": [
       "    SEQN  BMDSTATS  BMXWT BMIWT BMXRECUM BMIRECUM BMXHEAD BMIHEAD  BMXHT  \\\n",
       "0  41475         3  138.9                                          154.7   \n",
       "1  41476         1     22                                          120.4   \n",
       "2  41477         1   83.9                                          167.1   \n",
       "3  41478         1   11.5           77.4                                   \n",
       "4  41479         1   65.7                                          154.4   \n",
       "\n",
       "  BMIHT   ...    FIAPROXY FIAINTRP MIALANG MIAPROXY MIAINTRP AIALANG  \\\n",
       "0         ...           2        2       1        2        2       1   \n",
       "1         ...           2        2                                     \n",
       "2         ...           2        2       1        2        2       1   \n",
       "3         ...           2        2                                     \n",
       "4         ...           2        2       2        2        2       2   \n",
       "\n",
       "       WTINT2YR      WTMEC2YR SDMVPSU SDMVSTRA  \n",
       "0  59356.356430  60045.772500       1       60  \n",
       "1  35057.218410  35353.210440       1       70  \n",
       "2   9935.266183  10074.150070       1       67  \n",
       "3  12846.712060  14560.472650       2       59  \n",
       "4   8727.797555   9234.055759       1       70  \n",
       "\n",
       "[5 rows x 65 columns]"
      ]
     },
     "execution_count": 5,
     "metadata": {},
     "output_type": "execute_result"
    }
   ],
   "source": [
    "# Inspect\n",
    "body[:5]"
   ]
  },
  {
   "cell_type": "code",
   "execution_count": 6,
   "metadata": {
    "collapsed": true
   },
   "outputs": [],
   "source": [
    "BMI = body.loc[:,['SEQN','BMXBMI']]"
   ]
  },
  {
   "cell_type": "code",
   "execution_count": 7,
   "metadata": {
    "collapsed": false
   },
   "outputs": [
    {
     "data": {
      "text/html": [
       "<div>\n",
       "<style>\n",
       "    .dataframe thead tr:only-child th {\n",
       "        text-align: right;\n",
       "    }\n",
       "\n",
       "    .dataframe thead th {\n",
       "        text-align: left;\n",
       "    }\n",
       "\n",
       "    .dataframe tbody tr th {\n",
       "        vertical-align: top;\n",
       "    }\n",
       "</style>\n",
       "<table border=\"1\" class=\"dataframe\">\n",
       "  <thead>\n",
       "    <tr style=\"text-align: right;\">\n",
       "      <th></th>\n",
       "      <th>SEQN</th>\n",
       "      <th>BMXBMI</th>\n",
       "    </tr>\n",
       "  </thead>\n",
       "  <tbody>\n",
       "    <tr>\n",
       "      <th>0</th>\n",
       "      <td>41475</td>\n",
       "      <td>58.04</td>\n",
       "    </tr>\n",
       "    <tr>\n",
       "      <th>1</th>\n",
       "      <td>41476</td>\n",
       "      <td>15.18</td>\n",
       "    </tr>\n",
       "    <tr>\n",
       "      <th>2</th>\n",
       "      <td>41477</td>\n",
       "      <td>30.05</td>\n",
       "    </tr>\n",
       "    <tr>\n",
       "      <th>3</th>\n",
       "      <td>41478</td>\n",
       "      <td></td>\n",
       "    </tr>\n",
       "    <tr>\n",
       "      <th>4</th>\n",
       "      <td>41479</td>\n",
       "      <td>27.56</td>\n",
       "    </tr>\n",
       "  </tbody>\n",
       "</table>\n",
       "</div>"
      ],
      "text/plain": [
       "    SEQN BMXBMI\n",
       "0  41475  58.04\n",
       "1  41476  15.18\n",
       "2  41477  30.05\n",
       "3  41478       \n",
       "4  41479  27.56"
      ]
     },
     "execution_count": 7,
     "metadata": {},
     "output_type": "execute_result"
    }
   ],
   "source": [
    "BMI[:5]"
   ]
  },
  {
   "cell_type": "code",
   "execution_count": 8,
   "metadata": {
    "collapsed": true
   },
   "outputs": [],
   "source": [
    "demographics.drop(['SDDSRVYR','RIDEXPRG','RIDSTATR','RIDEXMON','RIDAGEYR',\n",
    "           'RIDAGEMN','RIDAGEEX','DMQMILIT','DMDBORN2','DMDCITZN',\n",
    "           'DMDYRSUS','DMDHRGND','DMDHRAGE','DMDHRBR2','DMDHREDU',\n",
    "           'DMDHRMAR','DMDHSEDU','SIALANG','SIAPROXY','SIAINTRP',\n",
    "           'FIALANG','FIAPROXY','FIAINTRP','MIALANG','MIAPROXY',\n",
    "           'MIAINTRP','AIALANG','WTINT2YR','WTMEC2YR','SDMVPSU',\n",
    "           'SDMVSTRA'], axis = 1,inplace= True)"
   ]
  },
  {
   "cell_type": "markdown",
   "metadata": {},
   "source": [
    "Rename the columns"
   ]
  },
  {
   "cell_type": "code",
   "execution_count": 9,
   "metadata": {
    "collapsed": false
   },
   "outputs": [],
   "source": [
    "columns_dict= {'RIAGENDR':'Gender',\n",
    "               'RIDRETH1':'Race_Ethnicity',\n",
    "               'DMDEDUC3':'Education_Level_Children_Youth_6_19',\n",
    "               'DMDEDUC2':'Education_Level_Adults_Over_20',\n",
    "               'DMDSCHOL':'Now_attending_school',\n",
    "               'DMDMARTL':'Marital_Status',\n",
    "               'DMDHHSIZ':'number_of_people_in_the_Household',\n",
    "               'DMDFMSIZ':'Total_number_of_people_in_the_Family',\n",
    "               'INDHHIN2':'Annual_Household_Income',\n",
    "               'INDFMIN2':'Annual_Family_Income',\n",
    "               'INDFMPIR':'Ratio_of_family_income_to_povert'}"
   ]
  },
  {
   "cell_type": "code",
   "execution_count": 10,
   "metadata": {
    "collapsed": false
   },
   "outputs": [],
   "source": [
    "demographics.rename(columns = columns_dict,inplace=True)"
   ]
  },
  {
   "cell_type": "code",
   "execution_count": 11,
   "metadata": {
    "collapsed": false
   },
   "outputs": [
    {
     "data": {
      "text/html": [
       "<div>\n",
       "<style>\n",
       "    .dataframe thead tr:only-child th {\n",
       "        text-align: right;\n",
       "    }\n",
       "\n",
       "    .dataframe thead th {\n",
       "        text-align: left;\n",
       "    }\n",
       "\n",
       "    .dataframe tbody tr th {\n",
       "        vertical-align: top;\n",
       "    }\n",
       "</style>\n",
       "<table border=\"1\" class=\"dataframe\">\n",
       "  <thead>\n",
       "    <tr style=\"text-align: right;\">\n",
       "      <th></th>\n",
       "      <th>0</th>\n",
       "      <th>1</th>\n",
       "      <th>2</th>\n",
       "      <th>3</th>\n",
       "      <th>4</th>\n",
       "      <th>5</th>\n",
       "      <th>6</th>\n",
       "      <th>7</th>\n",
       "      <th>8</th>\n",
       "      <th>9</th>\n",
       "      <th>...</th>\n",
       "      <th>10139</th>\n",
       "      <th>10140</th>\n",
       "      <th>10141</th>\n",
       "      <th>10142</th>\n",
       "      <th>10143</th>\n",
       "      <th>10144</th>\n",
       "      <th>10145</th>\n",
       "      <th>10146</th>\n",
       "      <th>10147</th>\n",
       "      <th>10148</th>\n",
       "    </tr>\n",
       "  </thead>\n",
       "  <tbody>\n",
       "    <tr>\n",
       "      <th>SEQN</th>\n",
       "      <td>41475</td>\n",
       "      <td>41476</td>\n",
       "      <td>41477</td>\n",
       "      <td>41478</td>\n",
       "      <td>41479</td>\n",
       "      <td>41480</td>\n",
       "      <td>41481</td>\n",
       "      <td>41482</td>\n",
       "      <td>41483</td>\n",
       "      <td>41484</td>\n",
       "      <td>...</td>\n",
       "      <td>51614</td>\n",
       "      <td>51615</td>\n",
       "      <td>51616</td>\n",
       "      <td>51617</td>\n",
       "      <td>51618</td>\n",
       "      <td>51619</td>\n",
       "      <td>51620</td>\n",
       "      <td>51621</td>\n",
       "      <td>51622</td>\n",
       "      <td>51623</td>\n",
       "    </tr>\n",
       "    <tr>\n",
       "      <th>Gender</th>\n",
       "      <td>2</td>\n",
       "      <td>2</td>\n",
       "      <td>1</td>\n",
       "      <td>2</td>\n",
       "      <td>1</td>\n",
       "      <td>1</td>\n",
       "      <td>1</td>\n",
       "      <td>1</td>\n",
       "      <td>1</td>\n",
       "      <td>1</td>\n",
       "      <td>...</td>\n",
       "      <td>1</td>\n",
       "      <td>2</td>\n",
       "      <td>1</td>\n",
       "      <td>2</td>\n",
       "      <td>1</td>\n",
       "      <td>1</td>\n",
       "      <td>2</td>\n",
       "      <td>1</td>\n",
       "      <td>2</td>\n",
       "      <td>1</td>\n",
       "    </tr>\n",
       "    <tr>\n",
       "      <th>Race_Ethnicity</th>\n",
       "      <td>5</td>\n",
       "      <td>5</td>\n",
       "      <td>3</td>\n",
       "      <td>3</td>\n",
       "      <td>1</td>\n",
       "      <td>1</td>\n",
       "      <td>4</td>\n",
       "      <td>1</td>\n",
       "      <td>4</td>\n",
       "      <td>3</td>\n",
       "      <td>...</td>\n",
       "      <td>3</td>\n",
       "      <td>2</td>\n",
       "      <td>3</td>\n",
       "      <td>2</td>\n",
       "      <td>3</td>\n",
       "      <td>1</td>\n",
       "      <td>3</td>\n",
       "      <td>2</td>\n",
       "      <td>4</td>\n",
       "      <td>3</td>\n",
       "    </tr>\n",
       "    <tr>\n",
       "      <th>Education_Level_Children_Youth_6_19</th>\n",
       "      <td></td>\n",
       "      <td>0</td>\n",
       "      <td></td>\n",
       "      <td></td>\n",
       "      <td></td>\n",
       "      <td>0</td>\n",
       "      <td></td>\n",
       "      <td></td>\n",
       "      <td></td>\n",
       "      <td></td>\n",
       "      <td>...</td>\n",
       "      <td></td>\n",
       "      <td></td>\n",
       "      <td></td>\n",
       "      <td></td>\n",
       "      <td></td>\n",
       "      <td></td>\n",
       "      <td></td>\n",
       "      <td>9</td>\n",
       "      <td></td>\n",
       "      <td></td>\n",
       "    </tr>\n",
       "    <tr>\n",
       "      <th>Education_Level_Adults_Over_20</th>\n",
       "      <td>3</td>\n",
       "      <td></td>\n",
       "      <td>3</td>\n",
       "      <td></td>\n",
       "      <td>1</td>\n",
       "      <td></td>\n",
       "      <td>3</td>\n",
       "      <td>2</td>\n",
       "      <td>4</td>\n",
       "      <td></td>\n",
       "      <td>...</td>\n",
       "      <td>4</td>\n",
       "      <td>1</td>\n",
       "      <td>3</td>\n",
       "      <td>1</td>\n",
       "      <td>5</td>\n",
       "      <td>1</td>\n",
       "      <td>2</td>\n",
       "      <td></td>\n",
       "      <td>1</td>\n",
       "      <td>1</td>\n",
       "    </tr>\n",
       "    <tr>\n",
       "      <th>Now_attending_school</th>\n",
       "      <td></td>\n",
       "      <td></td>\n",
       "      <td></td>\n",
       "      <td></td>\n",
       "      <td></td>\n",
       "      <td></td>\n",
       "      <td></td>\n",
       "      <td></td>\n",
       "      <td></td>\n",
       "      <td></td>\n",
       "      <td>...</td>\n",
       "      <td></td>\n",
       "      <td></td>\n",
       "      <td></td>\n",
       "      <td></td>\n",
       "      <td></td>\n",
       "      <td></td>\n",
       "      <td></td>\n",
       "      <td>1</td>\n",
       "      <td></td>\n",
       "      <td></td>\n",
       "    </tr>\n",
       "    <tr>\n",
       "      <th>Marital_Status</th>\n",
       "      <td>1</td>\n",
       "      <td></td>\n",
       "      <td>1</td>\n",
       "      <td></td>\n",
       "      <td>1</td>\n",
       "      <td></td>\n",
       "      <td>5</td>\n",
       "      <td>1</td>\n",
       "      <td>1</td>\n",
       "      <td></td>\n",
       "      <td>...</td>\n",
       "      <td>3</td>\n",
       "      <td>5</td>\n",
       "      <td>1</td>\n",
       "      <td>1</td>\n",
       "      <td>1</td>\n",
       "      <td>1</td>\n",
       "      <td>1</td>\n",
       "      <td></td>\n",
       "      <td>2</td>\n",
       "      <td>2</td>\n",
       "    </tr>\n",
       "    <tr>\n",
       "      <th>number_of_people_in_the_Household</th>\n",
       "      <td>2</td>\n",
       "      <td>6</td>\n",
       "      <td>2</td>\n",
       "      <td>4</td>\n",
       "      <td>5</td>\n",
       "      <td>7</td>\n",
       "      <td>4</td>\n",
       "      <td>6</td>\n",
       "      <td>3</td>\n",
       "      <td>5</td>\n",
       "      <td>...</td>\n",
       "      <td>1</td>\n",
       "      <td>2</td>\n",
       "      <td>2</td>\n",
       "      <td>3</td>\n",
       "      <td>5</td>\n",
       "      <td>7</td>\n",
       "      <td>2</td>\n",
       "      <td>7</td>\n",
       "      <td>6</td>\n",
       "      <td>2</td>\n",
       "    </tr>\n",
       "    <tr>\n",
       "      <th>Total_number_of_people_in_the_Family</th>\n",
       "      <td>2</td>\n",
       "      <td>6</td>\n",
       "      <td>2</td>\n",
       "      <td>4</td>\n",
       "      <td>5</td>\n",
       "      <td>4</td>\n",
       "      <td>4</td>\n",
       "      <td>6</td>\n",
       "      <td>3</td>\n",
       "      <td>5</td>\n",
       "      <td>...</td>\n",
       "      <td>1</td>\n",
       "      <td>2</td>\n",
       "      <td>2</td>\n",
       "      <td>3</td>\n",
       "      <td>5</td>\n",
       "      <td>7</td>\n",
       "      <td>2</td>\n",
       "      <td>5</td>\n",
       "      <td>6</td>\n",
       "      <td>2</td>\n",
       "    </tr>\n",
       "    <tr>\n",
       "      <th>Annual_Household_Income</th>\n",
       "      <td>6</td>\n",
       "      <td>15</td>\n",
       "      <td>5</td>\n",
       "      <td>3</td>\n",
       "      <td>8</td>\n",
       "      <td>7</td>\n",
       "      <td>6</td>\n",
       "      <td>15</td>\n",
       "      <td>5</td>\n",
       "      <td>3</td>\n",
       "      <td>...</td>\n",
       "      <td>3</td>\n",
       "      <td>13</td>\n",
       "      <td>9</td>\n",
       "      <td>8</td>\n",
       "      <td>14</td>\n",
       "      <td>14</td>\n",
       "      <td>6</td>\n",
       "      <td>9</td>\n",
       "      <td>14</td>\n",
       "      <td>3</td>\n",
       "    </tr>\n",
       "    <tr>\n",
       "      <th>Annual_Family_Income</th>\n",
       "      <td>6</td>\n",
       "      <td>15</td>\n",
       "      <td>5</td>\n",
       "      <td>3</td>\n",
       "      <td>8</td>\n",
       "      <td>4</td>\n",
       "      <td>6</td>\n",
       "      <td>15</td>\n",
       "      <td>5</td>\n",
       "      <td>3</td>\n",
       "      <td>...</td>\n",
       "      <td>3</td>\n",
       "      <td>13</td>\n",
       "      <td>9</td>\n",
       "      <td>8</td>\n",
       "      <td>14</td>\n",
       "      <td>14</td>\n",
       "      <td>6</td>\n",
       "      <td>12</td>\n",
       "      <td>14</td>\n",
       "      <td>3</td>\n",
       "    </tr>\n",
       "    <tr>\n",
       "      <th>Ratio_of_family_income_to_povert</th>\n",
       "      <td>1.83</td>\n",
       "      <td>5</td>\n",
       "      <td>1.5</td>\n",
       "      <td>0.66</td>\n",
       "      <td>2.2</td>\n",
       "      <td>0.85</td>\n",
       "      <td>1.63</td>\n",
       "      <td>4.01</td>\n",
       "      <td>1.14</td>\n",
       "      <td>0.52</td>\n",
       "      <td>...</td>\n",
       "      <td>1.27</td>\n",
       "      <td></td>\n",
       "      <td>3.93</td>\n",
       "      <td>2.84</td>\n",
       "      <td>3.83</td>\n",
       "      <td>2.75</td>\n",
       "      <td>2.48</td>\n",
       "      <td></td>\n",
       "      <td>2.9</td>\n",
       "      <td>0.95</td>\n",
       "    </tr>\n",
       "  </tbody>\n",
       "</table>\n",
       "<p>12 rows × 10149 columns</p>\n",
       "</div>"
      ],
      "text/plain": [
       "                                      0      1      2      3      4      \\\n",
       "SEQN                                  41475  41476  41477  41478  41479   \n",
       "Gender                                    2      2      1      2      1   \n",
       "Race_Ethnicity                            5      5      3      3      1   \n",
       "Education_Level_Children_Youth_6_19              0                        \n",
       "Education_Level_Adults_Over_20            3             3             1   \n",
       "Now_attending_school                                                      \n",
       "Marital_Status                            1             1             1   \n",
       "number_of_people_in_the_Household         2      6      2      4      5   \n",
       "Total_number_of_people_in_the_Family      2      6      2      4      5   \n",
       "Annual_Household_Income                   6     15      5      3      8   \n",
       "Annual_Family_Income                      6     15      5      3      8   \n",
       "Ratio_of_family_income_to_povert       1.83      5    1.5   0.66    2.2   \n",
       "\n",
       "                                      5      6      7      8      9      \\\n",
       "SEQN                                  41480  41481  41482  41483  41484   \n",
       "Gender                                    1      1      1      1      1   \n",
       "Race_Ethnicity                            1      4      1      4      3   \n",
       "Education_Level_Children_Youth_6_19       0                               \n",
       "Education_Level_Adults_Over_20                   3      2      4          \n",
       "Now_attending_school                                                      \n",
       "Marital_Status                                   5      1      1          \n",
       "number_of_people_in_the_Household         7      4      6      3      5   \n",
       "Total_number_of_people_in_the_Family      4      4      6      3      5   \n",
       "Annual_Household_Income                   7      6     15      5      3   \n",
       "Annual_Family_Income                      4      6     15      5      3   \n",
       "Ratio_of_family_income_to_povert       0.85   1.63   4.01   1.14   0.52   \n",
       "\n",
       "                                      ...    10139  10140  10141  10142  \\\n",
       "SEQN                                  ...    51614  51615  51616  51617   \n",
       "Gender                                ...        1      2      1      2   \n",
       "Race_Ethnicity                        ...        3      2      3      2   \n",
       "Education_Level_Children_Youth_6_19   ...                                 \n",
       "Education_Level_Adults_Over_20        ...        4      1      3      1   \n",
       "Now_attending_school                  ...                                 \n",
       "Marital_Status                        ...        3      5      1      1   \n",
       "number_of_people_in_the_Household     ...        1      2      2      3   \n",
       "Total_number_of_people_in_the_Family  ...        1      2      2      3   \n",
       "Annual_Household_Income               ...        3     13      9      8   \n",
       "Annual_Family_Income                  ...        3     13      9      8   \n",
       "Ratio_of_family_income_to_povert      ...     1.27          3.93   2.84   \n",
       "\n",
       "                                      10143  10144  10145  10146  10147  10148  \n",
       "SEQN                                  51618  51619  51620  51621  51622  51623  \n",
       "Gender                                    1      1      2      1      2      1  \n",
       "Race_Ethnicity                            3      1      3      2      4      3  \n",
       "Education_Level_Children_Youth_6_19                            9                \n",
       "Education_Level_Adults_Over_20            5      1      2             1      1  \n",
       "Now_attending_school                                           1                \n",
       "Marital_Status                            1      1      1             2      2  \n",
       "number_of_people_in_the_Household         5      7      2      7      6      2  \n",
       "Total_number_of_people_in_the_Family      5      7      2      5      6      2  \n",
       "Annual_Household_Income                  14     14      6      9     14      3  \n",
       "Annual_Family_Income                     14     14      6     12     14      3  \n",
       "Ratio_of_family_income_to_povert       3.83   2.75   2.48           2.9   0.95  \n",
       "\n",
       "[12 rows x 10149 columns]"
      ]
     },
     "execution_count": 11,
     "metadata": {},
     "output_type": "execute_result"
    }
   ],
   "source": [
    "# Inspect\n",
    "demographics.transpose()"
   ]
  },
  {
   "cell_type": "code",
   "execution_count": 12,
   "metadata": {
    "collapsed": false
   },
   "outputs": [],
   "source": [
    "df = demographics.merge(BMI, on = 'SEQN')"
   ]
  },
  {
   "cell_type": "code",
   "execution_count": 13,
   "metadata": {
    "collapsed": false
   },
   "outputs": [
    {
     "data": {
      "text/html": [
       "<div>\n",
       "<style>\n",
       "    .dataframe thead tr:only-child th {\n",
       "        text-align: right;\n",
       "    }\n",
       "\n",
       "    .dataframe thead th {\n",
       "        text-align: left;\n",
       "    }\n",
       "\n",
       "    .dataframe tbody tr th {\n",
       "        vertical-align: top;\n",
       "    }\n",
       "</style>\n",
       "<table border=\"1\" class=\"dataframe\">\n",
       "  <thead>\n",
       "    <tr style=\"text-align: right;\">\n",
       "      <th></th>\n",
       "      <th>0</th>\n",
       "      <th>1</th>\n",
       "      <th>2</th>\n",
       "      <th>3</th>\n",
       "      <th>4</th>\n",
       "      <th>5</th>\n",
       "      <th>6</th>\n",
       "      <th>7</th>\n",
       "      <th>8</th>\n",
       "      <th>9</th>\n",
       "      <th>...</th>\n",
       "      <th>9752</th>\n",
       "      <th>9753</th>\n",
       "      <th>9754</th>\n",
       "      <th>9755</th>\n",
       "      <th>9756</th>\n",
       "      <th>9757</th>\n",
       "      <th>9758</th>\n",
       "      <th>9759</th>\n",
       "      <th>9760</th>\n",
       "      <th>9761</th>\n",
       "    </tr>\n",
       "  </thead>\n",
       "  <tbody>\n",
       "    <tr>\n",
       "      <th>SEQN</th>\n",
       "      <td>41475</td>\n",
       "      <td>41476</td>\n",
       "      <td>41477</td>\n",
       "      <td>41478</td>\n",
       "      <td>41479</td>\n",
       "      <td>41480</td>\n",
       "      <td>41481</td>\n",
       "      <td>41482</td>\n",
       "      <td>41483</td>\n",
       "      <td>41484</td>\n",
       "      <td>...</td>\n",
       "      <td>51614</td>\n",
       "      <td>51615</td>\n",
       "      <td>51616</td>\n",
       "      <td>51617</td>\n",
       "      <td>51618</td>\n",
       "      <td>51619</td>\n",
       "      <td>51620</td>\n",
       "      <td>51621</td>\n",
       "      <td>51622</td>\n",
       "      <td>51623</td>\n",
       "    </tr>\n",
       "    <tr>\n",
       "      <th>Gender</th>\n",
       "      <td>2</td>\n",
       "      <td>2</td>\n",
       "      <td>1</td>\n",
       "      <td>2</td>\n",
       "      <td>1</td>\n",
       "      <td>1</td>\n",
       "      <td>1</td>\n",
       "      <td>1</td>\n",
       "      <td>1</td>\n",
       "      <td>1</td>\n",
       "      <td>...</td>\n",
       "      <td>1</td>\n",
       "      <td>2</td>\n",
       "      <td>1</td>\n",
       "      <td>2</td>\n",
       "      <td>1</td>\n",
       "      <td>1</td>\n",
       "      <td>2</td>\n",
       "      <td>1</td>\n",
       "      <td>2</td>\n",
       "      <td>1</td>\n",
       "    </tr>\n",
       "    <tr>\n",
       "      <th>Race_Ethnicity</th>\n",
       "      <td>5</td>\n",
       "      <td>5</td>\n",
       "      <td>3</td>\n",
       "      <td>3</td>\n",
       "      <td>1</td>\n",
       "      <td>1</td>\n",
       "      <td>4</td>\n",
       "      <td>1</td>\n",
       "      <td>4</td>\n",
       "      <td>3</td>\n",
       "      <td>...</td>\n",
       "      <td>3</td>\n",
       "      <td>2</td>\n",
       "      <td>3</td>\n",
       "      <td>2</td>\n",
       "      <td>3</td>\n",
       "      <td>1</td>\n",
       "      <td>3</td>\n",
       "      <td>2</td>\n",
       "      <td>4</td>\n",
       "      <td>3</td>\n",
       "    </tr>\n",
       "    <tr>\n",
       "      <th>Education_Level_Children_Youth_6_19</th>\n",
       "      <td></td>\n",
       "      <td>0</td>\n",
       "      <td></td>\n",
       "      <td></td>\n",
       "      <td></td>\n",
       "      <td>0</td>\n",
       "      <td></td>\n",
       "      <td></td>\n",
       "      <td></td>\n",
       "      <td></td>\n",
       "      <td>...</td>\n",
       "      <td></td>\n",
       "      <td></td>\n",
       "      <td></td>\n",
       "      <td></td>\n",
       "      <td></td>\n",
       "      <td></td>\n",
       "      <td></td>\n",
       "      <td>9</td>\n",
       "      <td></td>\n",
       "      <td></td>\n",
       "    </tr>\n",
       "    <tr>\n",
       "      <th>Education_Level_Adults_Over_20</th>\n",
       "      <td>3</td>\n",
       "      <td></td>\n",
       "      <td>3</td>\n",
       "      <td></td>\n",
       "      <td>1</td>\n",
       "      <td></td>\n",
       "      <td>3</td>\n",
       "      <td>2</td>\n",
       "      <td>4</td>\n",
       "      <td></td>\n",
       "      <td>...</td>\n",
       "      <td>4</td>\n",
       "      <td>1</td>\n",
       "      <td>3</td>\n",
       "      <td>1</td>\n",
       "      <td>5</td>\n",
       "      <td>1</td>\n",
       "      <td>2</td>\n",
       "      <td></td>\n",
       "      <td>1</td>\n",
       "      <td>1</td>\n",
       "    </tr>\n",
       "    <tr>\n",
       "      <th>Now_attending_school</th>\n",
       "      <td></td>\n",
       "      <td></td>\n",
       "      <td></td>\n",
       "      <td></td>\n",
       "      <td></td>\n",
       "      <td></td>\n",
       "      <td></td>\n",
       "      <td></td>\n",
       "      <td></td>\n",
       "      <td></td>\n",
       "      <td>...</td>\n",
       "      <td></td>\n",
       "      <td></td>\n",
       "      <td></td>\n",
       "      <td></td>\n",
       "      <td></td>\n",
       "      <td></td>\n",
       "      <td></td>\n",
       "      <td>1</td>\n",
       "      <td></td>\n",
       "      <td></td>\n",
       "    </tr>\n",
       "    <tr>\n",
       "      <th>Marital_Status</th>\n",
       "      <td>1</td>\n",
       "      <td></td>\n",
       "      <td>1</td>\n",
       "      <td></td>\n",
       "      <td>1</td>\n",
       "      <td></td>\n",
       "      <td>5</td>\n",
       "      <td>1</td>\n",
       "      <td>1</td>\n",
       "      <td></td>\n",
       "      <td>...</td>\n",
       "      <td>3</td>\n",
       "      <td>5</td>\n",
       "      <td>1</td>\n",
       "      <td>1</td>\n",
       "      <td>1</td>\n",
       "      <td>1</td>\n",
       "      <td>1</td>\n",
       "      <td></td>\n",
       "      <td>2</td>\n",
       "      <td>2</td>\n",
       "    </tr>\n",
       "    <tr>\n",
       "      <th>number_of_people_in_the_Household</th>\n",
       "      <td>2</td>\n",
       "      <td>6</td>\n",
       "      <td>2</td>\n",
       "      <td>4</td>\n",
       "      <td>5</td>\n",
       "      <td>7</td>\n",
       "      <td>4</td>\n",
       "      <td>6</td>\n",
       "      <td>3</td>\n",
       "      <td>5</td>\n",
       "      <td>...</td>\n",
       "      <td>1</td>\n",
       "      <td>2</td>\n",
       "      <td>2</td>\n",
       "      <td>3</td>\n",
       "      <td>5</td>\n",
       "      <td>7</td>\n",
       "      <td>2</td>\n",
       "      <td>7</td>\n",
       "      <td>6</td>\n",
       "      <td>2</td>\n",
       "    </tr>\n",
       "    <tr>\n",
       "      <th>Total_number_of_people_in_the_Family</th>\n",
       "      <td>2</td>\n",
       "      <td>6</td>\n",
       "      <td>2</td>\n",
       "      <td>4</td>\n",
       "      <td>5</td>\n",
       "      <td>4</td>\n",
       "      <td>4</td>\n",
       "      <td>6</td>\n",
       "      <td>3</td>\n",
       "      <td>5</td>\n",
       "      <td>...</td>\n",
       "      <td>1</td>\n",
       "      <td>2</td>\n",
       "      <td>2</td>\n",
       "      <td>3</td>\n",
       "      <td>5</td>\n",
       "      <td>7</td>\n",
       "      <td>2</td>\n",
       "      <td>5</td>\n",
       "      <td>6</td>\n",
       "      <td>2</td>\n",
       "    </tr>\n",
       "    <tr>\n",
       "      <th>Annual_Household_Income</th>\n",
       "      <td>6</td>\n",
       "      <td>15</td>\n",
       "      <td>5</td>\n",
       "      <td>3</td>\n",
       "      <td>8</td>\n",
       "      <td>7</td>\n",
       "      <td>6</td>\n",
       "      <td>15</td>\n",
       "      <td>5</td>\n",
       "      <td>3</td>\n",
       "      <td>...</td>\n",
       "      <td>3</td>\n",
       "      <td>13</td>\n",
       "      <td>9</td>\n",
       "      <td>8</td>\n",
       "      <td>14</td>\n",
       "      <td>14</td>\n",
       "      <td>6</td>\n",
       "      <td>9</td>\n",
       "      <td>14</td>\n",
       "      <td>3</td>\n",
       "    </tr>\n",
       "    <tr>\n",
       "      <th>Annual_Family_Income</th>\n",
       "      <td>6</td>\n",
       "      <td>15</td>\n",
       "      <td>5</td>\n",
       "      <td>3</td>\n",
       "      <td>8</td>\n",
       "      <td>4</td>\n",
       "      <td>6</td>\n",
       "      <td>15</td>\n",
       "      <td>5</td>\n",
       "      <td>3</td>\n",
       "      <td>...</td>\n",
       "      <td>3</td>\n",
       "      <td>13</td>\n",
       "      <td>9</td>\n",
       "      <td>8</td>\n",
       "      <td>14</td>\n",
       "      <td>14</td>\n",
       "      <td>6</td>\n",
       "      <td>12</td>\n",
       "      <td>14</td>\n",
       "      <td>3</td>\n",
       "    </tr>\n",
       "    <tr>\n",
       "      <th>Ratio_of_family_income_to_povert</th>\n",
       "      <td>1.83</td>\n",
       "      <td>5</td>\n",
       "      <td>1.5</td>\n",
       "      <td>0.66</td>\n",
       "      <td>2.2</td>\n",
       "      <td>0.85</td>\n",
       "      <td>1.63</td>\n",
       "      <td>4.01</td>\n",
       "      <td>1.14</td>\n",
       "      <td>0.52</td>\n",
       "      <td>...</td>\n",
       "      <td>1.27</td>\n",
       "      <td></td>\n",
       "      <td>3.93</td>\n",
       "      <td>2.84</td>\n",
       "      <td>3.83</td>\n",
       "      <td>2.75</td>\n",
       "      <td>2.48</td>\n",
       "      <td></td>\n",
       "      <td>2.9</td>\n",
       "      <td>0.95</td>\n",
       "    </tr>\n",
       "    <tr>\n",
       "      <th>BMXBMI</th>\n",
       "      <td>58.04</td>\n",
       "      <td>15.18</td>\n",
       "      <td>30.05</td>\n",
       "      <td></td>\n",
       "      <td>27.56</td>\n",
       "      <td>17.93</td>\n",
       "      <td>23.34</td>\n",
       "      <td>33.64</td>\n",
       "      <td>44.06</td>\n",
       "      <td></td>\n",
       "      <td>...</td>\n",
       "      <td>22.63</td>\n",
       "      <td>25.03</td>\n",
       "      <td>42.4</td>\n",
       "      <td>30.97</td>\n",
       "      <td>29.96</td>\n",
       "      <td>30.08</td>\n",
       "      <td>28.31</td>\n",
       "      <td>17.72</td>\n",
       "      <td>31.53</td>\n",
       "      <td>32.27</td>\n",
       "    </tr>\n",
       "  </tbody>\n",
       "</table>\n",
       "<p>13 rows × 9762 columns</p>\n",
       "</div>"
      ],
      "text/plain": [
       "                                       0      1      2      3      4     \\\n",
       "SEQN                                  41475  41476  41477  41478  41479   \n",
       "Gender                                    2      2      1      2      1   \n",
       "Race_Ethnicity                            5      5      3      3      1   \n",
       "Education_Level_Children_Youth_6_19              0                        \n",
       "Education_Level_Adults_Over_20            3             3             1   \n",
       "Now_attending_school                                                      \n",
       "Marital_Status                            1             1             1   \n",
       "number_of_people_in_the_Household         2      6      2      4      5   \n",
       "Total_number_of_people_in_the_Family      2      6      2      4      5   \n",
       "Annual_Household_Income                   6     15      5      3      8   \n",
       "Annual_Family_Income                      6     15      5      3      8   \n",
       "Ratio_of_family_income_to_povert       1.83      5    1.5   0.66    2.2   \n",
       "BMXBMI                                58.04  15.18  30.05         27.56   \n",
       "\n",
       "                                       5      6      7      8      9     \\\n",
       "SEQN                                  41480  41481  41482  41483  41484   \n",
       "Gender                                    1      1      1      1      1   \n",
       "Race_Ethnicity                            1      4      1      4      3   \n",
       "Education_Level_Children_Youth_6_19       0                               \n",
       "Education_Level_Adults_Over_20                   3      2      4          \n",
       "Now_attending_school                                                      \n",
       "Marital_Status                                   5      1      1          \n",
       "number_of_people_in_the_Household         7      4      6      3      5   \n",
       "Total_number_of_people_in_the_Family      4      4      6      3      5   \n",
       "Annual_Household_Income                   7      6     15      5      3   \n",
       "Annual_Family_Income                      4      6     15      5      3   \n",
       "Ratio_of_family_income_to_povert       0.85   1.63   4.01   1.14   0.52   \n",
       "BMXBMI                                17.93  23.34  33.64  44.06          \n",
       "\n",
       "                                      ...     9752   9753   9754   9755  \\\n",
       "SEQN                                  ...    51614  51615  51616  51617   \n",
       "Gender                                ...        1      2      1      2   \n",
       "Race_Ethnicity                        ...        3      2      3      2   \n",
       "Education_Level_Children_Youth_6_19   ...                                 \n",
       "Education_Level_Adults_Over_20        ...        4      1      3      1   \n",
       "Now_attending_school                  ...                                 \n",
       "Marital_Status                        ...        3      5      1      1   \n",
       "number_of_people_in_the_Household     ...        1      2      2      3   \n",
       "Total_number_of_people_in_the_Family  ...        1      2      2      3   \n",
       "Annual_Household_Income               ...        3     13      9      8   \n",
       "Annual_Family_Income                  ...        3     13      9      8   \n",
       "Ratio_of_family_income_to_povert      ...     1.27          3.93   2.84   \n",
       "BMXBMI                                ...    22.63  25.03   42.4  30.97   \n",
       "\n",
       "                                       9756   9757   9758   9759   9760   9761  \n",
       "SEQN                                  51618  51619  51620  51621  51622  51623  \n",
       "Gender                                    1      1      2      1      2      1  \n",
       "Race_Ethnicity                            3      1      3      2      4      3  \n",
       "Education_Level_Children_Youth_6_19                            9                \n",
       "Education_Level_Adults_Over_20            5      1      2             1      1  \n",
       "Now_attending_school                                           1                \n",
       "Marital_Status                            1      1      1             2      2  \n",
       "number_of_people_in_the_Household         5      7      2      7      6      2  \n",
       "Total_number_of_people_in_the_Family      5      7      2      5      6      2  \n",
       "Annual_Household_Income                  14     14      6      9     14      3  \n",
       "Annual_Family_Income                     14     14      6     12     14      3  \n",
       "Ratio_of_family_income_to_povert       3.83   2.75   2.48           2.9   0.95  \n",
       "BMXBMI                                29.96  30.08  28.31  17.72  31.53  32.27  \n",
       "\n",
       "[13 rows x 9762 columns]"
      ]
     },
     "execution_count": 13,
     "metadata": {},
     "output_type": "execute_result"
    }
   ],
   "source": [
    "# Inspect\n",
    "df.transpose()"
   ]
  },
  {
   "cell_type": "code",
   "execution_count": 14,
   "metadata": {
    "collapsed": true
   },
   "outputs": [],
   "source": [
    "df.rename(columns = {'SEQN':'Respondent_number'},inplace=True)"
   ]
  },
  {
   "cell_type": "code",
   "execution_count": 15,
   "metadata": {
    "collapsed": false
   },
   "outputs": [],
   "source": [
    "df.Gender.replace({2:'Female', 1:'Male'},inplace=True)"
   ]
  },
  {
   "cell_type": "code",
   "execution_count": 16,
   "metadata": {
    "collapsed": true
   },
   "outputs": [],
   "source": [
    "df.Race_Ethnicity.replace({1:'Mexican American', \n",
    "                           2:'Other Hispanic',\n",
    "                           3:'Non-Hispanic White',\n",
    "                           4:'Non-Hispanic Black',\n",
    "                           5:'Other Race -Including Multi-Racial'},inplace=True)"
   ]
  },
  {
   "cell_type": "code",
   "execution_count": 17,
   "metadata": {
    "collapsed": true
   },
   "outputs": [],
   "source": [
    "Education_Level_Children_Youth_6_19 = {'0':'Never Attended / Kindergarten Only',\n",
    "'1':'1st Grade',\n",
    "'2':'2nd Grade',\n",
    "'3':'3rd Grade',\n",
    "'4':'4th Grade',\n",
    "'5':'5th Grade',\n",
    "'6':'6th Grade',\n",
    "'7':'7th Grade',\n",
    "'8':'8th Grade',\n",
    "'9':'9th Grade ',\n",
    "'10':'10th Grade',\n",
    "'11':'11th Grade',\n",
    "'12':'12th Grade, No Diploma',\n",
    "'13':'High School Graduate',\n",
    "'14':'GED or Equivalent',\n",
    "'15':'More than high school',\n",
    "'55':'Less Than 5th Grade',\n",
    "'66':'Less Than 9th Grade ',\n",
    "'77':'Refused',\n",
    "'99':'Don\\'t know'}"
   ]
  },
  {
   "cell_type": "code",
   "execution_count": 18,
   "metadata": {
    "collapsed": false
   },
   "outputs": [],
   "source": [
    "df.Education_Level_Children_Youth_6_19.replace(Education_Level_Children_Youth_6_19, inplace = True)"
   ]
  },
  {
   "cell_type": "code",
   "execution_count": 19,
   "metadata": {
    "collapsed": false
   },
   "outputs": [],
   "source": [
    "Education_Level_Adults_Over_20 = {'1':'Less Than 9th Grade',\n",
    "'2':'9-11th Grade (Includes 12th grade with no diploma)',\n",
    "'3':'High School Grad/GED or Equivalent',\n",
    "'4':'Some College or AA degree',\n",
    "'5':'College Graduate or above',\n",
    "'7':'Refused',\n",
    "'9':'Don\\'t Know'}"
   ]
  },
  {
   "cell_type": "code",
   "execution_count": 20,
   "metadata": {
    "collapsed": true
   },
   "outputs": [],
   "source": [
    "df.Education_Level_Adults_Over_20.replace(Education_Level_Adults_Over_20, inplace = True)"
   ]
  },
  {
   "cell_type": "code",
   "execution_count": 21,
   "metadata": {
    "collapsed": false
   },
   "outputs": [],
   "source": [
    "Now_attending_school = {'1':'In school',\n",
    "'2':'On vacation from school (between grades)',\n",
    "'3':'Neither in school or on vacation from school (between grades)',\n",
    "'7':'Refused',\n",
    "'9':'Don\\'t know'}"
   ]
  },
  {
   "cell_type": "code",
   "execution_count": 22,
   "metadata": {
    "collapsed": true
   },
   "outputs": [],
   "source": [
    "df.Now_attending_school.replace(Now_attending_school, inplace = True)"
   ]
  },
  {
   "cell_type": "code",
   "execution_count": 23,
   "metadata": {
    "collapsed": false
   },
   "outputs": [
    {
     "data": {
      "text/plain": [
       "Index(['Respondent_number', 'Gender', 'Race_Ethnicity',\n",
       "       'Education_Level_Children_Youth_6_19', 'Education_Level_Adults_Over_20',\n",
       "       'Now_attending_school', 'Marital_Status',\n",
       "       'number_of_people_in_the_Household',\n",
       "       'Total_number_of_people_in_the_Family', 'Annual_Household_Income',\n",
       "       'Annual_Family_Income', 'Ratio_of_family_income_to_povert', 'BMXBMI'],\n",
       "      dtype='object')"
      ]
     },
     "execution_count": 23,
     "metadata": {},
     "output_type": "execute_result"
    }
   ],
   "source": [
    "df.columns"
   ]
  },
  {
   "cell_type": "code",
   "execution_count": 24,
   "metadata": {
    "collapsed": true
   },
   "outputs": [],
   "source": [
    "Marital_Status ={'1':'Married',\n",
    "'2':'Widowed',\n",
    "'3':'Divorced',\n",
    "'4':'Separated',\n",
    "'5':'Never married',\n",
    "'6':'Living with partner',\n",
    "'77':'Refused',\n",
    "'99':'Don\\'t know'}"
   ]
  },
  {
   "cell_type": "code",
   "execution_count": 25,
   "metadata": {
    "collapsed": true
   },
   "outputs": [],
   "source": [
    "df.Marital_Status.replace(Marital_Status,inplace = True )"
   ]
  },
  {
   "cell_type": "code",
   "execution_count": 26,
   "metadata": {
    "collapsed": false
   },
   "outputs": [],
   "source": [
    "Annual_Household_Income = {'1':'\\$0 to \\$4,999',\n",
    "'2':'\\$5000 to \\$9999',\n",
    "'3':'\\$10000 to \\$14999',\n",
    "'4':'\\$15000 to \\$19,999',\n",
    "'5':'\\$20,000 to \\$24,999',\n",
    "'6':'\\$25,000 \\$34,999',\n",
    "'7':'\\$35,000 to \\$44,999',\n",
    "'8':'\\$45,000 to \\$54,999',\n",
    "'9':'\\$55,000 to \\$64,999',\n",
    "'10':'\\$65,000 to \\$74,999',\n",
    "'12':'Over $20,000',\n",
    "'13':'Under $20,000',\n",
    "'14':'\\$75,000 to \\$99,999',\n",
    "'15':'$100,000 and Over',\n",
    "'77':'Refused',\n",
    "'99':'Don\\'t know'}"
   ]
  },
  {
   "cell_type": "code",
   "execution_count": 27,
   "metadata": {
    "collapsed": false
   },
   "outputs": [],
   "source": [
    "df.Annual_Household_Income.replace(Annual_Household_Income, inplace = True)"
   ]
  },
  {
   "cell_type": "code",
   "execution_count": 28,
   "metadata": {
    "collapsed": true
   },
   "outputs": [],
   "source": [
    "Annual_Family_Income = {'1':'\\$0 to \\$4,999',\n",
    "'2':'\\$5000 to \\$9999',\n",
    "'3':'\\$10000 to \\$14999',\n",
    "'4':'\\$15000 to \\$19,999',\n",
    "'5':'\\$20,000 to \\$24,999',\n",
    "'6':'\\$25,000 \\$34,999',\n",
    "'7':'\\$35,000 to \\$44,999',\n",
    "'8':'\\$45,000 to \\$54,999',\n",
    "'9':'\\$55,000 to \\$64,999',\n",
    "'10':'\\$65,000 to \\$74,999',\n",
    "'12':'Over $20,000',\n",
    "'13':'Under $20,000',\n",
    "'14':'\\$75,000 to \\$99,999',\n",
    "'15':'$100,000 and Over',\n",
    "'77':'Refused',\n",
    "'99':'Don\\'t know'}"
   ]
  },
  {
   "cell_type": "code",
   "execution_count": 29,
   "metadata": {
    "collapsed": true
   },
   "outputs": [],
   "source": [
    "df.Annual_Family_Income.replace(Annual_Family_Income, inplace = True)"
   ]
  },
  {
   "cell_type": "code",
   "execution_count": 30,
   "metadata": {
    "collapsed": false
   },
   "outputs": [],
   "source": [
    "df.loc[df['BMXBMI'] >= '30.00','Obese'] = 'Yes'"
   ]
  },
  {
   "cell_type": "code",
   "execution_count": 31,
   "metadata": {
    "collapsed": false
   },
   "outputs": [],
   "source": [
    "df.loc[df['BMXBMI'] < '30.00','Obese'] = 'No'"
   ]
  },
  {
   "cell_type": "code",
   "execution_count": 32,
   "metadata": {
    "collapsed": false
   },
   "outputs": [],
   "source": [
    "df.loc[df['BMXBMI'] < ' ','Obese'] = 'Unknown'"
   ]
  },
  {
   "cell_type": "markdown",
   "metadata": {},
   "source": [
    "Filter out data that has BMXBMI information"
   ]
  },
  {
   "cell_type": "code",
   "execution_count": 33,
   "metadata": {
    "collapsed": false
   },
   "outputs": [],
   "source": [
    "df_with_BMI = df[df.Obese != 'Unknown'].copy()"
   ]
  },
  {
   "cell_type": "markdown",
   "metadata": {},
   "source": [
    "Filter out adults data"
   ]
  },
  {
   "cell_type": "code",
   "execution_count": 34,
   "metadata": {
    "collapsed": true
   },
   "outputs": [],
   "source": [
    "df_with_BMI_adults = df_with_BMI[df_with_BMI.Education_Level_Adults_Over_20 != ' '].copy()"
   ]
  },
  {
   "cell_type": "markdown",
   "metadata": {},
   "source": [
    "Eliminate 'Don't Know' and 'Refused' data"
   ]
  },
  {
   "cell_type": "code",
   "execution_count": 35,
   "metadata": {
    "collapsed": true
   },
   "outputs": [],
   "source": [
    "df_with_BMI_adults = df_with_BMI_adults[(df_with_BMI_adults.Education_Level_Adults_Over_20 != 'Don\\'t Know') & \n",
    "                                        (df_with_BMI_adults.Education_Level_Adults_Over_20 != 'Refused') ]"
   ]
  },
  {
   "cell_type": "code",
   "execution_count": 36,
   "metadata": {
    "collapsed": false
   },
   "outputs": [
    {
     "data": {
      "text/plain": [
       "array(['High School Grad/GED or Equivalent', 'Less Than 9th Grade',\n",
       "       '9-11th Grade (Includes 12th grade with no diploma)',\n",
       "       'Some College or AA degree', 'College Graduate or above'], dtype=object)"
      ]
     },
     "execution_count": 36,
     "metadata": {},
     "output_type": "execute_result"
    }
   ],
   "source": [
    "df_with_BMI_adults.Education_Level_Adults_Over_20.unique()"
   ]
  },
  {
   "cell_type": "markdown",
   "metadata": {},
   "source": [
    "Compute obese rate for every group"
   ]
  },
  {
   "cell_type": "code",
   "execution_count": 38,
   "metadata": {
    "collapsed": false
   },
   "outputs": [],
   "source": [
    "df_adults_edu_obese_rate = df_with_BMI_adults.groupby('Education_Level_Adults_Over_20').agg({'Obese': lambda x: len(x[x.values == 'Yes'])/float(len(x))})"
   ]
  },
  {
   "cell_type": "code",
   "execution_count": 39,
   "metadata": {
    "collapsed": true
   },
   "outputs": [],
   "source": [
    "df_adults_edu_obese_rate.rename(columns = {'Obese':'Obese Rate'},inplace=True)"
   ]
  },
  {
   "cell_type": "code",
   "execution_count": 40,
   "metadata": {
    "collapsed": false
   },
   "outputs": [
    {
     "data": {
      "text/html": [
       "<div>\n",
       "<style>\n",
       "    .dataframe thead tr:only-child th {\n",
       "        text-align: right;\n",
       "    }\n",
       "\n",
       "    .dataframe thead th {\n",
       "        text-align: left;\n",
       "    }\n",
       "\n",
       "    .dataframe tbody tr th {\n",
       "        vertical-align: top;\n",
       "    }\n",
       "</style>\n",
       "<table border=\"1\" class=\"dataframe\">\n",
       "  <thead>\n",
       "    <tr style=\"text-align: right;\">\n",
       "      <th></th>\n",
       "      <th>Education_Level_Adults_Over_20</th>\n",
       "      <th>Obese Rate</th>\n",
       "    </tr>\n",
       "  </thead>\n",
       "  <tbody>\n",
       "    <tr>\n",
       "      <th>0</th>\n",
       "      <td>9-11th Grade (Includes 12th grade with no dipl...</td>\n",
       "      <td>0.378486</td>\n",
       "    </tr>\n",
       "    <tr>\n",
       "      <th>1</th>\n",
       "      <td>College Graduate or above</td>\n",
       "      <td>0.282342</td>\n",
       "    </tr>\n",
       "    <tr>\n",
       "      <th>2</th>\n",
       "      <td>High School Grad/GED or Equivalent</td>\n",
       "      <td>0.361327</td>\n",
       "    </tr>\n",
       "    <tr>\n",
       "      <th>3</th>\n",
       "      <td>Less Than 9th Grade</td>\n",
       "      <td>0.372215</td>\n",
       "    </tr>\n",
       "    <tr>\n",
       "      <th>4</th>\n",
       "      <td>Some College or AA degree</td>\n",
       "      <td>0.390947</td>\n",
       "    </tr>\n",
       "  </tbody>\n",
       "</table>\n",
       "</div>"
      ],
      "text/plain": [
       "                      Education_Level_Adults_Over_20  Obese Rate\n",
       "0  9-11th Grade (Includes 12th grade with no dipl...    0.378486\n",
       "1                          College Graduate or above    0.282342\n",
       "2                 High School Grad/GED or Equivalent    0.361327\n",
       "3                                Less Than 9th Grade    0.372215\n",
       "4                          Some College or AA degree    0.390947"
      ]
     },
     "execution_count": 40,
     "metadata": {},
     "output_type": "execute_result"
    }
   ],
   "source": [
    "df_adults_edu_obese_rate.reset_index()"
   ]
  },
  {
   "cell_type": "markdown",
   "metadata": {},
   "source": [
    "Save it to csv file"
   ]
  },
  {
   "cell_type": "code",
   "execution_count": 41,
   "metadata": {
    "collapsed": true
   },
   "outputs": [],
   "source": [
    "df_adults_edu_obese_rate.to_csv('adults_edu_obese_rate.csv')"
   ]
  },
  {
   "cell_type": "markdown",
   "metadata": {},
   "source": [
    "Now compute the obese rate for family income to poverty ratio range"
   ]
  },
  {
   "cell_type": "markdown",
   "metadata": {},
   "source": [
    "There are some rows don't have the 'Ratio_of_family_income_to_poverty' information  \n",
    "so to compute further, we have to eliminate them as well   "
   ]
  },
  {
   "cell_type": "code",
   "execution_count": 42,
   "metadata": {
    "collapsed": false
   },
   "outputs": [],
   "source": [
    "df_with_BMI_adults = df_with_BMI_adults[df_with_BMI_adults.Ratio_of_family_income_to_povert != ' '].copy()"
   ]
  },
  {
   "cell_type": "markdown",
   "metadata": {},
   "source": [
    "Value inside column (Ratio_of_family_income_to_povert) are string type,  so we convert them to float"
   ]
  },
  {
   "cell_type": "code",
   "execution_count": 43,
   "metadata": {
    "collapsed": false
   },
   "outputs": [],
   "source": [
    "df_with_BMI_adults.Ratio_of_family_income_to_povert = df_with_BMI_adults.Ratio_of_family_income_to_povert.astype(float)"
   ]
  },
  {
   "cell_type": "markdown",
   "metadata": {},
   "source": [
    "Using pd.cut to allocate range for ratio of family income to poverty"
   ]
  },
  {
   "cell_type": "code",
   "execution_count": 44,
   "metadata": {
    "collapsed": true
   },
   "outputs": [],
   "source": [
    "df_with_BMI_adults['Income_to_poverty_ratio_range'] = pd.cut(df_with_BMI_adults['Ratio_of_family_income_to_povert'], \n",
    "                                                             [0,0.5,1,1.25,2,3,4,5,6], \n",
    "                                                             right = False, \n",
    "                                                             labels=['0-0.5','0.5-1','1-1.25','1.25-2','2-3','3-4','4-5','5-6'])"
   ]
  },
  {
   "cell_type": "markdown",
   "metadata": {},
   "source": [
    "Compute obese rate for every poverty level"
   ]
  },
  {
   "cell_type": "code",
   "execution_count": 45,
   "metadata": {
    "collapsed": false
   },
   "outputs": [],
   "source": [
    "df_adults_poverty_ratio_obese_rate = df_with_BMI_adults.groupby('Income_to_poverty_ratio_range').agg({'Obese': lambda x: len(x[x.values == 'Yes'])/float(len(x))})"
   ]
  },
  {
   "cell_type": "code",
   "execution_count": 46,
   "metadata": {
    "collapsed": false
   },
   "outputs": [],
   "source": [
    "df_adults_poverty_ratio_obese_rate.rename(columns = {'Obese':'Obese Rate'},inplace=True)"
   ]
  },
  {
   "cell_type": "code",
   "execution_count": 47,
   "metadata": {
    "collapsed": false,
    "scrolled": true
   },
   "outputs": [
    {
     "data": {
      "text/html": [
       "<div>\n",
       "<style>\n",
       "    .dataframe thead tr:only-child th {\n",
       "        text-align: right;\n",
       "    }\n",
       "\n",
       "    .dataframe thead th {\n",
       "        text-align: left;\n",
       "    }\n",
       "\n",
       "    .dataframe tbody tr th {\n",
       "        vertical-align: top;\n",
       "    }\n",
       "</style>\n",
       "<table border=\"1\" class=\"dataframe\">\n",
       "  <thead>\n",
       "    <tr style=\"text-align: right;\">\n",
       "      <th></th>\n",
       "      <th>Income_to_poverty_ratio_range</th>\n",
       "      <th>Obese Rate</th>\n",
       "    </tr>\n",
       "  </thead>\n",
       "  <tbody>\n",
       "    <tr>\n",
       "      <th>0</th>\n",
       "      <td>0-0.5</td>\n",
       "      <td>0.347973</td>\n",
       "    </tr>\n",
       "    <tr>\n",
       "      <th>1</th>\n",
       "      <td>0.5-1</td>\n",
       "      <td>0.368557</td>\n",
       "    </tr>\n",
       "    <tr>\n",
       "      <th>2</th>\n",
       "      <td>1-1.25</td>\n",
       "      <td>0.360190</td>\n",
       "    </tr>\n",
       "    <tr>\n",
       "      <th>3</th>\n",
       "      <td>1.25-2</td>\n",
       "      <td>0.367850</td>\n",
       "    </tr>\n",
       "    <tr>\n",
       "      <th>4</th>\n",
       "      <td>2-3</td>\n",
       "      <td>0.363636</td>\n",
       "    </tr>\n",
       "    <tr>\n",
       "      <th>5</th>\n",
       "      <td>3-4</td>\n",
       "      <td>0.357143</td>\n",
       "    </tr>\n",
       "    <tr>\n",
       "      <th>6</th>\n",
       "      <td>4-5</td>\n",
       "      <td>0.390123</td>\n",
       "    </tr>\n",
       "    <tr>\n",
       "      <th>7</th>\n",
       "      <td>5-6</td>\n",
       "      <td>0.328492</td>\n",
       "    </tr>\n",
       "  </tbody>\n",
       "</table>\n",
       "</div>"
      ],
      "text/plain": [
       "  Income_to_poverty_ratio_range  Obese Rate\n",
       "0                         0-0.5    0.347973\n",
       "1                         0.5-1    0.368557\n",
       "2                        1-1.25    0.360190\n",
       "3                        1.25-2    0.367850\n",
       "4                           2-3    0.363636\n",
       "5                           3-4    0.357143\n",
       "6                           4-5    0.390123\n",
       "7                           5-6    0.328492"
      ]
     },
     "execution_count": 47,
     "metadata": {},
     "output_type": "execute_result"
    }
   ],
   "source": [
    "df_adults_poverty_ratio_obese_rate.reset_index()"
   ]
  },
  {
   "cell_type": "code",
   "execution_count": 48,
   "metadata": {
    "collapsed": false
   },
   "outputs": [],
   "source": [
    "df_adults_poverty_ratio_obese_rate.to_csv('adults_poverty_ratio_obese_rate.csv')"
   ]
  },
  {
   "cell_type": "markdown",
   "metadata": {},
   "source": [
    "Now compute kids"
   ]
  },
  {
   "cell_type": "code",
   "execution_count": 49,
   "metadata": {
    "collapsed": true
   },
   "outputs": [],
   "source": [
    "df_with_BMI_kids = df_with_BMI[df_with_BMI.Education_Level_Children_Youth_6_19 != ' '].copy()"
   ]
  },
  {
   "cell_type": "markdown",
   "metadata": {},
   "source": [
    "There are some rows don't have the 'Ratio_of_family_income_to_poverty' information  \n",
    "so to compute further, we have to eliminate them as well   "
   ]
  },
  {
   "cell_type": "code",
   "execution_count": 50,
   "metadata": {
    "collapsed": false
   },
   "outputs": [],
   "source": [
    "df_with_BMI_kids = df_with_BMI_kids[df_with_BMI_kids.Ratio_of_family_income_to_povert != ' '].copy()"
   ]
  },
  {
   "cell_type": "code",
   "execution_count": 51,
   "metadata": {
    "collapsed": false
   },
   "outputs": [],
   "source": [
    "df_with_BMI_kids.Ratio_of_family_income_to_povert = df_with_BMI_kids.Ratio_of_family_income_to_povert.astype(float)"
   ]
  },
  {
   "cell_type": "code",
   "execution_count": 52,
   "metadata": {
    "collapsed": false
   },
   "outputs": [],
   "source": [
    "df_with_BMI_kids['Income_to_poverty_ratio_range'] = pd.cut(df_with_BMI_kids['Ratio_of_family_income_to_povert'],\n",
    "                                                           [0,0.5,1,1.25, 2, 3, 4,5,6], \n",
    "                                                           right = False, \n",
    "                                                           labels=['0-0.5','0.5-1','1-1.25','1.25-2','2-3','3-4','4-5','5-6'])"
   ]
  },
  {
   "cell_type": "code",
   "execution_count": 55,
   "metadata": {
    "collapsed": false
   },
   "outputs": [],
   "source": [
    "df_kids_poverty_ratio_obese_rate = df_with_BMI_kids.groupby('Income_to_poverty_ratio_range').agg({'Obese': lambda x: len(x[x.values == 'Yes'])/float(len(x))})"
   ]
  },
  {
   "cell_type": "code",
   "execution_count": 56,
   "metadata": {
    "collapsed": true
   },
   "outputs": [],
   "source": [
    "df_kids_poverty_ratio_obese_rate.rename(columns = {'Obese':'Obese Rate'},inplace=True)"
   ]
  },
  {
   "cell_type": "code",
   "execution_count": 57,
   "metadata": {
    "collapsed": false
   },
   "outputs": [
    {
     "data": {
      "text/html": [
       "<div>\n",
       "<style>\n",
       "    .dataframe thead tr:only-child th {\n",
       "        text-align: right;\n",
       "    }\n",
       "\n",
       "    .dataframe thead th {\n",
       "        text-align: left;\n",
       "    }\n",
       "\n",
       "    .dataframe tbody tr th {\n",
       "        vertical-align: top;\n",
       "    }\n",
       "</style>\n",
       "<table border=\"1\" class=\"dataframe\">\n",
       "  <thead>\n",
       "    <tr style=\"text-align: right;\">\n",
       "      <th></th>\n",
       "      <th>Income_to_poverty_ratio_range</th>\n",
       "      <th>Obese Rate</th>\n",
       "    </tr>\n",
       "  </thead>\n",
       "  <tbody>\n",
       "    <tr>\n",
       "      <th>0</th>\n",
       "      <td>0-0.5</td>\n",
       "      <td>0.103053</td>\n",
       "    </tr>\n",
       "    <tr>\n",
       "      <th>1</th>\n",
       "      <td>0.5-1</td>\n",
       "      <td>0.075594</td>\n",
       "    </tr>\n",
       "    <tr>\n",
       "      <th>2</th>\n",
       "      <td>1-1.25</td>\n",
       "      <td>0.123762</td>\n",
       "    </tr>\n",
       "    <tr>\n",
       "      <th>3</th>\n",
       "      <td>1.25-2</td>\n",
       "      <td>0.083756</td>\n",
       "    </tr>\n",
       "    <tr>\n",
       "      <th>4</th>\n",
       "      <td>2-3</td>\n",
       "      <td>0.075145</td>\n",
       "    </tr>\n",
       "    <tr>\n",
       "      <th>5</th>\n",
       "      <td>3-4</td>\n",
       "      <td>0.098039</td>\n",
       "    </tr>\n",
       "    <tr>\n",
       "      <th>6</th>\n",
       "      <td>4-5</td>\n",
       "      <td>0.091549</td>\n",
       "    </tr>\n",
       "    <tr>\n",
       "      <th>7</th>\n",
       "      <td>5-6</td>\n",
       "      <td>0.044643</td>\n",
       "    </tr>\n",
       "  </tbody>\n",
       "</table>\n",
       "</div>"
      ],
      "text/plain": [
       "  Income_to_poverty_ratio_range  Obese Rate\n",
       "0                         0-0.5    0.103053\n",
       "1                         0.5-1    0.075594\n",
       "2                        1-1.25    0.123762\n",
       "3                        1.25-2    0.083756\n",
       "4                           2-3    0.075145\n",
       "5                           3-4    0.098039\n",
       "6                           4-5    0.091549\n",
       "7                           5-6    0.044643"
      ]
     },
     "execution_count": 57,
     "metadata": {},
     "output_type": "execute_result"
    }
   ],
   "source": [
    "df_kids_poverty_ratio_obese_rate.reset_index()"
   ]
  },
  {
   "cell_type": "code",
   "execution_count": 58,
   "metadata": {
    "collapsed": true
   },
   "outputs": [],
   "source": [
    "df_kids_poverty_ratio_obese_rate.to_csv('kids_poverty_ratio_obese_rate.csv')"
   ]
  }
 ],
 "metadata": {
  "kernelspec": {
   "display_name": "Python 3",
   "language": "python",
   "name": "python3"
  },
  "language_info": {
   "codemirror_mode": {
    "name": "ipython",
    "version": 3
   },
   "file_extension": ".py",
   "mimetype": "text/x-python",
   "name": "python",
   "nbconvert_exporter": "python",
   "pygments_lexer": "ipython3",
   "version": "3.6.0"
  }
 },
 "nbformat": 4,
 "nbformat_minor": 0
}
